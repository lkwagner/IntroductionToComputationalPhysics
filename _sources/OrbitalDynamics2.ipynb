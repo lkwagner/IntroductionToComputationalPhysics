{
 "cells": [
  {
   "cell_type": "markdown",
   "metadata": {
    "id": "HaDbMRXM8slW"
   },
   "source": [
    "# Many Body Simulations\n",
    "*The three-body problem and Mercury Precession*"
   ]
  },
  {
   "cell_type": "markdown",
   "metadata": {
    "id": "ZzpBqFC88slX"
   },
   "source": [
    "* **Author:**\n",
    "\n",
    "* **Date:**\n",
    "\n",
    "* **Time spent on this assignment:**"
   ]
  },
  {
   "cell_type": "markdown",
   "metadata": {
    "id": "Yjthrp188slY"
   },
   "source": [
    "In the previous assignment, you produced a simulation which did gravity simulations for one particle (like the Earth) with a non-moving central mass (like the Sun).  In this assignment, we will \n",
    "* modify our simulation to work with an arbitrary number of bodies. \n",
    "* Learn some things about using Jax, an important machine learning framework\n",
    "\n",
    "We will also use Jax to simulate pendulum in an easier way."
   ]
  },
  {
   "cell_type": "code",
   "execution_count": 1,
   "metadata": {
    "colab": {
     "base_uri": "https://localhost:8080/"
    },
    "id": "GBVgrKto8slZ",
    "outputId": "1d37f1a4-18ac-4c8c-a788-786d498017a4"
   },
   "outputs": [
    {
     "ename": "ModuleNotFoundError",
     "evalue": "No module named 'jax'",
     "output_type": "error",
     "traceback": [
      "\u001b[0;31m---------------------------------------------------------------------------\u001b[0m",
      "\u001b[0;31mModuleNotFoundError\u001b[0m                       Traceback (most recent call last)",
      "\u001b[0;32m<ipython-input-1-40e20145218d>\u001b[0m in \u001b[0;36m<module>\u001b[0;34m\u001b[0m\n\u001b[0;32m----> 1\u001b[0;31m \u001b[0;32mfrom\u001b[0m \u001b[0mjax\u001b[0m\u001b[0;34m.\u001b[0m\u001b[0mconfig\u001b[0m \u001b[0;32mimport\u001b[0m \u001b[0mconfig\u001b[0m\u001b[0;34m\u001b[0m\u001b[0;34m\u001b[0m\u001b[0m\n\u001b[0m\u001b[1;32m      2\u001b[0m \u001b[0mconfig\u001b[0m\u001b[0;34m.\u001b[0m\u001b[0mupdate\u001b[0m\u001b[0;34m(\u001b[0m\u001b[0;34m\"jax_enable_x64\"\u001b[0m\u001b[0;34m,\u001b[0m \u001b[0;32mTrue\u001b[0m\u001b[0;34m)\u001b[0m\u001b[0;34m\u001b[0m\u001b[0;34m\u001b[0m\u001b[0m\n\u001b[1;32m      3\u001b[0m \u001b[0;32mimport\u001b[0m \u001b[0mnumpy\u001b[0m \u001b[0;32mas\u001b[0m \u001b[0mnp\u001b[0m\u001b[0;34m\u001b[0m\u001b[0;34m\u001b[0m\u001b[0m\n\u001b[1;32m      4\u001b[0m \u001b[0;32mimport\u001b[0m \u001b[0mmatplotlib\u001b[0m\u001b[0;34m.\u001b[0m\u001b[0mpyplot\u001b[0m \u001b[0;32mas\u001b[0m \u001b[0mplt\u001b[0m\u001b[0;34m\u001b[0m\u001b[0;34m\u001b[0m\u001b[0m\n\u001b[1;32m      5\u001b[0m \u001b[0;32mimport\u001b[0m \u001b[0mmath\u001b[0m\u001b[0;34m\u001b[0m\u001b[0;34m\u001b[0m\u001b[0m\n",
      "\u001b[0;31mModuleNotFoundError\u001b[0m: No module named 'jax'"
     ]
    }
   ],
   "source": [
    "from jax.config import config\n",
    "config.update(\"jax_enable_x64\", True)\n",
    "import numpy as np\n",
    "import matplotlib.pyplot as plt\n",
    "import math\n",
    "from jax import jit, grad\n",
    "import jax.numpy as jnp\n",
    "import jax\n",
    "def resetMe(keepList=[]):\n",
    "    ll=%who_ls\n",
    "    keepList=keepList+['resetMe','np','plt','math','jax','jnp','jit','grad']\n",
    "    for iiii in keepList:\n",
    "        if iiii in ll:\n",
    "            ll.remove(iiii)\n",
    "    for iiii in ll:\n",
    "        jjjj=\"^\"+iiii+\"$\"\n",
    "        %reset_selective -f {jjjj}\n",
    "    ll=%who_ls\n",
    "    plt.rcParams.update({\"font.size\": 14})\n",
    "    return\n",
    "resetMe()\n",
    "import datetime;datetime.datetime.now()"
   ]
  },
  {
   "cell_type": "code",
   "execution_count": 2,
   "metadata": {
    "id": "4LZYfqVP8sla"
   },
   "outputs": [
    {
     "ename": "NameError",
     "evalue": "name 'resetMe' is not defined",
     "output_type": "error",
     "traceback": [
      "\u001b[0;31m---------------------------------------------------------------------------\u001b[0m",
      "\u001b[0;31mNameError\u001b[0m                                 Traceback (most recent call last)",
      "\u001b[0;32m<ipython-input-2-2d433cb96ca7>\u001b[0m in \u001b[0;36m<module>\u001b[0;34m\u001b[0m\n\u001b[0;32m----> 1\u001b[0;31m \u001b[0mresetMe\u001b[0m\u001b[0;34m(\u001b[0m\u001b[0;34m)\u001b[0m\u001b[0;34m\u001b[0m\u001b[0;34m\u001b[0m\u001b[0m\n\u001b[0m\u001b[1;32m      2\u001b[0m \u001b[0mSolarSystemParameters\u001b[0m\u001b[0;34m=\u001b[0m\u001b[0mdict\u001b[0m\u001b[0;34m(\u001b[0m\u001b[0;34m)\u001b[0m\u001b[0;34m\u001b[0m\u001b[0;34m\u001b[0m\u001b[0m\n\u001b[1;32m      3\u001b[0m \u001b[0mSolarSystemParameters\u001b[0m\u001b[0;34m[\u001b[0m\u001b[0;34m\"MercuryOrbitRadius\"\u001b[0m\u001b[0;34m]\u001b[0m \u001b[0;34m=\u001b[0m \u001b[0;36m57.9e9\u001b[0m    \u001b[0;31m#meters\u001b[0m\u001b[0;34m\u001b[0m\u001b[0;34m\u001b[0m\u001b[0m\n\u001b[1;32m      4\u001b[0m \u001b[0mSolarSystemParameters\u001b[0m\u001b[0;34m[\u001b[0m\u001b[0;34m\"MercuryPerihelion\"\u001b[0m\u001b[0;34m]\u001b[0m  \u001b[0;34m=\u001b[0m \u001b[0;36m46.0012e9\u001b[0m \u001b[0;31m# meters\u001b[0m\u001b[0;34m\u001b[0m\u001b[0;34m\u001b[0m\u001b[0m\n\u001b[1;32m      5\u001b[0m \u001b[0mSolarSystemParameters\u001b[0m\u001b[0;34m[\u001b[0m\u001b[0;34m\"MercuryAphelion\"\u001b[0m\u001b[0;34m]\u001b[0m    \u001b[0;34m=\u001b[0m \u001b[0;36m69.8169e9\u001b[0m \u001b[0;31m# meters\u001b[0m\u001b[0;34m\u001b[0m\u001b[0;34m\u001b[0m\u001b[0m\n",
      "\u001b[0;31mNameError\u001b[0m: name 'resetMe' is not defined"
     ]
    }
   ],
   "source": [
    "resetMe()\n",
    "SolarSystemParameters=dict()\n",
    "SolarSystemParameters[\"MercuryOrbitRadius\"] = 57.9e9    #meters\n",
    "SolarSystemParameters[\"MercuryPerihelion\"]  = 46.0012e9 # meters\n",
    "SolarSystemParameters[\"MercuryAphelion\"]    = 69.8169e9 # meters\n",
    "\n",
    "SolarSystemParameters[\"EarthRadius\"]           = 6.371e6 #meters\n",
    "SolarSystemParameters[\"EarthRotatingVelocity\"] = 444.444 # meters per second\n",
    "SolarSystemParameters[\"EarthOrbitRadius\"]      = 149.6e9 # meters\n",
    "SolarSystemParameters[\"EarthOrbitVelocity\"]    = 30e3    # meters per secon\n",
    "SolarSystemParameters[\"EarthMass\"]       = 5.972e24 # kg\n",
    "SolarSystemParameters[\"MoonOrbitRadius\"] = 363228.9e3\n",
    "SolarSystemParameters[\"MoonMass\"]        = 7.34e22 # kg\n",
    "\n",
    "SolarSystemParameters[\"SunRadius\"] = 695.51e3 #meters\n",
    "SolarSystemParameters[\"SunMass\"]   = 1.989e30 # kg\n",
    "SolarSystemParameters[\"G\"]         = 6.67408e-11\n"
   ]
  },
  {
   "cell_type": "markdown",
   "metadata": {
    "id": "B3IiIp3a8slb"
   },
   "source": [
    "### Automatic Differentiation"
   ]
  },
  {
   "cell_type": "markdown",
   "metadata": {
    "id": "gfaoqprf8slb"
   },
   "source": [
    "Automatic differentiation is the process by which the derivative of a piece of code is automatically taken.  [Jax](https://jax.readthedocs.io/en/latest/index.html) is a framework that allows you to do this. \n",
    "\n",
    "Suppose you had a function \n",
    "```python\n",
    "def myFunction(x):\n",
    "    return 2*x*x+3*x+1\n",
    "````\n",
    "\n",
    "🦉Go ahead and write a piece of code which plots this function for $-5 \\leq x \\leq 5$"
   ]
  },
  {
   "cell_type": "code",
   "execution_count": 3,
   "metadata": {
    "id": "B1PfL-WW8slc"
   },
   "outputs": [],
   "source": [
    "### PUT YOUR PLOT HERE"
   ]
  },
  {
   "cell_type": "markdown",
   "metadata": {
    "id": "5fmAHFu18sld"
   },
   "source": [
    "Now we can make a new function.  It's going to call `grad(myFunction)` which will return not the output of `myFunction` but the output of its derivative. \n",
    "```python\n",
    "def myDerivFunction(x):\n",
    "   return grad(myFunction)(x)\n",
    "```\n",
    "\n",
    "Plot this new function.  You should see that it's the derivative of your other function.\n",
    "\n"
   ]
  },
  {
   "cell_type": "code",
   "execution_count": 4,
   "metadata": {
    "id": "mLZTj5VV8sld"
   },
   "outputs": [],
   "source": [
    "###Put your plot here"
   ]
  },
  {
   "cell_type": "code",
   "execution_count": 5,
   "metadata": {
    "id": "8S_rBOSW8sle"
   },
   "outputs": [],
   "source": [
    "###Put your plot here"
   ]
  },
  {
   "cell_type": "markdown",
   "metadata": {
    "id": "92pJAndp8sle"
   },
   "source": [
    "## Exercise 1: Easier Forces"
   ]
  },
  {
   "cell_type": "markdown",
   "metadata": {
    "id": "0_9qu4UF8slf"
   },
   "source": [
    "* **List of collaborators:**\n",
    "\n",
    "* **References you used in developing your code:**"
   ]
  },
  {
   "cell_type": "markdown",
   "metadata": {
    "id": "G9Gs2aIV8slf"
   },
   "source": [
    "### a. Automatic Differentiation"
   ]
  },
  {
   "cell_type": "markdown",
   "metadata": {
    "id": "T-NXYJia8slf"
   },
   "source": [
    "For most forces (air resistance is an exception), we can get the force by taking the negative the gradient of the potential energy - i.e.\n",
    " $-\\nabla^2 E(x,y,z) = -\\partial E/\\partial x -\\partial E/\\partial y - \\partial E/\\partial z $\n",
    " \n",
    "This is advantageous because the energy is much easier to write down then the force.  For example, the gravitational energy between two particles is \n",
    "$$ E(\\vec{r_1},\\vec{r_2}) = \\frac{GMm}{|\\vec{r_1}-\\vec{r_2}|}$$\n",
    "\n",
    "🦉Implement the energy function `def E(t,pos,v,params)` where `pos` is the position and `v` is the velocity of an orbiting planet from the Sun at the origin.  If you are using `numpy` (i.e. `np`) please replace it with `jnp` for this function (it will do the same thing but use the jax version of numpy).\n",
    "\n",
    "Your energy function should look like this\n",
    "```python\n",
    "resetMe(['SolarSystemParameters'])\n",
    "def E(t,pos,v,params):\n",
    "    '''\n",
    "    t: time\n",
    "    pos: position\n",
    "    vel: velocity\n",
    "    params: dictionary of params\n",
    "    Returns:\n",
    "        Force: the force\n",
    "    \n",
    "    '''    \n",
    "    G=params['G'] #this is the gravitational constant #!#\n",
    "    M=params['M']  # this is the mass of the sun #!#\n",
    "    m=params['m'] # this is the mass of the object #!#\n",
    "    return G*M*m/jnp.linalg.norm(pos)#!#\n",
    "```\n"
   ]
  },
  {
   "cell_type": "markdown",
   "metadata": {
    "id": "KBJ7OLno8slf"
   },
   "source": [
    "<div><img src=\"https://clark.physics.illinois.edu/246img/AnsStart.svg\" width=200 align=left alt=\"Answer (start)\"></img><br></div>"
   ]
  },
  {
   "cell_type": "code",
   "execution_count": 6,
   "metadata": {
    "id": "jO4Zx42k8slf"
   },
   "outputs": [],
   "source": [
    "### ANSWER HERE"
   ]
  },
  {
   "cell_type": "markdown",
   "metadata": {
    "id": "_DfIhmXW8slg"
   },
   "source": [
    "<div><img src=\"https://clark.physics.illinois.edu/246img/AnsEnd.svg\" width=200 align=left alt=\"Answer (start)\"></img><br></div>"
   ]
  },
  {
   "cell_type": "markdown",
   "metadata": {
    "id": "xT_ugNdv8slg"
   },
   "source": [
    "Now we are going to write a force function which uses jax to automatically compute the derivatives using automatic differentiation:\n",
    "```python\n",
    "def F(t,pos,v,params):\n",
    "    return grad(E,1)(t,pos,v,params)\n",
    "```\n",
    "\n",
    "The function `grad(E,1)` takes the energy function and returns a new function which computes the gradient with respect to the first parameter (`pos`).  (If you are not amazed at this, you should be)\n",
    "\n",
    "🦉Go ahead and run your orbital dynamics using your new force function for Earth going around the sun (it will be slower unfortunately because jax numpy is slower then real numpy but it will still be useful for our purposes).  Plot this orbit and see that you get the same result as you previously did in an earlier homework.  Use a time-step (`dt`) of 1 day.  Run for a time of 95% of a year. You may have to remove all the `assert` which check for numpy arrays. \n"
   ]
  },
  {
   "cell_type": "markdown",
   "metadata": {
    "id": "psRcApZn8slg"
   },
   "source": [
    "<div><img src=\"https://clark.physics.illinois.edu/246img/AnsStart.svg\" width=200 align=left alt=\"Answer (start)\"></img><br></div>"
   ]
  },
  {
   "cell_type": "code",
   "execution_count": 7,
   "metadata": {
    "colab": {
     "base_uri": "https://localhost:8080/",
     "height": 300
    },
    "id": "-WEdIaAg8slg",
    "outputId": "b62e6d91-98e6-476a-a66f-1e5297f5301e"
   },
   "outputs": [],
   "source": [
    "### ANSWER HERE"
   ]
  },
  {
   "cell_type": "markdown",
   "metadata": {
    "id": "a2yXDvF48slh"
   },
   "source": [
    "<div><img src=\"https://clark.physics.illinois.edu/246img/AnsEnd.svg\" width=200 align=left alt=\"Answer (start)\"></img><br></div>"
   ]
  },
  {
   "cell_type": "markdown",
   "metadata": {
    "id": "vxyD_vss8slh"
   },
   "source": [
    "## Exercise 2. Forces from Energy and Two Orbiting Suns"
   ]
  },
  {
   "cell_type": "markdown",
   "metadata": {
    "id": "D-yxXsz38slh"
   },
   "source": [
    "* **List of collaborators:**\n",
    "\n",
    "* **References you used in developing your code:**"
   ]
  },
  {
   "cell_type": "markdown",
   "metadata": {
    "id": "dAAKJL4F8sli"
   },
   "source": [
    "### a. Orbiting Suns"
   ]
  },
  {
   "cell_type": "markdown",
   "metadata": {
    "id": "7AbYo5jm8sli"
   },
   "source": [
    "Suppose instead of the Earth orbitting the Sun, we wanted to simulate two Suns (a binary star system). Because two suns have the same (or potentially similar) mass, we can't use the assumption that we've used so far that the one star orbits the other.  Instead they are going to orbit around each other.  We can make a small number of changes to get our code to work with these two stars. \n",
    "\n",
    "🦉\n",
    "* You will need now to send the position of both Sun's around.  To do this, you should just have to change your `params` dictionary for the initial position (put one Sun at the Earth's radius and one at (0,0) ) and the initial velocity (make one start at the velocity of the Earth and one have no velocity).  Your new initial position and velocities should now be an array of length four.\n",
    "*  Change your energy to be the difference of positions so that your $1/r$ has the $r$ being the difference beteween the two sun locations. \n",
    "* Make sure no where else in your code you are assuming that there are only two coordinates. This is probably already the case but if it's not, you should fix it. \n",
    "* *Minor Change:* If you have a crash radius on, turn it off.\n",
    "\n",
    "Run it for a year with the same time-step of 1 day.  Use two suns of the same mass.\n",
    "\n",
    "Plot the following:\n",
    "* $y$ vs $x$ position of the two suns\n",
    "* $y$ vs $x$ position of the two suns *subtracting off the center of mass velocity*.\n",
    "\n",
    "Also, animate $y$ vs $x$ as a function of time."
   ]
  },
  {
   "cell_type": "markdown",
   "metadata": {
    "id": "pYLLpegk8sli"
   },
   "source": [
    "<div><img src=\"https://clark.physics.illinois.edu/246img/AnsStart.svg\" width=200 align=left alt=\"Answer (start)\"></img><br></div>"
   ]
  },
  {
   "cell_type": "code",
   "execution_count": 8,
   "metadata": {
    "id": "xpraupWb8sli"
   },
   "outputs": [],
   "source": [
    "#### ANSWER HERE"
   ]
  },
  {
   "cell_type": "code",
   "execution_count": 9,
   "metadata": {
    "colab": {
     "base_uri": "https://localhost:8080/",
     "height": 583
    },
    "id": "x_Wy1l2S8sli",
    "outputId": "910eecbc-8458-4ca5-c1f5-e44de7624b7b"
   },
   "outputs": [],
   "source": [
    "### ANSWER HERE"
   ]
  },
  {
   "cell_type": "code",
   "execution_count": 10,
   "metadata": {
    "colab": {
     "base_uri": "https://localhost:8080/",
     "height": 385
    },
    "id": "d81aSlFR8slj",
    "outputId": "305ff9f8-fc6b-4903-edf9-a13e24b5635e"
   },
   "outputs": [
    {
     "ename": "NameError",
     "evalue": "name 'positions' is not defined",
     "output_type": "error",
     "traceback": [
      "\u001b[0;31m---------------------------------------------------------------------------\u001b[0m",
      "\u001b[0;31mNameError\u001b[0m                                 Traceback (most recent call last)",
      "\u001b[0;32m<ipython-input-10-4c334fbe5edb>\u001b[0m in \u001b[0;36m<module>\u001b[0;34m\u001b[0m\n\u001b[1;32m     48\u001b[0m \u001b[0;34m\u001b[0m\u001b[0m\n\u001b[1;32m     49\u001b[0m \u001b[0;34m\u001b[0m\u001b[0m\n\u001b[0;32m---> 50\u001b[0;31m \u001b[0manim\u001b[0m\u001b[0;34m=\u001b[0m\u001b[0manimateMe\u001b[0m\u001b[0;34m(\u001b[0m\u001b[0mpositions\u001b[0m\u001b[0;34m[\u001b[0m\u001b[0;34m:\u001b[0m\u001b[0;34m:\u001b[0m\u001b[0;36m1\u001b[0m\u001b[0;34m,\u001b[0m\u001b[0;34m:\u001b[0m\u001b[0;34m]\u001b[0m\u001b[0;34m,\u001b[0m\u001b[0;32mFalse\u001b[0m\u001b[0;34m)\u001b[0m\u001b[0;34m\u001b[0m\u001b[0;34m\u001b[0m\u001b[0m\n\u001b[0m\u001b[1;32m     51\u001b[0m \u001b[0mHTML\u001b[0m\u001b[0;34m(\u001b[0m\u001b[0manim\u001b[0m\u001b[0;34m.\u001b[0m\u001b[0mto_jshtml\u001b[0m\u001b[0;34m(\u001b[0m\u001b[0;34m)\u001b[0m\u001b[0;34m)\u001b[0m\u001b[0;34m\u001b[0m\u001b[0;34m\u001b[0m\u001b[0m\n",
      "\u001b[0;31mNameError\u001b[0m: name 'positions' is not defined"
     ]
    }
   ],
   "source": [
    "from matplotlib import animation\n",
    "from IPython.display import HTML\n",
    "\n",
    "from matplotlib.cm import get_cmap\n",
    "\n",
    "name = \"Accent\"\n",
    "cmap = get_cmap(name)  # type: matplotlib.colors.ListedColormap\n",
    "colors = cmap.colors  # type: list\n",
    "\n",
    "def animateMe(positions,fullLine=True):\n",
    "    # First set up the figure, the axis, and the plot element we want to animate\n",
    "    fig = plt.figure();\n",
    "    x_min=np.min(list(positions[:,0])+list(positions[:,2]))*1.1\n",
    "    x_max=np.max(list(positions[:,0])+list(positions[:,2]))*1.1\n",
    "    y_min=np.min(list(positions[:,1])+list(positions[:,3]))*1.1\n",
    "    y_max=np.max(list(positions[:,1])+list(positions[:,3]))*1.1\n",
    "    ax = plt.axes(xlim=(x_min, x_max), ylim=(y_min, y_max));\n",
    "    ax.set_prop_cycle(color=colors)\n",
    "    line, = ax.plot([], [],'go', ms=10);\n",
    "\n",
    "\n",
    "    plt.close(fig)\n",
    "    # initialization function: plot the background of each frame\n",
    "    def init():\n",
    "        line.set_data([], [])\n",
    "        return line,\n",
    "\n",
    "    # animation function.  This is called sequentially\n",
    "    def animate(i):\n",
    "\n",
    "        x = positions[:,0]\n",
    "        y = positions[:,1]\n",
    "        ll=np.shape(positions)[1]\n",
    "        xx=np.array(range(0,ll,2))\n",
    "        yy=np.array(range(1,ll,2))\n",
    "        if fullLine:\n",
    "            line.set_data(positions[0:i,xx], positions[0:i,yy])\n",
    "        else:\n",
    "            line.set_data(positions[i,xx],positions[i,yy])\n",
    "        return line,\n",
    "\n",
    "    # call the animator.  blit=True means only re-draw the parts that have changed.\n",
    "\n",
    "    anim = animation.FuncAnimation(fig, animate, init_func=init,\n",
    "                                   frames=len(positions), interval=20, \n",
    "                                   blit=True,repeat=False);\n",
    "    return anim\n",
    "\n",
    "\n",
    "anim=animateMe(positions[::1,:],False)\n",
    "HTML(anim.to_jshtml())"
   ]
  },
  {
   "cell_type": "markdown",
   "metadata": {
    "id": "JwG16ans8sll"
   },
   "source": [
    "<div><img src=\"https://clark.physics.illinois.edu/246img/AnsEnd.svg\" width=200 align=left alt=\"Answer (start)\"></img><br></div>"
   ]
  },
  {
   "cell_type": "markdown",
   "metadata": {
    "id": "FI6YFQdG8sll"
   },
   "source": [
    "### b. Cleaning up the mass"
   ]
  },
  {
   "cell_type": "markdown",
   "metadata": {
    "id": "AvXeCd6h8sll"
   },
   "source": [
    "🦉This time do the same calculation with one of the Sun's having half the mass of the other.  Here you need to be careful when you compute the acceleration that you are using the right mass to divide the force of the right Sun."
   ]
  },
  {
   "cell_type": "markdown",
   "metadata": {
    "id": "Xefsj1F58sll"
   },
   "source": [
    "<div><img src=\"https://clark.physics.illinois.edu/246img/AnsStart.svg\" width=200 align=left alt=\"Answer (start)\"></img><br></div>"
   ]
  },
  {
   "cell_type": "code",
   "execution_count": 11,
   "metadata": {
    "colab": {
     "base_uri": "https://localhost:8080/",
     "height": 583
    },
    "id": "hCTYDBZt8sll",
    "outputId": "1c41ca64-533e-4704-8852-51e2797262a0"
   },
   "outputs": [],
   "source": [
    "### ANSWER HERE"
   ]
  },
  {
   "cell_type": "markdown",
   "metadata": {
    "id": "ufZUlm0J8slm"
   },
   "source": [
    "<div><img src=\"https://clark.physics.illinois.edu/246img/AnsEnd.svg\" width=200 align=left alt=\"Answer (start)\"></img><br></div>"
   ]
  },
  {
   "cell_type": "markdown",
   "metadata": {
    "id": "AFuQAOkJ8slm"
   },
   "source": [
    "## Exercise 3. Three Planets"
   ]
  },
  {
   "cell_type": "markdown",
   "metadata": {
    "id": "fR7NDYzH8slm"
   },
   "source": [
    "* **List of collaborators:**\n",
    "\n",
    "* **References you used in developing your code:**"
   ]
  },
  {
   "cell_type": "markdown",
   "metadata": {
    "id": "PfF5XDbp8slm"
   },
   "source": [
    "### a. Three Planets"
   ]
  },
  {
   "cell_type": "markdown",
   "metadata": {
    "id": "1lIwPP258slm"
   },
   "source": [
    "While the one and two body can be dealt with analytically, once you have a three-body problem you must use numerics.  In this exercise, modify your energy function to work with three particles (you should be computing three distances in this function).  🦉 Plot the $y$ vs $x$ for three particles all with a mass of  `m=1.49925038e+34` with`dt=60.*60.` for the following two sets of initial conditions.  Plot after subtracting out the center of mass! Animate them both. \n",
    " \n",
    "**Condition 1:**\n",
    "```python\n",
    "param[\"T\"]=60.*60.*24.0*100\n",
    "params[\"initPos\"]= jnp.array([ 9.5000436e+11, -2.4308753e+11, -9.7000436e+11 , 2.4308753e+11,\n",
    "  0.0000000e+00,  0.0000000e+00])\n",
    "params[\"initVel\"]= jnp.array([ 466203.685 , 432365.73 ,  466203.685  ,432365.73 , -932407.37 , -864731.48 ])\n",
    "```\n",
    "\n",
    "**Condition 2:**\n",
    "```python\n",
    "param[\"T\"]=60.*60.*24.0*1000\n",
    "params[\"initPos\"]= jnp.array([ 8.75415651e+11, -2.74475729e+11, -9.55851880e+11 , 2.26509575e+11,0.00000000e+00,  0.00000000e+00])\n",
    "params[\"initVel\"]= jnp.array([ 390853.52382274,  418580.80002714,  501291.7617827 ,  456901.09924283,-954861.69488255, -948996.44017539])\n",
    " ```\n",
    " \n",
    "\n",
    " \n",
    " \n",
    " \n",
    " and use a mass `m=1.49925038e+34`  for `T=60.*60.*24.0*1000` (start shorter for testing) and a `dT=60*60` Plot it out (I suggest using `--` for your plotting marker) as well as animate it. "
   ]
  },
  {
   "cell_type": "markdown",
   "metadata": {
    "id": "YBVo3yLQ8slm"
   },
   "source": [
    "<div><img src=\"https://clark.physics.illinois.edu/246img/AnsStart.svg\" width=200 align=left alt=\"Answer (start)\"></img><br></div>"
   ]
  },
  {
   "cell_type": "code",
   "execution_count": 12,
   "metadata": {
    "id": "_hY3J1pK8slm"
   },
   "outputs": [],
   "source": [
    "### ANSWER HERE"
   ]
  },
  {
   "cell_type": "code",
   "execution_count": 13,
   "metadata": {
    "id": "iKN3Zwcg8slm"
   },
   "outputs": [],
   "source": [
    "#### ANSWER HERE"
   ]
  },
  {
   "cell_type": "code",
   "execution_count": 14,
   "metadata": {
    "colab": {
     "base_uri": "https://localhost:8080/",
     "height": 300
    },
    "id": "Vi9N4K9i8slm",
    "outputId": "0fab027a-b609-4669-a27f-886e364b5b0a"
   },
   "outputs": [],
   "source": [
    "### ANSWER HERE"
   ]
  },
  {
   "cell_type": "code",
   "execution_count": 15,
   "metadata": {
    "colab": {
     "base_uri": "https://localhost:8080/",
     "height": 385
    },
    "id": "KHnWIKmL8sln",
    "outputId": "a3c72f2b-973e-40e5-dab7-503718b7e2c5"
   },
   "outputs": [
    {
     "ename": "NameError",
     "evalue": "name 'positions' is not defined",
     "output_type": "error",
     "traceback": [
      "\u001b[0;31m---------------------------------------------------------------------------\u001b[0m",
      "\u001b[0;31mNameError\u001b[0m                                 Traceback (most recent call last)",
      "\u001b[0;32m<ipython-input-15-0be8c01d3f4e>\u001b[0m in \u001b[0;36m<module>\u001b[0;34m\u001b[0m\n\u001b[1;32m     50\u001b[0m \u001b[0;34m\u001b[0m\u001b[0m\n\u001b[1;32m     51\u001b[0m \u001b[0;34m\u001b[0m\u001b[0m\n\u001b[0;32m---> 52\u001b[0;31m \u001b[0mstepSize\u001b[0m\u001b[0;34m=\u001b[0m\u001b[0mlen\u001b[0m\u001b[0;34m(\u001b[0m\u001b[0mpositions\u001b[0m\u001b[0;34m)\u001b[0m\u001b[0;34m//\u001b[0m\u001b[0;36m1000\u001b[0m\u001b[0;34m\u001b[0m\u001b[0;34m\u001b[0m\u001b[0m\n\u001b[0m\u001b[1;32m     53\u001b[0m \u001b[0manim\u001b[0m\u001b[0;34m=\u001b[0m\u001b[0manimateMe\u001b[0m\u001b[0;34m(\u001b[0m\u001b[0mpositions\u001b[0m\u001b[0;34m[\u001b[0m\u001b[0;34m:\u001b[0m\u001b[0;34m:\u001b[0m\u001b[0mstepSize\u001b[0m\u001b[0;34m,\u001b[0m\u001b[0;34m:\u001b[0m\u001b[0;34m]\u001b[0m\u001b[0;34m,\u001b[0m\u001b[0;32mFalse\u001b[0m\u001b[0;34m)\u001b[0m\u001b[0;34m\u001b[0m\u001b[0;34m\u001b[0m\u001b[0m\n\u001b[1;32m     54\u001b[0m \u001b[0mHTML\u001b[0m\u001b[0;34m(\u001b[0m\u001b[0manim\u001b[0m\u001b[0;34m.\u001b[0m\u001b[0mto_jshtml\u001b[0m\u001b[0;34m(\u001b[0m\u001b[0;34m)\u001b[0m\u001b[0;34m)\u001b[0m\u001b[0;34m\u001b[0m\u001b[0;34m\u001b[0m\u001b[0m\n",
      "\u001b[0;31mNameError\u001b[0m: name 'positions' is not defined"
     ]
    }
   ],
   "source": [
    "#animate condition 1\n",
    "\n",
    "from matplotlib import animation\n",
    "from IPython.display import HTML\n",
    "\n",
    "from matplotlib.cm import get_cmap\n",
    "\n",
    "name = \"Accent\"\n",
    "cmap = get_cmap(name)  # type: matplotlib.colors.ListedColormap\n",
    "colors = cmap.colors  # type: list\n",
    "\n",
    "def animateMe(positions,fullLine=True):\n",
    "    # First set up the figure, the axis, and the plot element we want to animate\n",
    "    fig = plt.figure();\n",
    "    x_min=np.min(list(positions[:,0])+list(positions[:,2]))*1.1\n",
    "    x_max=np.max(list(positions[:,0])+list(positions[:,2]))*1.1\n",
    "    y_min=np.min(list(positions[:,1])+list(positions[:,3]))*1.1\n",
    "    y_max=np.max(list(positions[:,1])+list(positions[:,3]))*1.1\n",
    "    ax = plt.axes(xlim=(x_min, x_max), ylim=(y_min, y_max));\n",
    "    ax.set_prop_cycle(color=colors)\n",
    "    line, = ax.plot([], [],'go', ms=10);\n",
    "\n",
    "\n",
    "    plt.close(fig)\n",
    "    # initialization function: plot the background of each frame\n",
    "    def init():\n",
    "        line.set_data([], [])\n",
    "        return line,\n",
    "\n",
    "    # animation function.  This is called sequentially\n",
    "    def animate(i):\n",
    "\n",
    "        x = positions[:,0]\n",
    "        y = positions[:,1]\n",
    "        ll=np.shape(positions)[1]\n",
    "        xx=np.array(range(0,ll,2))\n",
    "        yy=np.array(range(1,ll,2))\n",
    "        if fullLine:\n",
    "            line.set_data(positions[0:i,xx], positions[0:i,yy])\n",
    "        else:\n",
    "            line.set_data(positions[i,xx],positions[i,yy])\n",
    "        return line,\n",
    "\n",
    "    # call the animator.  blit=True means only re-draw the parts that have changed.\n",
    "\n",
    "    anim = animation.FuncAnimation(fig, animate, init_func=init,\n",
    "                                   frames=len(positions), interval=20, \n",
    "                                   blit=True,repeat=False);\n",
    "    return anim\n",
    "\n",
    "\n",
    "stepSize=len(positions)//1000\n",
    "anim=animateMe(positions[::stepSize,:],False)\n",
    "HTML(anim.to_jshtml())"
   ]
  },
  {
   "cell_type": "code",
   "execution_count": 16,
   "metadata": {
    "id": "H5mOvpD98slx"
   },
   "outputs": [],
   "source": [
    "### ANSWER HERE"
   ]
  },
  {
   "cell_type": "code",
   "execution_count": 17,
   "metadata": {
    "colab": {
     "base_uri": "https://localhost:8080/",
     "height": 223
    },
    "id": "iE9xrRFL8slx",
    "outputId": "9dcbb2db-b38d-4cd3-cdb0-27400e74c9d6"
   },
   "outputs": [],
   "source": [
    "### ANSWER HERE"
   ]
  },
  {
   "cell_type": "markdown",
   "metadata": {
    "id": "lPqCBzL48slx"
   },
   "source": [
    "<div><img src=\"https://clark.physics.illinois.edu/246img/AnsEnd.svg\" width=200 align=left alt=\"Answer (start)\"></img><br></div>"
   ]
  },
  {
   "cell_type": "markdown",
   "metadata": {
    "id": "sLmA4Huv8slx"
   },
   "source": [
    "## Exercise 4: Full Solar System Dynamics (Extra Credit)"
   ]
  },
  {
   "cell_type": "markdown",
   "metadata": {
    "id": "zSlAZ7Az8sly"
   },
   "source": [
    "* **List of collaborators:**\n",
    "\n",
    "* **References you used in developing your code:**"
   ]
  },
  {
   "cell_type": "markdown",
   "metadata": {
    "id": "P343CUOL8sly"
   },
   "source": [
    "**(These don't have to be done in order although succeeding in some of them will essentially complete others)**"
   ]
  },
  {
   "cell_type": "markdown",
   "metadata": {
    "id": "lAaI7VSp8sly"
   },
   "source": [
    "### a. Symplectic Integration (EC: 5 points)"
   ]
  },
  {
   "cell_type": "markdown",
   "metadata": {
    "id": "0QcB2xUY8sly"
   },
   "source": [
    "Replace your second order integrator with a symplectic integrator.  Such an integrator has similar error profile but has a physical property that it conserves an energy for a (slightly different) Hamiltonian which makes it better for planetary simulations"
   ]
  },
  {
   "cell_type": "markdown",
   "metadata": {
    "id": "uoW4-Crp8sly"
   },
   "source": [
    "### b.  Full Solar System (EC: 15 points)"
   ]
  },
  {
   "cell_type": "markdown",
   "metadata": {
    "id": "DMXCpq3m8sly"
   },
   "source": [
    "Modify your simulation to work with an arbitrary number of bodies.  You want your energy function to have no \"for loops\" in it - only numpy calls.  (Also come ask me how to speed up your code by appropriate additions of @jit). Then figure out how to get correct initial conditions for planets (astropy should help). Go ahead and implement a full solar system simulation for the eight planets."
   ]
  },
  {
   "cell_type": "markdown",
   "metadata": {
    "id": "5C6BD_Ik8sly"
   },
   "source": [
    "### c. Voyager Simulation (EC: 10 points)"
   ]
  },
  {
   "cell_type": "markdown",
   "metadata": {
    "id": "bklL_xQ88sly"
   },
   "source": [
    "After finishing part (b), figure out reasonable initial conditions from Voyager 1 or Voyager 2 and get a flyby (of at least Jupiter and Saturn) to work correctly in your simulation."
   ]
  },
  {
   "cell_type": "markdown",
   "metadata": {
    "id": "zQRqJwSu8sly"
   },
   "source": [
    "### d. Lagrange Points (EC: 5 points)"
   ]
  },
  {
   "cell_type": "markdown",
   "metadata": {
    "id": "zXE4722n8sly"
   },
   "source": [
    "**This problem can be done with only a three-body simulation working**\n",
    "\n",
    "Find the five lagrange points around the Earth-Sun system.  You can either do this by looking up/calculating where they should be or by doing a `scipy.optimize` to find them.  Show that they are lagrange points and show (by perturbing your satellite in the simulation at those points) that two of them are stable and the other three are unstable. "
   ]
  },
  {
   "cell_type": "markdown",
   "metadata": {
    "id": "aIYI3ETP8sly"
   },
   "source": [
    "### e.  The nice model (EC: 35 points)"
   ]
  },
  {
   "cell_type": "markdown",
   "metadata": {
    "id": "YLRer-698sly"
   },
   "source": [
    "Simulate the nice model (https://en.wikipedia.org/wiki/Nice_model) with the four gas giants planets and a thousand disk planetismal belt and show the gas giants move from their initial position to (something close) to their current position."
   ]
  },
  {
   "cell_type": "markdown",
   "metadata": {
    "id": "5Q_wldZm8slz"
   },
   "source": [
    "### f.  Your universe (EC: 5 points)"
   ]
  },
  {
   "cell_type": "markdown",
   "metadata": {
    "id": "j1QIf8Cn8slz"
   },
   "source": [
    "Setup a cool set of initial conditions for a multiple-body gravitational simulation and simulate! "
   ]
  },
  {
   "cell_type": "markdown",
   "metadata": {
    "id": "qnjOKctY8slz"
   },
   "source": [
    "## Exercise 5"
   ]
  },
  {
   "cell_type": "markdown",
   "metadata": {
    "id": "x8SNSdTB8slz"
   },
   "source": [
    "### a. Solving Euler-Lagrange with no work "
   ]
  },
  {
   "cell_type": "markdown",
   "metadata": {
    "id": "jSBsbAvj8slz"
   },
   "source": [
    "Getting the dynamics for the double pendula working was somewhat tricky.  In particular, we had to work out the equations of motion which were somewhat painful.  Earlier we managed to avoid much of this work by using automatic differentiation on the energy. This doesn't quite work here because of the constraints.  Instead we should *work in generalized coordinates and solve the Euler-Largrange equation.*. The Euler-Lagrange equation takes a *Lagrangian* $\\mathcal{L}$ and produces a differential equation we can solve to get the equations of motion\n",
    "\n",
    "$$\n",
    "\\frac{d}{dt} \\nabla_{dq/dt}\\mathcal{L} = \\nabla_{q} \\mathcal{L}\n",
    "$$\n",
    "where $\\nabla_q\\mathcal{L} = \\frac{\\partial\\mathcal{L}}{\\partial q}$\n",
    "Working in generalized coordinates just means working in some coordinates that recognize the constraints.  For example, by working with $\\theta_1$ and $\\theta_2$ we can't violate the constraint of a rigid rod no matter what values we choose.   On the other hand, if we were to work with ($x_1, y_1,x_2,y_2$) of the masses we could choose parameters that would allow for the rod to be too long, or simulation errors could change the length of the rod. \n",
    "\n",
    "The Lagrangian equation is simple... The Lagrangian just $\\mathcal{L}=T-V$ where $T$ is the kinetic energy and $V$ is the potential energy. The kinetic energy is just $1/2 m_1 v_1^2 + 1/2 m_2 v_2^2$ whereas the potential energy is $mgy_1 + mgy_2$.  Convert these into something which depends on $\\theta_1$, $d{\\theta_1}/dt=\\omega_1$ (and the $\\theta_2$ equivalents).  \n",
    "🦉 Write a python function that produces the Lagrangian.\n",
    "\n",
    "Now we need to solve the Euler-Lagrange equations.  If we call our generalized coordinates, $q$ (i.e. $\\theta$), then we need to solve them for $ \\frac{\\mathrm{d}^2q}{ \\mathrm{d}t^2}$ (i.e $ \\frac{\\mathrm{d}^2\\theta}{ \\mathrm{d}t^2}$.  Then we can treat this (times a mass $m$) as a force which we can put into our dynamics code.  Amazingly, there is an algorithm tht allows us to do this for any lagrangian.  See Appendix A of [[1]](#fn1), which we've copied here in our notation:\n",
    "\n",
    "$$\n",
    " \\frac{\\mathrm{d}^2\\theta}{ \\mathrm{d}t^2} = (\\nabla_\\omega \\nabla^T_\\omega \\mathcal{L})^{-1}[\\nabla_\\theta \\mathcal{L}-(\\nabla_\\theta\\nabla_\\omega^T\\mathcal{L})\\omega]\n",
    "$$\n",
    "\n",
    "(where $\\omega=\\frac{d\\theta}{dt}$)\n",
    "```python\n",
    "\n",
    "def lagrangian(pos,vel,params,t):\n",
    "    #finish this...\n",
    "    return T-V\n",
    "\n",
    "f1=jit(jax.hessian(jit(lagrangian), 1))\n",
    "f2=jit(jax.grad(jit(lagrangian), 0))\n",
    "f3=jit(jax.jacfwd(jit(jax.grad(jit(lagrangian), 1)), 0))\n",
    "```\n",
    "Note the ordering of the parameters is important here.  \n",
    "\n",
    "Now we can use these function to find an acceleration:\n",
    "```python\n",
    "#...\n",
    "#now you can do this to find a:\n",
    "a = (jax.numpy.linalg.pinv(f1(pos, vel,params,t)) @ (\n",
    "        f2(pos,vel,params,t) - f3(pos,vel,params,t) @ vel))\n",
    "#...\n",
    "\n",
    "```\n",
    "\n",
    " 🦉 Now write code that takes any lagrangian and does the dynamics.  Verify it gives you the same answer from the double pendulum using forces. \n",
    "\n",
    "Notice that it now is essentially trivially to get a triple pendulum (or many other things) working.  "
   ]
  },
  {
   "cell_type": "markdown",
   "metadata": {
    "id": "Pc67uNdl8slz"
   },
   "source": [
    "<div><img src=\"https://clark.physics.illinois.edu/246img/AnsStart.svg\" width=200 align=left alt=\"Answer (start)\"></img><br></div>"
   ]
  },
  {
   "cell_type": "code",
   "execution_count": 18,
   "metadata": {
    "id": "wn9JKCXQ8slz"
   },
   "outputs": [],
   "source": [
    "### ANSWER HERE"
   ]
  },
  {
   "cell_type": "code",
   "execution_count": 19,
   "metadata": {
    "colab": {
     "base_uri": "https://localhost:8080/",
     "height": 303
    },
    "id": "LxswDGSq8slz",
    "outputId": "bd2cd66a-7ae4-412a-c2a0-61370e163950"
   },
   "outputs": [],
   "source": [
    "### ANSWER HERE"
   ]
  },
  {
   "cell_type": "markdown",
   "metadata": {
    "id": "ly57ly1R8sl0"
   },
   "source": [
    "<div><img src=\"https://clark.physics.illinois.edu/246img/AnsEnd.svg\" width=200 align=left alt=\"Answer (start)\"></img><br></div>"
   ]
  },
  {
   "cell_type": "markdown",
   "metadata": {
    "id": "kzkMiOnm8sl0"
   },
   "source": [
    "---"
   ]
  },
  {
   "cell_type": "markdown",
   "metadata": {
    "id": "iSe5FLL_8sl0"
   },
   "source": [
    "\n",
    "1 https://en.wikipedia.org/wiki/Tests_of_general_relativity#Perihelion_precession_of_Mercury\n",
    "\n",
    "2 http://arxiv.org/abs/1106.1568v1: \"When effective theories predict: the # inevitability of Mercury’s anomalous perihelion precession,\" James D. Wells, CERN Theoretical Physics (PH-TH), CH-1211 Geneva 23, Switzerland & Department of Physics, University of Michigan, Ann Arbor, MI 48109, June 9, 2011.\n",
    "\n",
    "3 https://en.wikipedia.org/wiki/Two-body_problem_in_general_relativity#Precession_of_elliptical_orbits. I obtain this by taking the post-Newtonian term for the effective radial potential, then differentiating it.\n",
    "\n",
    "4 https://en.wikipedia.org/wiki/Solar_mass\n",
    "\n",
    "5 http://nssdc.gsfc.nasa.gov/planetary/factsheet/mercuryfact.html\n",
    "\n",
    "6 http://www.mathpages.com/home/kmath280/kmath280.htm\n",
    "\n",
    "\n",
    "---\n",
    "<span id=\"fn1\"><sup>1</sup> https://arxiv.org/abs/2003.04630 </span>"
   ]
  },
  {
   "cell_type": "markdown",
   "metadata": {
    "id": "a_SD8Bhr8sl0"
   },
   "source": [
    "**Acknowledgements:**\n",
    "* Bryan Clark (original)\n",
    "\n",
    "© Copyright 2021"
   ]
  },
  {
   "cell_type": "code",
   "execution_count": null,
   "metadata": {},
   "outputs": [],
   "source": []
  }
 ],
 "metadata": {
  "colab": {
   "collapsed_sections": [
    "lAaI7VSp8sly",
    "uoW4-Crp8sly",
    "5C6BD_Ik8sly",
    "zQRqJwSu8sly",
    "aIYI3ETP8sly",
    "5Q_wldZm8slz"
   ],
   "name": "OrbitalDynamics2.ipynb",
   "provenance": []
  },
  "kernelspec": {
   "display_name": "Python 3 (ipykernel)",
   "language": "python",
   "name": "python3"
  },
  "language_info": {
   "codemirror_mode": {
    "name": "ipython",
    "version": 3
   },
   "file_extension": ".py",
   "mimetype": "text/x-python",
   "name": "python",
   "nbconvert_exporter": "python",
   "pygments_lexer": "ipython3",
   "version": "3.9.6"
  },
  "varInspector": {
   "cols": {
    "lenName": 16,
    "lenType": 16,
    "lenVar": 40
   },
   "kernels_config": {
    "python": {
     "delete_cmd_postfix": "",
     "delete_cmd_prefix": "del ",
     "library": "var_list.py",
     "varRefreshCmd": "print(var_dic_list())"
    },
    "r": {
     "delete_cmd_postfix": ") ",
     "delete_cmd_prefix": "rm(",
     "library": "var_list.r",
     "varRefreshCmd": "cat(var_dic_list()) "
    }
   },
   "types_to_exclude": [
    "module",
    "function",
    "builtin_function_or_method",
    "instance",
    "_Feature"
   ],
   "window_display": false
  }
 },
 "nbformat": 4,
 "nbformat_minor": 1
}
