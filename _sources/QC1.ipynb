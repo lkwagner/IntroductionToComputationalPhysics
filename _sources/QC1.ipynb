{
  "cells": [
    {
      "cell_type": "markdown",
      "metadata": {
        "id": "66oY2RqPcXLk"
      },
      "source": [
        "# Quantum Computing"
      ]
    },
    {
      "cell_type": "markdown",
      "metadata": {
        "id": "HNGlR_KCcXLo"
      },
      "source": [
        "* **Author:**\n",
        "* **Date:**\n",
        "* **Time Spent on this Assignment:**"
      ]
    },
    {
      "cell_type": "code",
      "execution_count": null,
      "metadata": {
        "colab": {
          "base_uri": "https://localhost:8080/"
        },
        "id": "LpvDgIRxc1Db",
        "outputId": "28ff11f4-09fa-41ea-e726-2c03afd52e7b",
        "tags": [
          "hide-output"
        ]
      },
      "outputs": [],
      "source": [
        "!pip install qiskit[visualization];\n",
        "!pip install qutip\n",
        "!pip install qiskit_aer;"
      ]
    },
    {
      "cell_type": "code",
      "execution_count": 2,
      "metadata": {
        "id": "5FakYeP6dMva",
        "tags": [
          "hide-output"
        ]
      },
      "outputs": [],
      "source": [
        "import numpy as np\n",
        "import pylab as plt\n",
        "import qiskit\n",
        "import qutip\n",
        "from qiskit import QuantumCircuit, transpile\n",
        "from qiskit_aer import AerSimulator\n",
        "from qiskit.visualization import plot_histogram\n"
      ]
    },
    {
      "cell_type": "code",
      "execution_count": null,
      "metadata": {
        "id": "p6XnFHzNcXLt",
        "tags": [
          "hide-output"
        ]
      },
      "outputs": [],
      "source": [
        "def RunMe(circuit,a=None):\n",
        "  \"\"\"\n",
        "  Runs a quantum circuit and returns the state vector and measurement results. \n",
        "\n",
        "  Args:\n",
        "    circuit (QuantumCircuit): The quantum circuit to run.\n",
        "    a (list, optional): A list of initial state amplitudes. If provided, the circuit will be initialized with these amplitudes. Otherwise it will start from |0>.\n",
        "  \n",
        "  Returns:\n",
        "    tuple: A tuple containing the state vector and measurement results.\n",
        "  \"\"\"\n",
        "  numQubits=circuit.num_qubits\n",
        "  if a!=None:\n",
        "    numQubits=max(numQubits,a.num_qubits)\n",
        "    initCircuit=QuantumCircuit(a.num_qubits,a.num_qubits)\n",
        "    initCircuit.initialize(a)\n",
        "    circuit=AddCircuits([initCircuit,circuit])\n",
        "  circuit.save_statevector(label='myStateVector')\n",
        "  compiled_circuit = transpile(circuit, simulator)\n",
        "  resultA = simulator.run(compiled_circuit).result()\n",
        "  forward=list(range(0,numQubits))\n",
        "  reverse=forward[::-1]\n",
        "  circuit.measure(forward,reverse)\n",
        "  compiled_circuit = transpile(circuit, simulator)\n",
        "  resultB = simulator.run(compiled_circuit).result()\n",
        "  return resultA.data()['myStateVector'],resultB.data()['counts']\n",
        "\n",
        "\n",
        "def MakeState(v):\n",
        "  \"\"\"\n",
        "  Creates a qiskit state vector from a numpy array of amplitudes.\n",
        "  \"\"\"\n",
        "  numWires=int(round(np.log2(len(np.array(v)))))\n",
        "  qc1=QuantumCircuit(numWires,numWires)\n",
        "  qc1.initialize(v)\n",
        "  a,_=RunMe(qc1)\n",
        "  return a\n",
        "\n",
        "def PrintDirac(out_state_a):\n",
        "  \"\"\"\n",
        "  Prints the state vector in Dirac notation.\n",
        "  \"\"\"\n",
        "  out_state=np.asarray(out_state_a)\n",
        "  l=len(out_state)\n",
        "  num_qubits=int(round(np.log(len(out_state))/np.log(2)))\n",
        "  for i in range(0,l):\n",
        "    if not np.isclose(out_state[i],0):\n",
        "      print(str(out_state[i])+'|'+bin(i)[2:].zfill(num_qubits)[::-1]+'>',end=' + ')\n",
        "  print()\n",
        "\n",
        "def PlotBloch(v,bb):\n",
        "  \"\"\"\n",
        "  Plots the Bloch sphere representation of a quantum state.\n",
        "  \"\"\"\n",
        "  vv=np.asarray(v)\n",
        "  a=vv[0]*np.conj(vv[0])\n",
        "  b=vv[1]*np.conj(vv[0])\n",
        "  x = np.real(2.0 * b.real)\n",
        "  y = np.real(2.0 * b.imag)\n",
        "  z = np.real(2.0 * a - 1.0)\n",
        "  bb.add_vectors([x,y,z])\n",
        "  return\n",
        "\n",
        "def PlotState(v,plotAll=True,myTitle=\"\"):\n",
        "  \"\"\"\n",
        "  Plots the real and imaginary parts of a quantum state vector.\n",
        "  The x-axis is the index of the state in the list of 2^N, where N is the number of qubits.\n",
        "  The y-axis is the real and imaginary part of the state vector.\n",
        "  Args:\n",
        "    v (list): The quantum state vector to plot.\n",
        "    plotAll (bool): If True, plot all states. If False, plot only the first half.\n",
        "    myTitle (str): The title of the plot.\n",
        "  \"\"\"\n",
        "  if plotAll:\n",
        "    N=len(np.asarray(v))\n",
        "  else:\n",
        "    N=len(np.asarray(v))//2\n",
        "  vv=np.zeros(N,dtype=complex)\n",
        "  vv[:]=np.asarray(v)[0:N]\n",
        "  vv=vv*np.exp(-1.j*np.angle(vv[0]))\n",
        "  plt.axhline(0)\n",
        "  for idx,i in enumerate(vv):\n",
        "    plt.plot([int(idx),int(idx)],[0,np.real(i)],color='red')\n",
        "    plt.plot([int(idx)],[np.real(i)],'o',color='red')\n",
        "  for idx,i in enumerate(vv):\n",
        "    plt.plot([idx+0.1,idx+0.1],[0,np.imag(i)],color='blue')\n",
        "    plt.plot([idx+0.1],[np.imag(i)],'o',color='blue')\n",
        "  avg=np.average(vv)\n",
        "  plt.axhline(np.real(avg),linestyle='--')\n",
        "  plt.ylim(-1,1)\n",
        "  plt.title(myTitle)\n",
        "  plt.show()\n",
        "\n",
        "\n",
        "\n",
        "def AddCircuits(theCircuits):\n",
        "  \"\"\"\n",
        "  Concatenates a list of circuits into a new circuit.\n",
        "  Args:\n",
        "    theCircuits (list): A list of QuantumCircuit objects to concatenate.\n",
        "  Returns: \n",
        "    QuantumCircuit: A new QuantumCircuit object that is the concatenation of the input circuits.\n",
        "  \"\"\"\n",
        "  numQubits=np.array([c.num_qubits for c in theCircuits])\n",
        "  numQubits=np.max(numQubits)\n",
        "  circuit=QuantumCircuit(numQubits,numQubits)\n",
        "  for i in range(0,len(theCircuits)):\n",
        "    circuit=circuit.compose(theCircuits[i],qubits=list(range(0,theCircuits[i].num_qubits)))\n",
        "  return circuit\n",
        "\n",
        "\n",
        "def Mark(r,N):\n",
        "  \"\"\"\n",
        "  Creates a quantum circuit that marks a specific state |r> in the computational basis. (this is for Grover's algorithm)\n",
        "  Args:\n",
        "    r (int): The index of the state to mark in the computational basis.\n",
        "    N (int): The number of qubits in the circuit.\n",
        "  \"\"\"\n",
        "  circuit=QuantumCircuit(N,N)\n",
        "  circuit.barrier()\n",
        "\n",
        "\n",
        "  myString=np.binary_repr(r,width=N)[::-1]\n",
        "  for i in range(0,len(myString)):\n",
        "    if myString[i]=='0':\n",
        "      circuit.x(i)\n",
        "  circuit.barrier()\n",
        "\n",
        "  circuit.h(N-1)\n",
        "  circuit.mcx(list(range(0,N-1)), N-1,mode='noancilla')\n",
        "  circuit.h(N-1)\n",
        "  circuit.barrier()\n",
        "\n",
        "  for i in range(0,len(myString)):\n",
        "    if myString[i]=='0':\n",
        "      circuit.x(i)\n",
        "  circuit.barrier()\n",
        "  return circuit\n",
        "\n",
        "def InitializeCircuitRandom(N):\n",
        "  \"\"\"\n",
        "  Creates a quantum circuit that initializes a random state vector of size 2^N.\n",
        "  Args:\n",
        "    N (int): The number of qubits in the circuit.\n",
        "  Returns:\n",
        "    QuantumCircuit: A QuantumCircuit object that initializes a random state vector.\n",
        "  \"\"\"\n",
        "  r=np.random.random(2**N)\n",
        "  r=r/np.linalg.norm(r)\n",
        "  circuit=QuantumCircuit(N,N)\n",
        "  circuit.initialize(list(r))\n",
        "  return circuit\n",
        "\n",
        "\n",
        "def InitializeCircuit(my_string,N):\n",
        "  \"\"\"\n",
        "  Creates a quantum circuit that initializes a specific state vector.\n",
        "  Args:\n",
        "    my_string (str): A string of 0s and 1s representing the state vector. That is, all ups would be '00000' and all downs would be '11111'.\n",
        "    N (int): The number of qubits in the circuit.\n",
        "  \"\"\"\n",
        "  circuit = QuantumCircuit(N,N)\n",
        "  circuit.initialize(my_string[::-1])\n",
        "  return circuit\n",
        "\n",
        "simulator = AerSimulator()\n",
        "\n",
        "\n"
      ]
    },
    {
      "cell_type": "markdown",
      "metadata": {
        "id": "yEubsxOXcXLt"
      },
      "source": [
        "## Exercise 1: A Single Qubit (33 points)"
      ]
    },
    {
      "cell_type": "markdown",
      "metadata": {
        "id": "nMhz2rjV40bW"
      },
      "source": [
        "### a. A one qubit state"
      ]
    },
    {
      "cell_type": "markdown",
      "metadata": {
        "id": "0PG2O4eV4_rv"
      },
      "source": [
        "A quantum state consists of a certain fraction of $|0\\rangle$ and a certain fraction of $|1\\rangle$ - i.e.  $\\sqrt{0.3} |0\\rangle - \\sqrt{0.7} |1\\rangle$.\n",
        "\n",
        "We can plot this state in a variety of ways.\n",
        "```\n",
        "state=np.array([np.sqrt(0.3),-np.sqrt(0.7)])\n",
        "state=MakeState(state)\n",
        "PrintDirac(state)\n",
        "PlotState(state)\n",
        "b=qutip.Bloch()\n",
        "PlotBloch(state,b)\n",
        "b.render()\n",
        "b.show()\n",
        "```\n",
        "\n",
        "Go ahead and try it out"
      ]
    },
    {
      "cell_type": "markdown",
      "metadata": {
        "id": "tTTv8px8EI3v"
      },
      "source": [
        " <div><img src=\"https://clark.physics.illinois.edu/246img/AnsStart.svg\" width=200 align=left alt=\"Answer (start)\"></img><br></div>"
      ]
    },
    {
      "cell_type": "code",
      "execution_count": null,
      "metadata": {
        "colab": {
          "base_uri": "https://localhost:8080/",
          "height": 972
        },
        "id": "yXg2nX3B-W5A",
        "outputId": "c935d61f-6658-434e-fdcd-ba36fd2b78ae"
      },
      "outputs": [],
      "source": [
        "### ANSWER HERE"
      ]
    },
    {
      "cell_type": "markdown",
      "metadata": {
        "id": "F-XoKL78ELdo"
      },
      "source": [
        " <div><img src=\"https://clark.physics.illinois.edu/246img/AnsEnd.svg\" width=200 align=left alt=\"Answer (end)\"></img><br></div>"
      ]
    },
    {
      "cell_type": "markdown",
      "metadata": {
        "id": "v28uSA_LF0dh"
      },
      "source": [
        "Let's go ahead and plot these three states\n",
        "* $|0\\rangle \\equiv [1,0]$\n",
        "* $|1\\rangle \\equiv [0,1]$\n",
        "* $1/\\sqrt{2} |0\\rangle + 1/\\sqrt{2} |1\\rangle \\equiv [1/\\sqrt{2},1/\\sqrt{2}]$\n",
        "\n",
        "Pay special attention to where those three states are on the Bloch Sphere"
      ]
    },
    {
      "cell_type": "markdown",
      "metadata": {
        "id": "HDPsHtp1EQbb"
      },
      "source": [
        " <div><img src=\"https://clark.physics.illinois.edu/246img/AnsStart.svg\" width=200 align=left alt=\"Answer (start)\"></img><br></div>"
      ]
    },
    {
      "cell_type": "code",
      "execution_count": null,
      "metadata": {
        "colab": {
          "base_uri": "https://localhost:8080/",
          "height": 1000
        },
        "id": "k-xImBZHi9c-",
        "outputId": "5c5dcf1b-351b-4ea1-ac87-6a97e29ff2ef"
      },
      "outputs": [],
      "source": [
        "### ANSWER HERE"
      ]
    },
    {
      "cell_type": "markdown",
      "metadata": {
        "id": "R5ir67UMEZtI"
      },
      "source": [
        " <div><img src=\"https://clark.physics.illinois.edu/246img/AnsEnd.svg\" width=200 align=left alt=\"Answer (end)\"></img><br></div>"
      ]
    },
    {
      "cell_type": "markdown",
      "metadata": {
        "id": "z6Lq8zrZG0aN"
      },
      "source": [
        "### b. One qubit gates"
      ]
    },
    {
      "cell_type": "markdown",
      "metadata": {
        "id": "xzGY41yF-3Ld"
      },
      "source": [
        "Quantum circuits are made out of quantum gates. Let us start by considering 1-qubit gates.  The 1-qubit gate rotates states around the Bloch sphere.  Three special gates are `rx`, `ry`, and `rz` which respectively rotate around the X, Y, and Z axis. These gates take an angle and a wire - i.e. `rx(1/3*np.pi,0)` will rotate $1/3 \\pi$ around the X axis.\n",
        "\n",
        "To set up your circuit you can do\n",
        "```\n",
        "circuit=QuantumCircuit(1,1)\n",
        "#Build your circuit here\n",
        "state,measure = RunMe(circuit) #<--- This runs the circuit\n",
        "# now you can plot the circuit\n",
        "```\n",
        "\n",
        "Go ahead and figure out how to use `rx` gate to move from a $|0\\rangle$ to a $|1\\rangle$ state.\n",
        "\n"
      ]
    },
    {
      "cell_type": "markdown",
      "metadata": {
        "id": "jaT4zvDrEevE"
      },
      "source": [
        " <div><img src=\"https://clark.physics.illinois.edu/246img/AnsStart.svg\" width=200 align=left alt=\"Answer (start)\"></img><br></div>"
      ]
    },
    {
      "cell_type": "code",
      "execution_count": null,
      "metadata": {
        "colab": {
          "base_uri": "https://localhost:8080/",
          "height": 554
        },
        "id": "XCgu6GUnHHz9",
        "outputId": "bcc477a4-bbb5-49ee-d9c4-faf0a8032746"
      },
      "outputs": [],
      "source": [
        "### ANSWER HERE"
      ]
    },
    {
      "cell_type": "markdown",
      "metadata": {
        "id": "fRRZqIMeEgKM"
      },
      "source": [
        " <div><img src=\"https://clark.physics.illinois.edu/246img/AnsEnd.svg\" width=200 align=left alt=\"Answer (start)\"></img><br></div>"
      ]
    },
    {
      "cell_type": "markdown",
      "metadata": {
        "id": "RdqRzVfwIIZI"
      },
      "source": [
        "Now we want to go ahead and use `ry` to go from $|0\\rangle \\rightarrow 1/\\sqrt{2}|0\\rangle + 1/\\sqrt{2}|1\\rangle$.  Write such a circuit.  Then check to see what your circuit does to the state $|1\\rangle$ (you can get this using your other circuit from above)."
      ]
    },
    {
      "cell_type": "markdown",
      "metadata": {
        "id": "v9G91LAtEjE7"
      },
      "source": [
        " <div><img src=\"https://clark.physics.illinois.edu/246img/AnsStart.svg\" width=200 align=left alt=\"Answer (start)\"></img><br></div>"
      ]
    },
    {
      "cell_type": "code",
      "execution_count": null,
      "metadata": {
        "colab": {
          "base_uri": "https://localhost:8080/",
          "height": 554
        },
        "id": "OpE-HM9h3Qk2",
        "outputId": "073fdd95-abe9-40fc-d42a-087277e235f2"
      },
      "outputs": [],
      "source": [
        "### ANSWER HERE"
      ]
    },
    {
      "cell_type": "markdown",
      "metadata": {
        "id": "NktuFhoDEkkg"
      },
      "source": [
        " <div><img src=\"https://clark.physics.illinois.edu/246img/AnsEnd.svg\" width=200 align=left alt=\"Answer (end)\"></img><br></div>"
      ]
    },
    {
      "cell_type": "markdown",
      "metadata": {
        "id": "qtFt9VWmhCTA"
      },
      "source": [
        "So far we've seen we can get half $|0\\rangle$ and half $|1\\rangle$.  We can also adjust states to get more of $|1\\rangle$ then $|0\\rangle$ (or visa versa).  Generically we can get a state\n",
        "$\\cos(\\theta) |0\\rangle + \\sin(\\theta) e^{i\\phi} |1\\rangle$.\n",
        "\n",
        "If we had such a state, after measurement we get \"0\" with probability $\\cos^2\\theta$ and \"1\" with probability $\\sin^2\\theta$.  \n",
        "Notice that $\\cos^2\\theta + \\sin^2\\theta =1$ so we either get \"0\" or \"1\".\n",
        "\n",
        "To produce this state with $\\phi=0$, we can use the gate `qc.ry(2*theta,wire)` which takes $|0\\rangle \\rightarrow \\cos \\theta |0\\rangle + \\sin \\theta |1\\rangle$\n",
        "\n",
        "Produce the state $\\cos(0.5)|0\\rangle + \\sin(0.5)|1\\rangle$ and check to make sure it gives you the right amplitudes.\n"
      ]
    },
    {
      "cell_type": "markdown",
      "metadata": {
        "id": "ab194UKBEwX_"
      },
      "source": [
        " <div><img src=\"https://clark.physics.illinois.edu/246img/AnsStart.svg\" width=200 align=left alt=\"Answer (start)\"></img><br></div>"
      ]
    },
    {
      "cell_type": "code",
      "execution_count": null,
      "metadata": {
        "colab": {
          "base_uri": "https://localhost:8080/",
          "height": 572
        },
        "id": "ZkKfdkmQg5JP",
        "outputId": "22918442-f803-4695-fc07-b8dafb3c7af9"
      },
      "outputs": [],
      "source": [
        "### ANSWER HERE"
      ]
    },
    {
      "cell_type": "markdown",
      "metadata": {
        "id": "EQaipYo8EyNt"
      },
      "source": [
        " <div><img src=\"https://clark.physics.illinois.edu/246img/AnsEnd.svg\" width=200 align=left alt=\"Answer (end)\"></img><br></div>"
      ]
    },
    {
      "cell_type": "markdown",
      "metadata": {
        "id": "La2JOqy2Lhjb"
      },
      "source": [
        "Now, make a circuit that rotates  `rx` and `rz` both by $0.3 \\pi$."
      ]
    },
    {
      "cell_type": "markdown",
      "metadata": {
        "id": "LbiLNdKdE14n"
      },
      "source": [
        " <div><img src=\"https://clark.physics.illinois.edu/246img/AnsStart.svg\" width=200 align=left alt=\"Answer (start)\"></img><br></div>"
      ]
    },
    {
      "cell_type": "code",
      "execution_count": null,
      "metadata": {
        "colab": {
          "base_uri": "https://localhost:8080/",
          "height": 554
        },
        "id": "qsN8kateL5Fz",
        "outputId": "76fbef1c-69d4-4929-8ae8-69644b6d7112"
      },
      "outputs": [],
      "source": [
        "### ANSWER HERE"
      ]
    },
    {
      "cell_type": "markdown",
      "metadata": {
        "id": "htH49T5fE2_c"
      },
      "source": [
        " <div><img src=\"https://clark.physics.illinois.edu/246img/AnsEnd.svg\" width=200 align=left alt=\"Answer (end)\"></img><br></div>"
      ]
    },
    {
      "cell_type": "markdown",
      "metadata": {
        "id": "qYgEW7cPLhlt"
      },
      "source": [
        "Notice that by smartly choosing the angles around `rx` and `rz` and then `rx` again you can produce an arbitrary rotation on the sphere and therefore take $|0\\rangle$ and $|1\\rangle$ to any two orthogonal states."
      ]
    },
    {
      "cell_type": "markdown",
      "metadata": {
        "id": "DWDvjD40Sy-T"
      },
      "source": [
        "### c.  Seeing the rotation"
      ]
    },
    {
      "cell_type": "markdown",
      "metadata": {
        "id": "ebzzopCWS4yG"
      },
      "source": [
        "We would like to plot the rotation around the bloch sphere.  We can do this as follows:\n",
        "\n",
        "```\n",
        "b=qutip.Bloch()\n",
        "for angle in np.arange(0,2*np.pi*0.8,0.1):\n",
        "  quantumWires=1\n",
        "  qc = QuantumCircuit(quantumWires,quantumWires)\n",
        "  # rotate around the x-axis by angle theta\n",
        "  vec,output=RunMe(qc)\n",
        "  PlotBloch(vec,b)\n",
        "b.render()\n",
        "b.show()\n",
        "```\n",
        "\n"
      ]
    },
    {
      "cell_type": "markdown",
      "metadata": {
        "id": "2VKMw4V7E5kl"
      },
      "source": [
        " <div><img src=\"https://clark.physics.illinois.edu/246img/AnsStart.svg\" width=200 align=left alt=\"Answer (start)\"></img><br></div>"
      ]
    },
    {
      "cell_type": "code",
      "execution_count": null,
      "metadata": {
        "colab": {
          "base_uri": "https://localhost:8080/",
          "height": 536
        },
        "id": "cGPp-G99S4Wm",
        "outputId": "6e7fcbca-a59d-49ba-de5f-c1f6e4704111"
      },
      "outputs": [],
      "source": [
        "### ANSWER HERE"
      ]
    },
    {
      "cell_type": "markdown",
      "metadata": {
        "id": "CvaJ7QZUE6l7"
      },
      "source": [
        " <div><img src=\"https://clark.physics.illinois.edu/246img/AnsEnd.svg\" width=200 align=left alt=\"Answer (end)\"></img><br></div>"
      ]
    },
    {
      "cell_type": "markdown",
      "metadata": {
        "id": "3OVj5m8nUw4E"
      },
      "source": [
        "### d. Measuring the state"
      ]
    },
    {
      "cell_type": "markdown",
      "metadata": {
        "id": "NFUjPzrtcXLv"
      },
      "source": [
        "So far we've been cheating by looking at the quantum state. In the real world, you can't do that.  Instead you have to measure at the end of your circuit.  The RunMe circuit returns two parameters.  The second one is measurement outcomes - i.e.\n",
        "```\n",
        "vector,measure=RunMe(circuit)\n",
        "```\n",
        "can then plot the measurement outcomes by doing\n",
        "```\n",
        "plot_histgoram(measure)\n",
        "```\n",
        "\n",
        "Go ahead and measure the outcomes of a state rotated around the X axis by $0.3\\pi$. See that it gives you the expected raction of 0 and 1.  Remember that the probability should be equal to the amplitude squared.\n",
        "\n",
        "\n"
      ]
    },
    {
      "cell_type": "markdown",
      "metadata": {},
      "source": [
        " <div><img src=\"https://clark.physics.illinois.edu/246img/AnsStart.svg\" width=200 align=left alt=\"Answer (start)\"></img><br></div>"
      ]
    },
    {
      "cell_type": "code",
      "execution_count": null,
      "metadata": {
        "colab": {
          "base_uri": "https://localhost:8080/",
          "height": 445
        },
        "id": "7Jp7Hn0Je7vm",
        "outputId": "a972cf8a-e987-45ad-9959-9457aaeedc87"
      },
      "outputs": [],
      "source": [
        "### ANSWER HERE"
      ]
    },
    {
      "cell_type": "markdown",
      "metadata": {
        "id": "HKz6jVN7E_7G"
      },
      "source": [
        " <div><img src=\"https://clark.physics.illinois.edu/246img/AnsEnd.svg\" width=200 align=left alt=\"Answer (end)\"></img><br></div>"
      ]
    },
    {
      "cell_type": "markdown",
      "metadata": {
        "id": "5wZSg_lJcXLw"
      },
      "source": [
        "## Exercise 2: Two qubits (34 points)"
      ]
    },
    {
      "cell_type": "markdown",
      "metadata": {
        "id": "-EdsOtcVcXLw"
      },
      "source": [
        "In this exercise we will see how to build quantum states of two qubits.  \n"
      ]
    },
    {
      "cell_type": "markdown",
      "metadata": {
        "id": "ekhgr_4UcXLw"
      },
      "source": [
        "### a. Control-not gates"
      ]
    },
    {
      "cell_type": "markdown",
      "metadata": {
        "id": "M1SZa2l8cXLx"
      },
      "source": [
        "*The controlled-not gate:* The key gate for two qubits is the control-not gate (`circuit.cx(0,1)`).  The key gate \"nots\" the second wire (wire 1) if the first wire is \"1\" (wire 0).  Let's check it out.  Apply the \"control-not\" to a state $|00\\rangle$ and to a state $|10\\rangle$ and print out the state (not the measurement outcome)\n",
        "\n"
      ]
    },
    {
      "cell_type": "markdown",
      "metadata": {
        "id": "iytF76bkFGG9"
      },
      "source": [
        " <div><img src=\"https://clark.physics.illinois.edu/246img/AnsStart.svg\" width=200 align=left alt=\"Answer (start)\"></img><br></div>"
      ]
    },
    {
      "cell_type": "code",
      "execution_count": null,
      "metadata": {
        "colab": {
          "base_uri": "https://localhost:8080/"
        },
        "id": "DuQSCoj0cXLx",
        "outputId": "b2e75b85-352b-472d-d868-3436015d746a"
      },
      "outputs": [],
      "source": [
        "### ANSWER HERE"
      ]
    },
    {
      "cell_type": "markdown",
      "metadata": {
        "id": "7HMvMxavFHGf"
      },
      "source": [
        " <div><img src=\"https://clark.physics.illinois.edu/246img/AnsEnd.svg\" width=200 align=left alt=\"Answer (end)\"></img><br></div>"
      ]
    },
    {
      "cell_type": "markdown",
      "metadata": {
        "id": "v9NvQE6kcXLx"
      },
      "source": [
        "### b.  Build an EPR Pair"
      ]
    },
    {
      "cell_type": "markdown",
      "metadata": {
        "id": "g5TbnOyacXLx"
      },
      "source": [
        "The most interesting two qubit state is an EPR pair, $\\frac{1}{\\sqrt{2}}\\left(|00\\rangle + |11\\rangle\\right)$.    You can build it with a Hadamard and a CNOT.  Go ahead and try different things and figure out how to build yourself an EPR pair.  You can start out with\n",
        "```\n",
        "quantumWires=2\n",
        "classicalWires=2\n",
        "qc=QuantumCircuit(quantumWires,classicalWires)\n",
        "```\n",
        "to start out a quantum circuit with two wires.  You can't plot this on the bloch sphere but you can still plot it with `PlotState`.  ="
      ]
    },
    {
      "cell_type": "markdown",
      "metadata": {
        "id": "rxfthUxyFLfz"
      },
      "source": [
        " <div><img src=\"https://clark.physics.illinois.edu/246img/AnsStart.svg\" width=200 align=left alt=\"Answer (start)\"></img><br></div>"
      ]
    },
    {
      "cell_type": "code",
      "execution_count": null,
      "metadata": {
        "colab": {
          "base_uri": "https://localhost:8080/",
          "height": 453
        },
        "id": "62_ykLpjcXLx",
        "outputId": "886fb64c-1f4b-4fba-d04c-a5a6cc5e37ce"
      },
      "outputs": [],
      "source": [
        "### ANSWER HERE"
      ]
    },
    {
      "cell_type": "markdown",
      "metadata": {
        "id": "5SdNF7qlFMoK"
      },
      "source": [
        " <div><img src=\"https://clark.physics.illinois.edu/246img/AnsEnd.svg\" width=200 align=left alt=\"Answer (end)\"></img><br></div>"
      ]
    },
    {
      "cell_type": "markdown",
      "metadata": {
        "id": "uHCebdwScXLx"
      },
      "source": [
        "### c. Measuring EPR Pairs"
      ]
    },
    {
      "cell_type": "markdown",
      "metadata": {
        "id": "ot1SBFeNcXL9"
      },
      "source": [
        "Now that you've made an EPR pair, let's go ahead and measure your EPR circuit above plotting the histogram of your measurements."
      ]
    },
    {
      "cell_type": "markdown",
      "metadata": {
        "id": "84kA9X4eFPyx"
      },
      "source": [
        " <div><img src=\"https://clark.physics.illinois.edu/246img/AnsStart.svg\" width=200 align=left alt=\"Answer (start)\"></img><br></div>"
      ]
    },
    {
      "cell_type": "code",
      "execution_count": null,
      "metadata": {
        "colab": {
          "base_uri": "https://localhost:8080/",
          "height": 445
        },
        "id": "A9-zfkvQcXL9",
        "outputId": "38b44617-bd96-43ea-868b-1165a83843db"
      },
      "outputs": [],
      "source": [
        "### ANSWER HERE"
      ]
    },
    {
      "cell_type": "markdown",
      "metadata": {
        "id": "OKdEt2aQFQuJ"
      },
      "source": [
        " <div><img src=\"https://clark.physics.illinois.edu/246img/AnsEnd.svg\" width=200 align=left alt=\"Answer (end)\"></img><br></div>"
      ]
    },
    {
      "cell_type": "markdown",
      "metadata": {
        "id": "A1fLKQpucXL9"
      },
      "source": [
        "There is something very powerful here.  If you get a \"0\" on the top wire, then you always get a \"0\" on the bottom wire.  If you get a \"1\" on the top wire, then you get a \"1\" on bottom wire.  This is even the case if these wires are taken miles apart before you measure.  "
      ]
    },
    {
      "cell_type": "markdown",
      "metadata": {
        "id": "nWyEOUAtsw4q"
      },
      "source": [
        "## Exercise 3:  Grover's Algorithm\n",
        "\n"
      ]
    },
    {
      "cell_type": "markdown",
      "metadata": {
        "id": "MIGcdAMtVxtm"
      },
      "source": [
        "In this exercise, we are going to implement Grover's algorithm.  Grover's algorithm solves the search problem \n",
        "\n",
        "\n",
        "Grover's algorithm takes a unitary which marks an element $i$ and uses that as a subroutine with more circuit elements so that, after measurement, you sample the marked element $i$.\n",
        "\n",
        "To do this we are going to need to put together a lot of different circuit elements.  Let's start with the unitary which does the marking which we will give you.  In this case it's going to mark element 3 by taking it and changing its sign.  Go ahead and run this to see explicitly what it does.\n",
        "\n",
        "```\n",
        "## Check Mark\n",
        "circuit=InitializeCircuitRandom(5)\n",
        "a,b=RunMe(circuit)\n",
        "PlotState(a,True,myTitle=\"Initial Random State\")\n",
        "circuit=Mark(3,5)\n",
        "a,b=RunMe(circuit,a)\n",
        "PlotState(a,True,myTitle=\"Hopefully marked state\")\n",
        "```"
      ]
    },
    {
      "cell_type": "markdown",
      "metadata": {
        "id": "QlW_HCpPFdNq"
      },
      "source": [
        " <div><img src=\"https://clark.physics.illinois.edu/246img/AnsStart.svg\" width=200 align=left alt=\"Answer (start)\"></img><br></div>"
      ]
    },
    {
      "cell_type": "code",
      "execution_count": null,
      "metadata": {
        "colab": {
          "base_uri": "https://localhost:8080/",
          "height": 887
        },
        "id": "qJQ66dnIZWty",
        "outputId": "e5dca531-98f4-4a93-f8f7-dde7a6bd4972"
      },
      "outputs": [],
      "source": [
        "### ANSWER HERE"
      ]
    },
    {
      "cell_type": "markdown",
      "metadata": {
        "id": "5X6xHUGcFhnu"
      },
      "source": [
        " <div><img src=\"https://clark.physics.illinois.edu/246img/AnsEnd.svg\" width=200 align=left alt=\"Answer (end)\"></img><br></div>"
      ]
    },
    {
      "cell_type": "markdown",
      "metadata": {
        "id": "sNgLNkQRtoXB"
      },
      "source": [
        "### a. Control-Control-Control Z"
      ]
    },
    {
      "cell_type": "markdown",
      "metadata": {
        "id": "XJHtWNbctTVo"
      },
      "source": [
        "Define a function `controlZ(N)` which generates the control-control-control-control Z on $n$ qubits.  The first $n-1$ qubits have to be all 1 for the last Z qubit to happen.  \n",
        "\n",
        "To do this, implement the following circuit for general values of N. This is an example for `controlZ(5)`.\n",
        "\n",
        "<img src=\"https://clark.physics.illinois.edu/qcPics/controlZ.png\" width=\"300\">\n",
        "\n",
        "\n",
        "You can get a control-control-control-control-x from qiskit by doing the following:\n",
        "```\n",
        "circuit.mcx(list(range(0,N-1)), N-1,mode='noancilla')\n",
        "```\n",
        "where $N-1$ is the numer of target wires.\n",
        "\n",
        "\n",
        " Test out your circuit by using the following code:\n",
        "```\n",
        "initCircuit=InitializeCircuit('11110',5)\n",
        "#initCircuit=InitializeCircuit('11010',5)\n",
        "initCircuit.h(4)\n",
        "circuit=AddCircuits([initCircuit,ControlZ(5)])\n",
        "print(circuit)\n",
        "a,b=RunMe(circuit)\n",
        "PrintDirac(a)\n",
        "```\n",
        "\n",
        "\n",
        "You should get something close to\n",
        "```\n",
        "(0.7071067811865475+8.659560562354932e-17j)|11110> + (-0.7071067811865476-8.659560562354934e-17j)|11111>\n",
        "```\n",
        "\n",
        "and then if you comment out the second initialization with `11010` you will get\n",
        "```\n",
        "(0.7071067811865476+0j)|11010> + (0.7071067811865475+0j)|11011>\n",
        "```"
      ]
    },
    {
      "cell_type": "markdown",
      "metadata": {
        "id": "MrchNdcpFkXP"
      },
      "source": [
        " <div><img src=\"https://clark.physics.illinois.edu/246img/AnsStart.svg\" width=200 align=left alt=\"Answer (start)\"></img><br></div>"
      ]
    },
    {
      "cell_type": "code",
      "execution_count": null,
      "metadata": {
        "colab": {
          "base_uri": "https://localhost:8080/"
        },
        "id": "a9oyihLf80H9",
        "outputId": "94c32e9e-f323-4bf3-fb23-4428b4ce6e46"
      },
      "outputs": [],
      "source": [
        "### ANSWER HERE"
      ]
    },
    {
      "cell_type": "markdown",
      "metadata": {
        "id": "wqpEowW4FlXD"
      },
      "source": [
        " <div><img src=\"https://clark.physics.illinois.edu/246img/AnsEnd.svg\" width=200 align=left alt=\"Answer (end)\"></img><br></div>"
      ]
    },
    {
      "cell_type": "markdown",
      "metadata": {
        "id": "f6_rmcoGtrgz"
      },
      "source": [
        "### b. All Hadamards"
      ]
    },
    {
      "cell_type": "markdown",
      "metadata": {
        "id": "99gVC4CQtvBh"
      },
      "source": [
        "Define a function `AllHadamard(n)` which builds $n$ wires of Hadamards"
      ]
    },
    {
      "cell_type": "markdown",
      "metadata": {
        "id": "MuBtoGOrtyIL"
      },
      "source": [
        "<img src=\"https://clark.physics.illinois.edu/qcPics/allHadamard.png\" width=\"100\">\n"
      ]
    },
    {
      "cell_type": "markdown",
      "metadata": {
        "id": "Ja7CPavgtyXp"
      },
      "source": [
        "Check it by the following test:\n",
        "```\n",
        "circuit=AllHadamard(5)\n",
        "a,b=RunMe(circuit)\n",
        "PlotState(a,True)\n",
        "```\n",
        "\n",
        "and seeing that it produces a state which is uniform.  This is what we will use for the start of Grover's algorithm."
      ]
    },
    {
      "cell_type": "markdown",
      "metadata": {
        "id": "Wm4wN_D9Fn1Y"
      },
      "source": [
        " <div><img src=\"https://clark.physics.illinois.edu/246img/AnsStart.svg\" width=200 align=left alt=\"Answer (start)\"></img><br></div>"
      ]
    },
    {
      "cell_type": "code",
      "execution_count": null,
      "metadata": {
        "colab": {
          "base_uri": "https://localhost:8080/",
          "height": 435
        },
        "id": "WUrfXIz9tUg3",
        "outputId": "a54f19f9-2d07-4f9a-f24e-134e4fa564ec"
      },
      "outputs": [],
      "source": [
        "### ANSWER HERE"
      ]
    },
    {
      "cell_type": "markdown",
      "metadata": {
        "id": "pZLOn_dlFo-U"
      },
      "source": [
        " <div><img src=\"https://clark.physics.illinois.edu/246img/AnsEnd.svg\" width=200 align=left alt=\"Answer (end)\"></img><br></div>"
      ]
    },
    {
      "cell_type": "markdown",
      "metadata": {
        "id": "iK6OvDvst8tD"
      },
      "source": [
        "### c. FlipAllButZero"
      ]
    },
    {
      "cell_type": "markdown",
      "metadata": {
        "id": "U55U_vGGuFRN"
      },
      "source": [
        "Define `FlipAllButZero(n)`. which should flip all but the zero configurations on $n$ bits.  It will us $n+1$ wires (you need an ancilla, which is an extra bit that doesn't get read out later. We will plot our state using `PlotState(a,False)` to ignore this extra bit).  The example below is the output for FlipAllbutZero(4)\n"
      ]
    },
    {
      "cell_type": "markdown",
      "metadata": {
        "id": "4hFc2L0RuIco"
      },
      "source": [
        "<img src=\"https://clark.physics.illinois.edu/qcPics/allZero.png\" width=\"300\">\n"
      ]
    },
    {
      "cell_type": "markdown",
      "metadata": {
        "id": "gOfNMAvvuMqM"
      },
      "source": [
        "You might want to add some circuits together.  To add these circuits you can do\n",
        "```\n",
        "AddCircuits([circuit1,circuit2,circuit3])\n",
        "```"
      ]
    },
    {
      "cell_type": "markdown",
      "metadata": {
        "id": "e7O0mG_SuOHZ"
      },
      "source": [
        "You can test it your result by doing\n",
        "```\n",
        "circuit=InitializeCircuitRandom(4)\n",
        "a,b =RunMe(circuit)\n",
        "PlotState(a,True,myTitle=\"Initial State\")\n",
        "circuit=FlipAllButZero(4)\n",
        "a,b =RunMe(circuit,a)\n",
        "PlotState(a,False,myTitle=\"Flipped Circuit\")\n",
        "```\n",
        "\n",
        "You should find that everything but the zero flipped.  It is ok if you are finding the zero flipped and nothing else.  Quantum states aren't defined up to a global phase and so the flipping of everything is equivalent to doing nothing."
      ]
    },
    {
      "cell_type": "markdown",
      "metadata": {
        "id": "1mSGazMTFrVJ"
      },
      "source": [
        " <div><img src=\"https://clark.physics.illinois.edu/246img/AnsStart.svg\" width=200 align=left alt=\"Answer (start)\"></img><br></div>"
      ]
    },
    {
      "cell_type": "code",
      "execution_count": null,
      "metadata": {
        "colab": {
          "base_uri": "https://localhost:8080/",
          "height": 1000
        },
        "id": "-mKzoVVi_ouw",
        "outputId": "1ee8bf12-4e10-4028-ab33-65c252be8892"
      },
      "outputs": [],
      "source": [
        "### ANSWER HERE"
      ]
    },
    {
      "cell_type": "markdown",
      "metadata": {
        "id": "g4RnHAvdFspv"
      },
      "source": [
        " <div><img src=\"https://clark.physics.illinois.edu/246img/AnsEnd.svg\" width=200 align=left alt=\"Answer (end)\"></img><br></div>"
      ]
    },
    {
      "cell_type": "markdown",
      "metadata": {
        "id": "S7RlLJo7uQ4_"
      },
      "source": [
        "### d. Invert"
      ]
    },
    {
      "cell_type": "markdown",
      "metadata": {
        "id": "1shAkzX-uUIv"
      },
      "source": [
        "Define the `Invert(N)` function.  This will also be on $N+1$ wires.  Here you need to add together the AllHadamard and FlipAllButZero and AllHadamard again."
      ]
    },
    {
      "cell_type": "markdown",
      "metadata": {
        "id": "iWMVwP_tuXiw"
      },
      "source": [
        "\n",
        "<img src=\"https://clark.physics.illinois.edu/qcPics/invert.png\" width=\"300\">\n"
      ]
    },
    {
      "cell_type": "markdown",
      "metadata": {
        "id": "NlyLGXEXuZz2"
      },
      "source": [
        "You can test it in the following way:\n",
        "```\n",
        "circuit=InitializeCircuitRandom(4)\n",
        "a,b=RunMe(circuit)\n",
        "PlotState(a,True)\n",
        "circuit=Invert(4)\n",
        "a,b=RunMe(circuit,a)\n",
        "PlotState(a,False)\n",
        "```\n",
        "\n",
        "This will generate a random state and then invert it around the mean (shown in a blue dotted line).  Your mean before and after should be the same and everything else should flip around that dotted line.  (Also everything totally flipping is still allowed)"
      ]
    },
    {
      "cell_type": "markdown",
      "metadata": {
        "id": "0T6jOTSdFu-y"
      },
      "source": [
        " <div><img src=\"https://clark.physics.illinois.edu/246img/AnsStart.svg\" width=200 align=left alt=\"Answer (start)\"></img><br></div>"
      ]
    },
    {
      "cell_type": "code",
      "execution_count": null,
      "metadata": {
        "colab": {
          "base_uri": "https://localhost:8080/",
          "height": 1000
        },
        "id": "6Mk5ynAqBRcq",
        "outputId": "d4b7ad29-49ed-49d6-9095-977bda582d0e"
      },
      "outputs": [],
      "source": [
        "### ANSWER HERE"
      ]
    },
    {
      "cell_type": "markdown",
      "metadata": {
        "id": "cwjn4vyoFwHX"
      },
      "source": [
        " <div><img src=\"https://clark.physics.illinois.edu/246img/AnsEnd.svg\" width=200 align=left alt=\"Answer (end)\"></img><br></div>"
      ]
    },
    {
      "cell_type": "markdown",
      "metadata": {
        "id": "jQFGP_B_udQA"
      },
      "source": [
        "### e. Running Grover's Algorithm"
      ]
    },
    {
      "cell_type": "markdown",
      "metadata": {
        "id": "aHp7vvKAufqB"
      },
      "source": [
        "Put everything together to run Grover's algorithm.  Note that the initial state should be all 0's for this to work.\n",
        "\n",
        "<img src=\"https://clark.physics.illinois.edu/qcPics/Grovers.png\" width=\"600\">\n"
      ]
    },
    {
      "cell_type": "markdown",
      "metadata": {
        "id": "BAIufD6LFzg1"
      },
      "source": [
        " <div><img src=\"https://clark.physics.illinois.edu/246img/AnsStart.svg\" width=200 align=left alt=\"Answer (start)\"></img><br></div>"
      ]
    },
    {
      "cell_type": "code",
      "execution_count": null,
      "metadata": {
        "colab": {
          "base_uri": "https://localhost:8080/",
          "height": 435
        },
        "id": "Rp-WiH_1uHv0",
        "outputId": "b2571f0a-20a0-4011-dd71-a3f60cfdf356"
      },
      "outputs": [],
      "source": [
        "### ANSWER HERE"
      ]
    },
    {
      "cell_type": "markdown",
      "metadata": {
        "id": "oCGf7OguF0U6"
      },
      "source": [
        " <div><img src=\"https://clark.physics.illinois.edu/246img/AnsEnd.svg\" width=200 align=left alt=\"Answer (end)\"></img><br></div>"
      ]
    },
    {
      "cell_type": "markdown",
      "metadata": {
        "id": "X9IMUplNcXMC"
      },
      "source": [
        "**Acknowledgement:**\n",
        "* Bryan Clark (original)\n",
        "\n",
        "\n",
        "Copyright: 2025\n",
        "\n",
        "---"
      ]
    },
    {
      "cell_type": "code",
      "execution_count": 21,
      "metadata": {
        "id": "3E66tXM3cXMC"
      },
      "outputs": [],
      "source": []
    },
    {
      "cell_type": "code",
      "execution_count": 21,
      "metadata": {
        "id": "z2wyoX09cXMC"
      },
      "outputs": [],
      "source": []
    }
  ],
  "metadata": {
    "colab": {
      "provenance": []
    },
    "kernelspec": {
      "display_name": "Python 3",
      "name": "python3"
    },
    "language_info": {
      "codemirror_mode": {
        "name": "ipython",
        "version": 3
      },
      "file_extension": ".py",
      "mimetype": "text/x-python",
      "name": "python",
      "nbconvert_exporter": "python",
      "pygments_lexer": "ipython3",
      "version": "3.7.3"
    },
    "varInspector": {
      "cols": {
        "lenName": 16,
        "lenType": 16,
        "lenVar": 40
      },
      "kernels_config": {
        "python": {
          "delete_cmd_postfix": "",
          "delete_cmd_prefix": "del ",
          "library": "var_list.py",
          "varRefreshCmd": "print(var_dic_list())"
        },
        "r": {
          "delete_cmd_postfix": ") ",
          "delete_cmd_prefix": "rm(",
          "library": "var_list.r",
          "varRefreshCmd": "cat(var_dic_list()) "
        }
      },
      "types_to_exclude": [
        "module",
        "function",
        "builtin_function_or_method",
        "instance",
        "_Feature"
      ],
      "window_display": false
    }
  },
  "nbformat": 4,
  "nbformat_minor": 0
}
