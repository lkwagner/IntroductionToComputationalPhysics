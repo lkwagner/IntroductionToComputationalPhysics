{
 "cells": [
  {
   "cell_type": "markdown",
   "metadata": {
    "id": "wq4qHpmbwPd1"
   },
   "source": [
    "# Classifying Galaxies"
   ]
  },
  {
   "cell_type": "markdown",
   "metadata": {},
   "source": [
    "## Spring 2025 version"
   ]
  },
  {
   "cell_type": "markdown",
   "metadata": {
    "id": "5JPJzGbGwPd2"
   },
   "source": [
    "* **Author:**\n",
    "\n",
    "* **Date:**\n",
    "\n",
    "* **Time spent on this assignment:**"
   ]
  },
  {
   "cell_type": "markdown",
   "metadata": {
    "id": "J6Q921TPymbw"
   },
   "source": [
    "*This assignment closely follows a tutorial at the Galaxy Zoo.  You are not allowed to look up that tutorial when completing this assignment.*"
   ]
  },
  {
   "cell_type": "code",
   "execution_count": null,
   "metadata": {
    "code_folding": [
     11
    ],
    "id": "Kpqv8Y8IwPd2",
    "tags": [
     "hide-cell"
    ]
   },
   "outputs": [],
   "source": [
    "import numpy as np\n",
    "import jax.numpy as jnp\n",
    "from jax import jit\n",
    "import  jax\n",
    "import matplotlib.pyplot as plt\n",
    "import math\n",
    "from matplotlib.animation import FuncAnimation\n",
    "import itertools\n",
    "from IPython.display import HTML\n",
    "import pickle\n",
    "import datetime;datetime.datetime.now()\n",
    "def resetMe(keepList=[]):\n",
    "    ll=%who_ls\n",
    "    keepList=keepList+['resetMe','np','plt','math','FuncAnimation',\n",
    "                       'HTML','itertools','pickle','testFunc','jnp','jax','jit']\n",
    "    for iiii in keepList:\n",
    "        if iiii in ll:\n",
    "            ll.remove(iiii)\n",
    "    for iiii in ll:\n",
    "        jjjj=\"^\"+iiii+\"$\"\n",
    "        %reset_selective -f {jjjj}\n",
    "    ll=%who_ls\n",
    "    return\n",
    "\n",
    "## you can set cpu to false if you want to use gpu or tpu\n",
    "cpu=True\n",
    "if cpu:\n",
    "    jax.config.update('jax_platform_name', 'cpu')\n",
    "#    jax.config.update(\"jax_enable_x64\", True)\n",
    "else:\n",
    "    pass \n",
    "\n",
    "\n"
   ]
  },
  {
   "cell_type": "markdown",
   "metadata": {
    "id": "AIhJO2hMwPd4"
   },
   "source": [
    "## Exercise 1: Machine Learning on Galaxies"
   ]
  },
  {
   "cell_type": "markdown",
   "metadata": {
    "id": "k_-BXDuEwPd5"
   },
   "source": [
    "* **List of collaborators:**\n",
    "\n",
    "* **References you used in developing your code:**"
   ]
  },
  {
   "cell_type": "markdown",
   "metadata": {
    "id": "3r-eXbNIwPd5"
   },
   "source": [
    "In this assignment, we are going to learn how to automatically classify galaxies using a deep neural network. Our goal will be to take a picture of a galaxy and decide which category it falls into (disc, round, cigar shape, etc). \n",
    "\n",
    "We are going to get the pictures of our galaxies from the Sloan Digital Sky Survey and the labels from the Galaxy Zoo (where the public hand-categorizes the galaxies).  We will then write and train a neural network to do this classification. Our goal is to be at least 66% accuracy (one can do much better but it requires more work then is reasonable for this assignment). "
   ]
  },
  {
   "cell_type": "markdown",
   "metadata": {
    "id": "JlvB1ZanwPd5"
   },
   "source": [
    "Let's start by reading in the data. Run the following command to download a copy of the data we'll need"
   ]
  },
  {
   "cell_type": "code",
   "execution_count": 23,
   "metadata": {
    "colab": {
     "base_uri": "https://localhost:8080/"
    },
    "id": "fwlb3pG2wPd5",
    "outputId": "12271ea6-7047-44e5-fdc3-f8636b6d6e82",
    "tags": [
     "hide-cell"
    ]
   },
   "outputs": [
    {
     "name": "stdout",
     "output_type": "stream",
     "text": [
      "--2021-08-17 01:48:12--  https://courses.physics.illinois.edu/phys246/fa2020/code/dataG.pkl.gz\n",
      "Resolving courses.physics.illinois.edu (courses.physics.illinois.edu)... 130.126.151.14\n",
      "Connecting to courses.physics.illinois.edu (courses.physics.illinois.edu)|130.126.151.14|:443... connected.\n",
      "HTTP request sent, awaiting response... 200 OK\n",
      "Length: 84647509 (81M) [application/x-gzip]\n",
      "Saving to: ‘dataG.pkl.gz.1’\n",
      "\n",
      "dataG.pkl.gz.1      100%[===================>]  80.73M   136MB/s    in 0.6s    \n",
      "\n",
      "2021-08-17 01:48:13 (136 MB/s) - ‘dataG.pkl.gz.1’ saved [84647509/84647509]\n",
      "\n"
     ]
    }
   ],
   "source": [
    "!wget https://courses.physics.illinois.edu/phys246/fa2020/code/dataG.pkl.gz"
   ]
  },
  {
   "cell_type": "markdown",
   "metadata": {
    "id": "2l4C_8T9wPd6"
   },
   "source": [
    "Now we'll unpack it to the format we need"
   ]
  },
  {
   "cell_type": "code",
   "execution_count": 24,
   "metadata": {
    "colab": {
     "base_uri": "https://localhost:8080/"
    },
    "id": "s0-IYHnRwPd6",
    "outputId": "7e295f96-aee8-4f25-d098-aa8cce410119"
   },
   "outputs": [
    {
     "name": "stdout",
     "output_type": "stream",
     "text": [
      "CPU times: user 2.02 s, sys: 447 ms, total: 2.46 s\n",
      "Wall time: 2.47 s\n"
     ]
    }
   ],
   "source": [
    "%%time\n",
    "import gzip\n",
    "(train_images_raw,train_labels,test_images_raw,test_labels) = pickle.load(gzip.open(\"dataG.pkl.gz\",'rb'))"
   ]
  },
  {
   "cell_type": "markdown",
   "metadata": {
    "id": "zva981TkwPd6"
   },
   "source": [
    "here's what you now have:\n",
    "* `train_images_raw` - images in the training set, shape: (17457, 69, 69, 1)\n",
    "* `train_labels`     - labels that explain the image classification for the training set\n",
    "* `test_images_raw`  - images for the test set, shape: (1940,69,69,1)\n",
    "* `test_labels`      - labels that explain the image classification for the test set"
   ]
  },
  {
   "cell_type": "markdown",
   "metadata": {
    "id": "769mE2mhwPd6"
   },
   "source": [
    "### A Note on the data"
   ]
  },
  {
   "cell_type": "markdown",
   "metadata": {
    "id": "qbnn0RmCwPd7"
   },
   "source": [
    "The original data has 3 channels - g,r,i bands - while this dataset has only 1 (g). This set also only includes a subset of labels. \n",
    "\n",
    "You are welcome to do this assignment with the full channel set and see how well it does; you'll need to download the full data we've provided:\n",
    "```python\n",
    "!wget https://courses.physics.illinois.edu/phys246/fa2020/code/data.pkl.zip\n",
    "!unzip data.pkl.zip\n",
    "(train_images_raw,train_labels,test_images_raw,test_labels) = pickle.load(open(\"data.pkl\",'rb'))\n",
    "```\n",
    "\n",
    "and then change the reshape commands below. Feel free to reach out to us for help."
   ]
  },
  {
   "cell_type": "markdown",
   "metadata": {
    "id": "TnJf-u1NwPd7"
   },
   "source": [
    "### a. Galaxies"
   ]
  },
  {
   "cell_type": "markdown",
   "metadata": {
    "id": "asHwOraIwPd7"
   },
   "source": [
    "Let's now examine this data a bit.  We are first going to look at the training data.  The training data is what you are going to use to teach your neural network.  The test data is to check how good we are doing after (possibly during) training.  We won't use it to train, though (this is to avoid overfitting; we want our neural network to learn how to classify galaxies but not memorize everything in the training set). "
   ]
  },
  {
   "cell_type": "markdown",
   "metadata": {
    "id": "Hf0-_lomwPd7"
   },
   "source": [
    "We will start by plotting some of the galaxy images that we have loaded.  Do `plt.matshow(train_images_raw[0,:,:,0])` (This last `:,:,0]` is because there are three layers to each of these galaxies and we just want to see the first layer. We've actually only included this first layer for you to save space, but if you want to use the full data this is necessary)\n",
    "\n",
    "The `g` band is the grayscale image. To get it to display as such, instead of using false color, you can try using `cmap='gray'` as an argument to `matshow`"
   ]
  },
  {
   "cell_type": "markdown",
   "metadata": {
    "id": "a2OkrBX7820L"
   },
   "source": [
    "<div><img src=\"https://clark.physics.illinois.edu/246img/AnsStart.svg\" width=200 align=left alt=\"Answer (start)\"></img><br></div>"
   ]
  },
  {
   "cell_type": "code",
   "execution_count": 1,
   "metadata": {
    "colab": {
     "base_uri": "https://localhost:8080/",
     "height": 292
    },
    "id": "ikTWgwXAwPd7",
    "outputId": "b575fc40-2277-4e00-95d8-4200565e05e5"
   },
   "outputs": [],
   "source": [
    "#plot me here!"
   ]
  },
  {
   "cell_type": "markdown",
   "metadata": {
    "id": "-S4giTgV84w3"
   },
   "source": [
    "<div><img src=\"https://clark.physics.illinois.edu/246img/AnsEnd.svg\" width=200 align=left alt=\"Answer (start)\"></img><br></div>"
   ]
  },
  {
   "cell_type": "markdown",
   "metadata": {
    "id": "DytBYmBSwPd8"
   },
   "source": [
    "You should see a galaxy.  Now, let's see what this galaxy should be classified as.  Go ahead and print out `train_labels[0]`.\n"
   ]
  },
  {
   "cell_type": "markdown",
   "metadata": {
    "id": "31vlVJMa86o0"
   },
   "source": [
    "<div><img src=\"https://clark.physics.illinois.edu/246img/AnsStart.svg\" width=200 align=left alt=\"Answer (start)\"></img><br></div>"
   ]
  },
  {
   "cell_type": "code",
   "execution_count": 2,
   "metadata": {
    "colab": {
     "base_uri": "https://localhost:8080/"
    },
    "id": "6o3RhRdgwPd8",
    "outputId": "1912c2a6-d287-4036-9046-3a099c0f3734"
   },
   "outputs": [],
   "source": [
    "## print out the label"
   ]
  },
  {
   "cell_type": "markdown",
   "metadata": {
    "id": "8zlkLIX887qQ"
   },
   "source": [
    "<div><img src=\"https://clark.physics.illinois.edu/246img/AnsEnd.svg\" width=200 align=left alt=\"Answer (start)\"></img><br></div>"
   ]
  },
  {
   "cell_type": "markdown",
   "metadata": {
    "id": "VGp3pNa9wPd8"
   },
   "source": [
    "The galaxy dataset labels are given as follows. To make the exercise a little more simple, we have reduced the dataset to galaxies that are only classified as 5 of the types listed below. \n",
    "\n",
    "\n",
    "Galaxy10 dataset (25753 images)\n",
    "  * Class 0 (3461 images): Disk, Face-on, No Spiral: `[1,0,0,0,0]`\n",
    "  * Class 1 (6997 images): Smooth, Completely round: `[0,1,0,0,0]`\n",
    "  * Class 2 (6292 images): Smooth, in-between round: `[0,0,1,0,0]`\n",
    "  * Class 3 (394 images): Smooth, Cigar shaped: skipped\n",
    "  * Class 4 (3060 images): Disk, Edge-on, Rounded Bulge: `[0,0,0,1,0]`\n",
    "  * Class 5 (17 images): Disk, Edge-on, Boxy Bulge: skipped\n",
    "  * Class 6 (1089 images): Disk, Edge-on, No Bulge: skipped\n",
    "  * Class 7 (1932 images): Disk, Face-on, Tight Spiral: `[0,0,0,0,1]`\n",
    "  * Class 8 (1466 images): Disk, Face-on, Medium Spiral\n",
    "  * Class 9 (1045 images): Disk, Face-on, Loose Spiral\n",
    "\n",
    "![Galaxy10 dataset](https://astronn.readthedocs.io/en/v1.0.1/_images/galaxy10_example.png)"
   ]
  },
  {
   "cell_type": "markdown",
   "metadata": {
    "id": "m9kUxelPwPd8"
   },
   "source": [
    "Let's instead display the image and label for image 98. We see that instead this is a disk galaxy (*this might depend on the randomness used in splitting up the training set so we need to check again when we re-pickle*)"
   ]
  },
  {
   "cell_type": "code",
   "execution_count": null,
   "metadata": {
    "colab": {
     "base_uri": "https://localhost:8080/",
     "height": 292
    },
    "id": "A-2yfrYzwPd8",
    "outputId": "f94a4ce8-ea6f-44d0-e70f-f44a2d0ae354"
   },
   "outputs": [
    {
     "name": "stdout",
     "output_type": "stream",
     "text": [
      "[1. 0. 0. 0. 0.]\n"
     ]
    },
    {
     "data": {
      "image/png": "[encoded data removed]",
      "text/plain": [
       "<Figure size 288x288 with 1 Axes>"
      ]
     },
     "metadata": {
      "needs_background": "light",
      "tags": []
     },
     "output_type": "display_data"
    }
   ],
   "source": [
    "plt.matshow(train_images_raw[98,:,:,0])\n",
    "print(train_labels[98])"
   ]
  },
  {
   "cell_type": "markdown",
   "metadata": {
    "id": "I4Onlhq0wPd9"
   },
   "source": [
    "Let's check the shape of our data.  Go ahead and print out `train_images_raw.shape`"
   ]
  },
  {
   "cell_type": "code",
   "execution_count": null,
   "metadata": {
    "colab": {
     "base_uri": "https://localhost:8080/"
    },
    "id": "hwR_Lu6LwPd9",
    "outputId": "188b4228-d2b3-4dab-a83e-779e9e87ea94"
   },
   "outputs": [
    {
     "name": "stdout",
     "output_type": "stream",
     "text": [
      "(17457, 69, 69, 1)\n"
     ]
    }
   ],
   "source": [
    "print(train_images_raw.shape)"
   ]
  },
  {
   "cell_type": "markdown",
   "metadata": {
    "id": "wWghmoG-wPd9"
   },
   "source": [
    "We have 17457 images.  Each image is a $69 \\times 69 \\times 1$ image.  We are going to give these pictures as inputs to our neural network.  It will be easier to give them a big $69 \\times 69 \\times 1 = 4761$ vector then a tensor like this.  Therefore, we should go ahead and reshape our data.  To do this, we can do `train_images=train_images_raw.reshape(len(train_images_raw),69*69*1)`  (Do the same thing for our `test_images_raw data`).  **You also need to normalize the image data so it's between 0 and 1.  To do that divide all your vectors by 256**"
   ]
  },
  {
   "cell_type": "code",
   "execution_count": null,
   "metadata": {
    "id": "ZlIYcMK_wPd9"
   },
   "outputs": [],
   "source": [
    "train_images = train_images_raw.reshape(train_images_raw.shape[0],69*69*1)/256.\n",
    "test_images  = test_images_raw.reshape(test_images_raw.shape[0],69*69*1)/256.\n"
   ]
  },
  {
   "cell_type": "markdown",
   "metadata": {
    "id": "yM_ERgbOwPd9"
   },
   "source": [
    "We will work with these reshaped vectors for most the rest of this assignment. \n",
    "\n",
    "\n"
   ]
  },
  {
   "cell_type": "markdown",
   "metadata": {
    "id": "3Ml8Mj66wPd9"
   },
   "source": [
    "### b. Neural Network"
   ]
  },
  {
   "cell_type": "markdown",
   "metadata": {},
   "source": [
    "---\n",
    "#### <span style=\"color:red\">Warning: Use ```jnp```!</span>\n",
    "Notice that at the top of the file, we have imported ```jax.numpy as jnp``` alongside regular ```numpy as np```. To proceed with this assignment, you now need to start using ```jnp``` instead of ```np```. It's a drop-in replacement for all functions (```sum```, ```log```, etc.) that you'll normally use in numpy but is required for the fancy gradient calculations necessary for training your net.\n",
    "\n",
    "---"
   ]
  },
  {
   "cell_type": "markdown",
   "metadata": {
    "id": "HywK-fe3wPd9"
   },
   "source": [
    "Our next step is to write a neural network.   A neural network might sound complicated but it's actually really simple.  All our neural network does is take the input vector (our reshaped image) to an output vector (of size 5 because we have five different ways to classify a galaxy).  \n",
    "\n",
    "The equation for how to do this is \n",
    " $v_{out} = 1.0/(1+\\exp(-(W_2 \\textrm{tanh}(W_1 v_{in} + b_1) +b_2))$\n",
    "where \n",
    "* W1 is a size d x 4761 matrix\n",
    "* W2 is a size 5 x d matrix\n",
    "* b1 is a size d  matrix \n",
    "* b2 is a size 5  matrix\n",
    "\n",
    "The last term: $1/(1+e^{-x})$ ensures that all the numbers in $v_{out}$ are between 0 and 1.\n",
    "\n",
    "\n",
    "Implement a function \n",
    "```python\n",
    "def net(p,imageVector):\n",
    "   a1 = p.W1@imageVector\n",
    "   # other computations\n",
    "   # return output\n",
    "```\n",
    "where `p` is a NamedTuple that contains these parameters and imageVector is one of our reshaped images.\n",
    "\n",
    "You can define and initialize the NamedTuple as follows (keep in mind that you may need to change this):\n",
    "```\n",
    "from typing import NamedTuple\n",
    "\n",
    "class Params(NamedTuple):\n",
    "    W1: jnp.ndarray  # d x 4761\n",
    "    b1: jnp.ndarray\n",
    "    W2: jnp.ndarray\n",
    "    b2: jnp.ndarray\n",
    "\n",
    "d = 10\n",
    "key = jax.random.PRNGKey(12423)\n",
    "p = Params(W1 = 0.1*jax.random.normal(key, (d, 69*69*1)),\n",
    "           b1 = jnp.zeros((d,)),\n",
    "           W2 = 0.1*jax.random.normal(key, (5, d)),\n",
    "           b2 = jnp.zeros(5))\n",
    "\n",
    "```\n",
    "You can access the variables by using `p.b1` etc. \n",
    "\n",
    "Let's test this out.  Generate a set of random parameters that have the correct dimension.   Then call `net(params,train_images[3])` and you should get what your current neural network guesses is the classification for the \"3'rd\" galaxy.  Use $d=100$.\n"
   ]
  },
  {
   "cell_type": "markdown",
   "metadata": {
    "id": "E_NZkAJE9B3C"
   },
   "source": [
    "<div><img src=\"https://clark.physics.illinois.edu/246img/AnsStart.svg\" width=200 align=left alt=\"Answer (start)\"></img><br></div>"
   ]
  },
  {
   "cell_type": "code",
   "execution_count": null,
   "metadata": {
    "colab": {
     "base_uri": "https://localhost:8080/"
    },
    "id": "YeZuMDthwPd9",
    "outputId": "9736b374-48a4-4607-f08c-706019f69aeb"
   },
   "outputs": [],
   "source": []
  },
  {
   "cell_type": "markdown",
   "metadata": {},
   "source": [
    "Q: Compare your prediction to the actual classification for image 3. Is it making a good prediction? Why or why not?\n",
    "\n",
    "A: "
   ]
  },
  {
   "cell_type": "markdown",
   "metadata": {
    "id": "BFQ6dJhQ9Deo"
   },
   "source": [
    "<div><img src=\"https://clark.physics.illinois.edu/246img/AnsEnd.svg\" width=200 align=left alt=\"Answer (start)\"></img><br></div>"
   ]
  },
  {
   "cell_type": "markdown",
   "metadata": {
    "id": "hCYqGg6kwPd-"
   },
   "source": [
    "Notice that the output isn't a nice vector like `[0,0,0,0,1]`. Instead, it has five different numbers between zero and one such as `[0.2400989 , 0.39862376, 0.4565858 , 0.286503  , 0.734855  ]`  We will say that the neural network classifies the galaxy by whichever index is largest i.e. `np.argmax(outputVector)`. In this case it is the 0.8866 which corresponds to spot 4 or \"Disk Edge on- rounded bulge\" category.  "
   ]
  },
  {
   "cell_type": "markdown",
   "metadata": {
    "id": "jzW1evXjwPd-"
   },
   "source": [
    "### c. Measuring the quality of the model"
   ]
  },
  {
   "cell_type": "markdown",
   "metadata": {
    "id": "5H8AEOvJwPd-"
   },
   "source": [
    "To quantify how good our neural network is, we will use two things: \n",
    "\n",
    "(1) **Cross-entropy**\n",
    "Let's quantify how far off you are from the expected label (maybe it's `[0,0,0,1,0]`) . A good way to quantify this is to use the cross entropy.  The cross-entropy is defined as \n",
    "\n",
    "$$ \\sum_i -y_i \\log(a_i) - (1-y_i)\\log(1-a_i)$$\n",
    "\n",
    "where $y_i$ is the $i'$th component of the exact label and $a_i$ is the $i'$th component of the label you get as output from the neural network.  \n",
    "\n",
    "Write a function \n",
    "`loss(params, imageVector, correctLabel)` that takes the parameters and the `imageVector`, runs the neural network to get the output `a` (i.e. `a=net(params,imageVector)`) and then returns the cross entropy.  Check the cross entropy you are getting. Our goal will be to minimize this cross entropy (if we do this, then our network will do a better job of getting the correct galaxy classification)\n"
   ]
  },
  {
   "cell_type": "markdown",
   "metadata": {
    "id": "BEKlcZtA9G7R"
   },
   "source": [
    "<div><img src=\"https://clark.physics.illinois.edu/246img/AnsStart.svg\" width=200 align=left alt=\"Answer (start)\"></img><br></div>"
   ]
  },
  {
   "cell_type": "code",
   "execution_count": null,
   "metadata": {
    "colab": {
     "base_uri": "https://localhost:8080/"
    },
    "id": "sWJpgTXJwPd-",
    "outputId": "41d58979-0522-4b24-bec0-efbb594c5e3d"
   },
   "outputs": [],
   "source": [
    "##"
   ]
  },
  {
   "cell_type": "markdown",
   "metadata": {
    "id": "__rPpSEe9H4A"
   },
   "source": [
    "<div><img src=\"https://clark.physics.illinois.edu/246img/AnsEnd.svg\" width=200 align=left alt=\"Answer (start)\"></img><br></div>"
   ]
  },
  {
   "cell_type": "markdown",
   "metadata": {
    "id": "gSxIGrRvwPd_"
   },
   "source": [
    "(2) **Correct classification** \n",
    "In addition to the cross-entropy, we care whether the winning labelling is correct. We will say that we've labelled it correctly if in our length 10 vector, the maximum value is where the 1 should be.  Write a function `def accuracy(params,image,label)` that says whether a single image  you got correct. (`jnp.argmax` is probably useful here).  Run this on your test images and labels.\n",
    "\n",
    "Show that your accuracy function correctly computes whether the classification is correct for one or two image examples. \n",
    "\n",
    "Once you can compute whether a single image correctly classifies, `jax` makes it easy to extend it to many images. Define \n",
    "```\n",
    "fractionCorrect = jax.vmap(accuracy, in_axes = (None, 0, 0))\n",
    "```\n",
    "This makes `fractionCorrect` into a function, in which the second and third argument now have an extra dimension. Whereas you called accuracy as\n",
    "```\n",
    "accuracy(params, train_images[3], train_labels[3])\n",
    "```\n",
    "you will instead call `fractionCorrect` as\n",
    "```\n",
    "fractionCorrect(params, train_images, train_labels)\n",
    "```\n",
    "and it will return an array for **all** the images. You can then take the mean as `jnp.mean` for the fraction.\n"
   ]
  },
  {
   "cell_type": "markdown",
   "metadata": {
    "id": "3yggQd7-9JXM"
   },
   "source": [
    "<div><img src=\"https://clark.physics.illinois.edu/246img/AnsStart.svg\" width=200 align=left alt=\"Answer (start)\"></img><br></div>"
   ]
  },
  {
   "cell_type": "code",
   "execution_count": null,
   "metadata": {
    "colab": {
     "base_uri": "https://localhost:8080/"
    },
    "id": "qxn3D-0-wPd_",
    "outputId": "51aa76ad-f258-44d8-924e-6c4578f8964d"
   },
   "outputs": [],
   "source": [
    "###"
   ]
  },
  {
   "cell_type": "markdown",
   "metadata": {
    "id": "O9IU4rCh9KwD"
   },
   "source": [
    "<div><img src=\"https://clark.physics.illinois.edu/246img/AnsEnd.svg\" width=200 align=left alt=\"Answer (start)\"></img><br></div>"
   ]
  },
  {
   "cell_type": "markdown",
   "metadata": {
    "id": "wS0X5GTPwPd_"
   },
   "source": [
    "You probably got about 30% correct with your random values of `w1,b1,w2,b2`. Now we have to do better.  We are going to work on getting our loss down (and this will get our fractionCorrect down).  Getting the loss down is easier because it depends continuously on the parameters).  \n",
    "\n",
    "To make an objective function better, what we should do is to step in a direction where it gets better.  To do this, we are going to want to get the gradient.  We can use jax to get the gradient as we have in earlier assignments.  \n",
    "\n",
    "Let's define the gradient of the loss as \n",
    "`loss_grad = jit(jax.grad(jit(loss)))`.  (The `jit` are there to make things faster.  This is morally just `jax.grad(loss)` and that would work albeit be slower).  \n",
    "\n"
   ]
  },
  {
   "cell_type": "markdown",
   "metadata": {
    "id": "Wv0ADwMKwPd_"
   },
   "source": [
    "### d. Training using stochastic gradient descent"
   ]
  },
  {
   "cell_type": "markdown",
   "metadata": {
    "id": "kIMzrKFqwPd_"
   },
   "source": [
    "Now all we need to do is to (over and over again)\n",
    "* choose a random image in the **training** set.\n",
    "* compute the gradient\n",
    "* change the parameters by 0.1% of the gradient (called the *learning rate* $\\eta$)\n",
    "\n",
    "This will make your result on this image marginally better. \n",
    "\n",
    "Every 2000 steps you might want to check the fraction of your test set that is now correct. Print it out as well as push it to a list.  You should find that your accuracy rises from 30% beyond 66%.  Plot your accuracy as a function of step for at least 50\\*2000, and if patient out to 100\\*2000. "
   ]
  },
  {
   "cell_type": "markdown",
   "metadata": {
    "id": "OvFd4M9x9Mxw"
   },
   "source": [
    "<div><img src=\"https://clark.physics.illinois.edu/246img/AnsStart.svg\" width=200 align=left alt=\"Answer (start)\"></img><br></div>"
   ]
  },
  {
   "cell_type": "code",
   "execution_count": null,
   "metadata": {
    "colab": {
     "base_uri": "https://localhost:8080/"
    },
    "id": "bI3GO_EWwPd_",
    "outputId": "79b2c46f-b3f4-404c-d75a-53a6b2e0f2d6",
    "scrolled": true
   },
   "outputs": [],
   "source": [
    "##"
   ]
  },
  {
   "cell_type": "markdown",
   "metadata": {},
   "source": []
  },
  {
   "cell_type": "markdown",
   "metadata": {
    "id": "R2rgaJoxwPd_"
   },
   "source": [
    "### e. Testing\n",
    "\n",
    "By this point you should have a somewhat accurate classifier. 66% is not great for production work; you can do better by improving your training and the size of your network, but to keep the assignment reasonable we will stop there. \n",
    "\n",
    "Now we would like to know how accurate we would expect our model to be on data it's never seen before. You can't use the data you trained on because your model has already seen it; we want to make sure that it's not just memorizing the data that it's already seen (this is sometimes referred to as overfitting). This is where the test data comes in. Use your `fractionCorrect` function to assess how good your model is on the test data set. "
   ]
  },
  {
   "cell_type": "code",
   "execution_count": null,
   "metadata": {
    "colab": {
     "base_uri": "https://localhost:8080/",
     "height": 283
    },
    "id": "B0BzgnZjwPd_",
    "outputId": "5b631a62-93ba-417c-b342-851a4b51f23f"
   },
   "outputs": [],
   "source": []
  },
  {
   "cell_type": "markdown",
   "metadata": {},
   "source": [
    "Q: Did you overfit your model? Why or why not?\n",
    "\n",
    "A: "
   ]
  },
  {
   "cell_type": "markdown",
   "metadata": {
    "id": "ZE7RaXIN9ON4"
   },
   "source": [
    "<div><img src=\"https://clark.physics.illinois.edu/246img/AnsEnd.svg\" width=200 align=left alt=\"Answer (start)\"></img><br></div>"
   ]
  },
  {
   "cell_type": "markdown",
   "metadata": {
    "id": "AnHDthU5wPeA"
   },
   "source": [
    "**Acknowledgement:** This assignment follows very closely a tutorial from GalaxyZoo.com\n",
    "* Bryan Clark and Ryan Levy (original)\n",
    "\n",
    "\n",
    "Copyright: 2021\n",
    "\n",
    "---"
   ]
  },
  {
   "cell_type": "code",
   "execution_count": null,
   "metadata": {
    "id": "NLmfDELNy5zB"
   },
   "outputs": [],
   "source": []
  }
 ],
 "metadata": {
  "colab": {
   "collapsed_sections": [],
   "name": "MachineLearningGalaxies.ipynb",
   "provenance": []
  },
  "kernelspec": {
   "display_name": "jax3.12",
   "language": "python",
   "name": "python3"
  },
  "language_info": {
   "codemirror_mode": {
    "name": "ipython",
    "version": 3
   },
   "file_extension": ".py",
   "mimetype": "text/x-python",
   "name": "python",
   "nbconvert_exporter": "python",
   "pygments_lexer": "ipython3",
   "version": "3.12.9"
  },
  "varInspector": {
   "cols": {
    "lenName": 16,
    "lenType": 16,
    "lenVar": 40
   },
   "kernels_config": {
    "python": {
     "delete_cmd_postfix": "",
     "delete_cmd_prefix": "del ",
     "library": "var_list.py",
     "varRefreshCmd": "print(var_dic_list())"
    },
    "r": {
     "delete_cmd_postfix": ") ",
     "delete_cmd_prefix": "rm(",
     "library": "var_list.r",
     "varRefreshCmd": "cat(var_dic_list()) "
    }
   },
   "types_to_exclude": [
    "module",
    "function",
    "builtin_function_or_method",
    "instance",
    "_Feature"
   ],
   "window_display": false
  }
 },
 "nbformat": 4,
 "nbformat_minor": 1
}
