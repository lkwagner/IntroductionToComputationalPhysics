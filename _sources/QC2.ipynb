{
  "cells": [
    {
      "cell_type": "markdown",
      "id": "ac843488",
      "metadata": {
        "id": "ac843488"
      },
      "source": [
        "# Building a Physical Qubit"
      ]
    },
    {
      "cell_type": "markdown",
      "id": "731e81a8",
      "metadata": {
        "id": "731e81a8"
      },
      "source": [
        "* Author:\n",
        "\n",
        "* Date:\n",
        "\n",
        "* Time spent on this assignment:"
      ]
    },
    {
      "cell_type": "code",
      "execution_count": null,
      "id": "e4be9b5a",
      "metadata": {
        "colab": {
          "base_uri": "https://localhost:8080/"
        },
        "id": "e4be9b5a",
        "outputId": "f6d1efb8-761e-4ec8-fd2f-e07439ff9b8e",
        "tags": [
          "hide-output"
        ]
      },
      "outputs": [],
      "source": [
        "!pip install qiskit[visualization];\n",
        "!pip install qutip\n",
        "!pip install qiskit_aer;\n"
      ]
    },
    {
      "cell_type": "code",
      "execution_count": 2,
      "id": "913e348b",
      "metadata": {
        "id": "913e348b",
        "tags": [
          "hide-output"
        ]
      },
      "outputs": [],
      "source": [
        "import numpy as np\n",
        "import matplotlib.pyplot as plt\n",
        "import random\n",
        "import pylab as plt\n",
        "import scipy.linalg\n",
        "import matplotlib.animation as animation\n",
        "from IPython.display import HTML\n",
        "\n",
        "import qiskit\n",
        "import qutip\n",
        "from qiskit import QuantumCircuit, transpile\n",
        "from qiskit_aer import AerSimulator\n",
        "\n",
        "\n",
        "\n",
        "def resetMe(keepList=[]):\n",
        "    ll=%who_ls\n",
        "    keepList=keepList+['resetMe','np','plt','random']\n",
        "    for iiii in keepList:\n",
        "        if iiii in ll:\n",
        "            ll.remove(iiii)\n",
        "    for iiii in ll:\n",
        "        jjjj=\"^\"+iiii+\"$\"\n",
        "        %reset_selective -f {jjjj}\n",
        "    ll=%who_ls\n",
        "    return\n",
        "import datetime;datetime.datetime.now()\n",
        "\n",
        "\n",
        "def AddCircuits(theCircuits):\n",
        "  numQubits=np.array([c.num_qubits for c in theCircuits])\n",
        "  numQubits=np.max(numQubits)\n",
        "  circuit=QuantumCircuit(numQubits,numQubits)\n",
        "  for i in range(0,len(theCircuits)):\n",
        "    circuit=circuit.compose(theCircuits[i],qubits=list(range(0,theCircuits[i].num_qubits)))\n",
        "  return circuit\n",
        "\n",
        "\n",
        "def RunMe(circuit,a=None):\n",
        "  numQubits=circuit.num_qubits\n",
        "  if a!=None:\n",
        "    numQubits=max(numQubits,a.num_qubits)\n",
        "    initCircuit=QuantumCircuit(a.num_qubits,a.num_qubits)\n",
        "    initCircuit.initialize(a)\n",
        "    circuit=AddCircuits([initCircuit,circuit])\n",
        "  circuit.save_statevector(label='myStateVector')\n",
        "  compiled_circuit = transpile(circuit, simulator)\n",
        "  resultA = simulator.run(compiled_circuit).result()\n",
        "  forward=list(range(0,numQubits))\n",
        "  reverse=forward[::-1]\n",
        "  circuit.measure(forward,reverse)\n",
        "  compiled_circuit = transpile(circuit, simulator)\n",
        "  resultB = simulator.run(compiled_circuit).result()\n",
        "  return resultA.data()['myStateVector'],resultB.data()['counts']\n",
        "\n",
        "\n",
        "def MakeState(v):\n",
        "  numWires=int(round(np.log2(len(np.array(v)))))\n",
        "  qc1=QuantumCircuit(numWires,numWires)\n",
        "  qc1.initialize(v)\n",
        "  a,_=RunMe(qc1)\n",
        "  return a\n",
        "\n",
        "def PlotBloch(v,bb):\n",
        "  vv=np.asarray(v)\n",
        "  a=vv[0]*np.conj(vv[0])\n",
        "  b=vv[1]*np.conj(vv[0])\n",
        "  x = np.real(2.0 * b.real)\n",
        "  y = np.real(2.0 * b.imag)\n",
        "  z = np.real(2.0 * a - 1.0)\n",
        "  bb.add_vectors([x,y,z])\n",
        "  return\n",
        "\n",
        "simulator = AerSimulator()\n"
      ]
    },
    {
      "cell_type": "markdown",
      "id": "781ed73f",
      "metadata": {
        "id": "781ed73f"
      },
      "source": [
        "---"
      ]
    },
    {
      "cell_type": "markdown",
      "id": "84f9ebe1",
      "metadata": {
        "id": "84f9ebe1"
      },
      "source": [
        "## Overview"
      ]
    },
    {
      "cell_type": "markdown",
      "id": "aaa4bcc6",
      "metadata": {
        "id": "aaa4bcc6"
      },
      "source": [
        "So far we've learned about quantum computing as an abstract model of computation. We can represent a qubit as a vector of length 2 (and can represent $n$ qubits as a vector of length $2^n$). This can be implemented as a superposition of any two states of a quantum system; it's a very general concept. If we can control how a system evolves from one state to another, we can implement the abstract gates for quantum computing.\n",
        "\n",
        "In this section our goal is to understand how we actually build a quantum computer in the real world (and here we will only focus on 1 qubit).\n",
        "\n",
        "Our goal will be to understand how you represent one qubit and apply a gate to it.\n",
        "\n",
        "There are various different physical realizations of a qubit.  In this assignment, we will look at an infinite square well (which is easy to understand but not realistic) and quantum electronic circuits, which are currently a leading candidate for actual implementation of quantum computation.\n"
      ]
    },
    {
      "cell_type": "markdown",
      "id": "a4916898",
      "metadata": {
        "id": "a4916898"
      },
      "source": [
        "## Exericise 0:  What Abstract Gate are you trying to implement?"
      ]
    },
    {
      "cell_type": "markdown",
      "id": "4d99dbcc",
      "metadata": {
        "id": "4d99dbcc"
      },
      "source": [
        "### a. Abstract Model of Computation\n",
        "\n",
        "Our target here to implement a gate using electronics.  We will eventually try to implement the following gate in a realistic model of a quantum system:\n",
        "```\n",
        "circuit.rx(1./50.,0)\n",
        "circuit.rz(1./50.,0)\n",
        "```\n",
        "\n",
        "Let's start by implementing this in qiskit.\n",
        "\n",
        "Run the gate $k$ times (from $0 \\leq k < 400$) and graph (with two lines) the probability you would measure \"0\" and the probability you would measure \"1\" as a function of $k$.  "
      ]
    },
    {
      "cell_type": "markdown",
      "id": "6c6ad5d1",
      "metadata": {},
      "source": [
        "<div><img src=\"https://clark.physics.illinois.edu/246img/AnsStart.svg\" width=200 align=left alt=\"Answer (start)\"></img><br></div>"
      ]
    },
    {
      "cell_type": "code",
      "execution_count": 3,
      "id": "DKOOZDEcTn79",
      "metadata": {
        "id": "DKOOZDEcTn79"
      },
      "outputs": [],
      "source": [
        "###ANSWER HERE"
      ]
    },
    {
      "cell_type": "markdown",
      "id": "6d75fd52",
      "metadata": {},
      "source": [
        "<div><img src=\"https://clark.physics.illinois.edu/246img/AnsEnd.svg\" width=200 align=left alt=\"Answer (end)\"></img><br></div>"
      ]
    },
    {
      "cell_type": "markdown",
      "id": "xh8b49F6TwFD",
      "metadata": {
        "id": "xh8b49F6TwFD"
      },
      "source": [
        "The state of a single qubit is $\\alpha |0\\rangle + \\beta |1\\rangle$ where $|\\alpha|^2 + |\\beta|^2=1$ and $\\alpha$, $\\beta$ are complex numbers.   We might think that we could then represent the qubit by a point $(\\alpha, \\beta)$ which is on a circle of radius 1.  But $\\alpha$ and $\\beta$ are complex numbers so it's not quite that simple - instead you can represent the qubit as a point on a sphere.  This is called the Bloch sphere.  (Technical point: You might think that you need four numbers to represent two complex numbers but it's actually only three because of the normalization and relative phase).\n",
        "\n",
        "At the moment, it's not important that you know how to perform this mapping but to understand for every qubit there is a point that it appears on the bloch sphere.\n",
        "\n",
        "Plot the path of this gate (iterated over and over) on the Bloch sphere using something like \n",
        "```\n",
        "b = qutip.Bloch()\n",
        "for state in states[::10]:\n",
        "  PlotBloch(state, b)\n",
        "b.render()\n",
        "b.show()\n",
        "```\n",
        "in this case, `state` must be a complex two-dimensional vector $[\\alpha,\\beta]$."
      ]
    },
    {
      "cell_type": "markdown",
      "id": "1af9d3d9",
      "metadata": {},
      "source": [
        "<div><img src=\"https://clark.physics.illinois.edu/246img/AnsStart.svg\" width=200 align=left alt=\"Answer (start)\"></img><br></div>"
      ]
    },
    {
      "cell_type": "code",
      "execution_count": null,
      "id": "Bm2HGrouSyKP",
      "metadata": {
        "colab": {
          "base_uri": "https://localhost:8080/",
          "height": 536
        },
        "id": "Bm2HGrouSyKP",
        "outputId": "d4747a3c-39a8-4b3d-e2ec-2a677d62be53"
      },
      "outputs": [],
      "source": [
        "### ANSWER HERE"
      ]
    },
    {
      "cell_type": "markdown",
      "id": "83b9a102",
      "metadata": {},
      "source": [
        "<div><img src=\"https://clark.physics.illinois.edu/246img/AnsEnd.svg\" width=200 align=left alt=\"Answer (end)\"></img><br></div>"
      ]
    },
    {
      "cell_type": "markdown",
      "id": "6905da17",
      "metadata": {
        "id": "6905da17"
      },
      "source": [
        "---"
      ]
    },
    {
      "cell_type": "markdown",
      "id": "00e8a5cb",
      "metadata": {
        "id": "00e8a5cb"
      },
      "source": [
        "## Exercise 1:  Particle in a box"
      ]
    },
    {
      "cell_type": "markdown",
      "id": "7d3253bc",
      "metadata": {
        "id": "7d3253bc"
      },
      "source": [
        "* List of collaborators:\n",
        "\n",
        "* References you used in developing your code:"
      ]
    },
    {
      "cell_type": "markdown",
      "id": "28aa29a7",
      "metadata": {
        "id": "28aa29a7"
      },
      "source": [
        "We will need to begin by learning or recalling some aspects about quantum mechanics. There are three key things that you need to know about quantum mechanics:\n",
        "\n",
        "* In quantum mechanics, the \"rules\" of the physical system are represented by a matrix called the Hamiltonian $H$  (in many ways,  the classical analogue of the energy) and the state of your system is represented by a vector $\\Psi$.  \n",
        "\n",
        "* If your quantum is in state $\\Psi(0)$ at time 0, you can figure out what your Hamiltonian is at time $t$ by\n",
        "$$\\Psi(t) = \\exp[-i t H] \\Psi(0).$$\n",
        "In order to do that matrix exponential you can use\n",
        "```\n",
        "expH = scipy.linalg.expm(-1.j * H * t)\n",
        "```\n",
        "If you are going to a large time $t$, it will often make sense to break it apart into a number of $T/\\delta t$ smaller time steps each of size $\\delta t$.  This will let you record information about your quantum state at each time step $\\delta t$ - i.e. something like\n",
        "```\n",
        "for step in ts:\n",
        "    psi = scipy.linalg.expm(-1.j * H * delta_t) @ psi\n",
        "```\n",
        "\n",
        "\n",
        "* There are special quantum states $\\Psi_i$ which don't change in time under time evolution.  These states are the eigenstates of $H$.  You can get the i'th eigenstate of $H$ by doing\n",
        "```\n",
        "np.linalg.eigh(H)[1][:,i]\n",
        "```\n",
        "\n"
      ]
    },
    {
      "cell_type": "markdown",
      "id": "de91a938",
      "metadata": {
        "id": "de91a938"
      },
      "source": [
        "## a. Hamiltonian for a Particle in a Box"
      ]
    },
    {
      "cell_type": "markdown",
      "id": "45d55457",
      "metadata": {
        "id": "45d55457"
      },
      "source": [
        "We can start by working with a particle in a box.  Consider a particle in a box of length 20 spanning $-10 \\leq x \\leq 10$.\n",
        "\n",
        "The Hamiltonian for a particle in a box is\n",
        "\n",
        "$$ H=-\\frac{\\partial^2 }{\\partial x^2} $$\n",
        "\n",
        "with hard walls for any $|x|\\geq 20$ outside the box.\n",
        "\n",
        "We need to convert this into a matrix. To do that, we should know from calculus that the stencil for a second derivative is\n",
        "\n",
        "$$ \\frac{\\partial^2 }{\\partial x^2} \\equiv \\frac{f(x+\\delta) - 2 f(x) + f(x-\\delta)}{\\delta^2} $$\n",
        "\n",
        "\n",
        "We can let the rows and columns of the matrix $H$ be indexed by the values of $x$ - to get the values of $x$, we can do\n",
        "```\n",
        "L = 20\n",
        "delta_x = 0.05\n",
        "xs = np.arange(-L/2, L/2+delta_x, delta_x)\n",
        "```\n",
        "Then the above stencil corresponds to the matrix\n",
        "\n",
        "$$\n",
        "H[i,j] = \\begin{cases}\n",
        "2/(\\delta x)^2 & \\text{if } i == j \\\\\n",
        "-1/(\\delta x)^2 & \\text{if } \\textrm{abs}(i-j)== 1\\\\\n",
        "0 & \\text{otherwise }\n",
        "\\end{cases}\n",
        "$$\n",
        "\n",
        "\n",
        "\n",
        "* Make the Hamiltonian matrix H\n",
        "* diagonalize it and\n",
        "* plot the first four eigenstates $v_a, v_b, v_c, v_d$ You should recognize the solutions to the particle in a box.\n",
        "\n",
        "[Note: we are using units such that $\\hbar=1$ and $m=1$. This is a common computational physicists' trick so that you don't have to carry around tons of conversion constants.]\n"
      ]
    },
    {
      "cell_type": "markdown",
      "id": "0ac131d8",
      "metadata": {
        "id": "0ac131d8"
      },
      "source": [
        "<div><img src=\"https://clark.physics.illinois.edu/246img/AnsStart.svg\" width=200 align=left alt=\"Answer (start)\"></img><br></div>"
      ]
    },
    {
      "cell_type": "code",
      "execution_count": null,
      "id": "dx0gnO6FaG2j",
      "metadata": {
        "colab": {
          "base_uri": "https://localhost:8080/",
          "height": 449
        },
        "id": "dx0gnO6FaG2j",
        "outputId": "e9b45074-91c3-45aa-8f8f-e4455b5b5c3e"
      },
      "outputs": [],
      "source": [
        "### ANSWER HERE"
      ]
    },
    {
      "cell_type": "markdown",
      "id": "7b617d9c",
      "metadata": {
        "id": "7b617d9c"
      },
      "source": [
        "<div><img src=\"https://clark.physics.illinois.edu/246img/AnsEnd.svg\" width=200 align=left alt=\"Answer (start)\"></img><br></div>"
      ]
    },
    {
      "cell_type": "markdown",
      "id": "54f4fc9f",
      "metadata": {
        "id": "54f4fc9f"
      },
      "source": [
        "The eigenvalues for a particle in a box are quantized.  They should be equal to\n",
        "\n",
        "$$E_n = \\frac{\\pi^2}{L^2}n^2$$\n",
        "\n",
        "for $n=\\{1,2,...\\}$.\n",
        "\n",
        "Plot the lowest five eigen-energies and compare them against this formula (they should be close but possibly not quite on because the delta_x is too big)"
      ]
    },
    {
      "cell_type": "markdown",
      "id": "ac843a79",
      "metadata": {
        "id": "ac843a79"
      },
      "source": [
        "<div><img src=\"https://clark.physics.illinois.edu/246img/AnsStart.svg\" width=200 align=left alt=\"Answer (start)\"></img><br></div>"
      ]
    },
    {
      "cell_type": "code",
      "execution_count": null,
      "id": "7f59304a",
      "metadata": {
        "colab": {
          "base_uri": "https://localhost:8080/",
          "height": 467
        },
        "id": "7f59304a",
        "outputId": "95d146e7-f4a3-4e6f-eed8-911f58b01ad4"
      },
      "outputs": [],
      "source": [
        "### ANSWER HERE"
      ]
    },
    {
      "cell_type": "markdown",
      "id": "eb954fac",
      "metadata": {
        "id": "eb954fac"
      },
      "source": [
        "<div><img src=\"https://clark.physics.illinois.edu/246img/AnsEnd.svg\" width=200 align=left alt=\"Answer (start)\"></img><br></div>"
      ]
    },
    {
      "cell_type": "markdown",
      "id": "600b7714",
      "metadata": {
        "deletable": false,
        "editable": false,
        "id": "600b7714"
      },
      "source": [
        "## b. Time Evolution"
      ]
    },
    {
      "cell_type": "markdown",
      "id": "8f90cb43",
      "metadata": {
        "id": "8f90cb43"
      },
      "source": [
        "Our next step will be to implement time evolution.  Let us start by trying to time-evolve $v_a$ under the Hamiltonian $H$.  Recall that eigenstates should be stationary, and so don't evolve in time except for an overall phase.  Therefore, under time evolution we should find that this state always looks the same.  Let's check this.  \n",
        "\n",
        "Using\n",
        "* a total time of $T=5$\n",
        "* a time step of $\\delta t=0.1$\n",
        "\n",
        "Plot the value of $|v(t)|$ at time steps $t=\\{0,1,3,5\\}$.\n",
        "The absolute value is necessary because under time-evolution the wave function can become complex. You could also plot the phase of the wave function if desired but don't worry about this.\n",
        "\n"
      ]
    },
    {
      "cell_type": "markdown",
      "id": "c28bc53a",
      "metadata": {
        "id": "c28bc53a"
      },
      "source": [
        "<div><img src=\"https://clark.physics.illinois.edu/246img/AnsStart.svg\" width=200 align=left alt=\"Answer (start)\"></img><br></div>"
      ]
    },
    {
      "cell_type": "code",
      "execution_count": null,
      "id": "6314944a",
      "metadata": {
        "colab": {
          "base_uri": "https://localhost:8080/",
          "height": 843
        },
        "id": "6314944a",
        "outputId": "fd0da3d0-3e75-4581-9455-8edd68c8f649"
      },
      "outputs": [],
      "source": [
        "### ANSWER HERE"
      ]
    },
    {
      "cell_type": "markdown",
      "id": "3b5b6640",
      "metadata": {
        "id": "3b5b6640"
      },
      "source": [
        "<div><img src=\"https://clark.physics.illinois.edu/246img/AnsEnd.svg\" width=200 align=left alt=\"Answer (start)\"></img><br></div>"
      ]
    },
    {
      "cell_type": "markdown",
      "id": "285c996d",
      "metadata": {
        "id": "285c996d"
      },
      "source": [
        "You should have noticed that our previous time evolution was pretty uninteresting as nothing changed under the time evolution.  Our next step will be to implement time evolution on a more complicated state.  \n",
        "\n",
        "We will consider two states that are NOT energy eigenstates:\n",
        "\n",
        "$$v_0=\\frac{1}{\\sqrt{2}}(v_a+v_b)$$\n",
        "\n",
        "$$v_1=\\frac{1}{\\sqrt{2}}(v_a-v_b)$$\n",
        "\n",
        "These two states are orthogonal on each other - i.e. `np.vdot(v0,v1)=0`.  You can check this.\n",
        "\n",
        "We want to do time evolution with our Hamiltonian on the state $v_0$.  \n",
        "Perform time evolution\n",
        "* starting at $v_0$\n",
        "* $\\delta t=0.1$\n",
        "* for time $T=50$\n",
        "* and graph the result at $T=\\{4.0,18.3,41.0\\}$\n",
        "* Also graph (with dotted lines - `linestyle=\"--\"`) $v_0$ and $v_1$\n",
        "\n",
        "\n",
        "\n"
      ]
    },
    {
      "cell_type": "markdown",
      "id": "cb68ba94",
      "metadata": {
        "id": "cb68ba94"
      },
      "source": [
        "<div><img src=\"https://clark.physics.illinois.edu/246img/AnsStart.svg\" width=200 align=left alt=\"Answer (start)\"></img><br></div>"
      ]
    },
    {
      "cell_type": "code",
      "execution_count": null,
      "id": "39e24004",
      "metadata": {
        "colab": {
          "base_uri": "https://localhost:8080/",
          "height": 430
        },
        "id": "39e24004",
        "outputId": "f3b8c0b7-c7db-42a2-b7f9-43630a02d6e3"
      },
      "outputs": [],
      "source": [
        "### ANSWER HERE"
      ]
    },
    {
      "cell_type": "markdown",
      "id": "fccabede",
      "metadata": {
        "id": "fccabede"
      },
      "source": [
        "<div><img src=\"https://clark.physics.illinois.edu/246img/AnsEnd.svg\" width=200 align=left alt=\"Answer (start)\"></img><br></div>"
      ]
    },
    {
      "cell_type": "markdown",
      "id": "536b6b5e",
      "metadata": {
        "id": "536b6b5e"
      },
      "source": [
        "## c. State overlaps\n"
      ]
    },
    {
      "cell_type": "markdown",
      "id": "1e84f255",
      "metadata": {
        "id": "1e84f255"
      },
      "source": [
        "We've seen that our time evolution slowly moves us from state $v_0$ to state $v_1$ over a time over a time of $T=41$.   In between, $T=0$ and $T=41$, the state is a little bit of $v_0$ and a little bit of $v_1$.  We would like to quantify this better by computing the overlap with these two states as a function of time.\n",
        "\n",
        "We have a state $v(t)$.  To compute the overlap with $v_0$ we can just do\n",
        "`np.vdot(v , v_0)`.  \n",
        "\n",
        "This overlap is a complex number.   We can only plot real numbers so if we want to plot it, we need to plot something like\n",
        "* the absolute value `np.abs(...)` (or its square) and\n",
        "* phase `np.angle(...)` or\n",
        "\n",
        "Plot as a function of time from $T=0$ to $T=100$ the absolute value squared of the overlap of $v(t)$ with both $v_0$ and $v_1$.  "
      ]
    },
    {
      "cell_type": "markdown",
      "id": "a824f78c",
      "metadata": {
        "id": "a824f78c"
      },
      "source": [
        "<div><img src=\"https://clark.physics.illinois.edu/246img/AnsStart.svg\" width=200 align=left alt=\"Answer (start)\"></img><br></div>"
      ]
    },
    {
      "cell_type": "code",
      "execution_count": null,
      "id": "d3abe261",
      "metadata": {
        "colab": {
          "base_uri": "https://localhost:8080/",
          "height": 430
        },
        "id": "d3abe261",
        "outputId": "d36792ab-9568-4094-b681-ada72e340c63"
      },
      "outputs": [],
      "source": [
        "### ANSWER HERE"
      ]
    },
    {
      "cell_type": "markdown",
      "id": "02dbc0e3",
      "metadata": {
        "id": "02dbc0e3"
      },
      "source": [
        "<div><img src=\"https://clark.physics.illinois.edu/246img/AnsEnd.svg\" width=200 align=left alt=\"Answer (start)\"></img><br></div>"
      ]
    },
    {
      "cell_type": "markdown",
      "id": "2494abe2",
      "metadata": {
        "id": "2494abe2"
      },
      "source": [
        "Now we can get our first inkling of how you might build a qubit and a (always-on and hence not-very-useful) gate.  \n",
        "\n",
        "Suppose someone comes to you with a particle in a box. There are many eigenstates for that particle in the box: $v_0, v_1, v_2, v_3, ...$\n",
        "\n",
        "You pick two of those eigenstates (let's say $v_0$ and $v_1$) and label those states as $|0\\rangle$ and $|1\\rangle$.  \n",
        "\n",
        "This particle in a box is now a qubit.  The other eigenstates we ignore and try to make sure that you never accidentally end up in - this would cause an error if so.\n",
        "\n",
        "Now a gate is something that takes you from one quantum state to another.  For example, a not gate should take\n",
        "\n",
        "$$|0\\rangle \\rightarrow |1\\rangle$$\n",
        "$$|1\\rangle \\rightarrow |0\\rangle$$\n",
        "\n",
        "Looking at our previous results, we can see that if we just have a particle in a box that it implements a not-gate every $T=41.0$ seconds.  \n",
        "\n",
        "In principle this would work as a qbit; however, it is difficult to set up in practice. The closest thing we have to particles in boxes are so-called quantum dots, and it is difficult to prepare a state in superposition like we did above, and even if we did, we could not easily apply the potential energy for well-controlled amounts of time.  We really need a Hamiltonian $H(\\theta)$ where we have some knob $\\theta$ that we can change so we can turn gates on and off.  \n",
        "\n",
        "In the next exercise, we will see how to go about this."
      ]
    },
    {
      "cell_type": "markdown",
      "id": "ca07af03",
      "metadata": {
        "id": "ca07af03"
      },
      "source": [
        "## Exercise 2: Fluxonium"
      ]
    },
    {
      "cell_type": "markdown",
      "id": "97a962df",
      "metadata": {
        "id": "97a962df"
      },
      "source": [
        " In this exercise, we will work a large system built out of electronic circuits that we can control well. This particular setup is called fluxonium, because it looks a little like an atom that we can control using a magnetic flux."
      ]
    },
    {
      "cell_type": "markdown",
      "id": "964b704a",
      "metadata": {
        "id": "964b704a"
      },
      "source": [
        "Here is the electronic circuit for a fluxonium qubit:\n",
        "\n",
        "<div><img src=\"https://scqubits.readthedocs.io/en/latest/_images/fluxonium.png\" width=400 align=left alt=\"Answer (start)\"></img><br></div>\n"
      ]
    },
    {
      "cell_type": "markdown",
      "id": "d99fd8f3",
      "metadata": {
        "id": "d99fd8f3"
      },
      "source": [
        "The fluxoinum qubit consists of three electronic components: a capacitor, an inductor, and a Josephson junction.  You're probably familiar with capacitors and inductors. You regularly run into them in classical circuits.  A Josephson junction is an electronic component that sandwiches an insulator between two superconducting materials.  Across the Josephson junction there is a change in the phase $\\phi$, which is our quantum variable. This $\\phi$ roughly corresponds to the current. If you recall from quantum mechanics, the momentum of a particle is related to its phase change across space; the same is true here for current.\n",
        "\n",
        "Typically in a circuit you need to keep track of the voltage and current.  When you have a Josephson junction you need to keep track also of the phase.\n",
        "\n",
        "In electronics you might have treated the circuit classically - i.e. $E=\\frac{1}{2}CV^2+ \\frac{1}{2}LI^2$  We are basically doing this in writing out the Hamiltonian, except we will write it in terms of the variable $\\phi$, the phase difference across the Josephson junction. These circuits are kept extremely cold, on the order of milliKelvin, and are reasonably small that they need a fully quantum description, even though they are made up of many electrons and nuclei."
      ]
    },
    {
      "cell_type": "markdown",
      "id": "7eca5f99",
      "metadata": {
        "id": "7eca5f99"
      },
      "source": [
        "## a. Fluxonium Hamiltonian"
      ]
    },
    {
      "cell_type": "markdown",
      "id": "b32e6ede",
      "metadata": {
        "id": "b32e6ede"
      },
      "source": [
        "The relevant Hamiltonian for fluxonium is\n",
        "\n",
        "$$H=-4E_\\text{C}\\frac{\\partial^2 }{\\partial \\phi^2}+\\frac{1}{2}E_L \\phi^2 -E_\\text{J}\\cos(\\phi-\\varphi_\\text{ext}) $$\n",
        "\n",
        "where $E_C$ is the charging energy, $E_J$ the Josephson energy and $E_L$ the inductive energy.\n"
      ]
    },
    {
      "cell_type": "markdown",
      "id": "965aa122",
      "metadata": {
        "id": "965aa122"
      },
      "source": [
        "In the particle in a box we were working with $x$. Here you could just mentally replace  $\\phi$ with $x$.  Just like earlier we will let $-10\\leq \\phi \\leq 10$.\n",
        "\n",
        "Now we can look at this Hamiltonian.  The first term, $-4E_\\text{C}\\frac{\\partial^2 }{\\partial \\phi^2}$ you've already seen; this is the particle in a box term (notice the extra factor of $4E_C$). You already know how to build the matrix for this term.  This term is caused by the capacitor.  Essentially the capacitor would like the wave function (when drawn in the $\\phi$ basis) to be more spread out.\n",
        "\n",
        "We will then need to add a matrix for the the inductor term and the Josephson junction term.  Both of these terms will be diagonal matrices.  \n",
        "\n",
        "The term $\\frac{1}{2}E_L \\phi^2$ is the Hamiltonian for the inductor and has the matrix $H[\\phi,\\phi] = \\frac{1}{2}E_L \\phi^2$ (and zero otherwise)\n",
        "\n",
        "The term $E_\\text{J}\\cos(\\phi-\\varphi_\\text{ext})$ is the Hamiltonian for the inductor and has the matrix  $H[\\phi,\\phi] = E_\\text{J}\\cos(\\phi-\\varphi_\\text{ext})$ (and zero otherwise).\n",
        "\n",
        "$\\varphi_\\text{ext}$ is a number that you (as an experimentalist) get to control as a knob.  It corresponds to the amount of magnetic flux (caused by sticking a magnet in the right place) you drive through the circuit loop. Classically you know that a changing magnetic field can induce a current, similarly here it can affect $\\phi$.\n",
        "\n",
        "By changing the magnetic field we will be able to control the quantum state of the circuit."
      ]
    },
    {
      "cell_type": "markdown",
      "id": "ca70e863",
      "metadata": {
        "id": "ca70e863"
      },
      "source": [
        "Build this Hamiltonian for $H$.  Use the following parameters:\n",
        "* Ec=0.5\n",
        "* El=0.8\n",
        "* Ej=4\n",
        "* $\\varphi_\\text{ext}=\\pi$\n",
        "\n",
        "The units here are set up such that the time evolution is in seconds later. \n"
      ]
    },
    {
      "cell_type": "markdown",
      "id": "ec798001",
      "metadata": {
        "id": "ec798001"
      },
      "source": [
        "As in the previous case, we want to diagonalize our Hamiltonian and find some number of eigenstates.  Plot the first three eigenstates as well as eigenvalues."
      ]
    },
    {
      "cell_type": "markdown",
      "id": "3b652e4b",
      "metadata": {
        "id": "3b652e4b"
      },
      "source": [
        "<div><img src=\"https://clark.physics.illinois.edu/246img/AnsStart.svg\" width=200 align=left alt=\"Answer (start)\"></img><br></div>"
      ]
    },
    {
      "cell_type": "code",
      "execution_count": 10,
      "id": "5357d588",
      "metadata": {
        "id": "5357d588"
      },
      "outputs": [],
      "source": [
        "### ANSWER HERE"
      ]
    },
    {
      "cell_type": "markdown",
      "id": "3da796e8",
      "metadata": {
        "id": "3da796e8"
      },
      "source": [
        "<div><img src=\"https://clark.physics.illinois.edu/246img/AnsEnd.svg\" width=200 align=left alt=\"Answer (end)\"></img><br></div>"
      ]
    },
    {
      "cell_type": "markdown",
      "id": "35edea3f",
      "metadata": {
        "id": "35edea3f"
      },
      "source": [
        "## b. Time Evolution"
      ]
    },
    {
      "cell_type": "markdown",
      "id": "e1d1bf47",
      "metadata": {
        "id": "e1d1bf47"
      },
      "source": [
        "We are going to use the first two eigenstates for $\\varphi_{ext}=\\pi$: $v_0$ and $v_1$ as the $|0\\rangle$ and $|1\\rangle$ states for our qubit. Then we are going to see how manipulating $\\varphi_\\textrm{ext}$ allows us to turn on and off different gates. Note that our definition of $|0\\rangle$ and $|1\\rangle$ will not change.\n",
        "\n",
        "You should find that it begins to be a superposition $\\alpha |0\\rangle + \\beta |1\\rangle$.  You can compute these as follows:\n",
        " * $\\alpha$ = `np.vdot(v0, v)`\n",
        " * $\\beta$ = `np.vdot(v1,v)`\n",
        "where `v` is the time-evolved state.\n",
        "\n",
        "Begin with the state $|0\\rangle$.  Then change the magnetic field to $\\pi + 0.00360 \\times 2\\pi$ and begin to time-evolve the state.\n",
        "Do time evolution with the new Hamiltonian for a\n",
        "* time $T=100$ with\n",
        "* $\\delta t=0.1$ and\n",
        "* plot the overlap squared with the states $|0\\rangle$ and $|1\\rangle$, i.e., $|\\alpha|^2$ and $|\\beta|^2$\n",
        "\n"
      ]
    },
    {
      "cell_type": "markdown",
      "id": "7ae3ddbf",
      "metadata": {
        "id": "7ae3ddbf"
      },
      "source": [
        "<div><img src=\"https://clark.physics.illinois.edu/246img/AnsStart.svg\" width=200 align=left alt=\"Answer (start)\"></img><br></div>"
      ]
    },
    {
      "cell_type": "code",
      "execution_count": null,
      "id": "e8c01480",
      "metadata": {
        "colab": {
          "base_uri": "https://localhost:8080/",
          "height": 862
        },
        "id": "e8c01480",
        "outputId": "632782e6-8c01-40b6-ef86-f67fbefe4315"
      },
      "outputs": [],
      "source": [
        "### ANSWER HERE"
      ]
    },
    {
      "cell_type": "markdown",
      "id": "0c5e9b94",
      "metadata": {
        "id": "0c5e9b94"
      },
      "source": [
        "<div><img src=\"https://clark.physics.illinois.edu/246img/AnsEnd.svg\" width=200 align=left alt=\"Answer (end)\"></img><br></div>"
      ]
    },
    {
      "cell_type": "markdown",
      "id": "71fca385",
      "metadata": {
        "id": "71fca385"
      },
      "source": [
        "You will notice that by changing the magnetic field by a tiny amount and waiting for about 24 seconds, we've implemented a gate which takes $|0\\rangle$ to half $|0\\rangle$ and half $|1\\rangle$.  Based on the probability this gate is taking $|0\\rangle \\rightarrow \\frac{1}{\\sqrt{2}}(|0\\rangle + e^{i\\theta} |1\\rangle)$, where $e^{i\\theta}$ is a phase that you could compute by looking at the phase difference between $\\alpha$ and $\\beta$.  \n"
      ]
    },
    {
      "cell_type": "markdown",
      "id": "64fa8a42",
      "metadata": {
        "id": "64fa8a42"
      },
      "source": [
        "## c.  The Bloch Sphere"
      ]
    },
    {
      "cell_type": "markdown",
      "id": "9284ed08",
      "metadata": {
        "id": "9284ed08"
      },
      "source": [
        "Using your results from (b), plot the time evolution from above on the Bloch sphere.\n",
        "Remember that you need to pass the plotting function the $[\\alpha,\\beta]$ vectors.\n",
        "Identify where on the Bloch sphere the initial point is and the point at $T=44$ seconds.\n",
        "Compare the action of this operation with the gate you did at the beginning of the exercise."
      ]
    },
    {
      "cell_type": "markdown",
      "id": "6c782605",
      "metadata": {
        "id": "6c782605"
      },
      "source": [
        "<div><img src=\"https://clark.physics.illinois.edu/246img/AnsStart.svg\" width=200 align=left alt=\"Answer (start)\"></img><br></div>"
      ]
    },
    {
      "cell_type": "code",
      "execution_count": null,
      "id": "dc2a192f",
      "metadata": {
        "colab": {
          "base_uri": "https://localhost:8080/",
          "height": 536
        },
        "id": "dc2a192f",
        "outputId": "bc79a945-9131-436d-d748-455bf9aaf64e"
      },
      "outputs": [],
      "source": [
        "### ANSWER HERE"
      ]
    },
    {
      "cell_type": "markdown",
      "id": "8924da61",
      "metadata": {
        "id": "8924da61"
      },
      "source": [
        "<div><img src=\"https://clark.physics.illinois.edu/246img/AnsEnd.svg\" width=200 align=left alt=\"Answer (end)\"></img><br></div>"
      ]
    }
  ],
  "metadata": {
    "colab": {
      "provenance": []
    },
    "kernelspec": {
      "display_name": "Python 3 (ipykernel)",
      "language": "python",
      "name": "python3"
    },
    "language_info": {
      "codemirror_mode": {
        "name": "ipython",
        "version": 3
      },
      "file_extension": ".py",
      "mimetype": "text/x-python",
      "name": "python",
      "nbconvert_exporter": "python",
      "pygments_lexer": "ipython3",
      "version": "3.9.6"
    },
    "varInspector": {
      "cols": {
        "lenName": 16,
        "lenType": 16,
        "lenVar": 40
      },
      "kernels_config": {
        "python": {
          "delete_cmd_postfix": "",
          "delete_cmd_prefix": "del ",
          "library": "var_list.py",
          "varRefreshCmd": "print(var_dic_list())"
        },
        "r": {
          "delete_cmd_postfix": ") ",
          "delete_cmd_prefix": "rm(",
          "library": "var_list.r",
          "varRefreshCmd": "cat(var_dic_list()) "
        }
      },
      "types_to_exclude": [
        "module",
        "function",
        "builtin_function_or_method",
        "instance",
        "_Feature"
      ],
      "window_display": false
    }
  },
  "nbformat": 4,
  "nbformat_minor": 5
}
