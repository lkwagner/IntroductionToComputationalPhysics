{
 "cells": [
  {
   "cell_type": "markdown",
   "metadata": {
    "id": "dhzleF09eJR9"
   },
   "source": [
    "<div><img src=\"https://clark.physics.illinois.edu/246img/FD_intro.png\" width=1000  alt=\"Answer (start)\"></img><br></div>\n"
   ]
  },
  {
   "cell_type": "markdown",
   "metadata": {
    "id": "V0pjaHcMeJSA"
   },
   "source": [
    "# Fluid Dynamics"
   ]
  },
  {
   "cell_type": "markdown",
   "metadata": {
    "id": "EtMkQi0eeJSA"
   },
   "source": [
    "* **Author:**\n",
    "\n",
    "* **Date:**\n",
    "\n",
    "* **Time spent on this assignment:**"
   ]
  },
  {
   "cell_type": "code",
   "execution_count": 2,
   "metadata": {
    "code_folding": [
     7,
     20
    ],
    "id": "vTjcg5keeJSB",
    "tags": [
     "hide-output"
    ]
   },
   "outputs": [],
   "source": [
    "import numpy as np\n",
    "import matplotlib.pyplot as plt\n",
    "import math\n",
    "from matplotlib.animation import FuncAnimation\n",
    "import itertools\n",
    "from IPython.display import HTML\n",
    "import pickle\n",
    "def resetMe(keepList=[]):\n",
    "    ll=%who_ls\n",
    "    keepList=keepList+['resetMe','np','plt','math','FuncAnimation',\n",
    "                       'HTML','itertools','pickle','testFunc']\n",
    "    for iiii in keepList:\n",
    "        if iiii in ll:\n",
    "            ll.remove(iiii)\n",
    "    for iiii in ll:\n",
    "        jjjj=\"^\"+iiii+\"$\"\n",
    "        %reset_selective -f {jjjj}\n",
    "    ll=%who_ls\n",
    "    return\n",
    "\n",
    "def testFunc(func,inFiles,outFiles):\n",
    "    inputs  = [pickle.load(open(f,\"rb\")) for f in inFiles]\n",
    "    outputs = [pickle.load(open(f,\"rb\")) for f in outFiles]\n",
    "    result  = func(*inputs)\n",
    "    allGood = True\n",
    "    if not isinstance(result, tuple): result = (result,)\n",
    "    for i in range(len(outputs)):\n",
    "        if np.max(np.abs(result[i]-outputs[i])) > 1e-14:\n",
    "            print(\"Failed test for\",outFiles[i],i,np.max(np.abs(result[i]-outputs[i])))\n",
    "            allGood = False\n",
    "    if allGood: print(\"Test Passed!\")\n",
    "    else:       print(\"Test Failed :(\")"
   ]
  },
  {
   "cell_type": "markdown",
   "metadata": {
    "id": "nBrTSxuReJSC"
   },
   "source": [
    "Download the test files here, or download from the website and upload & unzip them to wherever this notebook file is"
   ]
  },
  {
   "cell_type": "code",
   "execution_count": 3,
   "metadata": {
    "colab": {
     "base_uri": "https://localhost:8080/"
    },
    "id": "6NEb1gGEeJSC",
    "outputId": "a55f7036-1696-4481-d901-6254f366c764",
    "tags": [
     "hide-output"
    ]
   },
   "outputs": [
    {
     "name": "stdout",
     "output_type": "stream",
     "text": [
      "/bin/bash: wget: command not found\r\n"
     ]
    }
   ],
   "source": [
    "!wget https://courses.physics.illinois.edu/phys246/fa2020/code/TestFiles.zip && unzip TestFiles.zip"
   ]
  },
  {
   "cell_type": "markdown",
   "metadata": {
    "id": "sRHvv5H4eJSD"
   },
   "source": [
    "## Python Warmup"
   ]
  },
  {
   "cell_type": "markdown",
   "metadata": {
    "id": "QYhxKWnZeJSE"
   },
   "source": [
    "### Useful functions:"
   ]
  },
  {
   "cell_type": "markdown",
   "metadata": {
    "id": "5tRGYO2SeJSF"
   },
   "source": [
    "Before we begin, we want to highlight some functions that you may find useful in this assignment. The last one we'll explore in more depth as well.\n",
    "* `np.zeros([dimensions])` - create an array filled with all zeros. \n",
    "    *Ex: `n = np.zeros([9,10,10])` creates a (9,10,10) array of all zeros\n",
    "* `np.ones([dimensions])` - same thing as `np.zeros` but with all ones.\n",
    "* `np.empty([dimensoons])` - same thing as `np,zeros` but fills array with garbage. Very fast compared to the above.\n",
    "* `np.roll(x,shift,axis)` - shift array `x` by `shift` along `axis`."
   ]
  },
  {
   "cell_type": "markdown",
   "metadata": {
    "id": "XdrGjMaheJSF"
   },
   "source": [
    "### Warmup - using `np.roll`"
   ]
  },
  {
   "cell_type": "markdown",
   "metadata": {
    "id": "sPuI-g6qeJSG"
   },
   "source": [
    "Something we'll see later in this assignment is the need to shift elements right,left,up,down, and diagonally. Let's make a little test problem to illustrate how this works."
   ]
  },
  {
   "cell_type": "code",
   "execution_count": 4,
   "metadata": {
    "colab": {
     "base_uri": "https://localhost:8080/"
    },
    "id": "d-NMNTMPeJSG",
    "outputId": "e8b86baf-3922-4b0d-cf29-8908d1eabd22"
   },
   "outputs": [
    {
     "name": "stdout",
     "output_type": "stream",
     "text": [
      "[[ 0  1  2  3  4]\n",
      " [ 5  6  7  8  9]\n",
      " [10 11 12 13 14]]\n"
     ]
    }
   ],
   "source": [
    "# Run me!\n",
    "x = np.arange(15).reshape(3,5)\n",
    "print(x)"
   ]
  },
  {
   "cell_type": "markdown",
   "metadata": {
    "id": "n5fL1fOReJSH"
   },
   "source": [
    "Now we'll want to shift every element in `x` to the right, where we wrap everything around the edge. Rather than figuring this out with a for loop, we'll employ `np.roll` to do it fast!"
   ]
  },
  {
   "cell_type": "code",
   "execution_count": 5,
   "metadata": {
    "colab": {
     "base_uri": "https://localhost:8080/"
    },
    "id": "ljNa3GMOeJSH",
    "outputId": "fcba3a66-b132-4660-92d0-7822ae297594"
   },
   "outputs": [
    {
     "name": "stdout",
     "output_type": "stream",
     "text": [
      "[[ 0  1  2  3  4]\n",
      " [ 5  6  7  8  9]\n",
      " [10 11 12 13 14]] \n",
      "\n",
      "[[ 4  0  1  2  3]\n",
      " [ 9  5  6  7  8]\n",
      " [14 10 11 12 13]]\n"
     ]
    }
   ],
   "source": [
    "print(x,'\\n')\n",
    "print(np.roll(x,(0,1),(0,1)))"
   ]
  },
  {
   "cell_type": "markdown",
   "metadata": {
    "id": "2dXB7f1beJSH"
   },
   "source": [
    "Now let's disect that command. The first `(0,1)` means don't shift the \"y\" direction, and to shift the \"x\" direction by +1. The next command `(0,1)` means to apply the shift to the two axes.  \n",
    "Now let's go left:"
   ]
  },
  {
   "cell_type": "code",
   "execution_count": 6,
   "metadata": {
    "colab": {
     "base_uri": "https://localhost:8080/"
    },
    "id": "oOCrFqaMeJSI",
    "outputId": "7857af1a-8b19-497f-fc02-d2319115dd8f"
   },
   "outputs": [
    {
     "name": "stdout",
     "output_type": "stream",
     "text": [
      "[[ 0  1  2  3  4]\n",
      " [ 5  6  7  8  9]\n",
      " [10 11 12 13 14]] \n",
      "\n",
      "[[ 1  2  3  4  0]\n",
      " [ 6  7  8  9  5]\n",
      " [11 12 13 14 10]]\n"
     ]
    }
   ],
   "source": [
    "print(x,'\\n')\n",
    "print(np.roll(x,(0,-1),(0,1)))"
   ]
  },
  {
   "cell_type": "markdown",
   "metadata": {
    "id": "6Qm_9RMteJSI"
   },
   "source": [
    "---\n",
    "🦉 Now we'll try to implement a section of the Cha-Cha Slide([Lyrics](https://genius.com/Dj-casper-cha-cha-slide-lyrics))\n",
    "```\n",
    "♫Now it's time to get funky\n",
    "To the right now, to the left\n",
    "Take it back now y'all♪\n",
    "```\n",
    "\n",
    "Make your `x` array go right, then left, then \"down\". Your output should be:\n",
    "```\n",
    "[[ 4  0  1  2  3]\n",
    " [ 9  5  6  7  8]\n",
    " [14 10 11 12 13]]\n",
    "[[ 1  2  3  4  0]\n",
    " [ 6  7  8  9  5]\n",
    " [11 12 13 14 10]]\n",
    "[[ 5  6  7  8  9]\n",
    " [10 11 12 13 14]\n",
    " [ 0  1  2  3  4]]\n",
    "```\n",
    "(Notice how down isn't what you may expect...)"
   ]
  },
  {
   "cell_type": "code",
   "execution_count": 7,
   "metadata": {
    "colab": {
     "base_uri": "https://localhost:8080/"
    },
    "id": "gFaBkWGjeJSI",
    "outputId": "9fd982e2-4f46-4c4c-f364-db8d4dd30900"
   },
   "outputs": [
    {
     "name": "stdout",
     "output_type": "stream",
     "text": [
      "[[ 4  0  1  2  3]\n",
      " [ 9  5  6  7  8]\n",
      " [14 10 11 12 13]]\n",
      "[[ 1  2  3  4  0]\n",
      " [ 6  7  8  9  5]\n",
      " [11 12 13 14 10]]\n",
      "[[ 5  6  7  8  9]\n",
      " [10 11 12 13 14]\n",
      " [ 0  1  2  3  4]]\n"
     ]
    }
   ],
   "source": [
    "#!Start\n",
    "print(np.roll(x,(0,1),(0,1)))\n",
    "print(np.roll(x,(0,-1),(0,1)))\n",
    "print(np.roll(x,(-1,0),(0,1)))\n",
    "#!Stop"
   ]
  },
  {
   "cell_type": "markdown",
   "metadata": {
    "id": "POqye8mneJSI"
   },
   "source": [
    "🦉In a special version of the song, the next line goes\n",
    "```\n",
    "♫ Take it diagonally up and to the right now y'all\n",
    "```\n",
    "Implement this array move, you should get:\n",
    "```\n",
    "[[14 10 11 12 13]\n",
    " [ 4  0  1  2  3]\n",
    " [ 9  5  6  7  8]]\n",
    " ```"
   ]
  },
  {
   "cell_type": "code",
   "execution_count": 8,
   "metadata": {
    "colab": {
     "base_uri": "https://localhost:8080/"
    },
    "id": "pbzwO0vqeJSJ",
    "outputId": "0b4374f9-3a76-4e56-f4b1-f0d5ea8fb183"
   },
   "outputs": [
    {
     "name": "stdout",
     "output_type": "stream",
     "text": [
      "[[14 10 11 12 13]\n",
      " [ 4  0  1  2  3]\n",
      " [ 9  5  6  7  8]]\n"
     ]
    }
   ],
   "source": [
    "print(np.roll(x,(1,1),(0,1))) #!#"
   ]
  },
  {
   "cell_type": "markdown",
   "metadata": {
    "id": "VrwUxK22eJSJ"
   },
   "source": [
    "Now you're a ~~Cha-Cha Slide~~ `np.roll` master!"
   ]
  },
  {
   "cell_type": "markdown",
   "metadata": {
    "id": "G58m6vlQeJSJ"
   },
   "source": [
    "## Exercise 1: Fluid Dynamics "
   ]
  },
  {
   "cell_type": "markdown",
   "metadata": {
    "id": "_zupnZnjeJSJ"
   },
   "source": [
    "* **List of collaborators:**\n",
    "\n",
    "* **References you used in developing your code:**"
   ]
  },
  {
   "cell_type": "markdown",
   "metadata": {
    "id": "iKUA8Hl2eJSJ"
   },
   "source": [
    "In this assignment you will produce a fluid dynamics simulations.  We are going to develop a number of functions which you will store in the cell below (as well as some global variables that we will use throughout this exercise). \n",
    "\n",
    "The global variables are\n",
    "```python\n",
    "nx=520; ny=180 #size of our simulation\n",
    "```\n"
   ]
  },
  {
   "cell_type": "markdown",
   "metadata": {
    "id": "dADOd7RNeJSK"
   },
   "source": [
    "<div><img src=\"https://clark.physics.illinois.edu/246img/AnsStart.svg\" width=200 align=left alt=\"Answer (start)\"></img><br></div>"
   ]
  },
  {
   "cell_type": "code",
   "execution_count": 9,
   "metadata": {
    "id": "YAiMcGCXeJSK"
   },
   "outputs": [],
   "source": [
    "### ANSWER HERE"
   ]
  },
  {
   "cell_type": "markdown",
   "metadata": {
    "id": "HYAGVcXmeJSL"
   },
   "source": [
    "<div><img src=\"https://clark.physics.illinois.edu/246img/AnsEnd.svg\" width=200 align=left alt=\"Answer (end)\"></img><br></div>"
   ]
  },
  {
   "cell_type": "markdown",
   "metadata": {
    "id": "xHsRnOJIeJSL"
   },
   "source": [
    "<div class=\"alert alert-danger\" style=\"color:black\">\n",
    "\n",
    "If you have a function that takes in an array <code>n</code>, always make a new variable to return:\n",
    "```python\n",
    "def doMath(n):\n",
    "    # nout = n.copy() #notice the .copy(), so that they aren't the same object\n",
    "    nout = 2*n+5\n",
    "    return nout\n",
    "```\n",
    "\n",
    "</div>"
   ]
  },
  {
   "cell_type": "markdown",
   "metadata": {
    "id": "eemkTU7veJSL"
   },
   "source": [
    "### a.  Making some obstacles"
   ]
  },
  {
   "cell_type": "markdown",
   "metadata": {
    "id": "KNTt4kZGeJSL"
   },
   "source": [
    "To simulate the real world on the computer, we'll break the tunnel into $n_x\\times n_y$ squares which we'll call *voxels*.  \n",
    "\n",
    "\n",
    "Your simulation will be doing fluid dynamics in a $n_x \\times n_y$ \"tunnel\" which has some objects within it.  These objects will be represented by a boolean $n_x \\times n_y$ size array `obstacle=np.empty((nx,ny),dtype='bool')` which should be `True` where the obstacle is and `False` otherwise. For example, \n",
    "```python\n",
    "obstacle[:,:]=False\n",
    "obstacle[50:70,50:70]=True\n",
    "```\n",
    "would set up a square $20 \\times 20$ object inside our tunnel. \n",
    "\n",
    "🦉Add a `GenerateCylinderObstacle()`  function to the \"function-cell\" above which generates a object which is a cylinder located at $(n_x/4,n_y/2)$ with a radius of $n_y/9$\n",
    "\n",
    "If you do `plt.matshow(GenerateCylinderObstacle())` it should look like this\n",
    "\n",
    "<div><img src=\"https://clark.physics.illinois.edu/246img/FDObstacle.png\" width=600 alt=\"Answer (start)\"></img><br></div>"
   ]
  },
  {
   "cell_type": "markdown",
   "metadata": {
    "id": "K2NaA41CeJSM"
   },
   "source": [
    "<div class=\"alert alert-warning\" style=\"color:black\">\n",
    "<b>Do not use the word <code>object</code> as a variable!</b> <br />Notice how <code>object</code> is green in a cell - this means it is a special keyword.<br /> \n",
    "</div>"
   ]
  },
  {
   "cell_type": "markdown",
   "metadata": {
    "id": "ctT-BVBJeJSM"
   },
   "source": [
    "#### Test:"
   ]
  },
  {
   "cell_type": "code",
   "execution_count": 10,
   "metadata": {
    "colab": {
     "base_uri": "https://localhost:8080/",
     "height": 285
    },
    "id": "eVEeMbvYeJSM",
    "outputId": "1204f253-65ee-4145-a176-bc50b90941ce",
    "tags": [
     "hide-output"
    ]
   },
   "outputs": [
    {
     "ename": "NameError",
     "evalue": "name 'GenerateCylinderObstacle' is not defined",
     "output_type": "error",
     "traceback": [
      "\u001b[0;31m---------------------------------------------------------------------------\u001b[0m",
      "\u001b[0;31mNameError\u001b[0m                                 Traceback (most recent call last)",
      "\u001b[0;32m/var/folders/5z/1xxxzf610_7gxv7scl0v99240000gn/T/ipykernel_1449/3615241139.py\u001b[0m in \u001b[0;36m<module>\u001b[0;34m\u001b[0m\n\u001b[1;32m      1\u001b[0m \u001b[0;31m## Call your function here to see if if works.\u001b[0m\u001b[0;34m\u001b[0m\u001b[0;34m\u001b[0m\u001b[0;34m\u001b[0m\u001b[0m\n\u001b[0;32m----> 2\u001b[0;31m \u001b[0mplt\u001b[0m\u001b[0;34m.\u001b[0m\u001b[0mmatshow\u001b[0m\u001b[0;34m(\u001b[0m\u001b[0mGenerateCylinderObstacle\u001b[0m\u001b[0;34m(\u001b[0m\u001b[0;34m)\u001b[0m\u001b[0;34m.\u001b[0m\u001b[0mtranspose\u001b[0m\u001b[0;34m(\u001b[0m\u001b[0;34m)\u001b[0m\u001b[0;34m)\u001b[0m\u001b[0;34m\u001b[0m\u001b[0;34m\u001b[0m\u001b[0m\n\u001b[0m\u001b[1;32m      3\u001b[0m \u001b[0mplt\u001b[0m\u001b[0;34m.\u001b[0m\u001b[0mtitle\u001b[0m\u001b[0;34m(\u001b[0m\u001b[0;34m\"Cool Name plot\"\u001b[0m\u001b[0;34m)\u001b[0m\u001b[0;34m\u001b[0m\u001b[0;34m\u001b[0m\u001b[0m\n\u001b[1;32m      4\u001b[0m \u001b[0;31m#plt.savefig(\"images/object.png\")\u001b[0m\u001b[0;34m\u001b[0m\u001b[0;34m\u001b[0m\u001b[0;34m\u001b[0m\u001b[0m\n\u001b[1;32m      5\u001b[0m \u001b[0mplt\u001b[0m\u001b[0;34m.\u001b[0m\u001b[0mshow\u001b[0m\u001b[0;34m(\u001b[0m\u001b[0;34m)\u001b[0m\u001b[0;34m\u001b[0m\u001b[0;34m\u001b[0m\u001b[0m\n",
      "\u001b[0;31mNameError\u001b[0m: name 'GenerateCylinderObstacle' is not defined"
     ]
    }
   ],
   "source": [
    "## Call your function here to see if if works. \n",
    "plt.matshow(GenerateCylinderObstacle().transpose())\n",
    "plt.title(\"Cool Name plot\")\n",
    "#plt.savefig(\"images/object.png\")\n",
    "plt.show()\n",
    "            "
   ]
  },
  {
   "cell_type": "markdown",
   "metadata": {
    "id": "vDYrEjHYeJSM"
   },
   "source": [
    "## b.  Microscopic velocities $v_i$"
   ]
  },
  {
   "cell_type": "markdown",
   "metadata": {
    "id": "ODXUxcpReJSM"
   },
   "source": [
    "To simulate the real world on the computer, we'll break the tunnel into $n_x\\times n_y$ squares which we'll call *voxels*.\n",
    "\n",
    "The key quantity in your simulation is  nine microscopic degrees of freedom \n",
    "* $n_k(i,j)$ where $0\\leq k \\leq 8$ and $(i,j)$ are over the $n_x \\times n_y$ voxels of your simulation\n",
    "\n",
    "which are going to be nine different densities (for each voxel $(i,j)$) which correspond to the density of a fluid at $(i,j)$ moving in nine different directions (or velocities $v_k$):\n",
    "* $n_0$: stationary fluid moving at velocity $v_0=(0,0)$\n",
    "* $n_1$: fluid moving up moving at velocity $v_1=(0,1)$\n",
    "* $n_2$: fluid moving down at velocity $v_2=(0,-1)$\n",
    "* $n_3$: fluid moving right at velocity $v_3=(1,0)$\n",
    "* $n_4$: fluid moving left at velocity $v_4=(-1,0)$\n",
    "* $n_5$: fluid moving left-down at velocity $v_5=(-1,-1)$\n",
    "* $n_6$: fluid moving left-up at velocity $v_6=(-1,1)$\n",
    "* $n_7$: fluid moving right-down at velocity $v_7=(1,-1)$\n",
    "* $n_8$: fluid moving right-up at velocity $v_8=(1,1)$\n",
    "    \n",
    "It will be useful to have access to these microscopic velocities as global variables.  🦉**Go ahead and add to the top of your \"function-cell\" the various velocities:**\n",
    "```python\n",
    "v=np.zeros((9,2),dtype='int')\n",
    "v[0,:]=[0,0]\n",
    "v[1,:]=[0,1]\n",
    "...\n",
    "```\n",
    "\n",
    "**Plot these (below) as**\n",
    "```python\n",
    "for i in range(0,9):\n",
    "    plt.arrow(0,0,v[i,0],v[i,1],head_width=0.05, head_length=0.1, fc='k', ec='k')\n",
    "plt.xlim(-1.2,1.2)\n",
    "plt.ylim(-1.2,1.2)\n",
    "plt.show()\n",
    "```\n",
    "and make sure it looks like \n",
    "<div><img src=\"https://clark.physics.illinois.edu/246img/FD_direction.png\" width=300 alt=\"Answer (start)\"></img><br></div>\n"
   ]
  },
  {
   "cell_type": "markdown",
   "metadata": {
    "id": "LFQdk3y6eJSN"
   },
   "source": [
    "#### Test:"
   ]
  },
  {
   "cell_type": "code",
   "execution_count": 11,
   "metadata": {
    "code_folding": [],
    "colab": {
     "base_uri": "https://localhost:8080/",
     "height": 265
    },
    "id": "sI6wnNSweJSN",
    "outputId": "2124d13c-a52a-4ce5-8423-388525cb7257",
    "tags": [
     "hide-output"
    ]
   },
   "outputs": [
    {
     "ename": "NameError",
     "evalue": "name 'v' is not defined",
     "output_type": "error",
     "traceback": [
      "\u001b[0;31m---------------------------------------------------------------------------\u001b[0m",
      "\u001b[0;31mNameError\u001b[0m                                 Traceback (most recent call last)",
      "\u001b[0;32m/var/folders/5z/1xxxzf610_7gxv7scl0v99240000gn/T/ipykernel_1449/4062129112.py\u001b[0m in \u001b[0;36m<module>\u001b[0;34m\u001b[0m\n\u001b[1;32m      2\u001b[0m \u001b[0;34m\u001b[0m\u001b[0m\n\u001b[1;32m      3\u001b[0m \u001b[0;32mfor\u001b[0m \u001b[0mi\u001b[0m \u001b[0;32min\u001b[0m \u001b[0mrange\u001b[0m\u001b[0;34m(\u001b[0m\u001b[0;36m0\u001b[0m\u001b[0;34m,\u001b[0m\u001b[0;36m9\u001b[0m\u001b[0;34m)\u001b[0m\u001b[0;34m:\u001b[0m\u001b[0;34m\u001b[0m\u001b[0;34m\u001b[0m\u001b[0m\n\u001b[0;32m----> 4\u001b[0;31m     \u001b[0mplt\u001b[0m\u001b[0;34m.\u001b[0m\u001b[0marrow\u001b[0m\u001b[0;34m(\u001b[0m\u001b[0;36m0\u001b[0m\u001b[0;34m,\u001b[0m\u001b[0;36m0\u001b[0m\u001b[0;34m,\u001b[0m\u001b[0mv\u001b[0m\u001b[0;34m[\u001b[0m\u001b[0mi\u001b[0m\u001b[0;34m,\u001b[0m\u001b[0;36m0\u001b[0m\u001b[0;34m]\u001b[0m\u001b[0;34m,\u001b[0m\u001b[0mv\u001b[0m\u001b[0;34m[\u001b[0m\u001b[0mi\u001b[0m\u001b[0;34m,\u001b[0m\u001b[0;36m1\u001b[0m\u001b[0;34m]\u001b[0m\u001b[0;34m,\u001b[0m\u001b[0mhead_width\u001b[0m\u001b[0;34m=\u001b[0m\u001b[0;36m0.05\u001b[0m\u001b[0;34m,\u001b[0m \u001b[0mhead_length\u001b[0m\u001b[0;34m=\u001b[0m\u001b[0;36m0.1\u001b[0m\u001b[0;34m,\u001b[0m \u001b[0mfc\u001b[0m\u001b[0;34m=\u001b[0m\u001b[0;34m'k'\u001b[0m\u001b[0;34m,\u001b[0m \u001b[0mec\u001b[0m\u001b[0;34m=\u001b[0m\u001b[0;34m'k'\u001b[0m\u001b[0;34m)\u001b[0m\u001b[0;34m\u001b[0m\u001b[0;34m\u001b[0m\u001b[0m\n\u001b[0m\u001b[1;32m      5\u001b[0m \u001b[0mplt\u001b[0m\u001b[0;34m.\u001b[0m\u001b[0mxlim\u001b[0m\u001b[0;34m(\u001b[0m\u001b[0;34m-\u001b[0m\u001b[0;36m1.2\u001b[0m\u001b[0;34m,\u001b[0m\u001b[0;36m1.2\u001b[0m\u001b[0;34m)\u001b[0m\u001b[0;34m\u001b[0m\u001b[0;34m\u001b[0m\u001b[0m\n\u001b[1;32m      6\u001b[0m \u001b[0mplt\u001b[0m\u001b[0;34m.\u001b[0m\u001b[0mylim\u001b[0m\u001b[0;34m(\u001b[0m\u001b[0;34m-\u001b[0m\u001b[0;36m1.2\u001b[0m\u001b[0;34m,\u001b[0m\u001b[0;36m1.2\u001b[0m\u001b[0;34m)\u001b[0m\u001b[0;34m\u001b[0m\u001b[0;34m\u001b[0m\u001b[0m\n",
      "\u001b[0;31mNameError\u001b[0m: name 'v' is not defined"
     ]
    }
   ],
   "source": [
    "## Plot your microscopic velocities\n",
    "\n",
    "for i in range(0,9):\n",
    "    plt.arrow(0,0,v[i,0],v[i,1],head_width=0.05, head_length=0.1, fc='k', ec='k')\n",
    "plt.xlim(-1.2,1.2)\n",
    "plt.ylim(-1.2,1.2)\n",
    "#plt.savefig(\"images/densityDirection.png\")\n",
    "plt.show()"
   ]
  },
  {
   "cell_type": "markdown",
   "metadata": {
    "id": "MA540KiaeJSN"
   },
   "source": [
    "We will represent the microscopic densities by a variable \n",
    "* `n=np.zeros(9,nx,ny)`\n",
    "\n",
    "\n",
    "The high level algorithm for fluid dynamics is very simple.  After setting up the initial conditions, we loop many times doing\n",
    "* Adjust boundary conditions\n",
    "* Collide the microscopic densities\n",
    "* Move the microscopic densities\n"
   ]
  },
  {
   "cell_type": "markdown",
   "metadata": {
    "id": "TiQ6nO50eJSN"
   },
   "source": [
    "### c. Computing macroscopic quantities from the microscopic density"
   ]
  },
  {
   "cell_type": "markdown",
   "metadata": {
    "id": "vSJxbyfteJSN"
   },
   "source": [
    "Given the microscopic densities, there are two macroscopic quanties:\n",
    "* the macroscopic density $\\rho(i,j)=\\sum_k n_k$ (*size: $n_x \\times n_y$*)\n",
    "* the macroscopic velocity $\\vec{u}(i,j) \\equiv (u_x(i,j),u_y(i,j))$ (*size: $2 \\times n_x \\times n_y$*) where\n",
    "    * $u_x(i,j) = 1/\\rho \\sum_k v_{k,x} n_k(i,j)$\n",
    "    * $u_y(i,j) = 1/\\rho \\sum_k v_{k,y} n_k(i,j)$\n",
    "\n",
    "which you will compute using the function (you will write) `(rho,u) = Micro2Macro(n)`\n",
    "\n",
    "🦉Go ahead and write this function and add it to your 'function-cell' \n",
    "\n",
    "You can test it using these lines of code:\n",
    "```python\n",
    "testFunc(Micro2Macro,[\"Microscopic.dat\"],[\"rho_after_Micro2Macro.dat\",\"u_after_Micro2Macro.dat\"])\n",
    "```\n",
    "and see if it print two zeros (which is a success!)"
   ]
  },
  {
   "cell_type": "markdown",
   "metadata": {
    "id": "CSWl5tqWeJSN"
   },
   "source": [
    "**Tip:** Because `u` is $(2,n_x,n_y)$, we can get `ux` by doing `u[0]` (which is then a $(n_x,n_y)$ array) and `uy` by doing `u[1]`."
   ]
  },
  {
   "cell_type": "markdown",
   "metadata": {
    "heading_collapsed": true,
    "id": "ebNEEmryeJSN"
   },
   "source": [
    "#### optional - `np.einsum`"
   ]
  },
  {
   "cell_type": "markdown",
   "metadata": {
    "hidden": true,
    "id": "bueDCcVDeJSO"
   },
   "source": [
    "Figuring out the summations effeciently can be a pain, but we can use [`np.einsum`](https://docs.scipy.org/doc/numpy/reference/generated/numpy.einsum.html) help out here. Figure out how to rewrite the above problem with einstein summation notation. To use the function, if we have \n",
    "$$\n",
    "A_{ijk}\\cdot B_{dk} = C_{ijd},\n",
    "$$\n",
    "we'd use then call:\n",
    "```python\n",
    "C = np.einsum(\"ijk,dk->ijd\",A,B)\n",
    "```"
   ]
  },
  {
   "cell_type": "markdown",
   "metadata": {
    "id": "NAG3Y7BleJSO"
   },
   "source": [
    "#### Test:"
   ]
  },
  {
   "cell_type": "code",
   "execution_count": 12,
   "metadata": {
    "colab": {
     "base_uri": "https://localhost:8080/"
    },
    "id": "587xNTrCeJSO",
    "outputId": "449061f5-93f5-4700-bb41-2b3a53e3d5c9",
    "tags": [
     "hide-output"
    ]
   },
   "outputs": [
    {
     "ename": "NameError",
     "evalue": "name 'Micro2Macro' is not defined",
     "output_type": "error",
     "traceback": [
      "\u001b[0;31m---------------------------------------------------------------------------\u001b[0m",
      "\u001b[0;31mNameError\u001b[0m                                 Traceback (most recent call last)",
      "\u001b[0;32m/var/folders/5z/1xxxzf610_7gxv7scl0v99240000gn/T/ipykernel_1449/2093376147.py\u001b[0m in \u001b[0;36m<module>\u001b[0;34m\u001b[0m\n\u001b[1;32m      8\u001b[0m \u001b[0;31m#pickle.dump( u, open( \"u_after_Micro2Macro.dat\", \"wb\" ) )\u001b[0m\u001b[0;34m\u001b[0m\u001b[0;34m\u001b[0m\u001b[0;34m\u001b[0m\u001b[0m\n\u001b[1;32m      9\u001b[0m \u001b[0;31m#!Stop\u001b[0m\u001b[0;34m\u001b[0m\u001b[0;34m\u001b[0m\u001b[0;34m\u001b[0m\u001b[0m\n\u001b[0;32m---> 10\u001b[0;31m \u001b[0mtestFunc\u001b[0m\u001b[0;34m(\u001b[0m\u001b[0mMicro2Macro\u001b[0m\u001b[0;34m,\u001b[0m\u001b[0;34m[\u001b[0m\u001b[0;34m\"Microscopic.dat\"\u001b[0m\u001b[0;34m]\u001b[0m\u001b[0;34m,\u001b[0m\u001b[0;34m[\u001b[0m\u001b[0;34m\"rho_after_Micro2Macro.dat\"\u001b[0m\u001b[0;34m,\u001b[0m\u001b[0;34m\"u_after_Micro2Macro.dat\"\u001b[0m\u001b[0;34m]\u001b[0m\u001b[0;34m)\u001b[0m\u001b[0;34m\u001b[0m\u001b[0;34m\u001b[0m\u001b[0m\n\u001b[0m",
      "\u001b[0;31mNameError\u001b[0m: name 'Micro2Macro' is not defined"
     ]
    }
   ],
   "source": [
    "#!Start\n",
    "#import pickle\n",
    "#np.random.seed(30)\n",
    "#microscopicDensity=np.random.random((9,nx,ny))\n",
    "#pickle.dump( microscopicDensity, open( \"Microscopic.dat\", \"wb\" ) )\n",
    "#(rho,u)=Micro2Macro(microscopicDensity)\n",
    "#pickle.dump( rho, open( \"rho_after_Micro2Macro.dat\", \"wb\" ) )\n",
    "#pickle.dump( u, open( \"u_after_Micro2Macro.dat\", \"wb\" ) )\n",
    "#!Stop\n",
    "testFunc(Micro2Macro,[\"Microscopic.dat\"],[\"rho_after_Micro2Macro.dat\",\"u_after_Micro2Macro.dat\"])"
   ]
  },
  {
   "cell_type": "markdown",
   "metadata": {
    "id": "Jg8thHameJSO"
   },
   "source": [
    "### d. Getting the equilibrium microscopic densities. "
   ]
  },
  {
   "cell_type": "markdown",
   "metadata": {
    "id": "3Ty2w7wjeJSO"
   },
   "source": [
    "\n",
    "Given the macroscopic densities $\\rho$ and $\\vec{u}$, there is a *equilibrium* microscopic densities $n_{eq}$ (*size: $9 \\times n_x \\times n_y$*) which you will compute using `n_eq=Macro2Equilibrium(rho,u)`\n",
    "\n",
    "The relevant formula for this is \n",
    "\n",
    "$$ n^{eq}(v_k) \\equiv n_k^{eq} =  \\omega_k \\rho \\left(1 + 3 \\vec{v_k} \\cdot \\vec{u} + \\frac{9}{2}(\\vec{v_k} \\cdot \\vec{u})^2- \\frac{3}{2}(\\vec{u}\\cdot \\vec{u}) \\right)  \\tag{A} $$\n",
    "\n",
    "where \n",
    "* $\\omega_{0}=4/9$\n",
    "* $\\omega_{1-4}=1/9$ \n",
    "* $\\omega_{5-8}=1/36$\n",
    "\n",
    "Given some microscopic densities $n$ you should be able then to figure out the equilibrium microscopic densities $n_{eq}$.  \n",
    "\n",
    "🦉Write the functions `Macro2Equilibrium` adding them to your \"function-cell\"\n",
    "\n",
    "You can test it by checking if \n",
    "```python\n",
    "testFunc(Macro2Equilibrium,[\"rho_after_Micro2Macro.dat\",\"u_after_Micro2Macro.dat\"],[\"Microscopic_after_equilibrium.dat\"])\n",
    "```\n",
    "is equal to zero."
   ]
  },
  {
   "cell_type": "markdown",
   "metadata": {
    "id": "-hrU-jfteJSO"
   },
   "source": [
    "#### Test:"
   ]
  },
  {
   "cell_type": "code",
   "execution_count": 13,
   "metadata": {
    "colab": {
     "base_uri": "https://localhost:8080/"
    },
    "id": "wvHW0MoYeJSO",
    "outputId": "349c72c5-3905-44f0-c5c7-9f66c51e55ac",
    "tags": [
     "hide-output"
    ]
   },
   "outputs": [
    {
     "ename": "NameError",
     "evalue": "name 'Macro2Equilibrium' is not defined",
     "output_type": "error",
     "traceback": [
      "\u001b[0;31m---------------------------------------------------------------------------\u001b[0m",
      "\u001b[0;31mNameError\u001b[0m                                 Traceback (most recent call last)",
      "\u001b[0;32m/var/folders/5z/1xxxzf610_7gxv7scl0v99240000gn/T/ipykernel_1449/2887498537.py\u001b[0m in \u001b[0;36m<module>\u001b[0;34m\u001b[0m\n\u001b[1;32m      1\u001b[0m \u001b[0;31m#pickle.dump( microscopicDensity, open( \"Microscopic_after_equilibrium.dat\", \"wb\" ) ) #!#\u001b[0m\u001b[0;34m\u001b[0m\u001b[0;34m\u001b[0m\u001b[0;34m\u001b[0m\u001b[0m\n\u001b[0;32m----> 2\u001b[0;31m \u001b[0mtestFunc\u001b[0m\u001b[0;34m(\u001b[0m\u001b[0mMacro2Equilibrium\u001b[0m\u001b[0;34m,\u001b[0m\u001b[0;34m[\u001b[0m\u001b[0;34m\"rho_after_Micro2Macro.dat\"\u001b[0m\u001b[0;34m,\u001b[0m\u001b[0;34m\"u_after_Micro2Macro.dat\"\u001b[0m\u001b[0;34m]\u001b[0m\u001b[0;34m,\u001b[0m\u001b[0;34m[\u001b[0m\u001b[0;34m\"Microscopic_after_equilibrium.dat\"\u001b[0m\u001b[0;34m]\u001b[0m\u001b[0;34m)\u001b[0m\u001b[0;34m\u001b[0m\u001b[0;34m\u001b[0m\u001b[0m\n\u001b[0m",
      "\u001b[0;31mNameError\u001b[0m: name 'Macro2Equilibrium' is not defined"
     ]
    }
   ],
   "source": [
    "#pickle.dump( microscopicDensity, open( \"Microscopic_after_equilibrium.dat\", \"wb\" ) ) #!#\n",
    "testFunc(Macro2Equilibrium,[\"rho_after_Micro2Macro.dat\",\"u_after_Micro2Macro.dat\"],[\"Microscopic_after_equilibrium.dat\"])\n"
   ]
  },
  {
   "cell_type": "markdown",
   "metadata": {
    "id": "vUhE6cy6eJSP"
   },
   "source": [
    "### d. Implementing collision"
   ]
  },
  {
   "cell_type": "markdown",
   "metadata": {
    "collapsed": true,
    "id": "w9bTdseveJSP"
   },
   "source": [
    "Once you can compute these quantities, the next step is to implement the collision step.  \n",
    "\n",
    "🦉Write a function `Collision(n,obstacle)` which returns the density `n` after collision.  Put it in your function-cell above.\n",
    "\n",
    "\n",
    "When we collide the microscopic densities, we get new microscopic densities given as  \n",
    "* `nout = n * (1-omega) + omega * neq` \n",
    "\n",
    "Here are the steps for the function: $\\phantom{}$\n",
    "1. Calculate `neq`  \n",
    "    a. take the microscopic densities $\\rightarrow$ compute the macroscopic density and velocity `(rho,u) = Micro2Macro(n)`  \n",
    "    b. take the macroscopic density and velocity $\\rightarrow$ compute the equilibrium microscopic densities `neq=Macro2Equilibrium(rho,u)`  \n",
    "2. Calculate `nout = n * (1-omega) + omega * neq`   \n",
    "    a. $\\omega$ is the viscosity parameter.  We will use $\\omega =1.9572953736654806$\n",
    "3. We moved fluid where the obstacle is, so we need to undo this. Reset all `nout` where the obstacle is to be the same as `n` \n",
    "\n",
    "\n",
    "\n",
    "Test with \n",
    "```python\n",
    "testFunc(lambda x: Collision(x,GenerateCylinderObstacle()),[\"Microscopic.dat\"],[\"Microscopic_after_collision.dat\"])\n",
    "```\n"
   ]
  },
  {
   "cell_type": "markdown",
   "metadata": {
    "id": "NR2vMNOieJSP"
   },
   "source": [
    "#### Test:"
   ]
  },
  {
   "cell_type": "code",
   "execution_count": 14,
   "metadata": {
    "colab": {
     "base_uri": "https://localhost:8080/"
    },
    "id": "ZYHury4SeJSP",
    "outputId": "b9f08662-9784-4e21-bdcf-e2b04286b18e",
    "tags": [
     "hide-output"
    ]
   },
   "outputs": [
    {
     "ename": "FileNotFoundError",
     "evalue": "[Errno 2] No such file or directory: 'Microscopic.dat'",
     "output_type": "error",
     "traceback": [
      "\u001b[0;31m---------------------------------------------------------------------------\u001b[0m",
      "\u001b[0;31mFileNotFoundError\u001b[0m                         Traceback (most recent call last)",
      "\u001b[0;32m/var/folders/5z/1xxxzf610_7gxv7scl0v99240000gn/T/ipykernel_1449/727106097.py\u001b[0m in \u001b[0;36m<module>\u001b[0;34m\u001b[0m\n\u001b[1;32m      1\u001b[0m \u001b[0;31m#pickle.dump( Collision(microscopicDensity,GenerateCylinderObstacle()), open( \"Microscopic_after_collision.dat\", \"wb\" ) ) #!#\u001b[0m\u001b[0;34m\u001b[0m\u001b[0;34m\u001b[0m\u001b[0;34m\u001b[0m\u001b[0m\n\u001b[1;32m      2\u001b[0m \u001b[0;34m\u001b[0m\u001b[0m\n\u001b[0;32m----> 3\u001b[0;31m \u001b[0mtestFunc\u001b[0m\u001b[0;34m(\u001b[0m\u001b[0;32mlambda\u001b[0m \u001b[0mx\u001b[0m\u001b[0;34m:\u001b[0m \u001b[0mCollision\u001b[0m\u001b[0;34m(\u001b[0m\u001b[0mx\u001b[0m\u001b[0;34m,\u001b[0m\u001b[0mGenerateCylinderObstacle\u001b[0m\u001b[0;34m(\u001b[0m\u001b[0;34m)\u001b[0m\u001b[0;34m)\u001b[0m\u001b[0;34m,\u001b[0m\u001b[0;34m[\u001b[0m\u001b[0;34m\"Microscopic.dat\"\u001b[0m\u001b[0;34m]\u001b[0m\u001b[0;34m,\u001b[0m\u001b[0;34m[\u001b[0m\u001b[0;34m\"Microscopic_after_collision.dat\"\u001b[0m\u001b[0;34m]\u001b[0m\u001b[0;34m)\u001b[0m\u001b[0;34m\u001b[0m\u001b[0;34m\u001b[0m\u001b[0m\n\u001b[0m",
      "\u001b[0;32m/var/folders/5z/1xxxzf610_7gxv7scl0v99240000gn/T/ipykernel_1449/3739739110.py\u001b[0m in \u001b[0;36mtestFunc\u001b[0;34m(func, inFiles, outFiles)\u001b[0m\n\u001b[1;32m     20\u001b[0m \u001b[0;34m\u001b[0m\u001b[0m\n\u001b[1;32m     21\u001b[0m \u001b[0;32mdef\u001b[0m \u001b[0mtestFunc\u001b[0m\u001b[0;34m(\u001b[0m\u001b[0mfunc\u001b[0m\u001b[0;34m,\u001b[0m\u001b[0minFiles\u001b[0m\u001b[0;34m,\u001b[0m\u001b[0moutFiles\u001b[0m\u001b[0;34m)\u001b[0m\u001b[0;34m:\u001b[0m\u001b[0;34m\u001b[0m\u001b[0;34m\u001b[0m\u001b[0m\n\u001b[0;32m---> 22\u001b[0;31m     \u001b[0minputs\u001b[0m  \u001b[0;34m=\u001b[0m \u001b[0;34m[\u001b[0m\u001b[0mpickle\u001b[0m\u001b[0;34m.\u001b[0m\u001b[0mload\u001b[0m\u001b[0;34m(\u001b[0m\u001b[0mopen\u001b[0m\u001b[0;34m(\u001b[0m\u001b[0mf\u001b[0m\u001b[0;34m,\u001b[0m\u001b[0;34m\"rb\"\u001b[0m\u001b[0;34m)\u001b[0m\u001b[0;34m)\u001b[0m \u001b[0;32mfor\u001b[0m \u001b[0mf\u001b[0m \u001b[0;32min\u001b[0m \u001b[0minFiles\u001b[0m\u001b[0;34m]\u001b[0m\u001b[0;34m\u001b[0m\u001b[0;34m\u001b[0m\u001b[0m\n\u001b[0m\u001b[1;32m     23\u001b[0m     \u001b[0moutputs\u001b[0m \u001b[0;34m=\u001b[0m \u001b[0;34m[\u001b[0m\u001b[0mpickle\u001b[0m\u001b[0;34m.\u001b[0m\u001b[0mload\u001b[0m\u001b[0;34m(\u001b[0m\u001b[0mopen\u001b[0m\u001b[0;34m(\u001b[0m\u001b[0mf\u001b[0m\u001b[0;34m,\u001b[0m\u001b[0;34m\"rb\"\u001b[0m\u001b[0;34m)\u001b[0m\u001b[0;34m)\u001b[0m \u001b[0;32mfor\u001b[0m \u001b[0mf\u001b[0m \u001b[0;32min\u001b[0m \u001b[0moutFiles\u001b[0m\u001b[0;34m]\u001b[0m\u001b[0;34m\u001b[0m\u001b[0;34m\u001b[0m\u001b[0m\n\u001b[1;32m     24\u001b[0m     \u001b[0mresult\u001b[0m  \u001b[0;34m=\u001b[0m \u001b[0mfunc\u001b[0m\u001b[0;34m(\u001b[0m\u001b[0;34m*\u001b[0m\u001b[0minputs\u001b[0m\u001b[0;34m)\u001b[0m\u001b[0;34m\u001b[0m\u001b[0;34m\u001b[0m\u001b[0m\n",
      "\u001b[0;32m/var/folders/5z/1xxxzf610_7gxv7scl0v99240000gn/T/ipykernel_1449/3739739110.py\u001b[0m in \u001b[0;36m<listcomp>\u001b[0;34m(.0)\u001b[0m\n\u001b[1;32m     20\u001b[0m \u001b[0;34m\u001b[0m\u001b[0m\n\u001b[1;32m     21\u001b[0m \u001b[0;32mdef\u001b[0m \u001b[0mtestFunc\u001b[0m\u001b[0;34m(\u001b[0m\u001b[0mfunc\u001b[0m\u001b[0;34m,\u001b[0m\u001b[0minFiles\u001b[0m\u001b[0;34m,\u001b[0m\u001b[0moutFiles\u001b[0m\u001b[0;34m)\u001b[0m\u001b[0;34m:\u001b[0m\u001b[0;34m\u001b[0m\u001b[0;34m\u001b[0m\u001b[0m\n\u001b[0;32m---> 22\u001b[0;31m     \u001b[0minputs\u001b[0m  \u001b[0;34m=\u001b[0m \u001b[0;34m[\u001b[0m\u001b[0mpickle\u001b[0m\u001b[0;34m.\u001b[0m\u001b[0mload\u001b[0m\u001b[0;34m(\u001b[0m\u001b[0mopen\u001b[0m\u001b[0;34m(\u001b[0m\u001b[0mf\u001b[0m\u001b[0;34m,\u001b[0m\u001b[0;34m\"rb\"\u001b[0m\u001b[0;34m)\u001b[0m\u001b[0;34m)\u001b[0m \u001b[0;32mfor\u001b[0m \u001b[0mf\u001b[0m \u001b[0;32min\u001b[0m \u001b[0minFiles\u001b[0m\u001b[0;34m]\u001b[0m\u001b[0;34m\u001b[0m\u001b[0;34m\u001b[0m\u001b[0m\n\u001b[0m\u001b[1;32m     23\u001b[0m     \u001b[0moutputs\u001b[0m \u001b[0;34m=\u001b[0m \u001b[0;34m[\u001b[0m\u001b[0mpickle\u001b[0m\u001b[0;34m.\u001b[0m\u001b[0mload\u001b[0m\u001b[0;34m(\u001b[0m\u001b[0mopen\u001b[0m\u001b[0;34m(\u001b[0m\u001b[0mf\u001b[0m\u001b[0;34m,\u001b[0m\u001b[0;34m\"rb\"\u001b[0m\u001b[0;34m)\u001b[0m\u001b[0;34m)\u001b[0m \u001b[0;32mfor\u001b[0m \u001b[0mf\u001b[0m \u001b[0;32min\u001b[0m \u001b[0moutFiles\u001b[0m\u001b[0;34m]\u001b[0m\u001b[0;34m\u001b[0m\u001b[0;34m\u001b[0m\u001b[0m\n\u001b[1;32m     24\u001b[0m     \u001b[0mresult\u001b[0m  \u001b[0;34m=\u001b[0m \u001b[0mfunc\u001b[0m\u001b[0;34m(\u001b[0m\u001b[0;34m*\u001b[0m\u001b[0minputs\u001b[0m\u001b[0;34m)\u001b[0m\u001b[0;34m\u001b[0m\u001b[0;34m\u001b[0m\u001b[0m\n",
      "\u001b[0;31mFileNotFoundError\u001b[0m: [Errno 2] No such file or directory: 'Microscopic.dat'"
     ]
    }
   ],
   "source": [
    "#pickle.dump( Collision(microscopicDensity,GenerateCylinderObstacle()), open( \"Microscopic_after_collision.dat\", \"wb\" ) ) #!#\n",
    "\n",
    "testFunc(lambda x: Collision(x,GenerateCylinderObstacle()),[\"Microscopic.dat\"],[\"Microscopic_after_collision.dat\"])"
   ]
  },
  {
   "cell_type": "markdown",
   "metadata": {
    "id": "hKotz78teJSP"
   },
   "source": [
    "### e. Moving"
   ]
  },
  {
   "cell_type": "markdown",
   "metadata": {
    "id": "aWqcyykYeJSP"
   },
   "source": [
    "We'll now move on to getting the fluid to move. This will be a function called, surprise, `Move(n,obstacle)`. But first we need to helper functions:\n",
    "* `Bounce(n,obstacle)`\n",
    "    * bounce the velocities - that is every velocity where the obstacle is gets reversed\n",
    "* `MoveDensity(n)`\n",
    "    * Move all your densities in the direction of the velocity (*hint* the velocity tells you where to move it)\n",
    "    * Assume periodic boundary conditions here\n",
    "\n",
    "Thus a `Move(n,obstacle)` call is just a `Bounce` then `MoveDensity`. 🦉Write this function and test!\n",
    "\n",
    "\n",
    "Test:\n",
    "```python\n",
    "testFunc(lambda x: Bounce(x,GenerateCylinderObstacle()),[\"Microscopic.dat\"],[\"Microscopic_after_bounce.dat\"])\n",
    "\n",
    "testFunc(MoveDensity,[\"Microscopic.dat\"],[\"Microscopic_after_moveDensity.dat\"])\n",
    "\n",
    "testFunc(lambda x: Move(x,GenerateCylinderObstacle()),[\"Microscopic.dat\"],[\"Microscopic_after_move.dat\"])\n",
    "```"
   ]
  },
  {
   "cell_type": "markdown",
   "metadata": {
    "id": "sdjeXUC7eJSP"
   },
   "source": [
    "#### Tests:"
   ]
  },
  {
   "cell_type": "code",
   "execution_count": 15,
   "metadata": {
    "colab": {
     "base_uri": "https://localhost:8080/"
    },
    "id": "APFYynyWeJSQ",
    "outputId": "1b239e5e-5e27-4004-bd74-b78ba8e32ee2",
    "tags": [
     "hide-output"
    ]
   },
   "outputs": [
    {
     "ename": "FileNotFoundError",
     "evalue": "[Errno 2] No such file or directory: 'Microscopic.dat'",
     "output_type": "error",
     "traceback": [
      "\u001b[0;31m---------------------------------------------------------------------------\u001b[0m",
      "\u001b[0;31mFileNotFoundError\u001b[0m                         Traceback (most recent call last)",
      "\u001b[0;32m/var/folders/5z/1xxxzf610_7gxv7scl0v99240000gn/T/ipykernel_1449/1549029420.py\u001b[0m in \u001b[0;36m<module>\u001b[0;34m\u001b[0m\n\u001b[1;32m      9\u001b[0m \u001b[0;31m#!Stop\u001b[0m\u001b[0;34m\u001b[0m\u001b[0;34m\u001b[0m\u001b[0;34m\u001b[0m\u001b[0m\n\u001b[1;32m     10\u001b[0m \u001b[0;34m\u001b[0m\u001b[0m\n\u001b[0;32m---> 11\u001b[0;31m \u001b[0mtestFunc\u001b[0m\u001b[0;34m(\u001b[0m\u001b[0;32mlambda\u001b[0m \u001b[0mx\u001b[0m\u001b[0;34m:\u001b[0m \u001b[0mBounce\u001b[0m\u001b[0;34m(\u001b[0m\u001b[0mx\u001b[0m\u001b[0;34m,\u001b[0m\u001b[0mGenerateCylinderObstacle\u001b[0m\u001b[0;34m(\u001b[0m\u001b[0;34m)\u001b[0m\u001b[0;34m)\u001b[0m\u001b[0;34m,\u001b[0m\u001b[0;34m[\u001b[0m\u001b[0;34m\"Microscopic.dat\"\u001b[0m\u001b[0;34m]\u001b[0m\u001b[0;34m,\u001b[0m\u001b[0;34m[\u001b[0m\u001b[0;34m\"Microscopic_after_bounce.dat\"\u001b[0m\u001b[0;34m]\u001b[0m\u001b[0;34m)\u001b[0m\u001b[0;34m\u001b[0m\u001b[0;34m\u001b[0m\u001b[0m\n\u001b[0m",
      "\u001b[0;32m/var/folders/5z/1xxxzf610_7gxv7scl0v99240000gn/T/ipykernel_1449/3739739110.py\u001b[0m in \u001b[0;36mtestFunc\u001b[0;34m(func, inFiles, outFiles)\u001b[0m\n\u001b[1;32m     20\u001b[0m \u001b[0;34m\u001b[0m\u001b[0m\n\u001b[1;32m     21\u001b[0m \u001b[0;32mdef\u001b[0m \u001b[0mtestFunc\u001b[0m\u001b[0;34m(\u001b[0m\u001b[0mfunc\u001b[0m\u001b[0;34m,\u001b[0m\u001b[0minFiles\u001b[0m\u001b[0;34m,\u001b[0m\u001b[0moutFiles\u001b[0m\u001b[0;34m)\u001b[0m\u001b[0;34m:\u001b[0m\u001b[0;34m\u001b[0m\u001b[0;34m\u001b[0m\u001b[0m\n\u001b[0;32m---> 22\u001b[0;31m     \u001b[0minputs\u001b[0m  \u001b[0;34m=\u001b[0m \u001b[0;34m[\u001b[0m\u001b[0mpickle\u001b[0m\u001b[0;34m.\u001b[0m\u001b[0mload\u001b[0m\u001b[0;34m(\u001b[0m\u001b[0mopen\u001b[0m\u001b[0;34m(\u001b[0m\u001b[0mf\u001b[0m\u001b[0;34m,\u001b[0m\u001b[0;34m\"rb\"\u001b[0m\u001b[0;34m)\u001b[0m\u001b[0;34m)\u001b[0m \u001b[0;32mfor\u001b[0m \u001b[0mf\u001b[0m \u001b[0;32min\u001b[0m \u001b[0minFiles\u001b[0m\u001b[0;34m]\u001b[0m\u001b[0;34m\u001b[0m\u001b[0;34m\u001b[0m\u001b[0m\n\u001b[0m\u001b[1;32m     23\u001b[0m     \u001b[0moutputs\u001b[0m \u001b[0;34m=\u001b[0m \u001b[0;34m[\u001b[0m\u001b[0mpickle\u001b[0m\u001b[0;34m.\u001b[0m\u001b[0mload\u001b[0m\u001b[0;34m(\u001b[0m\u001b[0mopen\u001b[0m\u001b[0;34m(\u001b[0m\u001b[0mf\u001b[0m\u001b[0;34m,\u001b[0m\u001b[0;34m\"rb\"\u001b[0m\u001b[0;34m)\u001b[0m\u001b[0;34m)\u001b[0m \u001b[0;32mfor\u001b[0m \u001b[0mf\u001b[0m \u001b[0;32min\u001b[0m \u001b[0moutFiles\u001b[0m\u001b[0;34m]\u001b[0m\u001b[0;34m\u001b[0m\u001b[0;34m\u001b[0m\u001b[0m\n\u001b[1;32m     24\u001b[0m     \u001b[0mresult\u001b[0m  \u001b[0;34m=\u001b[0m \u001b[0mfunc\u001b[0m\u001b[0;34m(\u001b[0m\u001b[0;34m*\u001b[0m\u001b[0minputs\u001b[0m\u001b[0;34m)\u001b[0m\u001b[0;34m\u001b[0m\u001b[0;34m\u001b[0m\u001b[0m\n",
      "\u001b[0;32m/var/folders/5z/1xxxzf610_7gxv7scl0v99240000gn/T/ipykernel_1449/3739739110.py\u001b[0m in \u001b[0;36m<listcomp>\u001b[0;34m(.0)\u001b[0m\n\u001b[1;32m     20\u001b[0m \u001b[0;34m\u001b[0m\u001b[0m\n\u001b[1;32m     21\u001b[0m \u001b[0;32mdef\u001b[0m \u001b[0mtestFunc\u001b[0m\u001b[0;34m(\u001b[0m\u001b[0mfunc\u001b[0m\u001b[0;34m,\u001b[0m\u001b[0minFiles\u001b[0m\u001b[0;34m,\u001b[0m\u001b[0moutFiles\u001b[0m\u001b[0;34m)\u001b[0m\u001b[0;34m:\u001b[0m\u001b[0;34m\u001b[0m\u001b[0;34m\u001b[0m\u001b[0m\n\u001b[0;32m---> 22\u001b[0;31m     \u001b[0minputs\u001b[0m  \u001b[0;34m=\u001b[0m \u001b[0;34m[\u001b[0m\u001b[0mpickle\u001b[0m\u001b[0;34m.\u001b[0m\u001b[0mload\u001b[0m\u001b[0;34m(\u001b[0m\u001b[0mopen\u001b[0m\u001b[0;34m(\u001b[0m\u001b[0mf\u001b[0m\u001b[0;34m,\u001b[0m\u001b[0;34m\"rb\"\u001b[0m\u001b[0;34m)\u001b[0m\u001b[0;34m)\u001b[0m \u001b[0;32mfor\u001b[0m \u001b[0mf\u001b[0m \u001b[0;32min\u001b[0m \u001b[0minFiles\u001b[0m\u001b[0;34m]\u001b[0m\u001b[0;34m\u001b[0m\u001b[0;34m\u001b[0m\u001b[0m\n\u001b[0m\u001b[1;32m     23\u001b[0m     \u001b[0moutputs\u001b[0m \u001b[0;34m=\u001b[0m \u001b[0;34m[\u001b[0m\u001b[0mpickle\u001b[0m\u001b[0;34m.\u001b[0m\u001b[0mload\u001b[0m\u001b[0;34m(\u001b[0m\u001b[0mopen\u001b[0m\u001b[0;34m(\u001b[0m\u001b[0mf\u001b[0m\u001b[0;34m,\u001b[0m\u001b[0;34m\"rb\"\u001b[0m\u001b[0;34m)\u001b[0m\u001b[0;34m)\u001b[0m \u001b[0;32mfor\u001b[0m \u001b[0mf\u001b[0m \u001b[0;32min\u001b[0m \u001b[0moutFiles\u001b[0m\u001b[0;34m]\u001b[0m\u001b[0;34m\u001b[0m\u001b[0;34m\u001b[0m\u001b[0m\n\u001b[1;32m     24\u001b[0m     \u001b[0mresult\u001b[0m  \u001b[0;34m=\u001b[0m \u001b[0mfunc\u001b[0m\u001b[0;34m(\u001b[0m\u001b[0;34m*\u001b[0m\u001b[0minputs\u001b[0m\u001b[0;34m)\u001b[0m\u001b[0;34m\u001b[0m\u001b[0;34m\u001b[0m\u001b[0m\n",
      "\u001b[0;31mFileNotFoundError\u001b[0m: [Errno 2] No such file or directory: 'Microscopic.dat'"
     ]
    }
   ],
   "source": [
    "#!Start\n",
    "#pickle.dump( MoveDensity(microscopicDensity), open( \"Microscopic_after_moveDensity.dat\", \"wb\" ) )\n",
    "##pickle.dump( MoveDensity(microscopicDensity,GenerateCylinderObstacle()), open( \"Microscopic_after_collision.dat\", \"wb\" ) )\n",
    "##print(np.max(np.abs(Collision(microscopicDensity,GenerateCylinderObstacle())-pickle.load( open( \"Microscopic_after_collision.dat\", \"rb\" ) ))))\n",
    "#microscopicDensity=pickle.load( open( \"Microscopic.dat\", \"rb\" ) )\n",
    "#pickle.dump( Bounce(microscopicDensity,GenerateCylinderObstacle()), open( \"Microscopic_after_bounce.dat\", \"wb\" ))\n",
    "#microscopicDensity=pickle.load( open( \"Microscopic.dat\", \"rb\" ) )\n",
    "#pickle.dump( Move(microscopicDensity,GenerateCylinderObstacle()), open( \"Microscopic_after_move.dat\", \"wb\" ) )\n",
    "#!Stop\n",
    "\n",
    "testFunc(lambda x: Bounce(x,GenerateCylinderObstacle()),[\"Microscopic.dat\"],[\"Microscopic_after_bounce.dat\"])"
   ]
  },
  {
   "cell_type": "code",
   "execution_count": 16,
   "metadata": {
    "colab": {
     "base_uri": "https://localhost:8080/"
    },
    "id": "XwkORsqVeJSQ",
    "outputId": "4fc4eaaa-a423-4266-ec7b-849f1b0cb0eb",
    "tags": [
     "hide-output"
    ]
   },
   "outputs": [
    {
     "ename": "NameError",
     "evalue": "name 'MoveDensity' is not defined",
     "output_type": "error",
     "traceback": [
      "\u001b[0;31m---------------------------------------------------------------------------\u001b[0m",
      "\u001b[0;31mNameError\u001b[0m                                 Traceback (most recent call last)",
      "\u001b[0;32m/var/folders/5z/1xxxzf610_7gxv7scl0v99240000gn/T/ipykernel_1449/3243438587.py\u001b[0m in \u001b[0;36m<module>\u001b[0;34m\u001b[0m\n\u001b[0;32m----> 1\u001b[0;31m \u001b[0mtestFunc\u001b[0m\u001b[0;34m(\u001b[0m\u001b[0mMoveDensity\u001b[0m\u001b[0;34m,\u001b[0m\u001b[0;34m[\u001b[0m\u001b[0;34m\"Microscopic.dat\"\u001b[0m\u001b[0;34m]\u001b[0m\u001b[0;34m,\u001b[0m\u001b[0;34m[\u001b[0m\u001b[0;34m\"Microscopic_after_moveDensity.dat\"\u001b[0m\u001b[0;34m]\u001b[0m\u001b[0;34m)\u001b[0m\u001b[0;34m\u001b[0m\u001b[0;34m\u001b[0m\u001b[0m\n\u001b[0m",
      "\u001b[0;31mNameError\u001b[0m: name 'MoveDensity' is not defined"
     ]
    }
   ],
   "source": [
    "testFunc(MoveDensity,[\"Microscopic.dat\"],[\"Microscopic_after_moveDensity.dat\"])"
   ]
  },
  {
   "cell_type": "code",
   "execution_count": 17,
   "metadata": {
    "colab": {
     "base_uri": "https://localhost:8080/"
    },
    "id": "1nhWSYpteJSQ",
    "outputId": "0c9a5323-095c-47dc-fee0-77f8fb112c64",
    "tags": [
     "hide-output"
    ]
   },
   "outputs": [
    {
     "ename": "FileNotFoundError",
     "evalue": "[Errno 2] No such file or directory: 'Microscopic.dat'",
     "output_type": "error",
     "traceback": [
      "\u001b[0;31m---------------------------------------------------------------------------\u001b[0m",
      "\u001b[0;31mFileNotFoundError\u001b[0m                         Traceback (most recent call last)",
      "\u001b[0;32m/var/folders/5z/1xxxzf610_7gxv7scl0v99240000gn/T/ipykernel_1449/1149084007.py\u001b[0m in \u001b[0;36m<module>\u001b[0;34m\u001b[0m\n\u001b[0;32m----> 1\u001b[0;31m \u001b[0mtestFunc\u001b[0m\u001b[0;34m(\u001b[0m\u001b[0;32mlambda\u001b[0m \u001b[0mx\u001b[0m\u001b[0;34m:\u001b[0m \u001b[0mMove\u001b[0m\u001b[0;34m(\u001b[0m\u001b[0mx\u001b[0m\u001b[0;34m,\u001b[0m\u001b[0mGenerateCylinderObstacle\u001b[0m\u001b[0;34m(\u001b[0m\u001b[0;34m)\u001b[0m\u001b[0;34m)\u001b[0m\u001b[0;34m,\u001b[0m\u001b[0;34m[\u001b[0m\u001b[0;34m\"Microscopic.dat\"\u001b[0m\u001b[0;34m]\u001b[0m\u001b[0;34m,\u001b[0m\u001b[0;34m[\u001b[0m\u001b[0;34m\"Microscopic_after_move.dat\"\u001b[0m\u001b[0;34m]\u001b[0m\u001b[0;34m)\u001b[0m\u001b[0;34m\u001b[0m\u001b[0;34m\u001b[0m\u001b[0m\n\u001b[0m",
      "\u001b[0;32m/var/folders/5z/1xxxzf610_7gxv7scl0v99240000gn/T/ipykernel_1449/3739739110.py\u001b[0m in \u001b[0;36mtestFunc\u001b[0;34m(func, inFiles, outFiles)\u001b[0m\n\u001b[1;32m     20\u001b[0m \u001b[0;34m\u001b[0m\u001b[0m\n\u001b[1;32m     21\u001b[0m \u001b[0;32mdef\u001b[0m \u001b[0mtestFunc\u001b[0m\u001b[0;34m(\u001b[0m\u001b[0mfunc\u001b[0m\u001b[0;34m,\u001b[0m\u001b[0minFiles\u001b[0m\u001b[0;34m,\u001b[0m\u001b[0moutFiles\u001b[0m\u001b[0;34m)\u001b[0m\u001b[0;34m:\u001b[0m\u001b[0;34m\u001b[0m\u001b[0;34m\u001b[0m\u001b[0m\n\u001b[0;32m---> 22\u001b[0;31m     \u001b[0minputs\u001b[0m  \u001b[0;34m=\u001b[0m \u001b[0;34m[\u001b[0m\u001b[0mpickle\u001b[0m\u001b[0;34m.\u001b[0m\u001b[0mload\u001b[0m\u001b[0;34m(\u001b[0m\u001b[0mopen\u001b[0m\u001b[0;34m(\u001b[0m\u001b[0mf\u001b[0m\u001b[0;34m,\u001b[0m\u001b[0;34m\"rb\"\u001b[0m\u001b[0;34m)\u001b[0m\u001b[0;34m)\u001b[0m \u001b[0;32mfor\u001b[0m \u001b[0mf\u001b[0m \u001b[0;32min\u001b[0m \u001b[0minFiles\u001b[0m\u001b[0;34m]\u001b[0m\u001b[0;34m\u001b[0m\u001b[0;34m\u001b[0m\u001b[0m\n\u001b[0m\u001b[1;32m     23\u001b[0m     \u001b[0moutputs\u001b[0m \u001b[0;34m=\u001b[0m \u001b[0;34m[\u001b[0m\u001b[0mpickle\u001b[0m\u001b[0;34m.\u001b[0m\u001b[0mload\u001b[0m\u001b[0;34m(\u001b[0m\u001b[0mopen\u001b[0m\u001b[0;34m(\u001b[0m\u001b[0mf\u001b[0m\u001b[0;34m,\u001b[0m\u001b[0;34m\"rb\"\u001b[0m\u001b[0;34m)\u001b[0m\u001b[0;34m)\u001b[0m \u001b[0;32mfor\u001b[0m \u001b[0mf\u001b[0m \u001b[0;32min\u001b[0m \u001b[0moutFiles\u001b[0m\u001b[0;34m]\u001b[0m\u001b[0;34m\u001b[0m\u001b[0;34m\u001b[0m\u001b[0m\n\u001b[1;32m     24\u001b[0m     \u001b[0mresult\u001b[0m  \u001b[0;34m=\u001b[0m \u001b[0mfunc\u001b[0m\u001b[0;34m(\u001b[0m\u001b[0;34m*\u001b[0m\u001b[0minputs\u001b[0m\u001b[0;34m)\u001b[0m\u001b[0;34m\u001b[0m\u001b[0;34m\u001b[0m\u001b[0m\n",
      "\u001b[0;32m/var/folders/5z/1xxxzf610_7gxv7scl0v99240000gn/T/ipykernel_1449/3739739110.py\u001b[0m in \u001b[0;36m<listcomp>\u001b[0;34m(.0)\u001b[0m\n\u001b[1;32m     20\u001b[0m \u001b[0;34m\u001b[0m\u001b[0m\n\u001b[1;32m     21\u001b[0m \u001b[0;32mdef\u001b[0m \u001b[0mtestFunc\u001b[0m\u001b[0;34m(\u001b[0m\u001b[0mfunc\u001b[0m\u001b[0;34m,\u001b[0m\u001b[0minFiles\u001b[0m\u001b[0;34m,\u001b[0m\u001b[0moutFiles\u001b[0m\u001b[0;34m)\u001b[0m\u001b[0;34m:\u001b[0m\u001b[0;34m\u001b[0m\u001b[0;34m\u001b[0m\u001b[0m\n\u001b[0;32m---> 22\u001b[0;31m     \u001b[0minputs\u001b[0m  \u001b[0;34m=\u001b[0m \u001b[0;34m[\u001b[0m\u001b[0mpickle\u001b[0m\u001b[0;34m.\u001b[0m\u001b[0mload\u001b[0m\u001b[0;34m(\u001b[0m\u001b[0mopen\u001b[0m\u001b[0;34m(\u001b[0m\u001b[0mf\u001b[0m\u001b[0;34m,\u001b[0m\u001b[0;34m\"rb\"\u001b[0m\u001b[0;34m)\u001b[0m\u001b[0;34m)\u001b[0m \u001b[0;32mfor\u001b[0m \u001b[0mf\u001b[0m \u001b[0;32min\u001b[0m \u001b[0minFiles\u001b[0m\u001b[0;34m]\u001b[0m\u001b[0;34m\u001b[0m\u001b[0;34m\u001b[0m\u001b[0m\n\u001b[0m\u001b[1;32m     23\u001b[0m     \u001b[0moutputs\u001b[0m \u001b[0;34m=\u001b[0m \u001b[0;34m[\u001b[0m\u001b[0mpickle\u001b[0m\u001b[0;34m.\u001b[0m\u001b[0mload\u001b[0m\u001b[0;34m(\u001b[0m\u001b[0mopen\u001b[0m\u001b[0;34m(\u001b[0m\u001b[0mf\u001b[0m\u001b[0;34m,\u001b[0m\u001b[0;34m\"rb\"\u001b[0m\u001b[0;34m)\u001b[0m\u001b[0;34m)\u001b[0m \u001b[0;32mfor\u001b[0m \u001b[0mf\u001b[0m \u001b[0;32min\u001b[0m \u001b[0moutFiles\u001b[0m\u001b[0;34m]\u001b[0m\u001b[0;34m\u001b[0m\u001b[0;34m\u001b[0m\u001b[0m\n\u001b[1;32m     24\u001b[0m     \u001b[0mresult\u001b[0m  \u001b[0;34m=\u001b[0m \u001b[0mfunc\u001b[0m\u001b[0;34m(\u001b[0m\u001b[0;34m*\u001b[0m\u001b[0minputs\u001b[0m\u001b[0;34m)\u001b[0m\u001b[0;34m\u001b[0m\u001b[0;34m\u001b[0m\u001b[0m\n",
      "\u001b[0;31mFileNotFoundError\u001b[0m: [Errno 2] No such file or directory: 'Microscopic.dat'"
     ]
    }
   ],
   "source": [
    "testFunc(lambda x: Move(x,GenerateCylinderObstacle()),[\"Microscopic.dat\"],[\"Microscopic_after_move.dat\"])"
   ]
  },
  {
   "cell_type": "markdown",
   "metadata": {
    "id": "lpUCcYZgeJSQ"
   },
   "source": [
    "### f.  Boundary conditions"
   ]
  },
  {
   "cell_type": "markdown",
   "metadata": {
    "id": "_V1XL5c_eJSQ"
   },
   "source": [
    "In the y-direction, we are just going to assume that the boundary conditions are periodic. For the x-direction, we are going to assign certain boundary conditions on the left and right.  \n",
    "\n",
    "Let's call this function `FixBoundary(n,n_init)` which applies these boundary conditions and returns the new density `n`.\n",
    "\n",
    "**Left:** we are going to assume that there is a flow - this means that the microscopic densities are the same at each step.  Therefore, what we should do is simply replace the current densities on the left-most row with the initial microscopic densities (`n_init`).\n",
    "\n",
    "**Right:** we are going to assume that the gradient is zero - i.e. the important physics has dissapeared by this point.  To do this, we will set \n",
    "\n",
    "```python\n",
    "# loop over all microscopic velocities vL that are going left \n",
    "   nout[vL,-1,:] = nout[vL,-2,:] \n",
    "```\n",
    "*Hint:* there are 3 `vL`s.\n",
    "\n",
    "\n",
    "🦉Put all of this together and run the next test!\n",
    "\n",
    "Testing:\n",
    "```python\n",
    "testFunc(FixBoundary,[\"Microscopic.dat\",\"Microscopic2.dat\"], [\"Microscopic_after_boundary.dat\"])\n",
    "```\n"
   ]
  },
  {
   "cell_type": "markdown",
   "metadata": {
    "id": "A3OETCc9eJSQ"
   },
   "source": [
    "#### Test:"
   ]
  },
  {
   "cell_type": "code",
   "execution_count": 18,
   "metadata": {
    "colab": {
     "base_uri": "https://localhost:8080/"
    },
    "id": "MeXS2YWteJSQ",
    "outputId": "7d1e5ef8-eef0-45ca-ac9d-aa3fca450279",
    "tags": [
     "hide-output"
    ]
   },
   "outputs": [
    {
     "ename": "NameError",
     "evalue": "name 'FixBoundary' is not defined",
     "output_type": "error",
     "traceback": [
      "\u001b[0;31m---------------------------------------------------------------------------\u001b[0m",
      "\u001b[0;31mNameError\u001b[0m                                 Traceback (most recent call last)",
      "\u001b[0;32m/var/folders/5z/1xxxzf610_7gxv7scl0v99240000gn/T/ipykernel_1449/239426050.py\u001b[0m in \u001b[0;36m<module>\u001b[0;34m\u001b[0m\n\u001b[1;32m      4\u001b[0m \u001b[0;31m#pickle.dump( FixBoundary(microscopicDensity,microscopicDensity2), open( \"Microscopic_after_boundary.dat\", \"wb\" ) )\u001b[0m\u001b[0;34m\u001b[0m\u001b[0;34m\u001b[0m\u001b[0;34m\u001b[0m\u001b[0m\n\u001b[1;32m      5\u001b[0m \u001b[0;31m#!Stop\u001b[0m\u001b[0;34m\u001b[0m\u001b[0;34m\u001b[0m\u001b[0;34m\u001b[0m\u001b[0m\n\u001b[0;32m----> 6\u001b[0;31m \u001b[0mtestFunc\u001b[0m\u001b[0;34m(\u001b[0m\u001b[0mFixBoundary\u001b[0m\u001b[0;34m,\u001b[0m\u001b[0;34m[\u001b[0m\u001b[0;34m\"Microscopic.dat\"\u001b[0m\u001b[0;34m,\u001b[0m\u001b[0;34m\"Microscopic2.dat\"\u001b[0m\u001b[0;34m]\u001b[0m\u001b[0;34m,\u001b[0m \u001b[0;34m[\u001b[0m\u001b[0;34m\"Microscopic_after_boundary.dat\"\u001b[0m\u001b[0;34m]\u001b[0m\u001b[0;34m)\u001b[0m\u001b[0;34m\u001b[0m\u001b[0;34m\u001b[0m\u001b[0m\n\u001b[0m",
      "\u001b[0;31mNameError\u001b[0m: name 'FixBoundary' is not defined"
     ]
    }
   ],
   "source": [
    "#!Start\n",
    "#microscopicDensity2=np.random.random((9,nx,ny))\n",
    "#pickle.dump(microscopicDensity2,open( \"Microscopic2.dat\",\"wb\"))\n",
    "#pickle.dump( FixBoundary(microscopicDensity,microscopicDensity2), open( \"Microscopic_after_boundary.dat\", \"wb\" ) )\n",
    "#!Stop\n",
    "testFunc(FixBoundary,[\"Microscopic.dat\",\"Microscopic2.dat\"], [\"Microscopic_after_boundary.dat\"])"
   ]
  },
  {
   "cell_type": "markdown",
   "metadata": {
    "id": "PEh51wireJSQ"
   },
   "source": [
    "### g. Setting up the initial conditions"
   ]
  },
  {
   "cell_type": "markdown",
   "metadata": {
    "id": "MiCx7V2-eJSQ"
   },
   "source": [
    "We need to generate an initial conditions. The way that we are going to do that is \n",
    "* pick some macroscopic density $\\rho$ of size $(n_x,n_y)$ (uniformly equal to 1.0) and a \n",
    "* macroscopic velocity $\\vec{u}(i,j)$ (sizes $(2,n_x,n_y)$)\n",
    "    * `0.04*(1.0+1e-4*np.sin(y/(ny)*2*np.pi))` in the x-direction (aka 0). This introduces a very tiny anisotropy to the system.\n",
    "    *  zero in the y-direction (aka 1)\n",
    "* compute the equilibrium density $n_{eq}$ associated with the initial density and velocities.   \n",
    "**Use (and return) this as the initial conditions**\n",
    "\n",
    "🦉Write a function `Setup()` which returns the initial microscopic densities.  Remember to save this as you will need it to apply your boundary conditions. \n",
    "\n",
    "I get the following when I visualize it as `plt.matshow(Setup()[3].transpose())`\n",
    "\n",
    "<div><img src=\"https://clark.physics.illinois.edu/246img/FD_initialCondition.png\" width=800  alt=\"Answer (start)\"></img><br></div>\n",
    "\n",
    "A quick test here is just to check that the following:\n",
    "```python\n",
    "print(\"All good?\",(np.abs(np.max(Setup())-0.443377991)<1e-5) and ((np.abs(np.min(Setup())-0.0245774711)<1e-5)))\n",
    "```"
   ]
  },
  {
   "cell_type": "markdown",
   "metadata": {
    "id": "JPpWekg5eJSR"
   },
   "source": [
    "#### Test:"
   ]
  },
  {
   "cell_type": "code",
   "execution_count": 19,
   "metadata": {
    "colab": {
     "base_uri": "https://localhost:8080/"
    },
    "id": "Ck_7eWSOeJSR",
    "outputId": "83dae73f-2d8e-480a-c91c-6dcea6910acf",
    "tags": [
     "hide-output"
    ]
   },
   "outputs": [
    {
     "ename": "NameError",
     "evalue": "name 'Setup' is not defined",
     "output_type": "error",
     "traceback": [
      "\u001b[0;31m---------------------------------------------------------------------------\u001b[0m",
      "\u001b[0;31mNameError\u001b[0m                                 Traceback (most recent call last)",
      "\u001b[0;32m/var/folders/5z/1xxxzf610_7gxv7scl0v99240000gn/T/ipykernel_1449/4075721444.py\u001b[0m in \u001b[0;36m<module>\u001b[0;34m\u001b[0m\n\u001b[0;32m----> 1\u001b[0;31m \u001b[0mprint\u001b[0m\u001b[0;34m(\u001b[0m\u001b[0;34m\"All good?\"\u001b[0m\u001b[0;34m,\u001b[0m\u001b[0;34m(\u001b[0m\u001b[0mnp\u001b[0m\u001b[0;34m.\u001b[0m\u001b[0mabs\u001b[0m\u001b[0;34m(\u001b[0m\u001b[0mnp\u001b[0m\u001b[0;34m.\u001b[0m\u001b[0mmax\u001b[0m\u001b[0;34m(\u001b[0m\u001b[0mSetup\u001b[0m\u001b[0;34m(\u001b[0m\u001b[0;34m)\u001b[0m\u001b[0;34m)\u001b[0m\u001b[0;34m-\u001b[0m\u001b[0;36m0.443377991\u001b[0m\u001b[0;34m)\u001b[0m\u001b[0;34m<\u001b[0m\u001b[0;36m1e-5\u001b[0m\u001b[0;34m)\u001b[0m \u001b[0;32mand\u001b[0m \u001b[0;34m(\u001b[0m\u001b[0;34m(\u001b[0m\u001b[0mnp\u001b[0m\u001b[0;34m.\u001b[0m\u001b[0mabs\u001b[0m\u001b[0;34m(\u001b[0m\u001b[0mnp\u001b[0m\u001b[0;34m.\u001b[0m\u001b[0mmin\u001b[0m\u001b[0;34m(\u001b[0m\u001b[0mSetup\u001b[0m\u001b[0;34m(\u001b[0m\u001b[0;34m)\u001b[0m\u001b[0;34m)\u001b[0m\u001b[0;34m-\u001b[0m\u001b[0;36m0.0245774711\u001b[0m\u001b[0;34m)\u001b[0m\u001b[0;34m<\u001b[0m\u001b[0;36m1e-5\u001b[0m\u001b[0;34m)\u001b[0m\u001b[0;34m)\u001b[0m\u001b[0;34m)\u001b[0m\u001b[0;34m\u001b[0m\u001b[0;34m\u001b[0m\u001b[0m\n\u001b[0m",
      "\u001b[0;31mNameError\u001b[0m: name 'Setup' is not defined"
     ]
    }
   ],
   "source": [
    "print(\"All good?\",(np.abs(np.max(Setup())-0.443377991)<1e-5) and ((np.abs(np.min(Setup())-0.0245774711)<1e-5)))"
   ]
  },
  {
   "cell_type": "markdown",
   "metadata": {
    "id": "qV-6v3NIeJSR"
   },
   "source": [
    "### h. Putting it all together"
   ]
  },
  {
   "cell_type": "markdown",
   "metadata": {
    "collapsed": true,
    "id": "rQBPfIMReJSR"
   },
   "source": [
    "🦉Write a function `Run(steps,record,n,n_init,obstacle)` (up in your function-cell) which takes \n",
    "* the number of steps `steps` you want to run\n",
    "* how often you want to `record` the velocity and density\n",
    "* the microscopic densities `n` to start running from\n",
    "* as well as the initial microscopic densities `n_init` for the boundary conditions (often equal to `n.copy()`) \n",
    "* and the obstacle boolean array.\n",
    "\n",
    "Each step consists of:\n",
    "1. Adjust boundary conditions\n",
    "2. Collide the microscopic densities\n",
    "3. Move the microscopic densities\n",
    "\n",
    "It should return\n",
    "* a list of macroscopic densities `rhos`\n",
    "* a list of macroscopic velocities `us`\n",
    "    * This will be `u2=`$\\sqrt{\\vec{u}\\cdot\\vec{u}}$\n",
    "    * To help us later, store these as `u2.transpose()`\n",
    "* the last microscopic density `n`\n",
    "\n",
    "Now (below) call your `Setup` and `Run` functions. Then plot the final configuration (something like `plt.matshow(us[-1])`).  \n",
    "\n",
    "🦉Run for 2001 steps recording every 100 steps. "
   ]
  },
  {
   "cell_type": "markdown",
   "metadata": {
    "id": "cVbZEgWReJSR"
   },
   "source": [
    "#### Answer:"
   ]
  },
  {
   "cell_type": "code",
   "execution_count": 20,
   "metadata": {
    "id": "Txkb3StieJSR",
    "tags": [
     "hide-output"
    ]
   },
   "outputs": [
    {
     "ename": "NameError",
     "evalue": "name 'Setup' is not defined",
     "output_type": "error",
     "traceback": [
      "\u001b[0;31m---------------------------------------------------------------------------\u001b[0m",
      "\u001b[0;31mNameError\u001b[0m                                 Traceback (most recent call last)",
      "\u001b[0;32m/var/folders/5z/1xxxzf610_7gxv7scl0v99240000gn/T/ipykernel_1449/1772239070.py\u001b[0m in \u001b[0;36m<module>\u001b[0;34m\u001b[0m\n\u001b[1;32m      1\u001b[0m \u001b[0;31m#!Start\u001b[0m\u001b[0;34m\u001b[0m\u001b[0;34m\u001b[0m\u001b[0;34m\u001b[0m\u001b[0m\n\u001b[0;32m----> 2\u001b[0;31m \u001b[0mfin\u001b[0m\u001b[0;34m=\u001b[0m\u001b[0mSetup\u001b[0m\u001b[0;34m(\u001b[0m\u001b[0;34m)\u001b[0m\u001b[0;34m\u001b[0m\u001b[0;34m\u001b[0m\u001b[0m\n\u001b[0m\u001b[1;32m      3\u001b[0m \u001b[0mfeq_init\u001b[0m\u001b[0;34m=\u001b[0m\u001b[0mfin\u001b[0m\u001b[0;34m.\u001b[0m\u001b[0mcopy\u001b[0m\u001b[0;34m(\u001b[0m\u001b[0;34m)\u001b[0m\u001b[0;34m\u001b[0m\u001b[0;34m\u001b[0m\u001b[0m\n\u001b[1;32m      4\u001b[0m \u001b[0mobstacle\u001b[0m\u001b[0;34m=\u001b[0m\u001b[0mGenerateCylinderObstacle\u001b[0m\u001b[0;34m(\u001b[0m\u001b[0;34m)\u001b[0m\u001b[0;34m\u001b[0m\u001b[0;34m\u001b[0m\u001b[0m\n\u001b[1;32m      5\u001b[0m \u001b[0;31m#!Stop\u001b[0m\u001b[0;34m\u001b[0m\u001b[0;34m\u001b[0m\u001b[0;34m\u001b[0m\u001b[0m\n",
      "\u001b[0;31mNameError\u001b[0m: name 'Setup' is not defined"
     ]
    }
   ],
   "source": [
    "#!Start\n",
    "fin=Setup()\n",
    "feq_init=fin.copy()\n",
    "obstacle=GenerateCylinderObstacle()\n",
    "#!Stop"
   ]
  },
  {
   "cell_type": "code",
   "execution_count": 21,
   "metadata": {
    "colab": {
     "base_uri": "https://localhost:8080/",
     "height": 1000
    },
    "id": "s6rlOiOleJSR",
    "outputId": "f597cb20-f568-4473-afe6-db3258167311",
    "scrolled": true,
    "tags": [
     "hide-output"
    ]
   },
   "outputs": [
    {
     "ename": "NameError",
     "evalue": "name 'fin' is not defined",
     "output_type": "error",
     "traceback": [
      "\u001b[0;31m---------------------------------------------------------------------------\u001b[0m",
      "\u001b[0;31mNameError\u001b[0m                                 Traceback (most recent call last)",
      "\u001b[0;32m/var/folders/5z/1xxxzf610_7gxv7scl0v99240000gn/T/ipykernel_1449/104084777.py\u001b[0m in \u001b[0;36m<module>\u001b[0;34m\u001b[0m\n\u001b[1;32m      1\u001b[0m \u001b[0;31m#!Start\u001b[0m\u001b[0;34m\u001b[0m\u001b[0;34m\u001b[0m\u001b[0;34m\u001b[0m\u001b[0m\n\u001b[1;32m      2\u001b[0m \u001b[0mfins\u001b[0m\u001b[0;34m=\u001b[0m\u001b[0mrhos\u001b[0m\u001b[0;34m=\u001b[0m\u001b[0mus\u001b[0m\u001b[0;34m=\u001b[0m \u001b[0;34m[\u001b[0m\u001b[0;32mNone\u001b[0m\u001b[0;34m]\u001b[0m \u001b[0;34m*\u001b[0m \u001b[0;36m21\u001b[0m\u001b[0;34m\u001b[0m\u001b[0;34m\u001b[0m\u001b[0m\n\u001b[0;32m----> 3\u001b[0;31m \u001b[0mfins\u001b[0m\u001b[0;34m[\u001b[0m\u001b[0;36m0\u001b[0m\u001b[0;34m]\u001b[0m\u001b[0;34m=\u001b[0m\u001b[0mfin\u001b[0m\u001b[0;34m.\u001b[0m\u001b[0mcopy\u001b[0m\u001b[0;34m(\u001b[0m\u001b[0;34m)\u001b[0m\u001b[0;34m\u001b[0m\u001b[0;34m\u001b[0m\u001b[0m\n\u001b[0m\u001b[1;32m      4\u001b[0m \u001b[0;32mfor\u001b[0m \u001b[0mi\u001b[0m \u001b[0;32min\u001b[0m \u001b[0mrange\u001b[0m\u001b[0;34m(\u001b[0m\u001b[0;36m0\u001b[0m\u001b[0;34m,\u001b[0m\u001b[0;36m20\u001b[0m\u001b[0;34m)\u001b[0m\u001b[0;34m:\u001b[0m\u001b[0;34m\u001b[0m\u001b[0;34m\u001b[0m\u001b[0m\n\u001b[1;32m      5\u001b[0m     \u001b[0mget_ipython\u001b[0m\u001b[0;34m(\u001b[0m\u001b[0;34m)\u001b[0m\u001b[0;34m.\u001b[0m\u001b[0mrun_line_magic\u001b[0m\u001b[0;34m(\u001b[0m\u001b[0;34m'time'\u001b[0m\u001b[0;34m,\u001b[0m \u001b[0;34m'(rhos[i],us[i],fins[i+1])=Run(2000,100,fins[i],feq_init,obstacle)'\u001b[0m\u001b[0;34m)\u001b[0m\u001b[0;34m\u001b[0m\u001b[0;34m\u001b[0m\u001b[0m\n",
      "\u001b[0;31mNameError\u001b[0m: name 'fin' is not defined"
     ]
    }
   ],
   "source": [
    "#!Start\n",
    "fins=rhos=us= [None] * 21\n",
    "fins[0]=fin.copy()\n",
    "for i in range(0,20):\n",
    "    %time (rhos[i],us[i],fins[i+1])=Run(2001,100,fins[i],feq_init,obstacle)\n",
    "#!Stop"
   ]
  },
  {
   "cell_type": "markdown",
   "metadata": {
    "id": "4FQznVK5eJSR"
   },
   "source": [
    "### i. Animation"
   ]
  },
  {
   "cell_type": "markdown",
   "metadata": {
    "id": "WiSt15FleJSR"
   },
   "source": [
    "🦉Now write a function `AnimateMe(us_flat,vMax)` which is going to take a list of velocities `us_flat` (and maximum for the `vMax`) and going to return an animation which is going to be then produced by calling \n",
    "```python\n",
    "anim = AnimateMe(us,vMax)\n",
    "HTML(anim.to_jshtml())\n",
    "```\n",
    "\n",
    "This function will look like:\n",
    "```python\n",
    "def AnimateMe(us_flat,vMax):\n",
    "    fig, ax = plt.subplots()\n",
    "    cax = ax.imshow(us_flat[1],cmap=plt.cm.Reds,vmin=0,vmax=vMax)\n",
    "    plt.close(fig)\n",
    "    def animate(i):\n",
    "         cax.set_array(us_flat[i])\n",
    "\n",
    "    anim = FuncAnimation(fig, animate, interval=100, frames=len(us_flat))\n",
    "    return anim\n",
    "```\n",
    "\n"
   ]
  },
  {
   "cell_type": "markdown",
   "metadata": {
    "id": "VOyHg6C1eJSS"
   },
   "source": [
    "#### Answer:"
   ]
  },
  {
   "cell_type": "code",
   "execution_count": 22,
   "metadata": {
    "colab": {
     "base_uri": "https://localhost:8080/",
     "height": 385
    },
    "id": "s-79fLhseJSS",
    "outputId": "062d3af3-f5ff-4369-b573-fb7d86db2d81",
    "tags": [
     "hide-output"
    ]
   },
   "outputs": [
    {
     "ename": "TypeError",
     "evalue": "'NoneType' object is not iterable",
     "output_type": "error",
     "traceback": [
      "\u001b[0;31m---------------------------------------------------------------------------\u001b[0m",
      "\u001b[0;31mTypeError\u001b[0m                                 Traceback (most recent call last)",
      "\u001b[0;32m/var/folders/5z/1xxxzf610_7gxv7scl0v99240000gn/T/ipykernel_1449/1102925857.py\u001b[0m in \u001b[0;36m<module>\u001b[0;34m\u001b[0m\n\u001b[1;32m      1\u001b[0m \u001b[0;31m#!Start\u001b[0m\u001b[0;34m\u001b[0m\u001b[0;34m\u001b[0m\u001b[0;34m\u001b[0m\u001b[0m\n\u001b[0;32m----> 2\u001b[0;31m \u001b[0mus_flat\u001b[0m \u001b[0;34m=\u001b[0m \u001b[0mlist\u001b[0m\u001b[0;34m(\u001b[0m\u001b[0mitertools\u001b[0m\u001b[0;34m.\u001b[0m\u001b[0mchain\u001b[0m\u001b[0;34m.\u001b[0m\u001b[0mfrom_iterable\u001b[0m\u001b[0;34m(\u001b[0m\u001b[0mus\u001b[0m\u001b[0;34m[\u001b[0m\u001b[0;34m:\u001b[0m\u001b[0;34m-\u001b[0m\u001b[0;36m1\u001b[0m\u001b[0;34m]\u001b[0m\u001b[0;34m)\u001b[0m\u001b[0;34m)\u001b[0m\u001b[0;34m\u001b[0m\u001b[0;34m\u001b[0m\u001b[0m\n\u001b[0m\u001b[1;32m      3\u001b[0m \u001b[0;31m#us_flat = list(itertools.chain.from_iterable(us[0:17]))\u001b[0m\u001b[0;34m\u001b[0m\u001b[0;34m\u001b[0m\u001b[0;34m\u001b[0m\u001b[0m\n\u001b[1;32m      4\u001b[0m \u001b[0manim\u001b[0m\u001b[0;34m=\u001b[0m\u001b[0mAnimateMe\u001b[0m\u001b[0;34m(\u001b[0m\u001b[0mus_flat\u001b[0m\u001b[0;34m,\u001b[0m\u001b[0;36m0.07\u001b[0m\u001b[0;34m)\u001b[0m\u001b[0;34m\u001b[0m\u001b[0;34m\u001b[0m\u001b[0m\n\u001b[1;32m      5\u001b[0m \u001b[0mHTML\u001b[0m\u001b[0;34m(\u001b[0m\u001b[0manim\u001b[0m\u001b[0;34m.\u001b[0m\u001b[0mto_jshtml\u001b[0m\u001b[0;34m(\u001b[0m\u001b[0;34m)\u001b[0m\u001b[0;34m)\u001b[0m\u001b[0;34m\u001b[0m\u001b[0;34m\u001b[0m\u001b[0m\n",
      "\u001b[0;31mTypeError\u001b[0m: 'NoneType' object is not iterable"
     ]
    }
   ],
   "source": [
    "#!Start\n",
    "us_flat = list(itertools.chain.from_iterable(us[:-1]))\n",
    "#us_flat = list(itertools.chain.from_iterable(us[0:17]))\n",
    "anim=AnimateMe(us_flat,0.07)\n",
    "HTML(anim.to_jshtml())\n",
    "#!Stop"
   ]
  },
  {
   "cell_type": "markdown",
   "metadata": {
    "id": "vHCmCn8DeJSb"
   },
   "source": [
    "### j. Speed Test (EC)\n",
    "*5 Points*"
   ]
  },
  {
   "cell_type": "markdown",
   "metadata": {
    "id": "SHvgCvRZeJSb"
   },
   "source": [
    "Our code for for `%time Run(2000,3000,Setup(),Setup(),GenerateCylinderObstacle())` takes between 45 and 60 seconds. We'll give 5 points if you can make your code faster than 40 seconds runtime (on the server). Warning: we aren't sure this is possible!"
   ]
  },
  {
   "cell_type": "markdown",
   "metadata": {
    "id": "WV1IFCBNeJSb"
   },
   "source": [
    "#### Answer:"
   ]
  },
  {
   "cell_type": "code",
   "execution_count": null,
   "metadata": {
    "id": "GRwdoaedeJSb"
   },
   "outputs": [],
   "source": []
  },
  {
   "cell_type": "markdown",
   "metadata": {
    "id": "-UkPR4PoeJSb"
   },
   "source": [
    "## Exercise 2: Walls"
   ]
  },
  {
   "cell_type": "markdown",
   "metadata": {
    "id": "8ToHJ2TMeJSb"
   },
   "source": [
    "* **List of collaborators:**\n",
    "\n",
    "* **References you used in developing your code:**"
   ]
  },
  {
   "cell_type": "markdown",
   "metadata": {
    "id": "NbbqddRWeJSb"
   },
   "source": [
    "In this exercise we are going to use all the same code but generate a different object.  Here generate an object which consists of two walls:\n",
    "* one spans $50 \\leq x \\leq 60$ and $n_y/4 \\leq y \\leq 3n_y/4$\n",
    "* the other spans $200 \\leq x \\leq 210$ and $n_y/4 \\leq y \\leq 3n_y/4$\n",
    "\n",
    "🦉Run your code again with this new obstacle and generate a new animation. "
   ]
  },
  {
   "cell_type": "markdown",
   "metadata": {
    "id": "woq9eSxCeJSc"
   },
   "source": [
    "#### Answer:"
   ]
  },
  {
   "cell_type": "code",
   "execution_count": 23,
   "metadata": {
    "colab": {
     "base_uri": "https://localhost:8080/",
     "height": 1000
    },
    "id": "s14cSmNaeJSc",
    "outputId": "d7d81e4f-b33f-4030-8bef-00e3bdde1617",
    "tags": [
     "hide-output"
    ]
   },
   "outputs": [
    {
     "ename": "NameError",
     "evalue": "name 'Setup' is not defined",
     "output_type": "error",
     "traceback": [
      "\u001b[0;31m---------------------------------------------------------------------------\u001b[0m",
      "\u001b[0;31mNameError\u001b[0m                                 Traceback (most recent call last)",
      "\u001b[0;32m/var/folders/5z/1xxxzf610_7gxv7scl0v99240000gn/T/ipykernel_1449/165298796.py\u001b[0m in \u001b[0;36m<module>\u001b[0;34m\u001b[0m\n\u001b[1;32m      1\u001b[0m \u001b[0;31m#!Start\u001b[0m\u001b[0;34m\u001b[0m\u001b[0;34m\u001b[0m\u001b[0;34m\u001b[0m\u001b[0m\n\u001b[0;32m----> 2\u001b[0;31m \u001b[0mfin\u001b[0m\u001b[0;34m=\u001b[0m\u001b[0mSetup\u001b[0m\u001b[0;34m(\u001b[0m\u001b[0;34m)\u001b[0m\u001b[0;34m\u001b[0m\u001b[0;34m\u001b[0m\u001b[0m\n\u001b[0m\u001b[1;32m      3\u001b[0m \u001b[0mfeq_init\u001b[0m\u001b[0;34m=\u001b[0m\u001b[0mfin\u001b[0m\u001b[0;34m.\u001b[0m\u001b[0mcopy\u001b[0m\u001b[0;34m(\u001b[0m\u001b[0;34m)\u001b[0m\u001b[0;34m\u001b[0m\u001b[0;34m\u001b[0m\u001b[0m\n\u001b[1;32m      4\u001b[0m \u001b[0;34m\u001b[0m\u001b[0m\n\u001b[1;32m      5\u001b[0m \u001b[0mobstacle\u001b[0m\u001b[0;34m=\u001b[0m\u001b[0mGenerateWallObstacle\u001b[0m\u001b[0;34m(\u001b[0m\u001b[0;34m)\u001b[0m\u001b[0;34m\u001b[0m\u001b[0;34m\u001b[0m\u001b[0m\n",
      "\u001b[0;31mNameError\u001b[0m: name 'Setup' is not defined"
     ]
    }
   ],
   "source": [
    "#!Start\n",
    "fin=Setup()\n",
    "feq_init=fin.copy()\n",
    "\n",
    "obstacle=GenerateWallObstacle()\n",
    "fins=rhos=us= [None] * 21\n",
    "fins[0]=fin.copy()\n",
    "for i in range(0,20):\n",
    "    %time (rhos[i],us[i],fins[i+1])=Run(2000,100,fins[i],feq_init,obstacle)\n",
    "#!Stop"
   ]
  },
  {
   "cell_type": "code",
   "execution_count": 24,
   "metadata": {
    "colab": {
     "base_uri": "https://localhost:8080/",
     "height": 385
    },
    "id": "9U4c3JVqeJSc",
    "outputId": "0480eb8d-5c00-4d54-e309-772dbb49fc5c",
    "tags": [
     "hide-output"
    ]
   },
   "outputs": [
    {
     "ename": "TypeError",
     "evalue": "'NoneType' object is not iterable",
     "output_type": "error",
     "traceback": [
      "\u001b[0;31m---------------------------------------------------------------------------\u001b[0m",
      "\u001b[0;31mTypeError\u001b[0m                                 Traceback (most recent call last)",
      "\u001b[0;32m/var/folders/5z/1xxxzf610_7gxv7scl0v99240000gn/T/ipykernel_1449/129420736.py\u001b[0m in \u001b[0;36m<module>\u001b[0;34m\u001b[0m\n\u001b[1;32m      1\u001b[0m \u001b[0;31m#!Start\u001b[0m\u001b[0;34m\u001b[0m\u001b[0;34m\u001b[0m\u001b[0;34m\u001b[0m\u001b[0m\n\u001b[0;32m----> 2\u001b[0;31m \u001b[0mus_flat\u001b[0m \u001b[0;34m=\u001b[0m \u001b[0mlist\u001b[0m\u001b[0;34m(\u001b[0m\u001b[0mitertools\u001b[0m\u001b[0;34m.\u001b[0m\u001b[0mchain\u001b[0m\u001b[0;34m.\u001b[0m\u001b[0mfrom_iterable\u001b[0m\u001b[0;34m(\u001b[0m\u001b[0mus\u001b[0m\u001b[0;34m[\u001b[0m\u001b[0;36m0\u001b[0m\u001b[0;34m:\u001b[0m\u001b[0;34m-\u001b[0m\u001b[0;36m1\u001b[0m\u001b[0;34m]\u001b[0m\u001b[0;34m)\u001b[0m\u001b[0;34m)\u001b[0m\u001b[0;34m\u001b[0m\u001b[0;34m\u001b[0m\u001b[0m\n\u001b[0m\u001b[1;32m      3\u001b[0m \u001b[0manim\u001b[0m\u001b[0;34m=\u001b[0m\u001b[0mAnimateMe\u001b[0m\u001b[0;34m(\u001b[0m\u001b[0mus_flat\u001b[0m\u001b[0;34m,\u001b[0m\u001b[0;36m0.2\u001b[0m\u001b[0;34m)\u001b[0m\u001b[0;34m\u001b[0m\u001b[0;34m\u001b[0m\u001b[0m\n\u001b[1;32m      4\u001b[0m \u001b[0mHTML\u001b[0m\u001b[0;34m(\u001b[0m\u001b[0manim\u001b[0m\u001b[0;34m.\u001b[0m\u001b[0mto_jshtml\u001b[0m\u001b[0;34m(\u001b[0m\u001b[0;34m)\u001b[0m\u001b[0;34m)\u001b[0m\u001b[0;34m\u001b[0m\u001b[0;34m\u001b[0m\u001b[0m\n\u001b[1;32m      5\u001b[0m \u001b[0;31m#!Stop\u001b[0m\u001b[0;34m\u001b[0m\u001b[0;34m\u001b[0m\u001b[0;34m\u001b[0m\u001b[0m\n",
      "\u001b[0;31mTypeError\u001b[0m: 'NoneType' object is not iterable"
     ]
    }
   ],
   "source": [
    "#!Start\n",
    "us_flat = list(itertools.chain.from_iterable(us[0:-1]))\n",
    "anim=AnimateMe(us_flat,0.2)\n",
    "HTML(anim.to_jshtml())\n",
    "#!Stop"
   ]
  },
  {
   "cell_type": "markdown",
   "metadata": {
    "id": "UsIgRiv4eJSc"
   },
   "source": [
    "## Exercise 3: Something new... (EC)\n",
    "*(Extra credit: 5 points)*\n"
   ]
  },
  {
   "cell_type": "markdown",
   "metadata": {
    "id": "0oyYHG-YeJSc"
   },
   "source": [
    "* **List of collaborators:**\n",
    "\n",
    "* **References you used in developing your code:**"
   ]
  },
  {
   "cell_type": "markdown",
   "metadata": {
    "id": "yL-LzPQdeJSc"
   },
   "source": [
    "🦉Come up with something new and cool to do with this animation code.  Maybe try out some other interesting obstacles are add some friction to the walls or such."
   ]
  },
  {
   "cell_type": "markdown",
   "metadata": {
    "id": "scQSpOhAeJSc"
   },
   "source": [
    "#### Answer:"
   ]
  },
  {
   "cell_type": "code",
   "execution_count": 23,
   "metadata": {
    "id": "6HoGffFmeJSc"
   },
   "outputs": [],
   "source": []
  },
  {
   "cell_type": "markdown",
   "metadata": {
    "id": "F3AF054DeJSc"
   },
   "source": [
    "**Acknowledgement:** This assignment originally inspired from code from flowkit.com\n",
    "* Bryan Clark (original)\n",
    "\n",
    "\n",
    "Copyright: 2021\n",
    "\n",
    "---"
   ]
  },
  {
   "cell_type": "code",
   "execution_count": null,
   "metadata": {
    "id": "BUBqhd2oet-u"
   },
   "outputs": [],
   "source": []
  }
 ],
 "metadata": {
  "colab": {
   "name": "FluidDynamics.ipynb",
   "provenance": []
  },
  "kernelspec": {
   "display_name": "Python 3 (ipykernel)",
   "language": "python",
   "name": "python3"
  },
  "language_info": {
   "codemirror_mode": {
    "name": "ipython",
    "version": 3
   },
   "file_extension": ".py",
   "mimetype": "text/x-python",
   "name": "python",
   "nbconvert_exporter": "python",
   "pygments_lexer": "ipython3",
   "version": "3.7.3"
  },
  "varInspector": {
   "cols": {
    "lenName": 16,
    "lenType": 16,
    "lenVar": 40
   },
   "kernels_config": {
    "python": {
     "delete_cmd_postfix": "",
     "delete_cmd_prefix": "del ",
     "library": "var_list.py",
     "varRefreshCmd": "print(var_dic_list())"
    },
    "r": {
     "delete_cmd_postfix": ") ",
     "delete_cmd_prefix": "rm(",
     "library": "var_list.r",
     "varRefreshCmd": "cat(var_dic_list()) "
    }
   },
   "types_to_exclude": [
    "module",
    "function",
    "builtin_function_or_method",
    "instance",
    "_Feature"
   ],
   "window_display": false
  }
 },
 "nbformat": 4,
 "nbformat_minor": 1
}
