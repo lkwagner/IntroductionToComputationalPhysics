{
 "cells": [
  {
   "cell_type": "markdown",
   "metadata": {
    "id": "orjTR9kKBDQq"
   },
   "source": [
    "# Chaos"
   ]
  },
  {
   "cell_type": "markdown",
   "metadata": {
    "id": "IUaFcWqzBDQt"
   },
   "source": [
    "* **Author:**\n",
    "\n",
    "* **Date:**\n",
    "\n",
    "* **Time spent on this assignment:**"
   ]
  },
  {
   "cell_type": "markdown",
   "metadata": {
    "id": "eOAVTAlTBDQt"
   },
   "source": [
    "*Note:* You must answer things inside the answer tags as well as questions which have an **A:**."
   ]
  },
  {
   "cell_type": "code",
   "execution_count": 4,
   "metadata": {
    "code_folding": [
     11
    ],
    "colab": {
     "base_uri": "https://localhost:8080/"
    },
    "id": "LhxUqx4YBDQu",
    "outputId": "89c9901c-659a-403f-8a6b-d83af8cee119",
    "tags": [
     "hide-cell"
    ]
   },
   "outputs": [
    {
     "data": {
      "text/plain": [
       "datetime.datetime(2021, 8, 12, 20, 17, 12, 523194)"
      ]
     },
     "execution_count": 4,
     "metadata": {},
     "output_type": "execute_result"
    }
   ],
   "source": [
    "\n",
    "import numpy as np\n",
    "import matplotlib.pyplot as plt\n",
    "import math\n",
    "#from jax.config import config\n",
    "#config.update(\"jax_enable_x64\", True)\n",
    "#from jax import jit, grad\n",
    "#import jax.numpy as jnp\n",
    "#import jax\n",
    "\n",
    "import matplotlib.animation as animation\n",
    "from IPython.display import HTML\n",
    "def resetMe(keepList=[]):\n",
    "    ll=%who_ls\n",
    "    keepList=keepList+['resetMe','np','plt','math','jax','jnp','jit','grad','HTML','animation','animateMe_singlependulum']\n",
    "    for iiii in keepList:\n",
    "        if iiii in ll:\n",
    "            ll.remove(iiii)\n",
    "    for iiii in ll:\n",
    "        jjjj=\"^\"+iiii+\"$\"\n",
    "        %reset_selective -f {jjjj}\n",
    "    ll=%who_ls\n",
    "    plt.rcParams.update({\"font.size\": 14})\n",
    "    return\n",
    "resetMe()\n",
    "import datetime;datetime.datetime.now()"
   ]
  },
  {
   "cell_type": "markdown",
   "metadata": {
    "id": "XXD2LOqjBDQv"
   },
   "source": [
    "In this project we are going to learn about pendulum and chaos.  We will start with a single pendulum, examining phase space diagrams and animating trajectories, and moving toward a double pendulum. Then we'll wrap up by using automatic differentiation to look at the same problem, recast in a different form, to write a more general solution to the double pendulum problem."
   ]
  },
  {
   "cell_type": "markdown",
   "metadata": {
    "id": "y_uZK67ZBDQw"
   },
   "source": [
    "## Exercise 1. Single Pendulum"
   ]
  },
  {
   "cell_type": "markdown",
   "metadata": {
    "id": "j7XqLpATBDQx"
   },
   "source": [
    "* **List of collaborators:**\n",
    "\n",
    "* **References you used in developing your code:**"
   ]
  },
  {
   "cell_type": "markdown",
   "metadata": {
    "id": "QMqUvdgrBDQx"
   },
   "source": [
    "You will use the following animation code for exercise 1"
   ]
  },
  {
   "cell_type": "code",
   "execution_count": 5,
   "metadata": {
    "code_folding": [
     1
    ],
    "id": "3VqGnQUgBDQy",
    "tags": [
     "hide-cell"
    ]
   },
   "outputs": [],
   "source": [
    "def animateMe_single_pendulum(positions, params): \n",
    "    positionArray=[]\n",
    "    for position in positions:\n",
    "        theta1=position[:,0]\n",
    "        x1=params['l1']*np.sin(theta1)\n",
    "        y1=-params['l1']*np.cos(theta1)\n",
    "        l=len(x1)\n",
    "        position=np.zeros((l,2))\n",
    "        position[:,0]=x1\n",
    "        position[:,1]=y1\n",
    "        positionArray.append(position)\n",
    "    \n",
    "    fig, ax = plt.subplots()\n",
    "    x_min=np.min([np.min(positions[:,0]) for positions in positionArray])*1.1\n",
    "    x_max=np.max([np.max(positions[:,0]) for positions in positionArray])*1.1    \n",
    "    y_min=np.min([np.min(positions[:,1]) for positions in positionArray])*1.1\n",
    "    y_max=np.max([np.max(positions[:,1]) for positions in positionArray])*1.1\n",
    "    y_max=np.max([y_max,0.1])\n",
    "    y_max=np.max([y_max,x_max])\n",
    "    x_max=y_max    \n",
    "    y_min=np.min([y_min,x_min])\n",
    "    x_min=y_min\n",
    "    ax = plt.axes(xlim=(x_min, x_max), ylim=(y_min, y_max));\n",
    "    ax.plot(['0'],['0'],'o')\n",
    "    lines=[]\n",
    "    for positions in positionArray:\n",
    "        lines.append((ax.plot([], [],'o', color = \"g\"))[0])\n",
    "        lines.append((ax.plot([], [],'-', color = \"g\"))[0])\n",
    "\n",
    "    def update(i, positionArray,lines):\n",
    "        for idx,positions in enumerate(positionArray):\n",
    "            lines[2*idx+0].set_data(positions[i,0],positions[i,1])\n",
    "            lines[2*idx+1].set_data([0,positions[i,0]],[0,positions[i,1]])\n",
    "        return lines\n",
    "    ll=1\n",
    "    ani = animation.FuncAnimation(fig, update, len(positionArray[0]), fargs=[positionArray, lines],\n",
    "                      interval=20, blit=True,repeat=False)\n",
    "    plt.close()\n",
    "    return ani"
   ]
  },
  {
   "cell_type": "markdown",
   "metadata": {
    "id": "oO7krGp5BDQz"
   },
   "source": [
    "### a. A Single pendulum"
   ]
  },
  {
   "cell_type": "markdown",
   "metadata": {
    "id": "z1rc7GX5BDQz"
   },
   "source": [
    "When working with pendula, instead of keeping track of the position $(x,y)$, we instead are going to keep track of the angle $\\theta$. "
   ]
  },
  {
   "cell_type": "markdown",
   "metadata": {
    "id": "Jlo0CfN7BDQz"
   },
   "source": [
    "<div><img src=\"https://clark.physics.illinois.edu/246img/pendula.png\" width=400  alt=\"Answer (start)\"></img><br></div>"
   ]
  },
  {
   "cell_type": "markdown",
   "metadata": {
    "id": "qQNIgjAEBDQz"
   },
   "source": [
    "In this exercise, we are going to simulate a pendulum with a rigid rod $L$ and a fixed mass $m$ at the end of it.  We can define the position of the pendulum by the angle it makes with respect to hanging down (at $\\theta=0$). \n",
    "\n",
    "You can force your code to use theta simply by giving initial conditions and velocities for a single dimension (i.e. `params['initPos']=np.array([0.1])` would start you pendulum at 0.1 radians. \n",
    "\n",
    "The \"force\" (angular acceleration) of a single pendulum is $\\alpha(\\theta)= -g\\sin(\\theta)/L$.  Modify the force function to use this new \"force\". \n",
    "\n",
    "🦉Run a simulation with no initial velocity and an initial angle of $\\theta=0.6$ and a $dt=0.01$ for a time $T=10$. Set $L=1$ (`params['l1']=1`).\n",
    "\n",
    "Plot \n",
    "* $\\theta$ vs. $t$\n",
    "* $y$ vs. $x$  (include the origin on this plot, and equalize the axes scale)\n",
    "* a *phase space diagram* ($\\omega$ vs $\\theta$)\n",
    "* and animate the pendulum.\n",
    "\n",
    "A phase space diagram is a graph displaying the position and velocity of an object on the abscissa (x axis) and ordinate (y axis). Since an undamped, undriven harmonic oscillator moves with\n",
    "\n",
    "$$\\theta(t) = A\\cos(\\Omega t + \\phi)\\hspace{2cm} \\omega(t)=-A\\Omega\\sin(\\Omega t+\\phi)$$\n",
    "\n",
    "its phase trajectory will be an ellipse with axes of lengths $2A$ and $2A\\Omega$."
   ]
  },
  {
   "cell_type": "markdown",
   "metadata": {
    "id": "LK6oGLWEBDQ0"
   },
   "source": [
    "<div><img src=\"https://clark.physics.illinois.edu/246img/AnsStart.svg\" width=200 align=left alt=\"Answer (start)\"></img><br></div>"
   ]
  },
  {
   "cell_type": "code",
   "execution_count": 6,
   "metadata": {
    "id": "fDwL8ahHBDQ0",
    "tags": [
     "hide-cell"
    ]
   },
   "outputs": [],
   "source": [
    "### ANSWER HERE"
   ]
  },
  {
   "cell_type": "code",
   "execution_count": 7,
   "metadata": {
    "colab": {
     "base_uri": "https://localhost:8080/",
     "height": 385
    },
    "id": "I5gIpcxrBDQ1",
    "outputId": "6fee3057-7d58-414f-cc0a-b352aee04093",
    "tags": [
     "hide-cell"
    ]
   },
   "outputs": [
    {
     "ename": "NameError",
     "evalue": "name 'positions' is not defined",
     "output_type": "error",
     "traceback": [
      "\u001b[0;31m---------------------------------------------------------------------------\u001b[0m",
      "\u001b[0;31mNameError\u001b[0m                                 Traceback (most recent call last)",
      "\u001b[0;32m<ipython-input-7-e0475c412d29>\u001b[0m in \u001b[0;36m<module>\u001b[0;34m\u001b[0m\n\u001b[1;32m      1\u001b[0m \u001b[0;31m#RUN ME TO ANIMATE YOUR CODE\u001b[0m\u001b[0;34m\u001b[0m\u001b[0;34m\u001b[0m\u001b[0;34m\u001b[0m\u001b[0m\n\u001b[0;32m----> 2\u001b[0;31m \u001b[0mani\u001b[0m\u001b[0;34m=\u001b[0m\u001b[0manimateMe_singlePendula\u001b[0m\u001b[0;34m(\u001b[0m\u001b[0;34m[\u001b[0m\u001b[0mpositions\u001b[0m\u001b[0;34m]\u001b[0m\u001b[0;34m)\u001b[0m\u001b[0;34m\u001b[0m\u001b[0;34m\u001b[0m\u001b[0m\n\u001b[0m\u001b[1;32m      3\u001b[0m \u001b[0mHTML\u001b[0m\u001b[0;34m(\u001b[0m\u001b[0mani\u001b[0m\u001b[0;34m.\u001b[0m\u001b[0mto_jshtml\u001b[0m\u001b[0;34m(\u001b[0m\u001b[0;34m)\u001b[0m\u001b[0;34m)\u001b[0m\u001b[0;34m\u001b[0m\u001b[0;34m\u001b[0m\u001b[0m\n",
      "\u001b[0;31mNameError\u001b[0m: name 'positions' is not defined"
     ]
    }
   ],
   "source": [
    "#RUN ME TO ANIMATE YOUR CODE\n",
    "ani=animateMe_single_pendulum([positions], params)\n",
    "HTML(ani.to_jshtml())"
   ]
  },
  {
   "cell_type": "markdown",
   "metadata": {
    "id": "kWlXchMGBDQ4"
   },
   "source": [
    "<div><img src=\"https://clark.physics.illinois.edu/246img/AnsEnd.svg\" width=200 align=left alt=\"Answer (start)\"></img><br></div>"
   ]
  },
  {
   "cell_type": "markdown",
   "metadata": {
    "id": "v6IdgKQXBDQ4"
   },
   "source": [
    "**Q:** Does the phase space diagram match your expectations? Explain"
   ]
  },
  {
   "cell_type": "markdown",
   "metadata": {
    "id": "6HE8lY0PBDQ4"
   },
   "source": [
    "**A:**"
   ]
  },
  {
   "cell_type": "markdown",
   "metadata": {
    "id": "AhFDdcuNBDQ4"
   },
   "source": [
    "### b. Pendula and different starting positions"
   ]
  },
  {
   "cell_type": "markdown",
   "metadata": {
    "id": "6OgQ9OonBDQ4"
   },
   "source": [
    "Recall in your intro mechanics class (Physics 211/etc) that you know the analytic solution for a pendulum is\n",
    "$$\n",
    "\\theta(t) = \\theta_0 \\cos(\\Omega t)\n",
    "$$\n",
    "However, that solution only works for *small angles*. \n",
    "\n",
    "🦉Let's quickly check this, by looking at the \"__error__\" (difference) against the 'analytic solution' for $\\theta_0 \\in \\{0.1,0.3,1\\}$. \n",
    "\n",
    "Then plot their phase space diagrams on top of one another. What do you see?"
   ]
  },
  {
   "cell_type": "markdown",
   "metadata": {
    "id": "_ig6FPqcBDQ5"
   },
   "source": [
    "<div><img src=\"https://clark.physics.illinois.edu/246img/AnsStart.svg\" width=200 align=left alt=\"Answer (start)\"></img><br></div>"
   ]
  },
  {
   "cell_type": "code",
   "execution_count": 8,
   "metadata": {
    "id": "NNKipMV4BDQ5"
   },
   "outputs": [],
   "source": [
    "###ANSWER HERE"
   ]
  },
  {
   "cell_type": "code",
   "execution_count": 9,
   "metadata": {
    "colab": {
     "base_uri": "https://localhost:8080/",
     "height": 385
    },
    "id": "20Bkiq6YBDQ6",
    "outputId": "bdac3dc3-2a8c-4342-cdb0-cf151f17f593",
    "tags": [
     "hide-cell"
    ]
   },
   "outputs": [
    {
     "ename": "NameError",
     "evalue": "name 'positions' is not defined",
     "output_type": "error",
     "traceback": [
      "\u001b[0;31m---------------------------------------------------------------------------\u001b[0m",
      "\u001b[0;31mNameError\u001b[0m                                 Traceback (most recent call last)",
      "\u001b[0;32m<ipython-input-9-c20e2e49c50c>\u001b[0m in \u001b[0;36m<module>\u001b[0;34m\u001b[0m\n\u001b[0;32m----> 1\u001b[0;31m \u001b[0mani\u001b[0m\u001b[0;34m=\u001b[0m\u001b[0manimateMe_singlePendula\u001b[0m\u001b[0;34m(\u001b[0m\u001b[0;34m[\u001b[0m\u001b[0mpositions\u001b[0m\u001b[0;34m,\u001b[0m\u001b[0mpositions2\u001b[0m\u001b[0;34m,\u001b[0m\u001b[0mpositions3\u001b[0m\u001b[0;34m]\u001b[0m\u001b[0;34m)\u001b[0m\u001b[0;34m\u001b[0m\u001b[0;34m\u001b[0m\u001b[0m\n\u001b[0m\u001b[1;32m      2\u001b[0m \u001b[0mHTML\u001b[0m\u001b[0;34m(\u001b[0m\u001b[0mani\u001b[0m\u001b[0;34m.\u001b[0m\u001b[0mto_jshtml\u001b[0m\u001b[0;34m(\u001b[0m\u001b[0;34m)\u001b[0m\u001b[0;34m)\u001b[0m\u001b[0;34m\u001b[0m\u001b[0;34m\u001b[0m\u001b[0m\n",
      "\u001b[0;31mNameError\u001b[0m: name 'positions' is not defined"
     ]
    }
   ],
   "source": [
    "ani=animateMe_single_pendulum([positions,positions2,positions3], params)\n",
    "HTML(ani.to_jshtml())\n"
   ]
  },
  {
   "cell_type": "markdown",
   "metadata": {
    "id": "D_TyUZKeBDRB"
   },
   "source": [
    "<div><img src=\"https://clark.physics.illinois.edu/246img/AnsEnd.svg\" width=200 align=left alt=\"Answer (start)\"></img><br></div>"
   ]
  },
  {
   "cell_type": "markdown",
   "metadata": {
    "id": "v37MaBAKBDRC"
   },
   "source": [
    "**Q:** Describe the \"error\" plot; what's going on?"
   ]
  },
  {
   "cell_type": "markdown",
   "metadata": {
    "id": "gPea6b3ABDRC"
   },
   "source": [
    "**A:**"
   ]
  },
  {
   "cell_type": "markdown",
   "metadata": {
    "id": "xFEUdklWBDRC"
   },
   "source": [
    "**Q:** What does the phase space diagram look like now? Do any of these initial conditions change the \"simple\" behaivor of the pendulum? "
   ]
  },
  {
   "cell_type": "markdown",
   "metadata": {
    "id": "N7hIMyibBDRC"
   },
   "source": [
    "**A:**"
   ]
  },
  {
   "cell_type": "markdown",
   "metadata": {
    "id": "sKoFcCShBDRC"
   },
   "source": [
    "### c. Damped and Driven and phase plots"
   ]
  },
  {
   "cell_type": "markdown",
   "metadata": {
    "id": "F0u1Zu3zBDRC"
   },
   "source": [
    "The behavior of a “simple” pendulum becomes less simple when you add damping and drive the system. \n",
    "\n",
    "Suppose we make a pendulum from an object of mass $m$ at the end of a rigid, massless rod of length $L$.  The rod is suspended from a bearing which exerts an angular velocity-dependent drag force on the pendulum. Because we are using a rod, not a string, the pendulum can swing in a full circle if it is moving sufficiently quickly. A motor attached to the pendulum provides a sinusoidally varying torque. Gravity acts on the pendulum in the usual way.\n",
    "\n",
    "The equation of motion for the pendulum is then\n",
    "\n",
    "$$\n",
    "\\begin{align}\n",
    "\\tau =  I\\alpha &= mL^2 \\frac{d^2\\theta}{dt^2}\\\\\n",
    "&=-mgL\\sin\\theta - \\beta \\frac{d\\theta}{dt} + \\gamma \\sin \\Omega_\\mathrm{ext} t\n",
    "\\end{align}\n",
    "$$\n",
    "\n",
    "The first term to the right of the equal sign is the torque due to gravity. The second term is the velocity-dependent damping, while the third term is the external driving torque. The symbols $\\beta$ and $\\gamma$ represent constants. \n",
    "\n",
    "Do some algebra:\n",
    "\n",
    "$$\\frac{d^2\\theta}{dt^2} = -\\frac{g}{L} \\sin\\theta -\\frac{\\beta}{mL^2}\\frac{d\\theta}{dt} + \\frac{\\gamma}{mL^2}\\sin\\Omega_\\mathrm{ext} t$$\n",
    "\n",
    "or\n",
    "\n",
    "$$\\frac{d^2\\theta}{dt^2}+A\\frac{d\\theta}{dt} + B\\sin\\theta = C\\sin\\Omega_\\mathrm{ext} t$$\n",
    "\n",
    "where $A$ and $B$ are positive constants.  We can rewrite this as a pair of first order equations:\n",
    "\n",
    "$$\\frac{d\\theta}{dt}=\\omega \\hspace{3cm} \\frac{d\\omega}{dt} = -A\\omega -B\\sin\\theta+C\\sin\\Omega_\\mathrm{ext} t$$\n",
    "\n",
    "🦉Please write a program to calculate (and graph) $\\theta$ vs. $t$ and $\\omega$ vs. $t$ for the pendulum. You may find it convenient to write your expression for the force in this way:\n",
    "\n",
    "```python\n",
    "def Force(t,pos,vel,params):\n",
    "    A = params['A']\n",
    "    B = params['B']\n",
    "    C = params['C']\n",
    "    OMEGA = params['OMEGA']\n",
    "    F = -A*vel - B*np.sin(pos) + C*np.sin(OMEGA * t) \n",
    "    return F\n",
    "```\n",
    "\n",
    "**Make sure when you make your plots that all values of $\\theta$ are $-\\pi \\leq \\theta \\leq \\pi$.  When you produce your graphs make sure that you wrap things so that those are the only values that you see on your graph.**\n",
    "\n",
    "Run your program with the following parameters and be sure to include all the plots in your Jupyter notebook.\n"
   ]
  },
  {
   "cell_type": "markdown",
   "metadata": {
    "id": "sh9g3tJlBDRD"
   },
   "source": [
    "| Parameter | Version 1  | Version 2  |  Version 3 |\n",
    "|---|---|---|---|\n",
    "|  $A$ (damping)                | 0  | 0.1  | 0.1  |\n",
    "|  $B$ (restoring force)        | 0.1  | 1  | 1  |\n",
    "|  $C$ (external driving force) | 0  |  0.1 | 2  |\n",
    "| $m$                           | 1  |  1 | 1  |\n",
    "| $\\Omega_\\mathrm{ext}$ (driving frequency)  | N/A  |  2 |  1.2 |\n",
    "| $\\theta_0$      |  0 | 0  | 0  |\n",
    "| $\\omega_0$      | 0.1  | 0.1  | 0.1  |\n",
    "| $t_{max}$  | 120  | 120  | 500  |\n",
    "| $dt$       | .01  | .01  |  .01 |"
   ]
  },
  {
   "cell_type": "markdown",
   "metadata": {
    "id": "ScTSL5KjBDRD"
   },
   "source": [
    "Version 1 is an undamped, undriven pendulum. The amplitude of motion is small enough so that it behaves very much like a harmonic oscillator with oscillation frequency $\\Omega=\\sqrt{0.1}$.   Version 2 is lightly damped, and driven at twice its natural frequency. As the initial motion (which has $\\Omega=1$) dies away, the driving force will cause it to oscillate at the same frequency as the driving frequency.\n",
    "\n",
    "It takes longer for the pendulum to settle down than it did in case 2.\n",
    "\n",
    "If we had tuned the parameters just right, we might have found a set for which the motion was chaotic, never settling into a periodic mode. "
   ]
  },
  {
   "cell_type": "markdown",
   "metadata": {
    "id": "sBOEyj0VBDRD"
   },
   "source": [
    "<div><img src=\"https://clark.physics.illinois.edu/246img/AnsStart.svg\" width=200 align=left alt=\"Answer (start)\"></img><br></div>"
   ]
  },
  {
   "cell_type": "code",
   "execution_count": 10,
   "metadata": {
    "id": "YiZytBVBBDRD"
   },
   "outputs": [],
   "source": [
    "### ANSWER HERE"
   ]
  },
  {
   "cell_type": "markdown",
   "metadata": {
    "id": "P7gkVD1TBDRF"
   },
   "source": [
    "<div><img src=\"https://clark.physics.illinois.edu/246img/AnsEnd.svg\" width=200 align=left alt=\"Answer (end)\"></img><br></div>"
   ]
  },
  {
   "cell_type": "markdown",
   "metadata": {
    "id": "KSD06cLeBDRF"
   },
   "source": [
    "### d. Simple pendulum phase space trajectory\n",
    "\n",
    "The phase trajectories of driven nonlinear oscillators can be much more complicated than this. 🦉Please generate phase space diagrams for the simple pendulum using the parameters for version 2 and version 4 (shown below again). Note that $t_\\textrm{max}=500$\n",
    "\n"
   ]
  },
  {
   "cell_type": "markdown",
   "metadata": {
    "id": "9oSYMnTrBDRF"
   },
   "source": [
    "| Parameter | Version 2  | Version 4  |\n",
    "|---|---|---|\n",
    "|  $A$ (damping)                | 0.1  | 0.1  |\n",
    "|  $B$ (restoring force)        |  1  | 2  |\n",
    "|  $C$ (external driving force) |  0.1 | 2  |\n",
    "| $m$                           |  1 | 1  |\n",
    "| $\\Omega_\\mathrm{ext}$ (driving frequency)  |  2 |  1.2 |\n",
    "| $\\theta_0$      |   0  | 0  |\n",
    "| $\\omega_0$      | 0.1  | 0.1  |\n",
    "| $t_{max}$  | 500  | 500  |\n",
    "| $dt$       | .01  |  .01 |"
   ]
  },
  {
   "cell_type": "markdown",
   "metadata": {
    "id": "bL9_GI4cBDRF"
   },
   "source": [
    "<div><img src=\"https://clark.physics.illinois.edu/246img/AnsStart.svg\" width=200 align=left alt=\"Answer (start)\"></img><br></div>"
   ]
  },
  {
   "cell_type": "code",
   "execution_count": 11,
   "metadata": {
    "colab": {
     "base_uri": "https://localhost:8080/",
     "height": 521
    },
    "id": "QWGRi70QBDRG",
    "outputId": "6dea2a8a-12c5-4660-f55b-b6a3a06352ae"
   },
   "outputs": [],
   "source": [
    "###ANSWER HERE"
   ]
  },
  {
   "cell_type": "markdown",
   "metadata": {
    "id": "Zy9GLaV0BDRH"
   },
   "source": [
    "If you want, go ahead and animate these pendula"
   ]
  },
  {
   "cell_type": "code",
   "execution_count": 12,
   "metadata": {
    "colab": {
     "base_uri": "https://localhost:8080/",
     "height": 385
    },
    "id": "eUkhjQvFBDRH",
    "outputId": "ab0f74f2-00fd-4b45-d021-98db49df3e4f",
    "tags": [
     "hide-cell"
    ]
   },
   "outputs": [
    {
     "ename": "NameError",
     "evalue": "name 'positions2' is not defined",
     "output_type": "error",
     "traceback": [
      "\u001b[0;31m---------------------------------------------------------------------------\u001b[0m",
      "\u001b[0;31mNameError\u001b[0m                                 Traceback (most recent call last)",
      "\u001b[0;32m<ipython-input-12-ba72a2bbd4c2>\u001b[0m in \u001b[0;36m<module>\u001b[0;34m\u001b[0m\n\u001b[0;32m----> 1\u001b[0;31m \u001b[0ml\u001b[0m\u001b[0;34m=\u001b[0m\u001b[0mlen\u001b[0m\u001b[0;34m(\u001b[0m\u001b[0mpositions2\u001b[0m\u001b[0;34m)\u001b[0m\u001b[0;34m\u001b[0m\u001b[0;34m\u001b[0m\u001b[0m\n\u001b[0m\u001b[1;32m      2\u001b[0m \u001b[0mani\u001b[0m\u001b[0;34m=\u001b[0m\u001b[0manimateMe_singlePendula\u001b[0m\u001b[0;34m(\u001b[0m\u001b[0;34m[\u001b[0m\u001b[0mpositions2\u001b[0m\u001b[0;34m[\u001b[0m\u001b[0;34m:\u001b[0m\u001b[0;34m:\u001b[0m\u001b[0ml\u001b[0m\u001b[0;34m//\u001b[0m\u001b[0;36m1000\u001b[0m\u001b[0;34m]\u001b[0m\u001b[0;34m]\u001b[0m\u001b[0;34m)\u001b[0m\u001b[0;34m\u001b[0m\u001b[0;34m\u001b[0m\u001b[0m\n\u001b[1;32m      3\u001b[0m \u001b[0mHTML\u001b[0m\u001b[0;34m(\u001b[0m\u001b[0mani\u001b[0m\u001b[0;34m.\u001b[0m\u001b[0mto_jshtml\u001b[0m\u001b[0;34m(\u001b[0m\u001b[0;34m)\u001b[0m\u001b[0;34m)\u001b[0m\u001b[0;34m\u001b[0m\u001b[0;34m\u001b[0m\u001b[0m\n",
      "\u001b[0;31mNameError\u001b[0m: name 'positions2' is not defined"
     ]
    }
   ],
   "source": [
    "l=len(positions2)\n",
    "ani=animateMe_single_pendulum([positions2[::l//1000]], params)\n",
    "HTML(ani.to_jshtml())"
   ]
  },
  {
   "cell_type": "code",
   "execution_count": 13,
   "metadata": {
    "colab": {
     "base_uri": "https://localhost:8080/",
     "height": 422
    },
    "id": "Xxq4TYjqBDRK",
    "outputId": "8f375c75-d9e8-4a26-aab6-9829ac6462ea",
    "tags": [
     "hide-cell"
    ]
   },
   "outputs": [
    {
     "ename": "NameError",
     "evalue": "name 'positions4' is not defined",
     "output_type": "error",
     "traceback": [
      "\u001b[0;31m---------------------------------------------------------------------------\u001b[0m",
      "\u001b[0;31mNameError\u001b[0m                                 Traceback (most recent call last)",
      "\u001b[0;32m<ipython-input-13-375a96337bdc>\u001b[0m in \u001b[0;36m<module>\u001b[0;34m\u001b[0m\n\u001b[0;32m----> 1\u001b[0;31m \u001b[0ml\u001b[0m\u001b[0;34m=\u001b[0m\u001b[0mlen\u001b[0m\u001b[0;34m(\u001b[0m\u001b[0mpositions4\u001b[0m\u001b[0;34m)\u001b[0m\u001b[0;34m\u001b[0m\u001b[0;34m\u001b[0m\u001b[0m\n\u001b[0m\u001b[1;32m      2\u001b[0m \u001b[0mani\u001b[0m\u001b[0;34m=\u001b[0m\u001b[0manimateMe_singlePendula\u001b[0m\u001b[0;34m(\u001b[0m\u001b[0;34m[\u001b[0m\u001b[0mpositions4\u001b[0m\u001b[0;34m[\u001b[0m\u001b[0;34m:\u001b[0m\u001b[0;34m:\u001b[0m\u001b[0ml\u001b[0m\u001b[0;34m//\u001b[0m\u001b[0;36m5000\u001b[0m\u001b[0;34m]\u001b[0m\u001b[0;34m]\u001b[0m\u001b[0;34m)\u001b[0m\u001b[0;34m\u001b[0m\u001b[0;34m\u001b[0m\u001b[0m\n\u001b[1;32m      3\u001b[0m \u001b[0mHTML\u001b[0m\u001b[0;34m(\u001b[0m\u001b[0mani\u001b[0m\u001b[0;34m.\u001b[0m\u001b[0mto_jshtml\u001b[0m\u001b[0;34m(\u001b[0m\u001b[0;34m)\u001b[0m\u001b[0;34m)\u001b[0m\u001b[0;34m\u001b[0m\u001b[0;34m\u001b[0m\u001b[0m\n",
      "\u001b[0;31mNameError\u001b[0m: name 'positions4' is not defined"
     ]
    }
   ],
   "source": [
    "l=len(positions4)\n",
    "ani=animateMe_single_pendulum([positions4[::l//5000]], params)\n",
    "HTML(ani.to_jshtml())"
   ]
  },
  {
   "cell_type": "markdown",
   "metadata": {
    "id": "BTG0GFWJBDRZ"
   },
   "source": [
    "<div><img src=\"https://clark.physics.illinois.edu/246img/AnsEnd.svg\" width=200 align=left alt=\"Answer (start)\"></img><br></div>"
   ]
  },
  {
   "cell_type": "markdown",
   "metadata": {
    "id": "-T4aWVmOBDRZ"
   },
   "source": [
    "## Exercise 2.  Double Pendulum"
   ]
  },
  {
   "cell_type": "markdown",
   "metadata": {
    "id": "sEKG1g3DBDRZ"
   },
   "source": [
    "* **List of collaborators:**\n",
    "\n",
    "* **References you used in developing your code:**"
   ]
  },
  {
   "cell_type": "markdown",
   "metadata": {
    "id": "Kbbq7nm7BDRZ"
   },
   "source": [
    "Single (rigid) Pendula are somewhat boring.  We can compute most things about them analytically. A double pendulum on the other hand has a much richer behavior.  In this exercise you are going to simulate a double pendulum. "
   ]
  },
  {
   "cell_type": "code",
   "execution_count": 14,
   "metadata": {
    "code_folding": [
     0
    ],
    "id": "YmuUzs8rBDRZ",
    "tags": [
     "hide-cell"
    ]
   },
   "outputs": [],
   "source": [
    "def animateMe_double_pendulum(positions, params): \n",
    "    positionArray=[]\n",
    "    for position in positions:\n",
    "        theta1=position[:,0]\n",
    "        theta2=position[:,1]\n",
    "        x1=params['l1']*np.sin(theta1)\n",
    "        y1=-params['l1']*np.cos(theta1)\n",
    "        x2=params['l1']*np.sin(theta1)+params[\"l2\"]*np.sin(theta2)\n",
    "        y2=-params['l1']*np.cos(theta1)-params[\"l2\"]*np.cos(theta2)\n",
    "        l=len(x1)\n",
    "        positions=np.zeros((l,4))\n",
    "        positions[:,0]=x1\n",
    "        positions[:,1]=y1\n",
    "        positions[:,2]=x2\n",
    "        positions[:,3]=y2\n",
    "        positionArray.append(positions)\n",
    "    fig, ax = plt.subplots()\n",
    "    x_min=np.min([np.min(list(positions[:,0])+list(positions[:,2])) for positions in positionArray])*1.1\n",
    "    x_max=np.max([np.max(list(positions[:,0])+list(positions[:,2])) for positions in positionArray])*1.1    \n",
    "    y_min=np.min([np.min(list(positions[:,1])+list(positions[:,3])) for positions in positionArray])*1.1\n",
    "    y_max=np.max([np.max(list(positions[:,1])+list(positions[:,3])) for positions in positionArray])*1.1\n",
    "    y_max=np.max([y_max,0.1])\n",
    "    y_max=np.max([y_max,x_max])\n",
    "    x_max=y_max    \n",
    "    y_min=np.min([y_min,x_min])\n",
    "    x_min=y_min\n",
    "    ax = plt.axes(xlim=(x_min, x_max), ylim=(y_min, y_max));\n",
    "    ax.plot(['0'],['0'],'o')\n",
    "    lines=[]\n",
    "    colorWheel=['g','b','r']\n",
    "    for idx,positions in enumerate(positionArray):\n",
    "        lines.append((ax.plot([], [],'o', color = colorWheel[0]))[0])\n",
    "        lines.append((ax.plot([], [],'-', color = colorWheel[0]))[0])\n",
    "        lines.append((ax.plot([], [],'o', color = colorWheel[0]))[0])\n",
    "        lines.append((ax.plot([], [],'-', color = colorWheel[0]))[0])\n",
    "        \n",
    "        \n",
    "    def update(i, positionArray,lines):\n",
    "        for idx,positions in enumerate(positionArray):\n",
    "            lines[4*idx+0].set_data(positions[i,0],positions[i,1])\n",
    "            lines[4*idx+1].set_data([0,positions[i,0]],[0,positions[i,1]])\n",
    "            lines[4*idx+2].set_data(positions[i,2],positions[i,3])\n",
    "            lines[4*idx+3].set_data([positions[i,0],positions[i,2]],[positions[i,1],positions[i,3]])\n",
    "        return lines\n",
    "    ll=1\n",
    "    ani = animation.FuncAnimation(fig, update, len(positionArray[0]), fargs=[positionArray, lines],\n",
    "                      interval=20, blit=True,repeat=False)\n",
    "    plt.close()\n",
    "    return ani"
   ]
  },
  {
   "cell_type": "markdown",
   "metadata": {
    "id": "tpdztqPxBDRa"
   },
   "source": [
    "### a. Simulating double pendula"
   ]
  },
  {
   "cell_type": "markdown",
   "metadata": {
    "id": "9BTv6YFwBDRa"
   },
   "source": [
    "<div><img src=\"https://clark.physics.illinois.edu/246img/doublePendula.png\" width=600 alt=\"double pendula\"></img><br></div>"
   ]
  },
  {
   "cell_type": "markdown",
   "metadata": {
    "id": "0Zrbbml6BDRa"
   },
   "source": [
    "Modify your code to simulate a double pendulum. Now instead of representing the location of your pendulum with one $\\theta$ you need to use two $\\theta$.  (Be careful you are dealing with the mass correctly).  Again, this can be mainly accomplished by playing with your initial conditions.\n",
    "\n",
    "\n",
    "Now, you need to get the force to work.  The force for a double pendulum is somewhat complicated.   To compute the force you either need to:\n",
    "* derive the force carefully\n",
    "    * This is a bit annoying because part of the force involves the tension in the rod (i.e. the first mass has a force of $(-T_1 \\sin(\\theta_1) +T_2 \\sin(\\theta_2), T_1 \\cos \\theta_1 - T_2 \\cos \\theta_2 - m_1 g) ) $  Because we don't know what $T$ is, we need to do some algebraic manipulation to be able to write $\\frac{d^2\\theta}{dt^2}$ as a function of $\\omega=\\frac{d\\theta}{dt}$ and $\\theta$ (which is what we need)\n",
    "* use the Euler-Lagrange equations.  This ia a better approach for systems with constraints and is something you will learn in classical mechanics.  \n",
    "\n",
    "At the moment we will just give you the effective force[<sup>1</sup>](#fn1):\n",
    "```python\n",
    "f1=-l2/l1 *(m2/(m1+m2))*omega2**2*np.sin(t1-t2)-g/l1*np.sin(t1)\n",
    "f2=l1/l2 * omega1**2 * np.sin(t1-t2)-g/l2*np.sin(t2)\n",
    "alpha1=l2/l1*(m2/(m1+m2))*np.cos(t1-t2)\n",
    "alpha2=l1/l2*np.cos(t1-t2)\n",
    "den=(1-alpha1*alpha2)\n",
    "omega1_dot = (f1-alpha1*f2)/den\n",
    "omega2_dot = (-alpha2*f1+f2)/den\n",
    " ```\n",
    "Note that `omega1`/`omega2` here mean the velocity or ${d\\theta_i}/{dt}$, $i=1,2$ respectively.  \n",
    " \n",
    "Put this force in your code.\n",
    "\n",
    "🦉Run with the following parameters:\n",
    "```python\n",
    "params={ 'm1':1.0,\n",
    "         'm2':1.0,\n",
    "         'l1':1.0,\n",
    "         'l2':1.0,\n",
    "         'T' :15.0,\n",
    "         'g' :9.8,\n",
    "         'dt':0.01,\n",
    "         'initPos' : np.array([1,1+0.11]),\n",
    "         'initVel' : np.array([0.0,0.0])\n",
    "       }  \n",
    "```\n",
    "\n",
    "and make a phase space plot of the system for both the first mass and the second mass (on the same plot).  Also go ahead and animate it. \n",
    "\n",
    "Then switch to use the initial position of ` 'initPos': np.array([3.14,3.14+0.11]),`. How do these compare?\n",
    "\n",
    "In the animation, you may not want to use all the points. "
   ]
  },
  {
   "cell_type": "markdown",
   "metadata": {
    "id": "zyz_d_BzBDRa"
   },
   "source": [
    "<div><img src=\"https://clark.physics.illinois.edu/246img/AnsStart.svg\" width=200 align=left alt=\"Answer (start)\"></img><br></div>"
   ]
  },
  {
   "cell_type": "code",
   "execution_count": 15,
   "metadata": {
    "id": "bNmYxa90BDRa"
   },
   "outputs": [],
   "source": [
    "### ANSWER HERE"
   ]
  },
  {
   "cell_type": "code",
   "execution_count": null,
   "metadata": {
    "colab": {
     "base_uri": "https://localhost:8080/",
     "height": 385
    },
    "id": "WQdIqj4ABDRb",
    "outputId": "8010e9b0-5397-43b8-9ecf-da72656239d3",
    "tags": [
     "hide-cell"
    ]
   },
   "outputs": [
    {
     "ename": "NameError",
     "evalue": "name 'positions2' is not defined",
     "output_type": "error",
     "traceback": [
      "\u001b[0;31m---------------------------------------------------------------------------\u001b[0m",
      "\u001b[0;31mNameError\u001b[0m                                 Traceback (most recent call last)",
      "\u001b[0;32m<ipython-input-16-978af12141c6>\u001b[0m in \u001b[0;36m<module>\u001b[0;34m\u001b[0m\n\u001b[0;32m----> 1\u001b[0;31m \u001b[0ml\u001b[0m\u001b[0;34m=\u001b[0m\u001b[0mlen\u001b[0m\u001b[0;34m(\u001b[0m\u001b[0mpositions2\u001b[0m\u001b[0;34m)\u001b[0m\u001b[0;34m\u001b[0m\u001b[0;34m\u001b[0m\u001b[0m\n\u001b[0m\u001b[1;32m      2\u001b[0m \u001b[0mani\u001b[0m\u001b[0;34m=\u001b[0m\u001b[0manimateMe_doublePendula\u001b[0m\u001b[0;34m(\u001b[0m\u001b[0;34m[\u001b[0m\u001b[0mpositions2\u001b[0m\u001b[0;34m]\u001b[0m\u001b[0;34m)\u001b[0m\u001b[0;34m\u001b[0m\u001b[0;34m\u001b[0m\u001b[0m\n\u001b[1;32m      3\u001b[0m \u001b[0mHTML\u001b[0m\u001b[0;34m(\u001b[0m\u001b[0mani\u001b[0m\u001b[0;34m.\u001b[0m\u001b[0mto_jshtml\u001b[0m\u001b[0;34m(\u001b[0m\u001b[0;34m)\u001b[0m\u001b[0;34m)\u001b[0m\u001b[0;34m\u001b[0m\u001b[0;34m\u001b[0m\u001b[0m\n",
      "\u001b[0;31mNameError\u001b[0m: name 'positions2' is not defined"
     ]
    }
   ],
   "source": [
    "l=len(pos)\n",
    "ani=animateMe_double_pendulum([pos[::l//100]])\n",
    "HTML(ani.to_jshtml())"
   ]
  },
  {
   "cell_type": "markdown",
   "metadata": {
    "id": "fudy_JCUBDRb"
   },
   "source": [
    "<div><img src=\"https://clark.physics.illinois.edu/246img/AnsEnd.svg\" width=200 align=left alt=\"Answer (start)\"></img><br></div>"
   ]
  },
  {
   "cell_type": "markdown",
   "metadata": {
    "id": "uWUUbdy9BDRb"
   },
   "source": [
    "**Q:** Does the inner bob ($m_1$) act like a simple pendulum? Use the phase space diagram in your answer"
   ]
  },
  {
   "cell_type": "markdown",
   "metadata": {
    "id": "GBG8URSEBDRb"
   },
   "source": [
    "**A:**"
   ]
  },
  {
   "cell_type": "markdown",
   "metadata": {
    "id": "mZJZiaLbBDRb"
   },
   "source": [
    "**Q:** How does the behavior of the pendulum change compared to a simple pendulum as the initial angle is increase?"
   ]
  },
  {
   "cell_type": "markdown",
   "metadata": {
    "id": "wMhX_WwOBDRc"
   },
   "source": [
    "**A:**"
   ]
  },
  {
   "cell_type": "markdown",
   "metadata": {
    "id": "lkD9zRbvBDRc"
   },
   "source": [
    "### b. Chaos"
   ]
  },
  {
   "cell_type": "markdown",
   "metadata": {
    "id": "9__heqWbBDRc"
   },
   "source": [
    "Our goal now is to see that this double pendulum is chaotic.  Chaos means that if the system starts with very similar initial conditions, that the result will look very different in the future (long times).   Go ahead and run a series of 10 initial conditions except that each one differs from the previous one by an initial angle on the second pendulum of $10^{-4}$, i.e. `params['initPos'][1]+i*1e-4,params['initPos'][1]+(i+1)*1e-4`\n",
    "Animate them all simultaneously to see what happens.\n",
    "\n",
    "Hint: Your code should have something like this \n",
    "\n",
    "```python \n",
    "params={ 'm1':1.0,\n",
    "         'm2':1.0,\n",
    "         'l1':1.0,\n",
    "         'l2':1.0,\n",
    "         'T' :15.0,\n",
    "         'g' :9.8,\n",
    "         'dt':0.01,\n",
    "         'initPos' : np.array([3.14,3.14+0.11]),\n",
    "         'initVel' : np.array([0.0,0.0])\n",
    "       }\n",
    "for i in range(10):\n",
    "    pos = params['initPos']+np.array([0,i*1e-4])\n",
    "    vel = params['initVel']\n",
    "    run_simulations(pos,vel)\n",
    "```"
   ]
  },
  {
   "cell_type": "markdown",
   "metadata": {
    "id": "5q-RDplOBDRc"
   },
   "source": [
    "<div><img src=\"https://clark.physics.illinois.edu/246img/AnsStart.svg\" width=200 align=left alt=\"Answer (start)\"></img><br></div>"
   ]
  },
  {
   "cell_type": "code",
   "execution_count": 17,
   "metadata": {
    "colab": {
     "base_uri": "https://localhost:8080/"
    },
    "id": "ZxFA1yqHBDRc",
    "outputId": "d1aaf5b7-609c-4838-b43c-d978e16fc863"
   },
   "outputs": [],
   "source": [
    "###ANSWER HERE"
   ]
  },
  {
   "cell_type": "code",
   "execution_count": 18,
   "metadata": {
    "colab": {
     "base_uri": "https://localhost:8080/",
     "height": 385
    },
    "id": "a82uKDttBDRc",
    "outputId": "96f5fb31-97fd-4f04-ede8-ca5c84efd64e",
    "tags": [
     "hide-cell"
    ]
   },
   "outputs": [
    {
     "ename": "NameError",
     "evalue": "name 'allPositions' is not defined",
     "output_type": "error",
     "traceback": [
      "\u001b[0;31m---------------------------------------------------------------------------\u001b[0m",
      "\u001b[0;31mNameError\u001b[0m                                 Traceback (most recent call last)",
      "\u001b[0;32m<ipython-input-18-cd75d89109ff>\u001b[0m in \u001b[0;36m<module>\u001b[0;34m\u001b[0m\n\u001b[0;32m----> 1\u001b[0;31m \u001b[0mani\u001b[0m\u001b[0;34m=\u001b[0m\u001b[0manimateMe_doublePendula\u001b[0m\u001b[0;34m(\u001b[0m\u001b[0mallPositions\u001b[0m\u001b[0;34m)\u001b[0m\u001b[0;34m\u001b[0m\u001b[0;34m\u001b[0m\u001b[0m\n\u001b[0m\u001b[1;32m      2\u001b[0m \u001b[0mHTML\u001b[0m\u001b[0;34m(\u001b[0m\u001b[0mani\u001b[0m\u001b[0;34m.\u001b[0m\u001b[0mto_jshtml\u001b[0m\u001b[0;34m(\u001b[0m\u001b[0;34m)\u001b[0m\u001b[0;34m)\u001b[0m\u001b[0;34m\u001b[0m\u001b[0;34m\u001b[0m\u001b[0m\n",
      "\u001b[0;31mNameError\u001b[0m: name 'allPositions' is not defined"
     ]
    }
   ],
   "source": [
    "ani=animateMe_double_pendulum(allPositions)\n",
    "HTML(ani.to_jshtml())\n"
   ]
  },
  {
   "cell_type": "markdown",
   "metadata": {
    "id": "-zSQP3QFBDRc"
   },
   "source": [
    "<div><img src=\"https://clark.physics.illinois.edu/246img/AnsEnd.svg\" width=200 align=left alt=\"Answer (start)\"></img><br></div>"
   ]
  },
  {
   "cell_type": "markdown",
   "metadata": {
    "id": "z6XzutyBBDRc"
   },
   "source": [
    "\n",
    "**Acknowledgements:**\n",
    "* Ex 1: George Gollin (original); Bryan Clark, Ryan Levy (modifications)\n",
    "* Ex 2: Bryan Clark (original) \n",
    "\n",
    "© Copyright 2021\n"
   ]
  }
 ],
 "metadata": {
  "colab": {
   "collapsed_sections": [],
   "name": "chaos.ipynb",
   "provenance": []
  },
  "kernelspec": {
   "display_name": "Python 3 (ipykernel)",
   "language": "python",
   "name": "python3"
  },
  "language_info": {
   "codemirror_mode": {
    "name": "ipython",
    "version": 3
   },
   "file_extension": ".py",
   "mimetype": "text/x-python",
   "name": "python",
   "nbconvert_exporter": "python",
   "pygments_lexer": "ipython3",
   "version": "3.8.16"
  },
  "varInspector": {
   "cols": {
    "lenName": 16,
    "lenType": 16,
    "lenVar": 40
   },
   "kernels_config": {
    "python": {
     "delete_cmd_postfix": "",
     "delete_cmd_prefix": "del ",
     "library": "var_list.py",
     "varRefreshCmd": "print(var_dic_list())"
    },
    "r": {
     "delete_cmd_postfix": ") ",
     "delete_cmd_prefix": "rm(",
     "library": "var_list.r",
     "varRefreshCmd": "cat(var_dic_list()) "
    }
   },
   "types_to_exclude": [
    "module",
    "function",
    "builtin_function_or_method",
    "instance",
    "_Feature"
   ],
   "window_display": false
  }
 },
 "nbformat": 4,
 "nbformat_minor": 4
}
