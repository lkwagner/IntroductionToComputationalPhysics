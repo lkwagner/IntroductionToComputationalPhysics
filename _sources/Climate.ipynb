{
 "cells": [
  {
   "cell_type": "markdown",
   "metadata": {
    "id": "bhaetHzrFXox"
   },
   "source": [
    "# Climate Dynamics"
   ]
  },
  {
   "cell_type": "code",
   "execution_count": null,
   "metadata": {
    "id": "MO6JXOKVGR20",
    "tags": [
     "hide-cell"
    ]
   },
   "outputs": [],
   "source": [
    "!pip install climlab\n",
    "!wget https://clark.physics.illinois.edu/temp.data\n"
   ]
  },
  {
   "cell_type": "code",
   "execution_count": null,
   "metadata": {
    "colab": {
     "base_uri": "https://localhost:8080/"
    },
    "id": "3frtsDJOGRAD",
    "outputId": "ae7f3aa6-1134-48c5-d7ea-b29017165a53",
    "tags": [
     "hide-cell"
    ]
   },
   "outputs": [
    {
     "data": {
      "text/plain": [
       "datetime.datetime(2023, 11, 30, 19, 9, 20, 721800)"
      ]
     },
     "execution_count": 97,
     "metadata": {},
     "output_type": "execute_result"
    }
   ],
   "source": [
    "import numpy as np\n",
    "import matplotlib.pyplot as plt\n",
    "import random\n",
    "from climlab import constants as const\n",
    "from climlab.solar.insolation import daily_insolation\n",
    "from climlab.utils import legendre\n",
    "import climlab\n",
    "import scipy\n",
    "def resetMe(keepList=[]):\n",
    "    ll=%who_ls\n",
    "    keepList=keepList+['resetMe','np','plt','random']\n",
    "    for iiii in keepList:\n",
    "        if iiii in ll:\n",
    "            ll.remove(iiii)\n",
    "    for iiii in ll:\n",
    "        jjjj=\"^\"+iiii+\"$\"\n",
    "        %reset_selective -f {jjjj}\n",
    "    ll=%who_ls\n",
    "    return\n",
    "tempData=np.loadtxt(\"temp.data\")\n",
    "tempData[:,1]=tempData[:,1]+14.2\n",
    "import datetime;datetime.datetime.now()\n"
   ]
  },
  {
   "cell_type": "markdown",
   "metadata": {
    "id": "edd-Q2Tn_xth"
   },
   "source": [
    "## Exercise 1: Climate and Global Warming"
   ]
  },
  {
   "cell_type": "markdown",
   "metadata": {
    "id": "oO6yk-tUAB_H"
   },
   "source": [
    "### a. The temperature of the dark airless Earth"
   ]
  },
  {
   "cell_type": "markdown",
   "metadata": {
    "id": "BvqSszJVAYqw"
   },
   "source": [
    "Our goal is to start understanding something about the climate.  We first want two functions:\n",
    "\n",
    "```\n",
    "def IncomingRadiationPerSquareMeter():\n",
    "  ...\n",
    "  ...\n",
    "  return ...\n",
    "```\n",
    "\n",
    "which returns the incoming radiation to the Earth and\n",
    "\n",
    "```\n",
    "def OutgoingRadiationPerSquareMeter():\n",
    "  ...\n",
    "  ...\n",
    "  return ...\n",
    "```\n",
    "\n",
    "which returns the outgoing radiation.   \n",
    "\n",
    "We are going to iteratively improve upon these functions to add more realism eventually ending up with a one-dimensional representation of the Earth.  \n",
    "\n",
    "Let us begin, though, with the simplest thing we can do.   The sun is outputting a certain amount of Energy per second.  By the time it has spread out to the orbit of the Earth, it is a flux of\n",
    "* $S=1367.6$ Watts/$\\textrm{m}^2$\n",
    "\n",
    "From the Sun's point of view, the earth is a disc (circle) that is of area $\\pi R^2$ where $R$ is the radius of the Earth.\n",
    "\n",
    "From this, we can compute the amount of radiation that is hitting Earth. That radiation, though, is split out over the entire surface of the Earth - an area of $4\\pi R^2$.\n",
    "\n",
    "Using this information you should be able to write a function `IncomingRadiationPerSquareMeter()` which specifies how much radiation hits the Earth. Notice that this doesn't depend on the radius of the Earth $R$.\n"
   ]
  },
  {
   "cell_type": "markdown",
   "metadata": {
    "id": "ADS1A1wwBXxd"
   },
   "source": [
    "<div><img src=\"https://clark.physics.illinois.edu/246img/AnsStart.svg\" width=200 align=left alt=\"Answer (start)\"></img><br></div>"
   ]
  },
  {
   "cell_type": "code",
   "execution_count": 1,
   "metadata": {
    "id": "gPUbkQ96A_pA"
   },
   "outputs": [],
   "source": [
    "## Answer here"
   ]
  },
  {
   "cell_type": "markdown",
   "metadata": {
    "id": "-Dn-b8vnBY-a"
   },
   "source": [
    "<div><img src=\"https://clark.physics.illinois.edu/246img/AnsEnd.svg\" width=200 align=left alt=\"Answer (end)\"></img><br></div>"
   ]
  },
  {
   "cell_type": "markdown",
   "metadata": {
    "id": "dudpC7wnBdG6"
   },
   "source": [
    "To get an estimate of the outgoing radiation, we can use the Stefan-Boltzmann law.   This law tell us that a blackbody (like the Earth) radiates at $\\sigma T^4$ where\n",
    "* $\\sigma =  5.67 \\times 10^{-8}$ W/ ($m^2$ $K^4$)\n",
    "\n",
    "We can now write the function `OutgoingRadiationPerSquareMeter(T)` which computes the outgoing radiation given the temperature $T$.  \n"
   ]
  },
  {
   "cell_type": "markdown",
   "metadata": {
    "id": "7lM6BD1ZBlWA"
   },
   "source": [
    "<div><img src=\"https://clark.physics.illinois.edu/246img/AnsStart.svg\" width=200 align=left alt=\"Answer (start)\"></img><br></div>"
   ]
  },
  {
   "cell_type": "code",
   "execution_count": 2,
   "metadata": {
    "id": "TkK1u2yBBkmQ"
   },
   "outputs": [],
   "source": [
    "### Answer here"
   ]
  },
  {
   "cell_type": "markdown",
   "metadata": {
    "id": "Fx9wrqx7BqFN"
   },
   "source": [
    "<div><img src=\"https://clark.physics.illinois.edu/246img/AnsEnd.svg\" width=200 align=left alt=\"Answer (end)\"></img><br></div>"
   ]
  },
  {
   "cell_type": "markdown",
   "metadata": {
    "id": "Qv2fEDsHB2Dt"
   },
   "source": [
    "Now we need to find the temperature at which the incoming radiation and the outgoing radiation match.\n",
    "\n",
    "Do this in two ways. \n",
    "\n",
    "🦉 Graph the two functions you've written as a function of temperature and determine at temperature $T$ the two match.\n",
    "\n",
    "🦉 Define a cost function `diff(T)` which gives the absolute value of the difference between the incoming and outgoing radiation.  Minimize this by calling \n",
    "```\n",
    "opt=scipy.optimize.minimize(diff,[10],method='COBYLA',bounds=[(0,300)])\n",
    "```\n",
    "\n",
    "🦉 Report the number you find and compare this with the actual temperature of the Earth which is approximately 14 degrees Celsius (pre-industrial) or 15 degrees Celsius (now). "
   ]
  },
  {
   "cell_type": "markdown",
   "metadata": {
    "id": "rfTfGQNQR8oB"
   },
   "source": [
    "<div><img src=\"https://clark.physics.illinois.edu/246img/AnsStart.svg\" width=200 align=left alt=\"Answer (start)\"></img><br></div>"
   ]
  },
  {
   "cell_type": "code",
   "execution_count": null,
   "metadata": {
    "id": "HU_ducKuR7g7"
   },
   "outputs": [],
   "source": [
    "# Answer here"
   ]
  },
  {
   "cell_type": "markdown",
   "metadata": {},
   "source": [
    "Q: Was your predicted temperature too high or low compared to the observed temperature? Which did you expect and why?\n",
    "\n",
    "A:"
   ]
  },
  {
   "cell_type": "markdown",
   "metadata": {
    "id": "amadi-NBR-3-"
   },
   "source": [
    "<div><img src=\"https://clark.physics.illinois.edu/246img/AnsEnd.svg\" width=200 align=left alt=\"Answer (end)\"></img><br></div>"
   ]
  },
  {
   "cell_type": "markdown",
   "metadata": {
    "id": "CcxmydDxCytb"
   },
   "source": [
    "### b. The temperature of Earth with air and clouds"
   ]
  },
  {
   "cell_type": "markdown",
   "metadata": {
    "id": "Rgk2qf97C50S"
   },
   "source": [
    "We have ignored two important effects in the previous analysis.\n",
    "\n",
    "**Albedo**  \n",
    "\n",
    "Some fraction of the radiation that is incoming to the Earth simply gets reflected back immediately from things like clouds and ice.  This fraction is approximately $\\alpha=0.3$.  The incoming radiation per square meter is then instead $\\frac{S}{4}( 1-\\alpha)$.\n",
    "\n",
    "**Greenhouse Gases**\n",
    "\n",
    "In practice, some fraction of the radiation that would typically be radiated back into space is blocked by the greenhouse gases in the atmosphere. We call the fraction that escapes $\\epsilon$, which we do not have a good way to measure directly. We can represent this by including an emissivity term for the atmosphere so that the radiation emitted is $\\epsilon \\sigma T^4$. \n",
    "\n",
    "The reason that the outgoing radiation is blocked separately from the incoming radiation is that incoming radiation is near-infrared and visible (it's the sunlight!), while the outgoing radiation is further in the infrared. This difference in frequencies causes different absorption/reflection by the atomosphere.\n",
    "\n",
    "🦉 Plot the earth's temperature versus $\\epsilon$, including the effect of Earth's albedo. Note that $\\epsilon$=1 means no greenhouse effect, and $\\epsilon=0$ means a complete greenhouse effect (no light ). You should not include $\\epsilon=0$.\n",
    "\n",
    "🦉 Find the value of $\\epsilon$ that corresponds to the pre-industrial average temperature of 14 degrees Celsius, in a similar way as you found the temperature above. "
   ]
  },
  {
   "cell_type": "markdown",
   "metadata": {
    "id": "UHWE0gMWSDEt"
   },
   "source": [
    "<div><img src=\"https://clark.physics.illinois.edu/246img/AnsStart.svg\" width=200 align=left alt=\"Answer (start)\"></img><br></div>"
   ]
  },
  {
   "cell_type": "code",
   "execution_count": 3,
   "metadata": {
    "id": "UJgTPRGwR4K9"
   },
   "outputs": [],
   "source": [
    "### Answer Here"
   ]
  },
  {
   "cell_type": "markdown",
   "metadata": {},
   "source": []
  },
  {
   "cell_type": "markdown",
   "metadata": {
    "id": "zBLU0hrgSGBu"
   },
   "source": [
    "<div><img src=\"https://clark.physics.illinois.edu/246img/AnsEnd.svg\" width=200 align=left alt=\"Answer (end)\"></img><br></div>"
   ]
  },
  {
   "cell_type": "markdown",
   "metadata": {
    "id": "7lvaep8ZSZZD"
   },
   "source": [
    "### c. A more accurate emission model"
   ]
  },
  {
   "cell_type": "markdown",
   "metadata": {
    "id": "YZSjeFdOShce"
   },
   "source": [
    "To further improve our model, we need to increase the accuracy of our emission model. The Stefan-Boltzmann law from above applies to a perfect blackbody, which the Earth is not. From experiments, we can measure that near the Earth's temperature, \n",
    "$$\n",
    "P_{out} = A + B T_{c},\n",
    "$$\n",
    "where \n",
    "* $A=221.2$ W/m<sup>2</sup>\n",
    "* $B=1.3$ W/m<sup>2</sup> K\n",
    "* $T_c$ is the temperature in Celcius.\n",
    "\n",
    "Change your radiation function to use $A+BT_c$.  Your function should take $T$ in Kelvin but needs to convert it to Celsius to work here.\n",
    "\n",
    "Check that these new parameters give a much closer equilbrium temperature (for the pre-industrial average) of 13.94&deg; C.\n",
    "\n",
    "<details>\n",
    "If you were to linearize the Stefan-Boltzmann law around 0 Celcius, you would get\n",
    "$$\\epsilon \\sigma (T_0 + T_c)^4 \\approx \\epsilon \\sigma(T_0^4 + 4 T_0^3 T_c) = A + BT_c$$\n",
    "where $T_0=273.15$ and $T_c$ is the temperature in Celsius.\n",
    "\n",
    "Plugging in our numbers from previous parts of the exercis, we get $A=195.94$ W/m<sup>2</sup> and $B=2.87$  W/m<sup>2</sup> K. This is close to the measured values, which is reassuring. \n",
    "\n",
    "If you used these naiive values, you'd find that we get a temperature $T=15.11878309$.\n",
    "</details>"
   ]
  },
  {
   "cell_type": "markdown",
   "metadata": {
    "id": "siv3D9MUU--g"
   },
   "source": [
    "<div><img src=\"https://clark.physics.illinois.edu/246img/AnsStart.svg\" width=200 align=left alt=\"Answer (start)\"></img><br></div>"
   ]
  },
  {
   "cell_type": "code",
   "execution_count": 4,
   "metadata": {
    "id": "xy5Ki1AjUXQw"
   },
   "outputs": [],
   "source": [
    "### Answer Here"
   ]
  },
  {
   "cell_type": "markdown",
   "metadata": {
    "id": "sB_-mJadVFNV"
   },
   "source": [
    "<div><img src=\"https://clark.physics.illinois.edu/246img/AnsEnd.svg\" width=200 align=left alt=\"Answer (start)\"></img><br></div>"
   ]
  },
  {
   "cell_type": "markdown",
   "metadata": {
    "id": "yYNAB44famhs"
   },
   "source": [
    "\n",
    "We will be building up a dictionary with the relevant parameters in it - so far\n",
    "```\n",
    "params = {\n",
    "    'alpha' : 0.3,\n",
    "    'A' : 221.2  ,\n",
    "    'B' : 1.3\n",
    "    }\n",
    "```\n"
   ]
  },
  {
   "cell_type": "markdown",
   "metadata": {
    "id": "1VolabJbY5cb"
   },
   "source": [
    "### d. The effects of changing carbon dioxide"
   ]
  },
  {
   "cell_type": "markdown",
   "metadata": {
    "id": "Yva8r2BjZAS9"
   },
   "source": [
    "Changing carbon dioxide changes $\\epsilon$ (and therefore $A$ and $B$); however, typically this is measured in terms of 'forcing,' which is how much more energy from some reference that is reflected back to the Earth's surface. \n",
    "This is accounted for by adding an additional term that depends on a reference amount of carbon dioxide, resulting in a modified output power of\n",
    "\n",
    "$$ P_{out} = A + BT_c + r \\log \\left(\\frac{CO_{2;current}}{CO_{2;old}}\\right) $$\n",
    "where $r=-5$ W/m<sup>2</sup> is a proportionality constant, and CO<sub>2</sub> is the concentration of CO<sub>2</sub> in the atmosphere.\n",
    "You can see that if the CO<sub>2</sub> concentration increases, the power out decreases.\n",
    "\n",
    "We will use the oldest pre-industrial data (around 1751) as the reference CO<sub>2</sub> concentration.\n",
    "\n",
    "Below is the Carbon dioxide that is in the air as a function of year (the fractions are fractions of a year).  Plot it:"
   ]
  },
  {
   "cell_type": "code",
   "execution_count": null,
   "metadata": {
    "id": "14fSXHKVY_GC",
    "tags": [
     "hide-cell"
    ]
   },
   "outputs": [],
   "source": [
    "CO2=np.array([[1751.590620307266, 277.1900826446281],\n",
    "[1777.9960515400046, 278.95316804407713],\n",
    "[1790.6841547040233, 279.8347107438017],\n",
    "[1797.1997437701493, 280.27548209366387],\n",
    "[1806.8001722200638, 281.1570247933884],\n",
    "[1815.0283007970431, 282.03856749311296],\n",
    "[1822.9161897361043, 282.4793388429752],\n",
    "[1832.8625284845687, 282.92011019283746],\n",
    "[1845.5506316485873, 283.80165289256195],\n",
    "[1859.9484389931429, 285.56473829201104],\n",
    "[1872.9711111344473, 287.7685950413223],\n",
    "[1891.8062104235146, 293.0578512396694],\n",
    "[1906.8674850620098, 298.3471074380165],\n",
    "[1917.128545475548, 303.1955922865013],\n",
    "[1926.3717223056487, 306.2809917355372],\n",
    "[1930.8288615623721, 306.72176308539946],\n",
    "[1936.3010490722172, 309.366391184573],\n",
    "[1940.7440116773605, 312.0110192837465],\n",
    "[1946.573450807019, 312.45179063360877],\n",
    "[1951.3708297016603, 313.3333333333333],\n",
    "[1955.8194629674358, 315.09641873278235],\n",
    "[1959.9221859346617, 317.30027548209364],\n",
    "[1963.6789986033375, 319.9449035812672],\n",
    "[1967.0927363037795, 322.58953168044076],\n",
    "[1971.1784472891093, 327.4380165289256],\n",
    "[1973.903199722768, 330.52341597796146],\n",
    "[1976.9625211337122, 334.93112947658403],\n",
    "[1980.6994864901762, 340.6611570247934],\n",
    "[1982.735253657051, 344.1873278236915],\n",
    "[1985.4571707603936, 347.71349862258955],\n",
    "[1987.8303422348704, 352.1212121212121],\n",
    "[1990.8896636458148, 356.5289256198347],\n",
    "[1994.2892246946772, 361.37741046831957],\n",
    "[1996.322156531236, 365.3443526170799],\n",
    "[1999.3786426118645, 370.1928374655647],\n",
    "[2003.7762399319522, 379.88980716253445],\n",
    "[2006.4896510443468, 384.73829201101927],\n",
    "[2010.5498440568329, 393.55371900826447],\n",
    "[2012.2397009251579, 397.5206611570248],\n",
    "[2014.9361000556567, 405.0137741046832],\n",
    "[2016.9690318922155, 408.9807162534435],\n",
    "[2019.6654310227143, 416.4738292011019],\n",
    "[2020.6833146061517, 418.23691460055096]])\n",
    "\n",
    "### Plot Here\n"
   ]
  },
  {
   "cell_type": "markdown",
   "metadata": {
    "id": "n_d-F7K-nP-V"
   },
   "source": [
    "Now, modify your code to include this additional forcing term into the emitted radiation.  \n",
    "\n",
    "Compute the equilibrium temperature at the value of carbon dioxide for each year and graph this equilibrium temperature against the year.  Plot it on top of the actual measured temperature which is in `tempData[:,1]` (where the year is in `tempData[:,0]`).   Notice the close agreement between the predicted temperature based on the CO<sub>2</sub> and our 0D EBM vs the actual temperature (actually the prediction is probably closer then it should be expected given the spherical cow nature of our approximation)\n",
    "\n",
    "```\n",
    "params = {\n",
    "    'alpha' : 0.3,\n",
    "    'A' : 221.2  ,\n",
    "    'B' : 1.3,\n",
    "    'r': -5,\n",
    "    'Current_CO2' : ...\n",
    "    }\n",
    "```"
   ]
  },
  {
   "cell_type": "markdown",
   "metadata": {
    "id": "nHK2c4TTkG9U"
   },
   "source": [
    "<div><img src=\"https://clark.physics.illinois.edu/246img/AnsStart.svg\" width=200 align=left alt=\"Answer (start)\"></img><br></div>"
   ]
  },
  {
   "cell_type": "code",
   "execution_count": 5,
   "metadata": {
    "id": "vEJrybI0nPFU"
   },
   "outputs": [],
   "source": [
    "### Answer HERE"
   ]
  },
  {
   "cell_type": "markdown",
   "metadata": {
    "id": "o8TwGY3mkSbr"
   },
   "source": [
    "<div><img src=\"https://clark.physics.illinois.edu/246img/AnsEnd.svg\" width=200 align=left alt=\"Answer (end)\"></img><br></div>"
   ]
  },
  {
   "cell_type": "markdown",
   "metadata": {
    "id": "TVhwJF-4s86E"
   },
   "source": [
    "Now, in this model, let's compute how much more carbon dioxide we can add to the atmosphere before we can reach two degrees of temperature increase from the 1850 baseline. If we assume that you continue to increase the CO2 in the atmosphere at the same rate that we have been since 2000 (do a linear fit), in what year do we reach a two degree warming, measured from the pre-industrial average of 14&deg;C?\n"
   ]
  },
  {
   "cell_type": "markdown",
   "metadata": {
    "id": "eeVVGPvJtssp"
   },
   "source": [
    "<div><img src=\"https://clark.physics.illinois.edu/246img/AnsStart.svg\" width=200 align=left alt=\"Answer (start)\"></img><br></div>"
   ]
  },
  {
   "cell_type": "code",
   "execution_count": 6,
   "metadata": {
    "id": "5YOe_pf6tM-p"
   },
   "outputs": [],
   "source": [
    "### Answer Here"
   ]
  },
  {
   "cell_type": "markdown",
   "metadata": {
    "id": "wTlfObv9ttZc"
   },
   "source": [
    "<div><img src=\"https://clark.physics.illinois.edu/246img/AnsEnd.svg\" width=200 align=left alt=\"Answer (end)\"></img><br></div>"
   ]
  },
  {
   "cell_type": "markdown",
   "metadata": {
    "id": "yiXCsd0TolPY"
   },
   "source": [
    "## Exercise 2: Snowball Earth"
   ]
  },
  {
   "cell_type": "markdown",
   "metadata": {
    "id": "cLGgW5RKY9Xm"
   },
   "source": [
    "### a. Climate Dynamics"
   ]
  },
  {
   "cell_type": "markdown",
   "metadata": {
    "id": "So7UBmE4zoV6"
   },
   "source": [
    "So far we've focused on the equilibrium temperature of the Earth. It turns out that dynamics can be an important part of the Earth's temperature, since there can be feedback loops. For this part of the exercise, we are going to assume that nothing is pumping tons of CO<sub>2</sub> into the air.\n",
    "\n",
    "It shouldn't surprise us that we to answer this question, we should start by writing down a differential equation that tells us $\\partial T / \\partial t$ where $T$ is the temperature and $t$ is the time.\n",
    "\n",
    "$$ C \\frac{\\partial T}{\\partial t} = \\frac{S}{4}(1-\\alpha) - (A+B T) $$\n",
    "\n",
    "(remember in $BT$ we need that $T$ is in Celsius). The r.h.s. of this is just the radiation into the Earth and the radiation out of Earth that we were working on in exercise 1.  Previously, we were just setting this r.h.s. to zero to find equilibrium. $C$ is the heat capacity per meter squared of the planet -- heat capacity is how much energy it takes to change the temperature by 1 Kelvin.  To a good approximation, the Earth is just water, so we use that heat capacity.  The question is how deep do we go, and the answer is about 10 meters.  From the specific heat of water, we can do some unit analysis and get that the heat capacity is $C=4.1813 \\times 10^7 \\frac{\\textrm{J}}{\\textrm{K}\\cdot \\textrm{m}^2}$.  \n",
    "\n",
    "Set up a first order integrator for this system.  Use a time step $dt$ of 1 month (written in seconds!). You can use `const.seconds_per_month` to get the correct number of seconds.   \n",
    "\n",
    "Start the temperature of the Earth at 295 degrees Kelvin and allow that temperature to evolve in time.  Plot the temperature as a function of time (in years).\n",
    "We want to observe three things:\n",
    "* What is the equilibrium temperature?\n",
    "* What is the functional form for approaching the equilibrium temperature?\n",
    "* How long does it take to get there?\n",
    "\n",
    "Do the same thing starting from a temperature which is less 270 degrees Kelvin.\n",
    "\n",
    "Do the same if you start 100 degrees Celsius too hot."
   ]
  },
  {
   "cell_type": "markdown",
   "metadata": {
    "id": "BxmOSLZz8nUy"
   },
   "source": [
    "<div><img src=\"https://clark.physics.illinois.edu/246img/AnsStart.svg\" width=200 align=left alt=\"Answer (start)\"></img><br></div>"
   ]
  },
  {
   "cell_type": "code",
   "execution_count": 7,
   "metadata": {
    "id": "u6B1c7qjzn1Z"
   },
   "outputs": [],
   "source": [
    "### Answer Here"
   ]
  },
  {
   "cell_type": "markdown",
   "metadata": {
    "id": "sj2j_P5y8xxf"
   },
   "source": [
    "<div><img src=\"https://clark.physics.illinois.edu/246img/AnsEnd.svg\" width=200 align=left alt=\"Answer (end)\"></img><br></div>"
   ]
  },
  {
   "cell_type": "markdown",
   "metadata": {
    "id": "PddEQvse81L5"
   },
   "source": [
    "You should have observed the following things:\n",
    "\n",
    "* The planet eventually equilibrates to the temperature that you predicted in exercise 1. This is the fixed point of that equation (i.e. if you start there you stay there).\n",
    "\n",
    "* The approach to that equilibrium is exponential.  You actually could have deduced this even analytically by looking at the form of the differential equation.  This tells you that if you are out of equilibrium that you end up getting pushed back towards the equilibrium temperature relatively quickly (both from above and below). The equilibrium temperature is a stable fixed point - if you push away from it, you flow back to it.\n",
    "\n",
    "* The time scale to fix a 5 degree difference from equilibrium is on the order of a decade."
   ]
  },
  {
   "cell_type": "markdown",
   "metadata": {
    "id": "QONLmhHSBGrc"
   },
   "source": [
    "### b. Snowball Earth\n",
    "\n",
    "We have seen that the Earth is very stable and largely independent of the initial temperature. But we are missing some important qualitiative physics.  In particular, once water gets cold enough it freezes into ice.  This ice is actually much more reflective of the Sun than water or land and so the albedo is therefore much higher.  This tells us that we should have the albedo (and hence the radiation entering the planet) depend on temperature.\n",
    "\n",
    "* If the temperature $T<-10$ degrees celsius, then we should have the albedo be $\\alpha_i = 0.5$\n",
    "* If the temperature $T>10$ degrees celsius, then we should have the albedo be $\\alpha_0 = 0.3$\n",
    "* In the intermediate regime $-10 < T < 10$ we can adjust it continuously as $\\alpha_i + (\\alpha_0-\\alpha_i)(T+10)/20$\n",
    "\n",
    "Write a function `GetAlpha(T)` which returns the temperature dependent albedo and plot the albedo for temperatures from $-20 < T < 20$&deg; Celsius\n"
   ]
  },
  {
   "cell_type": "markdown",
   "metadata": {
    "id": "iw783Y4wcqjr"
   },
   "source": [
    "<div><img src=\"https://clark.physics.illinois.edu/246img/AnsStart.svg\" width=200 align=left alt=\"Answer (start)\"></img><br></div>"
   ]
  },
  {
   "cell_type": "code",
   "execution_count": 8,
   "metadata": {
    "id": "QZMB94mbcpiV"
   },
   "outputs": [],
   "source": [
    "### Answer Here"
   ]
  },
  {
   "cell_type": "markdown",
   "metadata": {
    "id": "R8lL5E0NdfCM"
   },
   "source": [
    "<div><img src=\"https://clark.physics.illinois.edu/246img/AnsEnd.svg\" width=200 align=left alt=\"Answer (end)\"></img><br></div>"
   ]
  },
  {
   "cell_type": "markdown",
   "metadata": {
    "id": "782Eqpk6dqlW"
   },
   "source": [
    "Now we want to incorporate our new temperature dependent albedo in our code.  \n",
    "\n",
    "Loop over at least 10 initial temepratures from $T=-50$ to $T=100$ degrees Celsius and then examine what the temperature is as a function of time.\n",
    "\n",
    "* Plot temperature as a function of time for mamy different initial temperatures (all plotted as a different line).   \n",
    "\n",
    "* Secondly, for each initial temperature, figure out what the final fixed point temperature is. Plot the fixed point temperature on the y-axis as a function of the initial temperature.  \n",
    "\n",
    "\n",
    "\n"
   ]
  },
  {
   "cell_type": "markdown",
   "metadata": {
    "id": "nlV3pNnRpv0k"
   },
   "source": [
    "<div><img src=\"https://clark.physics.illinois.edu/246img/AnsStart.svg\" width=200 align=left alt=\"Answer (start)\"></img><br></div>"
   ]
  },
  {
   "cell_type": "code",
   "execution_count": 9,
   "metadata": {
    "id": "ynKEnfHcDufh"
   },
   "outputs": [],
   "source": [
    "### Answer Here"
   ]
  },
  {
   "cell_type": "markdown",
   "metadata": {
    "id": "NdEVPGrHp0tT"
   },
   "source": [
    "<div><img src=\"https://clark.physics.illinois.edu/246img/AnsEnd.svg\" width=200 align=left alt=\"Answer (end)\"></img><br></div>"
   ]
  },
  {
   "cell_type": "markdown",
   "metadata": {
    "id": "El05Wu3NDt6V"
   },
   "source": [
    "What you should find is two stable fixed points separated by an unstable fixed point (which you might not have seen).  The final temperature that the Earth evolves to depends on the initial temperature.  This history-dependent effect is a result of a feedback loop--lower temperatures means more ice, and more ice means less absorbed radiation from the Sun.\n",
    "\n",
    "There is some geological evidence that this happened in the past; either all (or a very large fraction) of the Earth was covered by glacial ice -- snowball Earth.  It is possible to switch between these fixed points through large scale events, such as volcanic activity, meteor strikes, solar insolation due to changes in the Sun's output or orbital oscillation. It's particularly striking how quickly very similar initial conditions result in very different output.\n"
   ]
  },
  {
   "cell_type": "markdown",
   "metadata": {
    "id": "Q7e2rEjMtex2"
   },
   "source": [
    "### c. Hysteresis"
   ]
  },
  {
   "cell_type": "markdown",
   "metadata": {
    "id": "lnES8_Eftmnt"
   },
   "source": [
    "Because the Earth takes some time (of order 5 years) to respond to changes, it exhibits hysteresis, which refers to a lag in physical properties compared to the stimulus.  Let's see this explicitly.  Let's start with a warm planet (10 degrees Celsisus) and the current solar insolation. Now let's do the following:\n",
    "\n",
    "Start S = 1367.6 J/m<sup>2</sup>\n",
    " * for step in range(0,10):\n",
    "   * Propagate the Earth's temperature forward by 5 years.\n",
    "   * Decrease S by 20 W/m<sup>2</sup>  \n",
    " * for step in range(0,40):\n",
    "   * Propagate the Earth's temperature forward by 5 years.\n",
    "   * Increase S by 5 W/m<sup>2</sup>  \n",
    " * Now keeping S constant, propagate the temperature forward by 50 more years.\n",
    "\n",
    "Plot the temperature versus year and irradiation versus year over the 300 year span of your simulation.  Notice that there is a hystersis.  Even after the solar insolation has gotten back to where it was originally, the temperature has not recovered. The only way to get back to the original high temperature is to melt the ice somehow."
   ]
  },
  {
   "cell_type": "markdown",
   "metadata": {
    "id": "5Zec9F2kw9hc"
   },
   "source": [
    "<div><img src=\"https://clark.physics.illinois.edu/246img/AnsStart.svg\" width=200 align=left alt=\"Answer (start)\"></img><br></div>"
   ]
  },
  {
   "cell_type": "code",
   "execution_count": 10,
   "metadata": {
    "id": "0nXfhJlzt9iZ"
   },
   "outputs": [],
   "source": [
    "### Answer Here"
   ]
  },
  {
   "cell_type": "markdown",
   "metadata": {
    "id": "qugCRK1ww-Yi"
   },
   "source": [
    "<div><img src=\"https://clark.physics.illinois.edu/246img/AnsEnd.svg\" width=200 align=left alt=\"Answer (end)\"></img><br></div>"
   ]
  },
  {
   "cell_type": "markdown",
   "metadata": {
    "id": "EXkQ5vi2Es9B"
   },
   "source": []
  },
  {
   "cell_type": "markdown",
   "metadata": {
    "id": "j4DjWMpVFld8"
   },
   "source": [
    "## Exercise 3: One-dimensional EBM"
   ]
  },
  {
   "cell_type": "markdown",
   "metadata": {
    "id": "dyu8JgKMG9Hs"
   },
   "source": [
    "We want to implement a more accurate climate model.  Previously, we had worked on a zero-dimensional model.  To add some realism to this model, we are going to add an additional dimension splitting up the world into different latititudes.  This is the most important effect that we are missing as these different latitudes get significantly different sunlight.  \n",
    "\n",
    "The energy balance model that we will work with will be\n",
    "\n",
    "$$ C \\frac{dT_s(\\phi)}{dt} = (1-\\alpha(\\phi;T)) Q(\\phi) - (A+B T_s(\\phi)) + \\frac{D}{\\cos⁡\\phi } \\frac{\\partial }{\\partial \\phi} \\left(   \\cos⁡\\phi  ~ \\frac{\\partial T}{\\partial \\phi} \\right)$$\n",
    "\n",
    "where $\\phi$ is the latitude (the equator is 0 degrees and the south and north poles are at -90 and +90 respectively)\n",
    "\n",
    "Be careful here because `climlab` works with degrees and most numpy functions work with radians. \n"
   ]
  },
  {
   "cell_type": "markdown",
   "metadata": {
    "id": "QTJpe4NoyQuQ"
   },
   "source": [
    "### a. Latitude dependence of solar isolation and albedo"
   ]
  },
  {
   "cell_type": "markdown",
   "metadata": {
    "id": "5iF8IC8kyOX7"
   },
   "source": [
    "\n",
    "The first thing you should notice is that there are now a lot of different terms that depend on the latitude, mainly the solar iradiation, temperature, and there is a diffusion part that transports heat between latitudes.\n",
    "\n",
    "To treat this, you need to discretize the Earth into a number of different latitude zones.  You could just discretize your own latitudes but because we need to sync our functions with yours, we will give you the latitude zones that you are going to use.  You can get them by calling the following function:\n",
    "```\n",
    "def GetLatitudes():\n",
    "  sfc = climlab.domain.zonal_mean_surface(num_lat=180, water_depth=10.)\n",
    "  lat = sfc.lat.points\n",
    "  return lat\n",
    "```"
   ]
  },
  {
   "cell_type": "markdown",
   "metadata": {
    "id": "vkZCO-Txd0Ui"
   },
   "source": [
    "The first important thing that depends on latitude is the amount of radiation from the Sun is being deposited on different parts of the Earth.  The equator gets significantly more sunlight then the poles.  \n",
    "\n",
    "The package `climlab` has a function that computes this conveniently. You can get the insolation per  by calling the following function.\n",
    "\n",
    "```\n",
    "def GetInsolation(param):\n",
    "  model1 = climlab.EBM_annual(name='EBM with interactive ice line',\n",
    "                            num_lat=180,timestep=const.seconds_per_month,\n",
    "                            **param)\n",
    "  model1.compute()\n",
    "  Q= np.array([i[0] for i in model1.insolation])\n",
    "  return Q\n",
    "```\n",
    "which will return the amount of watts per square meter of each latitude zone on the Earth. \n",
    "We will use the following parameters to model Earth\n",
    "\n",
    "```\n",
    "params = {\n",
    "    'D':0.6, #Diffusion constant D\n",
    "    'A':210, # Emission parameters\n",
    "    'B':2,\n",
    "    'a0':0.354, #base albedo \n",
    "    'a2':0.25,  # How albedo changes with latitude\n",
    "    'ai':0.5,  # albedo of ice\n",
    "    'Tf':-10., # Temperature at which ice is completely formed.\n",
    "    'CO2':283., #amount of CO2 in the atmosphere\n",
    "    'C':4.18130000e+07, #Heat capacity per m^2 in the \n",
    "    'r':5, # forcing constant for CO2\n",
    "    'timeStep':const.seconds_per_month\n",
    "    }\n",
    "```\n"
   ]
  },
  {
   "cell_type": "markdown",
   "metadata": {
    "id": "drQjmsDIjP2L"
   },
   "source": [
    "\n",
    "* Plot the insolation as as a function of latitude\n",
    "* Measure the average radiation on the Earth and verify that it is approximately 1370/4 (the number we were using before). You need to be careful when you do this.  When averaging over a sphere, you need to weight by the volume at that latitude by $\\cos \\phi$.  It will be useful to write a function which takes a array over the latitudes and averages them correctly (we will need this for the average temperature of the planet as well).\n"
   ]
  },
  {
   "cell_type": "markdown",
   "metadata": {
    "id": "ZXRoaYQ-xZt4"
   },
   "source": [
    "<div><img src=\"https://clark.physics.illinois.edu/246img/AnsStart.svg\" width=200 align=left alt=\"Answer (start)\"></img><br></div>"
   ]
  },
  {
   "cell_type": "code",
   "execution_count": 11,
   "metadata": {
    "id": "jzJKWo8cdzzC"
   },
   "outputs": [],
   "source": [
    "### Answer Here"
   ]
  },
  {
   "cell_type": "markdown",
   "metadata": {
    "id": "I4ncH00ixdYs"
   },
   "source": [
    "<div><img src=\"https://clark.physics.illinois.edu/246img/AnsEnd.svg\" width=200 align=left alt=\"Answer (end)\"></img><br></div>"
   ]
  },
  {
   "cell_type": "markdown",
   "metadata": {
    "id": "p4knv2Gxr1UP"
   },
   "source": [
    "We will treat the latitude dependence of the albedo next.  Let's use the following simple model:\n",
    "\n",
    "  * If $T<T_f$, the albedo is $\\alpha_i = 0.5$. \n",
    "  * Otherwise, set the albedo to $\\alpha_0 + a_2 P_2(\\sin \\phi)$ where $P_2$ is the second legendre polynomial and can be gotten by doing `legendre.P2(x)`.\n",
    "\n",
    "\n",
    "We will also start with initial conditions as follows.\n",
    "```\n",
    "def GetInitial(lat):\n",
    "  initial = np.array(12. - 40. * legendre.P2(np.sin(np.deg2rad(lat))))+273.15\n",
    "  return initial\n",
    "initialTemperature=GetInitial(lat)\n",
    "```\n",
    "Plot the initial temperature. Compute the average of the initial temperature and verify that it is reasonable for the Earth.\n",
    "\n",
    "Write a function which generates the Albedo when given an array of temperatures (and the parameters). For the initial temperature, check that your albedo has some values that are exactly 0.5 which correspond to ice-covered regions. Check that the ice-covered regions occur where you expect.\n"
   ]
  },
  {
   "cell_type": "markdown",
   "metadata": {
    "id": "EYHKnnXq9gdB"
   },
   "source": [
    "<div><img src=\"https://clark.physics.illinois.edu/246img/AnsStart.svg\" width=200 align=left alt=\"Answer (start)\"></img><br></div>"
   ]
  },
  {
   "cell_type": "code",
   "execution_count": 12,
   "metadata": {
    "id": "GjwYxkmEx9lY"
   },
   "outputs": [],
   "source": [
    "### Answer Here"
   ]
  },
  {
   "cell_type": "markdown",
   "metadata": {
    "id": "3IF1yL43yBHc"
   },
   "source": [
    "<div><img src=\"https://clark.physics.illinois.edu/246img/AnsEnd.svg\" width=200 align=left alt=\"Answer (end)\"></img><br></div>"
   ]
  },
  {
   "cell_type": "markdown",
   "metadata": {
    "id": "1j9WdUQoyBSr"
   },
   "source": [
    "### b. A diffusion-less planet"
   ]
  },
  {
   "cell_type": "markdown",
   "metadata": {
    "id": "PHGSsba4zlZ8"
   },
   "source": [
    "We are now in a position to deal with the incoming and outgoing radiation (but not yet the diffusion).  This is implementing the same energy balance that you had previously except that now you are going to simultaneously deal with all the latititudes. Write a function to time evolve this for 100 years.\n",
    "* Plot the average temperature vs time (getting a point once a year)\n",
    "* Plot the final temperature profile\n",
    "* The final temperature difference between the equator and the pole (i.e. just the max - min difference)\n",
    "\n",
    "You should be running with time steps of 1 month.   \n",
    "\n"
   ]
  },
  {
   "cell_type": "markdown",
   "metadata": {
    "id": "SuS6a8G0ypMT"
   },
   "source": [
    "<div><img src=\"https://clark.physics.illinois.edu/246img/AnsStart.svg\" width=200 align=left alt=\"Answer (start)\"></img><br></div>"
   ]
  },
  {
   "cell_type": "code",
   "execution_count": 13,
   "metadata": {
    "id": "FArd40pu1Jzb"
   },
   "outputs": [],
   "source": [
    "### Answer Here"
   ]
  },
  {
   "cell_type": "markdown",
   "metadata": {
    "id": "_kQ-FlRvyxyf"
   },
   "source": [
    "<div><img src=\"https://clark.physics.illinois.edu/246img/AnsEnd.svg\" width=200 align=left alt=\"Answer (end)\"></img><br></div>"
   ]
  },
  {
   "cell_type": "markdown",
   "metadata": {
    "id": "pYzPIjzr7hI5"
   },
   "source": [
    "\n",
    "You should get a pretty crazy result in this case. Essentially every latitude is doing its own thing; they are independent because the diffusion transports heat between the latitudes and we have ignored it so far.  Therefore, you're going to see some pretty sharp jumps in the temperature as you change latitudes.  In addition, there is a large (~117&deg; C) difference in temperature between the poles and the equator.\n"
   ]
  },
  {
   "cell_type": "markdown",
   "metadata": {
    "id": "c7GrPVsEzFck"
   },
   "source": [
    "### c. Diffusion"
   ]
  },
  {
   "cell_type": "markdown",
   "metadata": {
    "id": "c-zXRoRU7h6b"
   },
   "source": [
    "We are missing an important piece of the physics once we've moved to 1D.  The temperature at different latitudes can interact with each other.  Heat can move both by diffusion and advection.  Here we are going to concern ourself primarily with diffusion.  We've seen diffusion before in this class but typically as $\\partial^2/ \\partial x^2$.  In our case though we are on a sphere and need to do something different essentially writing our gradient in spherical coordinates - see the last term of our energy balance model.    \n",
    "\n",
    "We'd like to go ahead and implement the diffusion just like we've done in previous cases using a finite difference stencil. Unfortunately, this won't work here (we run into numerical instabilities at the poles). What we need to do is use an implicit solver of our differential equations.  This is out of scope for this assignment, so instead we will give you a function you can call\n",
    "```\n",
    "def Diffuse(T,params):\n",
    "  sfc = climlab.domain.zonal_mean_surface(num_lat=180, water_depth=10.)\n",
    "  Ts = climlab.Field(np.array(T), domain=sfc)\n",
    "  d = climlab.dynamics.MeridionalHeatDiffusion(name='Diffusion',state=Ts, D=params['D'],timestep=params['timeStep'])\n",
    "  d.step_forward()\n",
    "  T=np.squeeze(Ts)\n",
    "  return T\n",
    "```\n",
    "by going\n",
    "```\n",
    "T=Diffuse(T,params)\n",
    "```\n",
    "\n",
    "This will defuse through a time-step of `params['timeStep']`. \n",
    "\n",
    "Add the diffusion to your timestepping from part b as an additional step. Then\n",
    "\n",
    "* Plot the average temperature vs time (getting a point once a year)\n",
    "* Plot the final temperature profile\n",
    "* The final temperature difference between the equator and the pole (i.e. just the max - min difference)\n",
    "* The ice line: the latitude at which the temperature becomes less than -10.\n",
    "\n",
    "The diffusion constant $D$ has been tuned to give a reasonable temperature difference between the poles and the Earth.  \n",
    "\n"
   ]
  },
  {
   "cell_type": "markdown",
   "metadata": {
    "id": "3GStIfs9zpZm"
   },
   "source": [
    "<div><img src=\"https://clark.physics.illinois.edu/246img/AnsStart.svg\" width=200 align=left alt=\"Answer (start)\"></img><br></div>"
   ]
  },
  {
   "cell_type": "code",
   "execution_count": 14,
   "metadata": {
    "id": "lAZcUL8c7ga5"
   },
   "outputs": [],
   "source": [
    "### Answer Here"
   ]
  },
  {
   "cell_type": "markdown",
   "metadata": {
    "id": "LEpj6jlDzsGL"
   },
   "source": [
    "<div><img src=\"https://clark.physics.illinois.edu/246img/AnsEnd.svg\" width=200 align=left alt=\"Answer (end)\"></img><br></div>"
   ]
  }
 ],
 "metadata": {
  "colab": {
   "provenance": []
  },
  "kernelspec": {
   "display_name": "Python 3",
   "name": "python3"
  },
  "language_info": {
   "name": "python"
  }
 },
 "nbformat": 4,
 "nbformat_minor": 0
}
