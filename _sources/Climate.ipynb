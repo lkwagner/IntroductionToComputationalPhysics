{
 "cells": [
  {
   "cell_type": "markdown",
   "metadata": {
    "id": "bhaetHzrFXox"
   },
   "source": [
    "# Climate Dynamics"
   ]
  },
  {
   "cell_type": "code",
   "execution_count": null,
   "metadata": {
    "id": "MO6JXOKVGR20",
    "tags": [
     "hide-cell"
    ]
   },
   "outputs": [],
   "source": [
    "!pip install climlab\n",
    "!wget https://clark.physics.illinois.edu/temp.data\n"
   ]
  },
  {
   "cell_type": "code",
   "execution_count": null,
   "metadata": {
    "colab": {
     "base_uri": "https://localhost:8080/"
    },
    "id": "3frtsDJOGRAD",
    "outputId": "ae7f3aa6-1134-48c5-d7ea-b29017165a53",
    "tags": [
     "hide-cell"
    ]
   },
   "outputs": [
    {
     "data": {
      "text/plain": [
       "datetime.datetime(2023, 11, 30, 19, 9, 20, 721800)"
      ]
     },
     "execution_count": 97,
     "metadata": {},
     "output_type": "execute_result"
    }
   ],
   "source": [
    "import numpy as np\n",
    "import matplotlib.pyplot as plt\n",
    "import random\n",
    "from climlab import constants as const\n",
    "from climlab.solar.insolation import daily_insolation\n",
    "from climlab.utils import legendre\n",
    "import climlab\n",
    "import scipy\n",
    "def resetMe(keepList=[]):\n",
    "    ll=%who_ls\n",
    "    keepList=keepList+['resetMe','np','plt','random']\n",
    "    for iiii in keepList:\n",
    "        if iiii in ll:\n",
    "            ll.remove(iiii)\n",
    "    for iiii in ll:\n",
    "        jjjj=\"^\"+iiii+\"$\"\n",
    "        %reset_selective -f {jjjj}\n",
    "    ll=%who_ls\n",
    "    return\n",
    "tempData=np.loadtxt(\"temp.data\")\n",
    "tempData[:,1]=tempData[:,1]+14.2\n",
    "import datetime;datetime.datetime.now()\n"
   ]
  },
  {
   "cell_type": "markdown",
   "metadata": {
    "id": "edd-Q2Tn_xth"
   },
   "source": [
    "## Exercise 1: Climate and Global Warming"
   ]
  },
  {
   "cell_type": "markdown",
   "metadata": {
    "id": "oO6yk-tUAB_H"
   },
   "source": [
    "### a. The temperature of the dark airless Earth"
   ]
  },
  {
   "cell_type": "markdown",
   "metadata": {
    "id": "BvqSszJVAYqw"
   },
   "source": [
    "Our goal is to start understanding something about the climate.  We first want two functions:\n",
    "\n",
    "```\n",
    "def IncomingRadiationPerSquareMeter():\n",
    "  ...\n",
    "  ...\n",
    "  return ...\n",
    "```\n",
    "\n",
    "which returns the incoming radiation to the Earth and\n",
    "\n",
    "```\n",
    "def OutgoingRadiationPerSquareMeter():\n",
    "  ...\n",
    "  ...\n",
    "  return ...\n",
    "```\n",
    "\n",
    "which returns the outgoing radiation.   \n",
    "\n",
    "We are going to iteratively improve upon these functions to add more realism eventually ending up with a one-dimensional representation of the Earth.  \n",
    "\n",
    "Let us begin, though, with the simplest thing we can do.   The sun is outputting a certain amount of Energy per second.  By the time it has spread out to the orbit of the Earth, it is a flux of\n",
    "* $S=1367.6$ Watts/$\\textrm{m}^2$\n",
    "\n",
    "From the Sun's point of view, the earth is a disc (circle) that is of area $\\pi R^2$ where $R$ is the radius of the Earth.\n",
    "\n",
    "From this, we can compute the amount of radiation that is hitting Earth. That radiation, though, is split out over the entire surface of the Earth - an area of $4\\pi R^2$.\n",
    "\n",
    "Using this information you should be able to write a function `IncomingRadiationPerSquareMeter()` which specifies how much radiation hits the Earth. Notice that this doesn't depend on the radius of the Earth $R$.\n"
   ]
  },
  {
   "cell_type": "markdown",
   "metadata": {
    "id": "ADS1A1wwBXxd"
   },
   "source": [
    "<div><img src=\"https://clark.physics.illinois.edu/246img/AnsStart.svg\" width=200 align=left alt=\"Answer (start)\"></img><br></div>"
   ]
  },
  {
   "cell_type": "code",
   "execution_count": 1,
   "metadata": {
    "id": "gPUbkQ96A_pA"
   },
   "outputs": [],
   "source": [
    "## Answer here"
   ]
  },
  {
   "cell_type": "markdown",
   "metadata": {
    "id": "-Dn-b8vnBY-a"
   },
   "source": [
    "<div><img src=\"https://clark.physics.illinois.edu/246img/AnsEnd.svg\" width=200 align=left alt=\"Answer (end)\"></img><br></div>"
   ]
  },
  {
   "cell_type": "markdown",
   "metadata": {
    "id": "dudpC7wnBdG6"
   },
   "source": [
    "To get an estimate of the outgoing radiation, we can use the Stefan-Boltzmann law.   This law tell us that a blackbody (like the Earth) radiates at $\\sigma T^4$ where\n",
    "* $\\sigma =  5.67 \\times 10^{-8}$ W/ ($m^2$ $K^4$)\n",
    "\n",
    "We can now right the function `OutgoingRadiationPerSquareMeter(T)` which takes the temperature $T$.  \n"
   ]
  },
  {
   "cell_type": "markdown",
   "metadata": {
    "id": "7lM6BD1ZBlWA"
   },
   "source": [
    "<div><img src=\"https://clark.physics.illinois.edu/246img/AnsStart.svg\" width=200 align=left alt=\"Answer (start)\"></img><br></div>"
   ]
  },
  {
   "cell_type": "code",
   "execution_count": 2,
   "metadata": {
    "id": "TkK1u2yBBkmQ"
   },
   "outputs": [],
   "source": [
    "### Answer here"
   ]
  },
  {
   "cell_type": "markdown",
   "metadata": {
    "id": "Fx9wrqx7BqFN"
   },
   "source": [
    "<div><img src=\"https://clark.physics.illinois.edu/246img/AnsEnd.svg\" width=200 align=left alt=\"Answer (end)\"></img><br></div>"
   ]
  },
  {
   "cell_type": "markdown",
   "metadata": {
    "id": "Qv2fEDsHB2Dt"
   },
   "source": [
    "Now we need to find the temperature at which the incoming radiation and the outgoing radiation match.\n",
    "\n",
    "Do this in two ways. First graph the two functions you've written as a function of temperature and determine at temperature $T$ the two match.\n",
    "\n",
    "Secondly, let's just call some optimization.  Define a cost function `diff(T)` which gives the absolute value of the difference between the incoming and outgoing radiation.  Let's then just minimize this by calling\n",
    "`opt=scipy.optimize.minimize(diff,[10],method='COBYLA',bounds=[(0,300)])`\n",
    "\n",
    "Report the number you find and compare this with the actual temperature of the Earth which is approximately 14 degrees Celsius (pre-industrial) or 15 degrees Celsius (now).   "
   ]
  },
  {
   "cell_type": "markdown",
   "metadata": {
    "id": "rfTfGQNQR8oB"
   },
   "source": [
    "<div><img src=\"https://clark.physics.illinois.edu/246img/AnsStart.svg\" width=200 align=left alt=\"Answer (start)\"></img><br></div>"
   ]
  },
  {
   "cell_type": "code",
   "execution_count": null,
   "metadata": {
    "id": "HU_ducKuR7g7"
   },
   "outputs": [],
   "source": [
    "# Answer here"
   ]
  },
  {
   "cell_type": "markdown",
   "metadata": {
    "id": "amadi-NBR-3-"
   },
   "source": [
    "<div><img src=\"https://clark.physics.illinois.edu/246img/AnsEnd.svg\" width=200 align=left alt=\"Answer (end)\"></img><br></div>"
   ]
  },
  {
   "cell_type": "markdown",
   "metadata": {
    "id": "CcxmydDxCytb"
   },
   "source": [
    "### b. The temperature of Earth with air and clouds"
   ]
  },
  {
   "cell_type": "markdown",
   "metadata": {
    "id": "Rgk2qf97C50S"
   },
   "source": [
    "It turns out that we didn't find the correct temperature.  We have ignored two important effects.\n",
    "\n",
    "**Albedo**  \n",
    "\n",
    "Some fraction of the radiation that is incoming to the Earth simply gets reflected back immediately from things like clouds and ice.  This fraction is approximately $\\alpha=0.3$.  The incoming radiation per square meter is then instead $\\frac{S}{4}( 1-\\alpha)$.\n",
    "\n",
    "\n",
    "**Greenhouse Gases**\n",
    "\n",
    "In practice, some fraction of the radiation that would typically be radiated back into space is capture by the greenhouse gases in the atmosphere.\n",
    "\n",
    "We can represent this by including an emissivity term for the atmosphere writing instead that the radiation emitted is $\\epsilon \\sigma T^4$.  We don't have any good way to calculate $\\epsilon$ from first principles at the moment so instead let's back it out.  Let's instead say that the pre-industrial temperature is 14 degrees Celsius.  Calculate using your code what the emissivity have to be?\n",
    "\n"
   ]
  },
  {
   "cell_type": "markdown",
   "metadata": {
    "id": "UHWE0gMWSDEt"
   },
   "source": [
    "<div><img src=\"https://clark.physics.illinois.edu/246img/AnsStart.svg\" width=200 align=left alt=\"Answer (start)\"></img><br></div>"
   ]
  },
  {
   "cell_type": "code",
   "execution_count": 3,
   "metadata": {
    "id": "UJgTPRGwR4K9"
   },
   "outputs": [],
   "source": [
    "### Answer Here"
   ]
  },
  {
   "cell_type": "markdown",
   "metadata": {
    "id": "zBLU0hrgSGBu"
   },
   "source": [
    "<div><img src=\"https://clark.physics.illinois.edu/246img/AnsEnd.svg\" width=200 align=left alt=\"Answer (end)\"></img><br></div>"
   ]
  },
  {
   "cell_type": "markdown",
   "metadata": {
    "id": "7lvaep8ZSZZD"
   },
   "source": [
    "### c. Linearizing around the equilibrium"
   ]
  },
  {
   "cell_type": "markdown",
   "metadata": {
    "id": "YZSjeFdOShce"
   },
   "source": [
    "We will find it convenient to linearize are outgoing radiation around zero degrees celsius.  This should give us\n",
    "\n",
    "$$\\epsilon \\sigma (T_0 + T_c)^4 \\approx \\epsilon \\sigma(T_0^4 + 4 T_0^3 T_c) = A + BT_c$$\n",
    "where $T_0=273.15$ and $T_c$ is the temperature in Celsius.\n",
    "\n",
    "This gives us $A=195.94$ and $B=2.87$.\n",
    "\n",
    "Change your outgoing radiation function to use $A+BT_c$.  Your function should take $T$ in Kelvin but needs to convert it to Celsius to work here.\n",
    "\n",
    "Again, optimize for the equilibrium temperature.  You'll actually find that we get a temperature $T=15.11878309$.  This is off because the linearization wasn't great.  We can fix this by instead renormalizing these parameters instead using\n",
    "* $A=221.2$\n",
    "* $B=1.3$\n",
    "\n",
    "Check that these new parameters give a much closer equilbrium temperature (for the pre-industrial average) of 13.94\n"
   ]
  },
  {
   "cell_type": "markdown",
   "metadata": {
    "id": "siv3D9MUU--g"
   },
   "source": [
    "<div><img src=\"https://clark.physics.illinois.edu/246img/AnsStart.svg\" width=200 align=left alt=\"Answer (start)\"></img><br></div>"
   ]
  },
  {
   "cell_type": "code",
   "execution_count": 4,
   "metadata": {
    "id": "xy5Ki1AjUXQw"
   },
   "outputs": [],
   "source": [
    "### Answer Here"
   ]
  },
  {
   "cell_type": "markdown",
   "metadata": {
    "id": "sB_-mJadVFNV"
   },
   "source": [
    "<div><img src=\"https://clark.physics.illinois.edu/246img/AnsEnd.svg\" width=200 align=left alt=\"Answer (start)\"></img><br></div>"
   ]
  },
  {
   "cell_type": "markdown",
   "metadata": {
    "id": "yYNAB44famhs"
   },
   "source": [
    "\n",
    "We will be building up a dictionary with the relevant parameters in it - so far\n",
    "```\n",
    "params = {\n",
    "    'alpha' : 0.3,\n",
    "    'A' : 221.2  ,\n",
    "    'B' : 1.3\n",
    "    }\n",
    "```\n"
   ]
  },
  {
   "cell_type": "markdown",
   "metadata": {
    "id": "1VolabJbY5cb"
   },
   "source": [
    "### d. Global Warming"
   ]
  },
  {
   "cell_type": "markdown",
   "metadata": {
    "id": "Yva8r2BjZAS9"
   },
   "source": [
    "We know that putting carbon dioxide in the atmosphere increases the temperature of the Earth.  We would like to quantify this.  It is known that Carbox dioxide essentially contributes to decreasing the radiation which is emitted from the Earth in a way which is logarithmic to its concentration.  In other words, it corrects our emitted radiation by a term\n",
    "$$ r \\log \\left(\\frac{CO_{2;current}}{CO_{2;old}}\\right) $$\n",
    "where $r=-5$ is a proportionality constant.  \n",
    "\n",
    "Below is the Carbon dioxide that is in the air as a function of year.  Plot it:"
   ]
  },
  {
   "cell_type": "code",
   "execution_count": null,
   "metadata": {
    "id": "14fSXHKVY_GC",
    "tags": [
     "hide-cell"
    ]
   },
   "outputs": [],
   "source": [
    "CO2=np.array([[1751.590620307266, 277.1900826446281],\n",
    "[1777.9960515400046, 278.95316804407713],\n",
    "[1790.6841547040233, 279.8347107438017],\n",
    "[1797.1997437701493, 280.27548209366387],\n",
    "[1806.8001722200638, 281.1570247933884],\n",
    "[1815.0283007970431, 282.03856749311296],\n",
    "[1822.9161897361043, 282.4793388429752],\n",
    "[1832.8625284845687, 282.92011019283746],\n",
    "[1845.5506316485873, 283.80165289256195],\n",
    "[1859.9484389931429, 285.56473829201104],\n",
    "[1872.9711111344473, 287.7685950413223],\n",
    "[1891.8062104235146, 293.0578512396694],\n",
    "[1906.8674850620098, 298.3471074380165],\n",
    "[1917.128545475548, 303.1955922865013],\n",
    "[1926.3717223056487, 306.2809917355372],\n",
    "[1930.8288615623721, 306.72176308539946],\n",
    "[1936.3010490722172, 309.366391184573],\n",
    "[1940.7440116773605, 312.0110192837465],\n",
    "[1946.573450807019, 312.45179063360877],\n",
    "[1951.3708297016603, 313.3333333333333],\n",
    "[1955.8194629674358, 315.09641873278235],\n",
    "[1959.9221859346617, 317.30027548209364],\n",
    "[1963.6789986033375, 319.9449035812672],\n",
    "[1967.0927363037795, 322.58953168044076],\n",
    "[1971.1784472891093, 327.4380165289256],\n",
    "[1973.903199722768, 330.52341597796146],\n",
    "[1976.9625211337122, 334.93112947658403],\n",
    "[1980.6994864901762, 340.6611570247934],\n",
    "[1982.735253657051, 344.1873278236915],\n",
    "[1985.4571707603936, 347.71349862258955],\n",
    "[1987.8303422348704, 352.1212121212121],\n",
    "[1990.8896636458148, 356.5289256198347],\n",
    "[1994.2892246946772, 361.37741046831957],\n",
    "[1996.322156531236, 365.3443526170799],\n",
    "[1999.3786426118645, 370.1928374655647],\n",
    "[2003.7762399319522, 379.88980716253445],\n",
    "[2006.4896510443468, 384.73829201101927],\n",
    "[2010.5498440568329, 393.55371900826447],\n",
    "[2012.2397009251579, 397.5206611570248],\n",
    "[2014.9361000556567, 405.0137741046832],\n",
    "[2016.9690318922155, 408.9807162534435],\n",
    "[2019.6654310227143, 416.4738292011019],\n",
    "[2020.6833146061517, 418.23691460055096]])\n",
    "\n",
    "### Plot Here\n"
   ]
  },
  {
   "cell_type": "markdown",
   "metadata": {
    "id": "n_d-F7K-nP-V"
   },
   "source": [
    "Now, modify your code to include this additional forcing term into the emitted radiation.  \n",
    "\n",
    "Compute the equilibrium temperature at the value of carbon dioxide for each year and graph this equilibrium temperature against the year.  Plot it on top of the actual measured temperature which is in `tempData[:,1]` (where the year is in `tempData[:,0]`).   Notice the close agreement between the predicted temperature based on the CO2 and our 0D EBM vs the actual temperature (actually the prediction is probably closer then it should be expected given the spherical cow nature of our approximation)\n",
    "\n",
    "```\n",
    "params = {\n",
    "    'alpha' : 0.3,\n",
    "    'A' : 221.2  ,\n",
    "    'B' : 1.3,\n",
    "    'r': -5,\n",
    "    'Current_CO2' : ...\n",
    "    }\n",
    "```"
   ]
  },
  {
   "cell_type": "markdown",
   "metadata": {
    "id": "nHK2c4TTkG9U"
   },
   "source": [
    "<div><img src=\"https://clark.physics.illinois.edu/246img/AnsStart.svg\" width=200 align=left alt=\"Answer (start)\"></img><br></div>"
   ]
  },
  {
   "cell_type": "code",
   "execution_count": 5,
   "metadata": {
    "id": "vEJrybI0nPFU"
   },
   "outputs": [],
   "source": [
    "### Answer HERE"
   ]
  },
  {
   "cell_type": "markdown",
   "metadata": {
    "id": "o8TwGY3mkSbr"
   },
   "source": [
    "<div><img src=\"https://clark.physics.illinois.edu/246img/AnsEnd.svg\" width=200 align=left alt=\"Answer (end)\"></img><br></div>"
   ]
  },
  {
   "cell_type": "markdown",
   "metadata": {
    "id": "TVhwJF-4s86E"
   },
   "source": [
    "Now, in this model, let's compute how much more carbon dioxide we can add to the atmosphere before we can reach two degrees of temperature increase from the 1850 baseline. If we assume that you continue to increase the CO2 in the atmosphere at the same rate that we have been in the last 20 years, what year do we reach a two degree warming.\n"
   ]
  },
  {
   "cell_type": "markdown",
   "metadata": {
    "id": "eeVVGPvJtssp"
   },
   "source": [
    "<div><img src=\"https://clark.physics.illinois.edu/246img/AnsStart.svg\" width=200 align=left alt=\"Answer (start)\"></img><br></div>"
   ]
  },
  {
   "cell_type": "code",
   "execution_count": 6,
   "metadata": {
    "id": "5YOe_pf6tM-p"
   },
   "outputs": [],
   "source": [
    "### Answer Here"
   ]
  },
  {
   "cell_type": "markdown",
   "metadata": {
    "id": "wTlfObv9ttZc"
   },
   "source": [
    "<div><img src=\"https://clark.physics.illinois.edu/246img/AnsEnd.svg\" width=200 align=left alt=\"Answer (end)\"></img><br></div>"
   ]
  },
  {
   "cell_type": "markdown",
   "metadata": {
    "id": "yiXCsd0TolPY"
   },
   "source": [
    "## Exercise 2: Snowball Earth"
   ]
  },
  {
   "cell_type": "markdown",
   "metadata": {
    "id": "cLGgW5RKY9Xm"
   },
   "source": [
    "### a. Climate Dynamics"
   ]
  },
  {
   "cell_type": "markdown",
   "metadata": {
    "id": "So7UBmE4zoV6"
   },
   "source": [
    "So far we've mainly figured out what the equilibrium temperature of the Earth has to be - i.e. the Sun shines on the Earth for a long period of time and eventually it heats the Earth up so that the radiation the Earth is radiating back to space is equivalent to the radiation that is being absorbed.\n",
    "\n",
    "In this exercise, we are going to start by dealing with the word eventually.  We'd like to understand how long it takes the temperature to approach to equilibrium temperature - this, of course, depends on what we mean by heating up the Earth to that temperature.\n",
    "\n",
    "It shouldn't surprise us that we to answer this question, we should start by writing down a differential equation that tells us $\\partial T / \\partial t$ where $T$ is the temperature and $t$ is the time.\n",
    "\n",
    "$$ C \\frac{\\partial T}{\\partial t} = \\frac{S}{4}(1-\\alpha) - (A+B T) $$\n",
    "\n",
    "(remember in $BT$ we need that $T$ is in Celsius).\n",
    "\n",
    "The r.h.s. of this is just the radiation into the Earth and the radiation out of Earth that we were working on in exercise 1.  Previously, we were just setting this r.h.s. to zero - i.e. we wanted the temperature at which the change in temperature over time was zero.\n",
    "\n",
    "But when it's not zero, it's telling us how much the temperature changes in a unit of time.  If there is more radiation coming in then going out, we expect that the temperature of the planet should heat up.\n",
    "\n",
    "The $C$ is the heat capacity of the planet - it's telling us if we put a certain amount of radiation in per second how long does that take to actually heat up the Earth.  If the Earth were a big chunk of iron it would heat up pretty quickly (think a pot). On the other hand, if it was a big chunk of granite, it would heat up quite slowly.  It turns out that Earth (at least the relevant part that's heating up) is essentially a big bag of water - i.e. a big ocean.  It's a little subtle to figure out which part of the ocean is heating up but a reasonable answer here turns out to be the top 10 meters.  In such a case, the heat capacity is going to be $C=4.18130000e+07$.  \n",
    "\n",
    "Go ahead and set up a first order integrator for this system.  Use a time step $dt$ of 1 month (written in seconds!). You can use `const.seconds_per_month` to get the correct number of seconds.   \n",
    "\n",
    "Start the temperature of the Earth at 295 degrees Kelvin and allow that temperature to evolve in time.  Plot the temperature as a function of time (in years).\n",
    "\n",
    "We want to observe three things:\n",
    "* What is the equilibrium temperature?\n",
    "* What is the functional form for approaching the equilibrium temperature?\n",
    "* How long does it take to get there?\n",
    "\n",
    "Try a similar thing starting from a temperature which is less 270 degrees Kelvin."
   ]
  },
  {
   "cell_type": "markdown",
   "metadata": {
    "id": "BxmOSLZz8nUy"
   },
   "source": [
    "<div><img src=\"https://clark.physics.illinois.edu/246img/AnsStart.svg\" width=200 align=left alt=\"Answer (start)\"></img><br></div>"
   ]
  },
  {
   "cell_type": "code",
   "execution_count": 7,
   "metadata": {
    "id": "u6B1c7qjzn1Z"
   },
   "outputs": [],
   "source": [
    "### Answer Here"
   ]
  },
  {
   "cell_type": "markdown",
   "metadata": {
    "id": "sj2j_P5y8xxf"
   },
   "source": [
    "<div><img src=\"https://clark.physics.illinois.edu/246img/AnsEnd.svg\" width=200 align=left alt=\"Answer (end)\"></img><br></div>"
   ]
  },
  {
   "cell_type": "markdown",
   "metadata": {
    "id": "PddEQvse81L5"
   },
   "source": [
    "You should have observed the following things:\n",
    "\n",
    "* The planet eventually equilibrates to the temperature that you predicted in exercise 1. This is the fixed point of that equation (i.e. if you start there you stay there).\n",
    "\n",
    "* The approach to that equilibrium is exponential.  You actually could have deduced this even analytically by looking at the form of the differential equation.  This tells you that if you are out of equilibrium that you end up getting pushed back towards the equilibrium temperature relatively quickly (both from above and below). The equilibrium temperature is a stable fixed point - if you push away from it, you flow back to it.\n",
    "\n",
    "* The time scale to fix a 5 degree difference from equilibrium is on the order of a decade.\n",
    "\n",
    "It is interesting to ask how long it would take to relax back to the equilibrium temperature if you start 100 degrees Celsius away."
   ]
  },
  {
   "cell_type": "markdown",
   "metadata": {
    "id": "QONLmhHSBGrc"
   },
   "source": [
    "### b. Snowball Earth\n",
    "\n",
    "We have seen that the Earth is very stable and largely independent of the initial temperature. But we are missing some important qualitiative physics.  In particular, once water gets cold enough it freezes into ice.  This ice is actually much more reflective of the Sun and so the albedo is therefore much higher.  This tells us that we should have the albedo (and hence the radiation entering the planet) depend on temperature.\n",
    "\n",
    "* If the temperature $T<-10$ degrees celsius, then we should have the albedo be $\\alpha_i = 0.5$\n",
    "* If the temperature $T>10$ degrees celsius, then we should have the albedo be $\\alpha_0 = 0.3$\n",
    "* In the intermediate regime $-10 < T < 10$ we can adjust it continuously as $\\alpha_i + (\\alpha_0-\\alpha_i)(T+10)/20$\n",
    "\n",
    "Write a function `GetAlpha(T)` which returns the temperature dependent albedo and plot the albedo for temperatures from $-20 < T < 20$ degrees Celsius\n",
    "\n",
    "\n",
    "\n"
   ]
  },
  {
   "cell_type": "markdown",
   "metadata": {
    "id": "iw783Y4wcqjr"
   },
   "source": [
    "<div><img src=\"https://clark.physics.illinois.edu/246img/AnsStart.svg\" width=200 align=left alt=\"Answer (start)\"></img><br></div>"
   ]
  },
  {
   "cell_type": "code",
   "execution_count": 8,
   "metadata": {
    "id": "QZMB94mbcpiV"
   },
   "outputs": [],
   "source": [
    "### Answer Here"
   ]
  },
  {
   "cell_type": "markdown",
   "metadata": {
    "id": "R8lL5E0NdfCM"
   },
   "source": [
    "<div><img src=\"https://clark.physics.illinois.edu/246img/AnsEnd.svg\" width=200 align=left alt=\"Answer (end)\"></img><br></div>"
   ]
  },
  {
   "cell_type": "markdown",
   "metadata": {
    "id": "782Eqpk6dqlW"
   },
   "source": [
    "Now we want to incorporate our new temperature dependent albedo in our code.  \n",
    "\n",
    "What we want to do is loop over a large number of initial temepratures from $T=-50$ to $T=100$ degrees Celsius and then examine what the temperature is as a function of time.\n",
    "\n",
    "* Plot temperature as a function of time for mamy different initial temperatures (all plotted as a different line).   \n",
    "\n",
    "* Secondly, for each initial temperature, figure out what the final fixed point temperature is. Plot the fixed point temperature on the y-axis as a function of the initial temperature.  \n",
    "\n",
    "\n",
    "\n"
   ]
  },
  {
   "cell_type": "markdown",
   "metadata": {
    "id": "nlV3pNnRpv0k"
   },
   "source": [
    "<div><img src=\"https://clark.physics.illinois.edu/246img/AnsStart.svg\" width=200 align=left alt=\"Answer (start)\"></img><br></div>"
   ]
  },
  {
   "cell_type": "code",
   "execution_count": 9,
   "metadata": {
    "id": "ynKEnfHcDufh"
   },
   "outputs": [],
   "source": [
    "### Answer Here"
   ]
  },
  {
   "cell_type": "markdown",
   "metadata": {
    "id": "NdEVPGrHp0tT"
   },
   "source": [
    "<div><img src=\"https://clark.physics.illinois.edu/246img/AnsEnd.svg\" width=200 align=left alt=\"Answer (end)\"></img><br></div>"
   ]
  },
  {
   "cell_type": "markdown",
   "metadata": {
    "id": "El05Wu3NDt6V"
   },
   "source": [
    "What you should find is two stable fix points (and one unstable fixed point).  The final temperature that the Earth evolves too depends on the initial temperature.  This is coming from negative feedack due to the ice.  Once you get cold enough, you end up with enough ice that causes it to even get colder. And then once you evolve to a sufficiently cold value it is quite hard to recover.\n",
    "\n",
    "There is some geological evidence that either all (or a very large fraction) of the Earth was covered by glacial ice. This is called the snowball Earth.  \n",
    "\n",
    "This model gives a mechanism for how such a thing might happen. Consider a scenario where you have a temperature fluctuation for various reasons for a decade;  maybe there is anomolous volcanic activity which puts dust in the atmosphere temporarily raising the albedo or maybe there is a change in the solar insolation because of some orbital oscillation.  Within a decade you might be in a situation which is very hard to recover from.  "
   ]
  },
  {
   "cell_type": "markdown",
   "metadata": {
    "id": "Q7e2rEjMtex2"
   },
   "source": [
    "### c. Hysteresis"
   ]
  },
  {
   "cell_type": "markdown",
   "metadata": {
    "id": "lnES8_Eftmnt"
   },
   "source": [
    "This phenomena is essentially one of Hysteresis.  Let's see this explicitly.  Let's start with a warm planet (10 degrees Celsisus) and the current solar insolation. Now let's do the following:\n",
    "\n",
    "* for step in range(0,10):\n",
    "  * Wait 5 years\n",
    "  * Plot the final temperature vs the current solar insolation\n",
    "  * Decrease the value of Q=S/4 by 5 W/m^2 (i.e `S-=20`)\n",
    "  \n",
    "\n",
    "Then do the same thing but in reverse increasing the solar insolation by 5 W/m^2 at each step.  This time do it for 30 steps.    \n",
    "\n",
    "Both of these line should be on the same plot.  Notice that there is a hystersis.  Even after the solar insolation has gotten back to where it was, you are still not back to your original temperature. In fact, there's essentially no way to get back to your original temperature this way because you need to way overshoot before you melt the planet."
   ]
  },
  {
   "cell_type": "markdown",
   "metadata": {
    "id": "5Zec9F2kw9hc"
   },
   "source": [
    "<div><img src=\"https://clark.physics.illinois.edu/246img/AnsStart.svg\" width=200 align=left alt=\"Answer (start)\"></img><br></div>"
   ]
  },
  {
   "cell_type": "code",
   "execution_count": 10,
   "metadata": {
    "id": "0nXfhJlzt9iZ"
   },
   "outputs": [],
   "source": [
    "### Answer Here"
   ]
  },
  {
   "cell_type": "markdown",
   "metadata": {
    "id": "qugCRK1ww-Yi"
   },
   "source": [
    "<div><img src=\"https://clark.physics.illinois.edu/246img/AnsEnd.svg\" width=200 align=left alt=\"Answer (end)\"></img><br></div>"
   ]
  },
  {
   "cell_type": "markdown",
   "metadata": {
    "id": "EXkQ5vi2Es9B"
   },
   "source": []
  },
  {
   "cell_type": "markdown",
   "metadata": {
    "id": "j4DjWMpVFld8"
   },
   "source": [
    "## Exercise 3: One-dimensional EBM"
   ]
  },
  {
   "cell_type": "markdown",
   "metadata": {
    "id": "dyu8JgKMG9Hs"
   },
   "source": [
    "We want to implement a more accurate climate model.  Previously, we had worked on a zero-dimensional model.  To add some realism to this model, we are going to add an additional dimension splitting up the world into different latititudes.  This is the most important effect that we are missing as these different latitudes get significantly different sunlight.  \n",
    "\n",
    "The energy balance model that we will work with will be\n",
    "\n",
    "$$ C \\frac{dT_s(\\phi)}{dt} = (1-\\alpha(\\phi;T)) Q(\\phi) - (A+B T_s(\\phi)) + \\frac{D}{\\cos⁡\\phi } \\frac{\\partial }{\\partial \\phi} \\left(   \\cos⁡\\phi  ~ \\frac{\\partial T}{\\partial \\phi} \\right)$$\n",
    "\n"
   ]
  },
  {
   "cell_type": "markdown",
   "metadata": {
    "id": "QTJpe4NoyQuQ"
   },
   "source": [
    "### a. Latitude dependence of solar isolation and albedo"
   ]
  },
  {
   "cell_type": "markdown",
   "metadata": {
    "id": "5iF8IC8kyOX7"
   },
   "source": [
    "\n",
    "The first thing you should notice is that there are now a lot of different terms that depend on the latitude.\n",
    "\n",
    "To do that you need to discretize the Earth into a number of different latitude zones.  You could just discretize your own latitudes but because we need to sync our functions with yours, we will give you the latitude zones that you are going to use.  You can get them by calling the following function:\n",
    "```\n",
    "def GetLatitudes():\n",
    "  sfc = climlab.domain.zonal_mean_surface(num_lat=180, water_depth=10.)\n",
    "  lat = sfc.lat.points\n",
    "  return lat\n",
    "```"
   ]
  },
  {
   "cell_type": "markdown",
   "metadata": {
    "id": "vkZCO-Txd0Ui"
   },
   "source": [
    "The first thing that depends on latitude which is important is the amount of radiation from the Sun is being deposited on different parts of the Earth.  We know that the equator gets significantly more sunlight then the poles.  In principle, we should adjust how much each pole gets depending on the season (summer vs winter).  This is an interesting extension you can do but we will start by just assigning an average amount of Sun that touches the different parts of the Earth.  \n",
    "\n",
    "You can get this by calling the following function\n",
    "\n",
    "```\n",
    "def GetInsolation(param):\n",
    "  model1 = climlab.EBM_annual(name='EBM with interactive ice line',\n",
    "                            num_lat=180,timestep=const.seconds_per_month,\n",
    "                            **param)\n",
    "  Q= np.array([i[0] for i in model1.insolation])\n",
    "  return Q\n",
    "```\n",
    "\n",
    "which will return the amount of watts per square meter of each latitude zone on the Earth.   \n",
    "\n",
    "We will actually need to send this a set of parameters (which tells us things like the values of differnet coefficients. Here are the parameters we will use (we will explain them in due time))\n",
    "\n",
    "```\n",
    "params = {\n",
    "    'D':0.6,\n",
    "    'A':210,\n",
    "    'B':2,\n",
    "    'a0':0.354,\n",
    "    'a2':0.25,\n",
    "    'ai':0.5,\n",
    "    'Tf':-10.,\n",
    "    'CO2':283.,\n",
    "    'C':4.18130000e+07,\n",
    "    'r':5,\n",
    "    'timeStep':const.seconds_per_month\n",
    "    }\n",
    "```\n"
   ]
  },
  {
   "cell_type": "markdown",
   "metadata": {
    "id": "drQjmsDIjP2L"
   },
   "source": [
    "\n",
    "* Go ahead and plot this as as a function of latitude\n",
    "* Measure the average radiation on the Earth and verify that it is approximately 1370/4 (the number we were using before). You need to be careful when you do this.  When averaging over a sphere, you need to weight by the volume at that latitude (i.e. $\\cos \\phi$).  It will behoove you to write a function which takes a array over the latitudes and averages them correctly (we will need this for the average temperature of the planet as well).\n"
   ]
  },
  {
   "cell_type": "markdown",
   "metadata": {
    "id": "ZXRoaYQ-xZt4"
   },
   "source": [
    "<div><img src=\"https://clark.physics.illinois.edu/246img/AnsStart.svg\" width=200 align=left alt=\"Answer (start)\"></img><br></div>"
   ]
  },
  {
   "cell_type": "code",
   "execution_count": 11,
   "metadata": {
    "id": "jzJKWo8cdzzC"
   },
   "outputs": [],
   "source": [
    "### Answer Here"
   ]
  },
  {
   "cell_type": "markdown",
   "metadata": {
    "id": "I4ncH00ixdYs"
   },
   "source": [
    "<div><img src=\"https://clark.physics.illinois.edu/246img/AnsEnd.svg\" width=200 align=left alt=\"Answer (end)\"></img><br></div>"
   ]
  },
  {
   "cell_type": "markdown",
   "metadata": {
    "id": "p4knv2Gxr1UP"
   },
   "source": [
    "The next thing that we need to deal with is the latitude dependence of the albedo.  As we saw in the 0D model, the albedo will change its reflectivity when things freeze.   We are going to do something a little simpler and just have the albedo be $\\alpha_i = 0.5$ (see parameters above) when the temperature $t_f<-10$ Celsius. \n",
    "\n",
    "But there is also an effect of the albedo that is coming from the latitude. In particular, because the Sun is shining at more of an angle closer to the poles.  \n",
    "\n",
    "If the temperature is greater then $-10 < t_f$ then we should have an Albedo of $\\alpha_0 + a_2 P_2(\\sin \\phi)$ where $P_2$ is the second legendre polynomial and can be gotten by doing `legendre.P2(x)`.\n",
    "\n",
    "We've given you some initial conditions which you can get by doing the following\n",
    "```\n",
    "def GetInitial(lat):\n",
    "  initial = np.array(12. - 40. * legendre.P2(np.sin(np.deg2rad(lat))))+273.15\n",
    "  return initial\n",
    "initialTemperature=GetInitial(lat)\n",
    "```\n",
    "\n",
    "Go ahead and write a function which generates the Albedo when given an array of temperatures (and the parameters).  Then plot the initial temperature and (separately) what the Albedo looks like for the initialTemperature. Also compute the average of the initial temperature.  Your albedo should have some values at 0.5.\n",
    "\n"
   ]
  },
  {
   "cell_type": "markdown",
   "metadata": {
    "id": "EYHKnnXq9gdB"
   },
   "source": [
    "<div><img src=\"https://clark.physics.illinois.edu/246img/AnsStart.svg\" width=200 align=left alt=\"Answer (start)\"></img><br></div>"
   ]
  },
  {
   "cell_type": "code",
   "execution_count": 12,
   "metadata": {
    "id": "GjwYxkmEx9lY"
   },
   "outputs": [],
   "source": [
    "### Answer Here"
   ]
  },
  {
   "cell_type": "markdown",
   "metadata": {
    "id": "3IF1yL43yBHc"
   },
   "source": [
    "<div><img src=\"https://clark.physics.illinois.edu/246img/AnsEnd.svg\" width=200 align=left alt=\"Answer (end)\"></img><br></div>"
   ]
  },
  {
   "cell_type": "markdown",
   "metadata": {
    "id": "1j9WdUQoyBSr"
   },
   "source": [
    "### b. A diffusion-less planet"
   ]
  },
  {
   "cell_type": "markdown",
   "metadata": {
    "id": "PHGSsba4zlZ8"
   },
   "source": [
    "We are now in a position to deal with the incoming and outgoing radiation (but not yet the diffusion).  This is implementing the same energy balance that you had previously except that now you are going to simultaneously deal with all the latititudes. Write a function to time evolve this for 100 years.\n",
    "* Plot the average temperature vs time (getting a point once a year)\n",
    "* Plot the final temperature profile\n",
    "* The final temperature difference between the equator and the pole (i.e. just the max - min difference)\n",
    "\n",
    "You should be running with time steps of 1 month.   \n",
    "\n"
   ]
  },
  {
   "cell_type": "markdown",
   "metadata": {
    "id": "SuS6a8G0ypMT"
   },
   "source": [
    "<div><img src=\"https://clark.physics.illinois.edu/246img/AnsStart.svg\" width=200 align=left alt=\"Answer (start)\"></img><br></div>"
   ]
  },
  {
   "cell_type": "code",
   "execution_count": 13,
   "metadata": {
    "id": "FArd40pu1Jzb"
   },
   "outputs": [],
   "source": [
    "### Answer Here"
   ]
  },
  {
   "cell_type": "markdown",
   "metadata": {
    "id": "_kQ-FlRvyxyf"
   },
   "source": [
    "<div><img src=\"https://clark.physics.illinois.edu/246img/AnsEnd.svg\" width=200 align=left alt=\"Answer (end)\"></img><br></div>"
   ]
  },
  {
   "cell_type": "markdown",
   "metadata": {
    "id": "pYzPIjzr7hI5"
   },
   "source": [
    "\n",
    "You should get a pretty crazy result in this case. Essentially every latitude is doing its own thing (there are no independent because there is no talking between latitudes).  Thereroe, you're going to see some pretty sharp jumps in the temperature as you change latitudes.  In addition, there is a large (~117 degrees) difference between the poles and the equator.\n"
   ]
  },
  {
   "cell_type": "markdown",
   "metadata": {
    "id": "c7GrPVsEzFck"
   },
   "source": [
    "### c. Diffusion"
   ]
  },
  {
   "cell_type": "markdown",
   "metadata": {
    "id": "c-zXRoRU7h6b"
   },
   "source": [
    "We are missing an important piece of the physics once we've moved to 1D.  The temperature at different latitudes can interact with each other.  Temperature can move both by diffusion and advection.  Here we are going to concern ourself primarily with diffusion.  We've seen diffusion before in this class but typically as $\\partial^2/ \\partial x^2$.  In our case though we are on a sphere and need to do something different essentially writing our gradient in spherical coordinates - see the last term of our energy balance model.    \n",
    "\n",
    "We'd like to go ahead and implement the diffusion just like we've done in previous cases using a finite difference stencil. Unfortunately, this won't work here (we run into numerical instabilities at the poles). What we need to do is use an implicit solver of our differential equations.  This is out of scope for this assignment, so instead we will give you a function you can call\n",
    "```\n",
    "def Diffuse(T,params):\n",
    "  sfc = climlab.domain.zonal_mean_surface(num_lat=180, water_depth=10.)\n",
    "  Ts = climlab.Field(np.array(T), domain=sfc)\n",
    "  d = climlab.dynamics.MeridionalHeatDiffusion(name='Diffusion',state=Ts, D=params['D'],timestep=params['timeStep'])\n",
    "  d.step_forward()\n",
    "  T=np.squeeze(Ts)\n",
    "  return T\n",
    "```\n",
    "by going\n",
    "```\n",
    "T=Diffuse(T,params)\n",
    "```\n",
    "\n",
    "This will defuse through a time-step of $\\delta T$.  This said, **there is an extra 30 points extra credit if you can right your own diffuse function which does the diffusion correctly without using libraries. You will almost certainly need implicit solvers to do this**.\n",
    "\n",
    "Go ahead and put everything together now.  You should be calling the diffusion every time-step as well.\n",
    "\n",
    "* Plot the average temperature vs time (getting a point once a year)\n",
    "* Plot the final temperature profile\n",
    "* The final temperature difference between the equator and the pole (i.e. just the max - min difference)\n",
    "* The ice line: the latitude at which the temperature becomes less then -10.\n",
    "\n",
    "The diffusion constant $D$ has been tuned to give a reasonable difference between the poles and the Earth.  \n",
    "\n"
   ]
  },
  {
   "cell_type": "markdown",
   "metadata": {
    "id": "3GStIfs9zpZm"
   },
   "source": [
    "<div><img src=\"https://clark.physics.illinois.edu/246img/AnsStart.svg\" width=200 align=left alt=\"Answer (start)\"></img><br></div>"
   ]
  },
  {
   "cell_type": "code",
   "execution_count": 14,
   "metadata": {
    "id": "lAZcUL8c7ga5"
   },
   "outputs": [],
   "source": [
    "### Answer Here"
   ]
  },
  {
   "cell_type": "markdown",
   "metadata": {
    "id": "LEpj6jlDzsGL"
   },
   "source": [
    "<div><img src=\"https://clark.physics.illinois.edu/246img/AnsEnd.svg\" width=200 align=left alt=\"Answer (end)\"></img><br></div>"
   ]
  },
  {
   "cell_type": "markdown",
   "metadata": {
    "id": "2U5ru_o9Da-X"
   },
   "source": [
    "You don't have to do this but you can also experiment with various snowball Earth scenarios with this model."
   ]
  }
 ],
 "metadata": {
  "colab": {
   "provenance": []
  },
  "kernelspec": {
   "display_name": "Python 3",
   "name": "python3"
  },
  "language_info": {
   "name": "python"
  }
 },
 "nbformat": 4,
 "nbformat_minor": 0
}
