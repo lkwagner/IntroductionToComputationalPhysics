{
 "cells": [
  {
   "cell_type": "markdown",
   "metadata": {},
   "source": [
    "# Predator-Prey "
   ]
  },
  {
   "cell_type": "markdown",
   "metadata": {},
   "source": [
    "* **Author:**\n",
    "\n",
    "* **Date:**\n",
    "\n",
    "* **Time spent on this assignment:**"
   ]
  },
  {
   "cell_type": "markdown",
   "metadata": {},
   "source": [
    "Remember to execute this cell to load numpy and pylab."
   ]
  },
  {
   "cell_type": "code",
   "execution_count": 18,
   "metadata": {
    "code_folding": [
     3
    ],
    "tags": [
     "hide-cell"
    ]
   },
   "outputs": [],
   "source": [
    "import numpy as np\n",
    "import matplotlib.pyplot as plt\n",
    "from dataclasses import dataclass\n",
    "from dataclasses import field\n",
    "from copy import copy\n",
    "from  matplotlib.animation import FuncAnimation\n",
    "import matplotlib\n",
    "from IPython.display import HTML\n",
    "from dataclasses import dataclass\n",
    "\n",
    "\n",
    "matplotlib.rcParams['animation.embed_limit'] = 2**128\n",
    "\n",
    "def resetMe(keepList=[]):\n",
    "    ll=%who_ls\n",
    "    keepList=keepList+['resetMe','np','plt','scipy','scipy.optimize','dataclass']\n",
    "    for iiii in keepList:\n",
    "        if iiii in ll:\n",
    "            ll.remove(iiii)\n",
    "    for iiii in ll:\n",
    "        jjjj=\"^\"+iiii+\"$\"\n",
    "        %reset_selective -f {jjjj}\n",
    "    ll=%who_ls\n",
    "    return"
   ]
  },
  {
   "cell_type": "markdown",
   "metadata": {},
   "source": [
    "## 0. Background"
   ]
  },
  {
   "cell_type": "markdown",
   "metadata": {},
   "source": [
    "In this assignment we are going to consider the evolution of predators and preys within an ecosystem.  \n",
    "\n",
    "We will focus on a single population of prey $F$ (foxes) and a single population of predators $B$ (bunnies). \n",
    "\n",
    "Three possible things can happen:\n",
    "\n",
    "1.  Prey reproduce. \n",
    "    Each prey produces $\\alpha \\Delta t$ new prey in the unit of time $\\Delta t$.  Therefore, the total number of new prey generated at time $t$ depends linearly on how many prey $B(t)$ there is with $\\Delta B(t) = \\alpha B(t) \\Delta t$. We can write this as a differential equation\n",
    "\n",
    "    * $\\frac{dB(t)}{dt} = \\alpha B(t)$\n",
    " \n",
    "\n",
    "  \n",
    "  \n",
    "2. Predators die.\n",
    "     Like reproduction, the total number of predators that die at time $t$ depends linearly on the total number of predators $F(t)$ such that the change $\\Delta F(t) = -\\gamma F(t) \\Delta t$.  We can write this as a differential equation \n",
    "    * $\\frac{dF(t)}{dt} \\propto -\\gamma F(t)$\n",
    "  \n",
    "  \n",
    "   \n",
    "3.  Predators eat prey.\n",
    "\n",
    "    The rate at which predators and prey run into each other is going to depend multiplicatively as $F(t)B(t)$.  One way to think about this is if I scatter predators and prey randomly over a grid, the probability that they will be at the same place goes as $\\propto F(t)B(t)$.  \n",
    "    * If a prey gets eaten, then it's gone so the change in prey is $\\Delta B(t) = -\\beta F(t)B(t)$.  \n",
    "    * If a predator eats a prey then it is no longer hungry and can reproduce and so $\\Delta F(t) = D F(t) B(t)$.   \n",
    "     We can write these as the differential equations   \n",
    "        * $\\frac{dB(t)}{dt} = -\\beta F(t)B(t)$\n",
    "        * $\\frac{dF(t)}{dt}  = D F(t)B(t)$\n",
    " \n",
    "Combining 1-3 gives us two coupled equations:\n",
    "\n",
    "$$ \\boxed{\\frac{dB(t)}{dt} = \\alpha B(t) - \\beta F(t) B(t)}$$\n",
    "$$\n",
    "\\boxed{\\frac{dF(t)}{dt} = D F(t) B(t) - \\gamma F(t)}\n",
    "$$\n",
    "\n",
    "These are called the **Lotka-Volterra equations**"
   ]
  },
  {
   "cell_type": "markdown",
   "metadata": {},
   "source": [
    "## Exercise 1: Solving the predatory-prey differential equations"
   ]
  },
  {
   "cell_type": "markdown",
   "metadata": {},
   "source": [
    "* **List of collaborators:**\n",
    "\n",
    "* **References you used in developing your code:**"
   ]
  },
  {
   "cell_type": "markdown",
   "metadata": {},
   "source": [
    "### a. Modifying your code to run predator-prey equations"
   ]
  },
  {
   "cell_type": "markdown",
   "metadata": {},
   "source": [
    "In this exercise we will solve the differential equations which correspond to the predator-prey equations.  🦉Modify your dynamics code to solve these differential equations.  I found it less confusing to just switch it so it works directly with $B$ and $F$.  You can just use Euler integration (i.e, the first order-methods). \n",
    "\n",
    "*Note:* Notice that before we dealt with a second order equation, but this is only first order."
   ]
  },
  {
   "cell_type": "markdown",
   "metadata": {},
   "source": [
    "<div><img src=\"https://clark.physics.illinois.edu/246img/AnsStart.svg\" width=200 align=left alt=\"Answer (start)\"></img><br></div>"
   ]
  },
  {
   "cell_type": "code",
   "execution_count": 1,
   "metadata": {
    "scrolled": false
   },
   "outputs": [],
   "source": [
    "### ANSWER ME"
   ]
  },
  {
   "cell_type": "markdown",
   "metadata": {},
   "source": [
    "<div><img src=\"https://clark.physics.illinois.edu/246img/AnsEnd.svg\" width=200 align=left alt=\"Answer (start)\"></img><br></div>"
   ]
  },
  {
   "cell_type": "markdown",
   "metadata": {},
   "source": [
    "### b. Building Plots"
   ]
  },
  {
   "cell_type": "markdown",
   "metadata": {},
   "source": [
    "Let's set $\\alpha=1.0$, $\\beta=0.005$, $\\gamma=0.6$ and $D=0.003$.  Use a timestep $dt=0.001$\n",
    "\n",
    "We are going to start with $400$ prey (bunnies) and $200$ predators (foxes).\n",
    "\n",
    "Set up your code to run for time $T=50$ \n",
    "\n",
    "🦉Plot two graphs\n",
    "* Population vs time\n",
    "    * prey   (Bunnies) vs time.\n",
    "    * predator (Foxes) vs time. \n",
    "* predator vs prey (a phase space plot)"
   ]
  },
  {
   "cell_type": "markdown",
   "metadata": {},
   "source": [
    "<div><img src=\"https://clark.physics.illinois.edu/246img/AnsStart.svg\" width=200 align=left alt=\"Answer (start)\"></img><br></div>"
   ]
  },
  {
   "cell_type": "code",
   "execution_count": 2,
   "metadata": {},
   "outputs": [],
   "source": [
    "### ANSWER ME"
   ]
  },
  {
   "cell_type": "markdown",
   "metadata": {},
   "source": [
    "<div><img src=\"https://clark.physics.illinois.edu/246img/AnsEnd.svg\" width=200 align=left alt=\"Answer (start)\"></img><br></div>"
   ]
  },
  {
   "cell_type": "markdown",
   "metadata": {},
   "source": [
    "The dynamics for the parameters above (predator vs prey) result in what is called a limit cycle.  This means that if I start with a given number of predators and prey, the total number cycles in this periodic pattern forever.  You can see this either by seeing periodicity in the prey vs. time plots, or by noting that the phase space plot has a repeating orbit. Make sure to answer all these questions in full sentences with your reasoning."
   ]
  },
  {
   "cell_type": "markdown",
   "metadata": {},
   "source": [
    "**Q: For the parameters above, is the first derivative of bunnies or foxes positive (which initially increases)?**\n",
    "\n",
    "A:\n",
    "\n",
    "**Q: Suppose you were to reverse the initial conditions, so that there are more predators than prey at the beginning. How would the answer to the above change (you can try it!)?**\n",
    "\n",
    "A: \n",
    "\n",
    "**Q: What is the relationship between the maximum in bunnies vs foxes? In phase, out of phase by 180 degrees, something else?**\n",
    "\n",
    "A:"
   ]
  },
  {
   "cell_type": "markdown",
   "metadata": {},
   "source": [
    "### c.  Predator Phase Space Plots"
   ]
  },
  {
   "cell_type": "markdown",
   "metadata": {},
   "source": [
    "🦉Generate the phase space plots for a $x$ prey and $x/2$ predators for $x \\in \\{50,100,200,400,600,800,1000,1200,1600\\}$. (Use the same parameters as above).\n",
    "Also generate a plot of the minimum prey seen during an ecosystem simulation for a given number of starting prey.  "
   ]
  },
  {
   "cell_type": "markdown",
   "metadata": {},
   "source": [
    "<div><img src=\"https://clark.physics.illinois.edu/246img/AnsStart.svg\" width=200 align=left alt=\"Answer (start)\"></img><br></div>"
   ]
  },
  {
   "cell_type": "code",
   "execution_count": 3,
   "metadata": {},
   "outputs": [],
   "source": [
    "### ANSWER ME"
   ]
  },
  {
   "cell_type": "markdown",
   "metadata": {},
   "source": [
    "<div><img src=\"https://clark.physics.illinois.edu/246img/AnsEnd.svg\" width=200 align=left alt=\"Answer (start)\"></img><br></div>"
   ]
  },
  {
   "cell_type": "markdown",
   "metadata": {},
   "source": [
    "**Q:  What is the minimum amount of bunnies you ever see in your simulation?**\n",
    "\n",
    "A: \n",
    "\n",
    "**Q: As you increase $x$, you will find that the populations start to crash near zero. Which population does that first?**\n",
    "\n",
    "A:"
   ]
  },
  {
   "cell_type": "markdown",
   "metadata": {},
   "source": [
    "### d. Stationary points"
   ]
  },
  {
   "cell_type": "markdown",
   "metadata": {},
   "source": [
    "An interesting question we can ask: **is there is some number of prey and predators we can start with so that the total number of prey and predators never change?**  This would be called a fixed point or stationary point. \n",
    "\n",
    "We will determine the stationary point numerically. 🦉 To accomplish this, let's write a function `getDeviation(initial_population)` which takes the initial population as a list `[preyPopulation,predatorPopulation]` and returns the standard deviation of the number of prey (`np.std(listOfPreyVsTime)`).  If the total number of prey never change then its standard deviation is zero, and otherwise the standard deviation is greater than zero. Therefore, if we minimize the standard deviation then we will find the stationary point.\n",
    "\n",
    "Now, all we have to do is call `getDeviation` a bunch of times with different parameters and figure out when it returns zero.  There are lots of rich and interesting approaches to optimization problems like this, but we don't have time to explore them.  Here we are going to use a package from python calling `out=scipy.optimize.minimize(getDeviation,x0)`.  When it's finished running, if you print `out.x` you can see which parameters it found.  \n",
    "\n",
    "**Change D from 0.003 to 0.001 here**\n",
    "\n",
    "🦉Run the optimization and report the number of predator and prey you find.  \n",
    "\n",
    "Then make a plot of \n",
    "* prey vs. time and predator vs. time for these initial conditions\n",
    "* a phase plot of predator vs prey using these initial conditions\n",
    "."
   ]
  },
  {
   "cell_type": "markdown",
   "metadata": {},
   "source": [
    "<div class=\"alert alert-info\" style=\"color:black;\">\n",
    "<i>Note:</i> On my machine, I had to round the answer to get the proper initial starting point. If you get, for example, 99.99999998, round it to 100\n",
    "</div>\n",
    "\n",
    "You also might find it useful to turn off matplotlib's formatting as follows: `matplotlib.rc('axes.formatter', useoffset=False)` so you can see more clearly what numbers are changing."
   ]
  },
  {
   "cell_type": "markdown",
   "metadata": {},
   "source": [
    "<div><img src=\"https://clark.physics.illinois.edu/246img/AnsStart.svg\" width=200 align=left alt=\"Answer (start)\"></img><br></div>"
   ]
  },
  {
   "cell_type": "code",
   "execution_count": null,
   "metadata": {},
   "outputs": [],
   "source": [
    "### ANSWER ME\n"
   ]
  },
  {
   "cell_type": "code",
   "execution_count": 5,
   "metadata": {},
   "outputs": [],
   "source": [
    "### ANSWER ME"
   ]
  },
  {
   "cell_type": "markdown",
   "metadata": {},
   "source": [
    "<div><img src=\"https://clark.physics.illinois.edu/246img/AnsEnd.svg\" width=200 align=left alt=\"Answer (start)\"></img><br></div>"
   ]
  },
  {
   "cell_type": "markdown",
   "metadata": {},
   "source": [
    "**Q: Qualitatively what do phase plots look like when a stationary point is found?**"
   ]
  },
  {
   "cell_type": "markdown",
   "metadata": {},
   "source": [
    "A: "
   ]
  },
  {
   "cell_type": "markdown",
   "metadata": {},
   "source": [
    "## Exercise 2: Stochasticity in Predator-Prey equations"
   ]
  },
  {
   "cell_type": "markdown",
   "metadata": {},
   "source": [
    "* **List of collaborators:**\n",
    "\n",
    "* **References you used in developing your code:**"
   ]
  },
  {
   "cell_type": "markdown",
   "metadata": {},
   "source": [
    "**Problems with simulating the ecosystem using the Lotka-Volterra equations:**\n",
    "\n",
    "There are two qualitative problems with simulating ecosystems using the Lotka-Volterra equations:\n",
    "\n",
    "(1) In our simulations so far, we have found either stationary points or limit cycles.  Both of these are unrealistic.  Ecosystems are more dynamic than this.  It's not the case that once you have a certain population of predator/prey it returns to this number over and over again forever.  This occurs because we are simulating the ecosystem deterministically - there is no randomness involved.  Deterministic equations essentially can only do a few things: they can converge to fixed points, limit cycles or be chaotic. \n",
    "\n",
    "(2) millibunnies:  You may have noticed in your simulations that you ocassionally saw that your ecosystem had 1/1000 of a bunny and that this 1/1000 of a bunny recovered into a respectable population of 8000 bunnies.  This is unrealistic, since if you can have fractional animals you can never never have an extinction event.  To go beyond this we need to recognize the discrete integer-ness of animals, which will require us to also include stochasticity.\n"
   ]
  },
  {
   "cell_type": "markdown",
   "metadata": {},
   "source": [
    "### a.  The first bunny"
   ]
  },
  {
   "cell_type": "markdown",
   "metadata": {},
   "source": [
    "Let's think about what $dB = \\alpha B(t) dt$ means.  Previously we thought that it meant that in a unit of time $\\Delta t$ we got $\\alpha B(t) \\Delta t$ new bunnies.  But if $\\alpha B(t)$ is 0.2 and $\\Delta t=0.1$ we don't get 0.02 bunnies. Instead we can think of it as the probability density of getting one whole new bunny as $20\\%$ and so the probability of getting a new bunny in a small interval $\\Delta t$ is $0.2 \\Delta t$.  \n",
    "\n",
    "\n",
    "We now ask the following question:  What is the probability of getting your first bunny after time $T+\\Delta t$? Well, we've taken $T/\\Delta t + 1$ steps. You have to not have gotten a bunny the first $T/\\Delta t$ steps. That probability is $(1-0.2 \\Delta t)^{T/\\Delta t}$.  The probability of getting a bunny at step $T/\\Delta t+1$ is $0.2 \\Delta t$.   So the total probability density is $(1-0.2 \\Delta t)^{(T/\\Delta t)} \\times 0.2$    \n",
    "\n",
    "Suppose we take the limit where $\\Delta t \\rightarrow 0$  The the probability we get a bunny in an interval $\\Delta t$ is \n",
    "\n",
    "$$ 0.2 \\Delta t e^{-0.2 T}$$"
   ]
  },
  {
   "cell_type": "markdown",
   "metadata": {},
   "source": [
    "This follows because \n",
    "\n",
    "$$ \\lim_{t \\rightarrow 0} (1-\\alpha t)^{T/t}\\alpha = \\alpha e^{-\\alpha T} $$\n",
    "\n",
    "This is called a Poisson process, and it shows up in many situations, from nuclear decay to phone call frequency. It is essentially saying that a bunny reproduces on average every $1/\\alpha$ time, and once it has reproduced, it starts again with no memory of when it last reproduced. You can imagine that such a process might not apply to human behavior but we will use it for bunnies."
   ]
  },
  {
   "cell_type": "markdown",
   "metadata": {},
   "source": [
    "Let's test this.\n",
    "\n",
    "We can write a function `TimeOfFirstBunny(alpha,deltaT)` which takes the\n",
    "* rate $\\alpha$ (which is 0.2 in the above example) and \n",
    "* time-step $\\Delta t$\n",
    "\n",
    "and then returns the \n",
    "* first time we get one whole  bunny.  \n",
    "\n",
    "This function should just loop over steps $dt$ and return the time $t$ if a random number is less then $\\alpha \\Delta t$. \n",
    "\n",
    "🦉Run this function 10,000 times with $\\alpha=1$ and $dt=0.001$ and plot it with `plt.hist(ts,100,density=1)` (100 sets the number of bins and `density=1` makes sure it is a normalized histogram).\n",
    "\n",
    "On the same plot, plot\n",
    "\n",
    "$$P_B(T) = \\alpha \\exp[-\\alpha T]$$  \n",
    "\n",
    "from $T\\in[0,35]$ to compare them. (Recall that if you have a numpy array you can do math operations on them using functions like `np.exp`)\n"
   ]
  },
  {
   "cell_type": "markdown",
   "metadata": {},
   "source": [
    "<div><img src=\"https://clark.physics.illinois.edu/246img/AnsStart.svg\" width=200 align=left alt=\"Answer (start)\"></img><br></div>"
   ]
  },
  {
   "cell_type": "code",
   "execution_count": null,
   "metadata": {},
   "outputs": [],
   "source": [
    "### ANSWER ME"
   ]
  },
  {
   "cell_type": "markdown",
   "metadata": {},
   "source": [
    "<div><img src=\"https://clark.physics.illinois.edu/246img/AnsEnd.svg\" width=200 align=left alt=\"Answer (start)\"></img><br></div>\n"
   ]
  },
  {
   "cell_type": "markdown",
   "metadata": {},
   "source": [
    "### b. A faster algorithm to find the first bunny."
   ]
  },
  {
   "cell_type": "markdown",
   "metadata": {},
   "source": [
    "Waiting to determine the time of first of bunny using the method of **a.** above is pretty slow. There is another algorithm that's much faster (in the limit of $\\Delta t\\rightarrow 0$).  The time to first bunny is \n",
    "\n",
    "$$t= -\\log(r)/\\alpha$$\n",
    "\n",
    "where $r$ is a uniform random number between 0 and 1. The idea here is that we are drawing a sample from the Poisson distribution. This method is sometimes called \"continuous time\" because $t$ can be any real number, and is not decided by a discrete time step.\n",
    "\n",
    "Instead of analytically verifying this, let's check this numerically. \n",
    "\n",
    "🦉Write a function `TimeOfFirstBunny2(alpha,deltaT)` which returns $-\\log(r)/\\alpha$ and make a plot comparing it to $\\alpha \\exp[-\\alpha T]$.\n"
   ]
  },
  {
   "cell_type": "markdown",
   "metadata": {},
   "source": [
    "<div><img src=\"https://clark.physics.illinois.edu/246img/AnsStart.svg\" width=200 align=left alt=\"Answer (start)\"></img><br></div>"
   ]
  },
  {
   "cell_type": "code",
   "execution_count": 7,
   "metadata": {},
   "outputs": [],
   "source": [
    "### ANSWER ME"
   ]
  },
  {
   "cell_type": "markdown",
   "metadata": {},
   "source": [
    "<div><img src=\"https://clark.physics.illinois.edu/246img/AnsEnd.svg\" width=200 align=left alt=\"Answer (start)\"></img><br></div>"
   ]
  },
  {
   "cell_type": "markdown",
   "metadata": {},
   "source": [
    "### c. Continuous time markov chain"
   ]
  },
  {
   "cell_type": "markdown",
   "metadata": {},
   "source": [
    "We will now use this to build a stochastic algorithm for predator-prey. Let's translate everything we did above into this new continuous time language:\n",
    "\n",
    "1.  Prey reproduce at rate $\\alpha B(t)$\n",
    "    * $\\frac{dB(t)}{dt} = \\alpha B(t)$\n",
    "    * At time $t_1=-\\log(r)/(\\alpha B(t))$, the prey $B \\rightarrow B+1$\n",
    "\n",
    "   \n",
    "2. Predators die at rate $\\gamma F(t)$\n",
    "    * $\\frac{dF(t)}{dt} \\propto -\\gamma F(t)$\n",
    "    * At time $t_2=-\\log(r)/(\\gamma F(t))$, the predator $F \\rightarrow F-1$\n",
    "    \n",
    "3. Predators eat prey at rate $\\beta F(t)B(t)$ which cause predators to reproduce at $D F(t)B(t)$\n",
    "    * $\\frac{dB(t)}{dt} = -\\beta F(t)B(t)$\n",
    "    * $\\frac{dF(t)}{dt}  = D F(t)B(t)$    \n",
    "    * At time $t_{3a}=-\\log(r)/(\\beta F(t)B(t))$ the prey $B \\rightarrow B-1$ \n",
    "    * At time $t_{3b}=-\\log(r)/(DF(t)B(t))$ the predator $F \\rightarrow F+1$. \n",
    "        * This latter point is a bit weird but works. Both the fox eating the bunny, and the reproduction of new foxes is proportional to how much the fox eats, so these two processes in practice can be separated in this way. \n",
    "   \n",
    "\n",
    "\n",
    "Now for our algorithm:\n",
    "\n",
    "* Compute times $t_1, t_2, t_{3a}, t_{3b}$.  \n",
    "    * *use a different random number $r$ for each $t_i$, don't share the same $r$*\n",
    "* One of these times $t_i$ happens first.\n",
    "* Perform event$_i$ (add a prey, or remove a predator, etc.) Update $t \\rightarrow t+t_i$.\n",
    "* Forget about all the other times (the rates have changed..you have more prey or something). \n",
    "    * It feels funny that this is legit, but it is.  (This comes from the fact that poisson processes are memoryless).\n",
    "* check that we don't have 0 Prey or Predators. If we do, stop the simulation.\n",
    "* Do it over again.\n",
    "\n",
    "Write a function `RunEcosystem` which inputs:\n",
    "* total time $T$\n",
    "* Initial conditions $B_0$ and $F_0$  \n",
    "and make sure to keep track of $\\alpha,\\beta,\\gamma,D$.  \n",
    "\n",
    "Then have `RunEcosystem` apply this stochastic algorithm for time $T$ and return\n",
    "* a list `ts` of times $t$\n",
    "* a list `Bs` of prey $B$ at those times.\n",
    "* a list of `Fs` of prey $F$ at those times.\n",
    "\n",
    "Notice now that your times will not equally spaced! "
   ]
  },
  {
   "cell_type": "markdown",
   "metadata": {},
   "source": [
    "<div><img src=\"https://clark.physics.illinois.edu/246img/AnsStart.svg\" width=200 align=left alt=\"Answer (start)\"></img><br></div>"
   ]
  },
  {
   "cell_type": "code",
   "execution_count": 8,
   "metadata": {},
   "outputs": [],
   "source": [
    "### ANSWER ME"
   ]
  },
  {
   "cell_type": "markdown",
   "metadata": {},
   "source": [
    "<div><img src=\"https://clark.physics.illinois.edu/246img/AnsEnd.svg\" width=200 align=left alt=\"Answer (start)\"></img><br></div>"
   ]
  },
  {
   "cell_type": "markdown",
   "metadata": {},
   "source": [
    "### d.  Stochastic Populations"
   ]
  },
  {
   "cell_type": "markdown",
   "metadata": {},
   "source": [
    "🦉Plot\n",
    "* Population vs t\n",
    "    * prey vs t\n",
    "    * predators vs t\n",
    "* Phase plot (predator vs prey)\n",
    "\n",
    "for $T=50$, $B(t=0)=100$, $F(t=0)=50$, and $\\alpha$=1.0, $\\beta$=0.005, $\\gamma=0.6$, and $D=0.003$\n",
    "\n",
    "On the same plots, show the results for the deterministic algorithms. Run it a few times to see the effect of stochasticity.\n"
   ]
  },
  {
   "cell_type": "markdown",
   "metadata": {},
   "source": [
    "<div><img src=\"https://clark.physics.illinois.edu/246img/AnsStart.svg\" width=200 align=left alt=\"Answer (start)\"></img><br></div>"
   ]
  },
  {
   "cell_type": "code",
   "execution_count": 9,
   "metadata": {},
   "outputs": [],
   "source": [
    "### ANSWER ME"
   ]
  },
  {
   "cell_type": "markdown",
   "metadata": {},
   "source": [
    "<div><img src=\"https://clark.physics.illinois.edu/246img/AnsEnd.svg\" width=200 align=left alt=\"Answer (start)\"></img><br></div>"
   ]
  },
  {
   "cell_type": "markdown",
   "metadata": {},
   "source": [
    "### e. Stationary again\n",
    "🦉Do the same thing as **d.** for the parameters you found above which give you a stationary point. Don't forget to change $D=0.001$ For this, go out to $T=1000$\n"
   ]
  },
  {
   "cell_type": "markdown",
   "metadata": {},
   "source": [
    "<div><img src=\"https://clark.physics.illinois.edu/246img/AnsStart.svg\" width=200 align=left alt=\"Answer (start)\"></img><br></div>"
   ]
  },
  {
   "cell_type": "code",
   "execution_count": null,
   "metadata": {},
   "outputs": [],
   "source": [
    "### ANSWER ME"
   ]
  },
  {
   "cell_type": "markdown",
   "metadata": {},
   "source": [
    "<div><img src=\"https://clark.physics.illinois.edu/246img/AnsEnd.svg\" width=200 align=left alt=\"Answer (start)\"></img><br></div>"
   ]
  },
  {
   "cell_type": "markdown",
   "metadata": {},
   "source": [
    "**Q:** Do the number of bunnies change as a function of time?\n",
    "\n",
    "A:\n",
    "\n",
    "**Q:** Qualitatively what is the effect of running the stochastic simulation at the stationary point?\n",
    "\n",
    "A:"
   ]
  },
  {
   "cell_type": "markdown",
   "metadata": {},
   "source": [
    "### e. Extinction"
   ]
  },
  {
   "cell_type": "markdown",
   "metadata": {},
   "source": [
    "In this part we are going to determine the amount of time until one of the two species goes extinct given the initial number of prey/predators. Let's call this an extinction event.\n",
    "\n",
    "Use parameters \n",
    "* $\\alpha=1.0$\n",
    "* $\\beta=0.008$\n",
    "* $\\gamma=0.3$\n",
    "* $D=0.002$\n",
    "\n",
    "and assume we start with the same number of predators and prey.\n",
    "\n",
    "🦉For $B_0\\in$ `preyNum` w/ `preyNum=np.arange(20,600,1)`, run your ecosystem until there is one extinction event. Record the time $t$ this event happened and graph $t$ vs. initial prey number. "
   ]
  },
  {
   "cell_type": "markdown",
   "metadata": {},
   "source": [
    "<div class=\"alert alert-info\" style=\"color:black\">\n",
    "Because of the randomness involved, this may take a while to run (~5 minutes). Feel free to test this with <code>np.arange(20,60,1)</code> first.\n",
    "</div>"
   ]
  },
  {
   "cell_type": "markdown",
   "metadata": {},
   "source": [
    "<div><img src=\"https://clark.physics.illinois.edu/246img/AnsStart.svg\" width=200 align=left alt=\"Answer (start)\"></img><br></div>"
   ]
  },
  {
   "cell_type": "code",
   "execution_count": 11,
   "metadata": {},
   "outputs": [],
   "source": [
    "### ANSWER ME"
   ]
  },
  {
   "cell_type": "markdown",
   "metadata": {},
   "source": [
    "<div><img src=\"https://clark.physics.illinois.edu/246img/AnsEnd.svg\" width=200 align=left alt=\"Answer (start)\"></img><br></div>"
   ]
  },
  {
   "cell_type": "markdown",
   "metadata": {},
   "source": [
    "### f. Window Averaging (cleaning data)"
   ]
  },
  {
   "cell_type": "markdown",
   "metadata": {},
   "source": [
    "This data is going to look noisy. 🦉To make it look nicer do a running mean of your data with a window-size of 20 and plot it. This will be smoother.  \n",
    "\n",
    "What value is your largest time to extinction (post window-averaging)? I find my results are around 160-190"
   ]
  },
  {
   "cell_type": "markdown",
   "metadata": {},
   "source": [
    "<div><img src=\"https://clark.physics.illinois.edu/246img/AnsStart.svg\" width=200 align=left alt=\"Answer (start)\"></img><br></div>"
   ]
  },
  {
   "cell_type": "code",
   "execution_count": 12,
   "metadata": {},
   "outputs": [],
   "source": [
    "### ANSWER ME"
   ]
  },
  {
   "cell_type": "markdown",
   "metadata": {},
   "source": [
    "<div><img src=\"https://clark.physics.illinois.edu/246img/AnsEnd.svg\" width=200 align=left alt=\"Answer (start)\"></img><br></div>"
   ]
  },
  {
   "cell_type": "markdown",
   "metadata": {},
   "source": [
    "**Q:** I would have expected that this curve would be more monotonic. The more prey you had, the less likely anyone would go extinct.  Is this correct? Do a calculation with B0=600 and describe why the bunnies go extinct quickly."
   ]
  },
  {
   "cell_type": "markdown",
   "metadata": {},
   "source": [
    "A:"
   ]
  },
  {
   "cell_type": "markdown",
   "metadata": {},
   "source": [
    "## Exercise 3:  Agent Based Predator-Prey Simulation (Extra credit for 20 points)\n"
   ]
  },
  {
   "cell_type": "markdown",
   "metadata": {},
   "source": [
    "* **List of collaborators:**\n",
    "\n",
    "* **References you used in developing your code:**"
   ]
  },
  {
   "cell_type": "markdown",
   "metadata": {},
   "source": [
    "In this exercise, we want to simulate an agent-based model of the predator-prey simulation.  Instead of the previous exercises where you are using a differential equation, here we are going to simulate each individual bunny and fox separately as an *agent*.  These bunnies and foxes are going to live on a $s \\times s$ grid.  Foxes will keep track of how full they are.  All foxes are born with a fullness amount $F$.   The dynamics of our simulation will be:\n",
    "\n",
    "* The bunnies and foxes will be allowed to move around the grid.   At each time step, every bunny and every fox will decide either to stay where they are or try to move in one of four directions.  If they decide to try to move, they will move if its empty of the same type of animal (i.e. foxes don't move to where foxes are).  If someone is in the direction they wanted to go, they will stay where they are.  \n",
    "* Every time step, the fox gets $f$ less full. \n",
    "* When the foxes and bunnies are on the same grid point (after everyone moves) one fox on that grid (pick arbitrarily) eats all the bunnies on that grid. The foxes full-ness increases by the number of bunnies they eat. \n",
    "* An $\\alpha$ fraction of bunnies reproduce (appearing at the same location) at each time-step.\n",
    "* All foxes whose full $F$ is more then $R$, reproduce (at the same location) at each time-step.\n",
    "* All foxes whose full $F$ is less then 0 starve.\n",
    "\n",
    "To do this, we are going to have a class to store each \"fox\" or \"bunny\":\n",
    "```python\n",
    "@dataclass\n",
    "class fox:\n",
    "    location: list = field(default_factory=list)\n",
    "    full: int = 2\n",
    "```\n",
    "\n",
    "and \n",
    "```python\n",
    "@dataclass\n",
    "class bunny:\n",
    "    location: list = field(default_factory=list)\n",
    "    eaten: bool = False   \n",
    "```\n",
    "The fox starts full with an amount 2 and the bunny starts not eaten.   There is no default location for them.\n",
    "\n",
    "To set up a fox you can do `myFox=fox()` and to access the location of the fox you can do `myFox.location`.  If you want to push your fox back onto a list you can do `myList.append(fox())`.\n",
    "\n",
    "To implement this project, you will use four data structures:\n",
    "* a list of foxes\n",
    "* a list of bunnies\n",
    "* a $s\\times s$ numpy array foxLocations that shows how many foxes are in each grid\n",
    "* a $s\\times s$ numpy array bunnyLocations that shows how many bunnies are in each grid.\n",
    "\n",
    "To set things up, first set up the grid with a density of 10% bunnies and 1% foxes.\n",
    "\n",
    "```python\n",
    "foxLocations=np.random.choice(2, size*size, p=[.99,0.01]).reshape(size,size)\n",
    "bunnyLocations=np.random.choice(2, size*size, p=[.9,0.1]).reshape(size,size)\n",
    "```\n",
    "\n",
    "Write code\n",
    "```python\n",
    "def LocationsToList(locations):\n",
    "```\n",
    "which takes the bunnyLocations (foxLocations) and generate a list of bunnies (foxes) with correctly intialized `fox.Location` and `bunny.Location` parameters  -i.e.  suppose your grid has bunnies at locations (1,2) and (4,3).  Then `LocationToList(bunnyLocations)` should return something like the bunnies list from \n",
    "\n",
    "```python\n",
    "    bunnies=[]\n",
    "    bunnies.append(bunny())\n",
    "    bunnies[-1].location=[1,2]\n",
    "    bunnies.append(bunny())\n",
    "    bunnies[-1].location=[4,3]\n",
    "    return bunnies\n",
    "```\n",
    "(obviously you have to make this work no matter what's in bunnyLocations).\n",
    "\n",
    "\n",
    "Also write a function \n",
    "```python\n",
    "def GetLocations(animalList)\n",
    "```\n",
    "that does the opposite.  It tkes the list of bunnies (foxes) and produces the location array of bunnies (foxes).\n",
    "\n",
    "You can test that these work by call `LocationsToList(GetLocations(LocationsToList(myLocations)))` to get back the same thing you started with.\n",
    "\n",
    "Your next step is to write a function \n",
    "```python\n",
    "def Move(creature,creatureLocations)\n",
    "```\n",
    "which (say we are doing foxes)\n",
    "* loops over all the foxes\n",
    "    * for each fox flips a nine-sided coin and decides whether to stay or go a particular direction\n",
    "    * attempts to go that direction and does so if no fox is there (otherwise stays put)\n",
    "    * Update the location in the fox class and **updates the location array of the fox appropriately**  You should check when you leave the function that the locations are still correct.\n",
    "    \n",
    "You should be able to check that you move class works.  One good test is to make a bunch of moves and verify that the total number of creatures stays fixed. Also check that `np.sum(foxLocations)` and `len(foxes)` is the same.  Also check that `np.max(foxLocations)` is one and `np.min(foxLocations)` is zero.\n",
    "\n",
    "After you've written the move function, now you can write the function\n",
    "```python\n",
    "def Eat(bunnies,foxes,bunnyLocations,foxLocations):\n",
    "```\n",
    "\n",
    "If there are foxes and bunnies on the same cell, have the foxes eat all the bunnies making sure you update\n",
    "* the bunny locations (they're gone)\n",
    "* the bunny eaten flag\n",
    "* the fox full state\n",
    "\n",
    "Also remove any eaten bunnies by the end of the function.\n",
    "\n",
    "Finally, implement two reproduce functions separately for foxes and bunnies.  The fox function should do the following:\n",
    "* if the foxes full state is $\\leq 0$ then the fox starves\n",
    "* if the foxes full state is $\\geq 5$ then the fox reproduces.\n",
    "\n",
    "The bunny function should do the following:\n",
    "* an $\\alpha$'th fraction of the bunnies should reproduce.\n",
    "\n",
    "Use \n",
    "* $\\alpha=0.01$\n",
    "* $R=5$\n",
    "* $s=80$\n",
    "* $f=0.1$\n",
    "\n",
    "Run your code and plot both\n",
    "* bunnies and foxes vs. time\n",
    "* a phase plot of foxes vs. bunnies\n",
    "* an animation (see the code below).  To do the animation you need to keep snapshots of the fox-locations and bunny-locations at each step. \n",
    "\n",
    "You should see features reminiscent of your previous work.\n"
   ]
  },
  {
   "cell_type": "markdown",
   "metadata": {},
   "source": [
    "<div><img src=\"https://clark.physics.illinois.edu/246img/AnsStart.svg\" width=200 align=left alt=\"Answer (start)\"></img><br></div>"
   ]
  },
  {
   "cell_type": "code",
   "execution_count": 13,
   "metadata": {
    "scrolled": true
   },
   "outputs": [],
   "source": [
    "### ANSWER ME"
   ]
  },
  {
   "cell_type": "code",
   "execution_count": 14,
   "metadata": {},
   "outputs": [],
   "source": [
    "### ANSWER ME"
   ]
  },
  {
   "cell_type": "code",
   "execution_count": 15,
   "metadata": {
    "tags": [
     "hide-cell"
    ]
   },
   "outputs": [
    {
     "ename": "NameError",
     "evalue": "name 'plt' is not defined",
     "output_type": "error",
     "traceback": [
      "\u001b[0;31m---------------------------------------------------------------------------\u001b[0m",
      "\u001b[0;31mNameError\u001b[0m                                 Traceback (most recent call last)",
      "\u001b[0;32m<ipython-input-15-4e9aeb9874e8>\u001b[0m in \u001b[0;36m<module>\u001b[0;34m\u001b[0m\n\u001b[1;32m     29\u001b[0m     \u001b[0mplt\u001b[0m\u001b[0;34m.\u001b[0m\u001b[0mclose\u001b[0m\u001b[0;34m(\u001b[0m\u001b[0;34m)\u001b[0m\u001b[0;34m\u001b[0m\u001b[0;34m\u001b[0m\u001b[0m\n\u001b[1;32m     30\u001b[0m     \u001b[0;32mreturn\u001b[0m \u001b[0manim\u001b[0m\u001b[0;34m\u001b[0m\u001b[0;34m\u001b[0m\u001b[0m\n\u001b[0;32m---> 31\u001b[0;31m \u001b[0manim\u001b[0m\u001b[0;34m=\u001b[0m\u001b[0mAnimateMe\u001b[0m\u001b[0;34m(\u001b[0m\u001b[0;34m)\u001b[0m\u001b[0;34m\u001b[0m\u001b[0;34m\u001b[0m\u001b[0m\n\u001b[0m\u001b[1;32m     32\u001b[0m \u001b[0mHTML\u001b[0m\u001b[0;34m(\u001b[0m\u001b[0manim\u001b[0m\u001b[0;34m.\u001b[0m\u001b[0mto_jshtml\u001b[0m\u001b[0;34m(\u001b[0m\u001b[0;34m)\u001b[0m\u001b[0;34m)\u001b[0m\u001b[0;34m\u001b[0m\u001b[0;34m\u001b[0m\u001b[0m\n",
      "\u001b[0;32m<ipython-input-15-4e9aeb9874e8>\u001b[0m in \u001b[0;36mAnimateMe\u001b[0;34m()\u001b[0m\n\u001b[1;32m     12\u001b[0m         \u001b[0;32mreturn\u001b[0m \u001b[0mtoShow\u001b[0m\u001b[0;34m\u001b[0m\u001b[0;34m\u001b[0m\u001b[0m\n\u001b[1;32m     13\u001b[0m \u001b[0;34m\u001b[0m\u001b[0m\n\u001b[0;32m---> 14\u001b[0;31m     \u001b[0mfig\u001b[0m\u001b[0;34m=\u001b[0m\u001b[0mplt\u001b[0m\u001b[0;34m.\u001b[0m\u001b[0mfigure\u001b[0m\u001b[0;34m(\u001b[0m\u001b[0mfigsize\u001b[0m\u001b[0;34m=\u001b[0m\u001b[0;34m(\u001b[0m\u001b[0;36m20\u001b[0m\u001b[0;34m,\u001b[0m\u001b[0;36m10\u001b[0m\u001b[0;34m)\u001b[0m\u001b[0;34m)\u001b[0m\u001b[0;34m\u001b[0m\u001b[0;34m\u001b[0m\u001b[0m\n\u001b[0m\u001b[1;32m     15\u001b[0m \u001b[0;34m\u001b[0m\u001b[0m\n\u001b[1;32m     16\u001b[0m     \u001b[0mplot\u001b[0m \u001b[0;34m=\u001b[0m \u001b[0mplt\u001b[0m\u001b[0;34m.\u001b[0m\u001b[0mimshow\u001b[0m\u001b[0;34m(\u001b[0m\u001b[0mGetData\u001b[0m\u001b[0;34m(\u001b[0m\u001b[0;36m0\u001b[0m\u001b[0;34m)\u001b[0m\u001b[0;34m)\u001b[0m\u001b[0;34m\u001b[0m\u001b[0;34m\u001b[0m\u001b[0m\n",
      "\u001b[0;31mNameError\u001b[0m: name 'plt' is not defined"
     ]
    }
   ],
   "source": [
    "# Assumes locsF and locsB is a list of locations at each time step\n",
    "\n",
    "def AnimateMe():\n",
    "\n",
    "    def GetData(mm):\n",
    "        mm=min(mm,len(locsF)-3)\n",
    "        maskFox=locsF[mm]>0\n",
    "        maskBunny=locsB[mm]>0\n",
    "        toShow=np.zeros(np.shape(maskFox))\n",
    "        toShow[maskFox]=1\n",
    "        toShow[maskBunny]=-1\n",
    "        return toShow\n",
    "\n",
    "    fig=plt.figure(figsize=(20,10)) \n",
    "\n",
    "    plot = plt.imshow(GetData(0))\n",
    "    plt.axis('image')\n",
    "\n",
    "    def init():\n",
    "        plot.set_data(GetData(0))\n",
    "        return plot\n",
    "\n",
    "    def update(j):\n",
    "        plot.set_array(GetData(j))\n",
    "        return plot,\n",
    "\n",
    "    from IPython.display import HTML\n",
    "    anim = FuncAnimation(fig, update, frames=len(locsF), interval = 30, blit=True,repeat=False)\n",
    "    plt.close()\n",
    "    return anim\n",
    "anim=AnimateMe()\n",
    "HTML(anim.to_jshtml())\n"
   ]
  },
  {
   "cell_type": "markdown",
   "metadata": {},
   "source": [
    "<div><img src=\"https://clark.physics.illinois.edu/246img/AnsEnd.svg\" width=200 align=left alt=\"Answer (start)\"></img><br></div>\n"
   ]
  },
  {
   "cell_type": "markdown",
   "metadata": {},
   "source": [
    "**Acknowledgements:**\n",
    "* Bryan Clark (original)\n",
    "\n",
    "© Copyright 2020\n",
    "\n",
    "--"
   ]
  },
  {
   "cell_type": "code",
   "execution_count": null,
   "metadata": {},
   "outputs": [],
   "source": []
  }
 ],
 "metadata": {
  "kernelspec": {
   "display_name": "Python 3 (ipykernel)",
   "language": "python",
   "name": "python3"
  },
  "language_info": {
   "codemirror_mode": {
    "name": "ipython",
    "version": 3
   },
   "file_extension": ".py",
   "mimetype": "text/x-python",
   "name": "python",
   "nbconvert_exporter": "python",
   "pygments_lexer": "ipython3",
   "version": "3.9.7"
  },
  "varInspector": {
   "cols": {
    "lenName": 16,
    "lenType": 16,
    "lenVar": 40
   },
   "kernels_config": {
    "python": {
     "delete_cmd_postfix": "",
     "delete_cmd_prefix": "del ",
     "library": "var_list.py",
     "varRefreshCmd": "print(var_dic_list())"
    },
    "r": {
     "delete_cmd_postfix": ") ",
     "delete_cmd_prefix": "rm(",
     "library": "var_list.r",
     "varRefreshCmd": "cat(var_dic_list()) "
    }
   },
   "types_to_exclude": [
    "module",
    "function",
    "builtin_function_or_method",
    "instance",
    "_Feature"
   ],
   "window_display": false
  }
 },
 "nbformat": 4,
 "nbformat_minor": 2
}
